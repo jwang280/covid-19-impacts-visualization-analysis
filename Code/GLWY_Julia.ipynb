{
 "cells": [
  {
   "cell_type": "code",
   "execution_count": 1,
   "metadata": {},
   "outputs": [],
   "source": [
    "using Pkg"
   ]
  },
  {
   "cell_type": "code",
   "execution_count": 2,
   "metadata": {},
   "outputs": [],
   "source": [
    "# load required packages\n",
    "using Statistics, DataFrames, Query, VegaDatasets, VegaLite"
   ]
  },
  {
   "cell_type": "code",
   "execution_count": 3,
   "metadata": {},
   "outputs": [],
   "source": [
    "# load csv reading package\n",
    "using CSV"
   ]
  },
  {
   "cell_type": "code",
   "execution_count": 5,
   "metadata": {},
   "outputs": [
    {
     "data": {
      "text/html": [
       "<table class=\"data-frame\"><thead><tr><th></th><th>Country Name</th><th>Country Code</th><th>Indicator Name</th></tr><tr><th></th><th>String</th><th>String</th><th>String</th></tr></thead><tbody><p>107,485 rows × 66 columns (omitted printing of 63 columns)</p><tr><th>1</th><td>Arab World</td><td>ARB</td><td>Adolescent fertility rate (births per 1,000 women ages 15-19)</td></tr><tr><th>2</th><td>Arab World</td><td>ARB</td><td>Adults (ages 15+) and children (0-14 years) living with HIV</td></tr><tr><th>3</th><td>Arab World</td><td>ARB</td><td>Adults (ages 15+) and children (ages 0-14) newly infected with HIV</td></tr><tr><th>4</th><td>Arab World</td><td>ARB</td><td>Adults (ages 15+) living with HIV</td></tr><tr><th>5</th><td>Arab World</td><td>ARB</td><td>Adults (ages 15+) newly infected with HIV</td></tr><tr><th>6</th><td>Arab World</td><td>ARB</td><td>Age at first marriage, female</td></tr><tr><th>7</th><td>Arab World</td><td>ARB</td><td>Age at first marriage, male</td></tr><tr><th>8</th><td>Arab World</td><td>ARB</td><td>Age dependency ratio (% of working-age population)</td></tr><tr><th>9</th><td>Arab World</td><td>ARB</td><td>Age dependency ratio, old</td></tr><tr><th>10</th><td>Arab World</td><td>ARB</td><td>Age dependency ratio, young</td></tr><tr><th>11</th><td>Arab World</td><td>ARB</td><td>Age population, age 00, female, interpolated</td></tr><tr><th>12</th><td>Arab World</td><td>ARB</td><td>Age population, age 00, male, interpolated</td></tr><tr><th>13</th><td>Arab World</td><td>ARB</td><td>Age population, age 01, female, interpolated</td></tr><tr><th>14</th><td>Arab World</td><td>ARB</td><td>Age population, age 01, male, interpolated</td></tr><tr><th>15</th><td>Arab World</td><td>ARB</td><td>Age population, age 02, female, interpolated</td></tr><tr><th>16</th><td>Arab World</td><td>ARB</td><td>Age population, age 02, male, interpolated</td></tr><tr><th>17</th><td>Arab World</td><td>ARB</td><td>Age population, age 03, female, interpolated</td></tr><tr><th>18</th><td>Arab World</td><td>ARB</td><td>Age population, age 03, male, interpolated</td></tr><tr><th>19</th><td>Arab World</td><td>ARB</td><td>Age population, age 04, female, interpolated</td></tr><tr><th>20</th><td>Arab World</td><td>ARB</td><td>Age population, age 04, male, interpolated</td></tr><tr><th>21</th><td>Arab World</td><td>ARB</td><td>Age population, age 05, female, interpolated</td></tr><tr><th>22</th><td>Arab World</td><td>ARB</td><td>Age population, age 05, male, interpolated</td></tr><tr><th>23</th><td>Arab World</td><td>ARB</td><td>Age population, age 06, female, interpolated</td></tr><tr><th>24</th><td>Arab World</td><td>ARB</td><td>Age population, age 06, male, interpolated</td></tr><tr><th>25</th><td>Arab World</td><td>ARB</td><td>Age population, age 07, female, interpolated</td></tr><tr><th>26</th><td>Arab World</td><td>ARB</td><td>Age population, age 07, male, interpolated</td></tr><tr><th>27</th><td>Arab World</td><td>ARB</td><td>Age population, age 08, female, interpolated</td></tr><tr><th>28</th><td>Arab World</td><td>ARB</td><td>Age population, age 08, male, interpolated</td></tr><tr><th>29</th><td>Arab World</td><td>ARB</td><td>Age population, age 09, female, interpolated</td></tr><tr><th>30</th><td>Arab World</td><td>ARB</td><td>Age population, age 09, male, interpolated</td></tr><tr><th>&vellip;</th><td>&vellip;</td><td>&vellip;</td><td>&vellip;</td></tr></tbody></table>"
      ],
      "text/latex": [
       "\\begin{tabular}{r|cccc}\n",
       "\t& Country Name & Country Code & Indicator Name & \\\\\n",
       "\t\\hline\n",
       "\t& String & String & String & \\\\\n",
       "\t\\hline\n",
       "\t1 & Arab World & ARB & Adolescent fertility rate (births per 1,000 women ages 15-19) & $\\dots$ \\\\\n",
       "\t2 & Arab World & ARB & Adults (ages 15+) and children (0-14 years) living with HIV & $\\dots$ \\\\\n",
       "\t3 & Arab World & ARB & Adults (ages 15+) and children (ages 0-14) newly infected with HIV & $\\dots$ \\\\\n",
       "\t4 & Arab World & ARB & Adults (ages 15+) living with HIV & $\\dots$ \\\\\n",
       "\t5 & Arab World & ARB & Adults (ages 15+) newly infected with HIV & $\\dots$ \\\\\n",
       "\t6 & Arab World & ARB & Age at first marriage, female & $\\dots$ \\\\\n",
       "\t7 & Arab World & ARB & Age at first marriage, male & $\\dots$ \\\\\n",
       "\t8 & Arab World & ARB & Age dependency ratio (\\% of working-age population) & $\\dots$ \\\\\n",
       "\t9 & Arab World & ARB & Age dependency ratio, old & $\\dots$ \\\\\n",
       "\t10 & Arab World & ARB & Age dependency ratio, young & $\\dots$ \\\\\n",
       "\t11 & Arab World & ARB & Age population, age 00, female, interpolated & $\\dots$ \\\\\n",
       "\t12 & Arab World & ARB & Age population, age 00, male, interpolated & $\\dots$ \\\\\n",
       "\t13 & Arab World & ARB & Age population, age 01, female, interpolated & $\\dots$ \\\\\n",
       "\t14 & Arab World & ARB & Age population, age 01, male, interpolated & $\\dots$ \\\\\n",
       "\t15 & Arab World & ARB & Age population, age 02, female, interpolated & $\\dots$ \\\\\n",
       "\t16 & Arab World & ARB & Age population, age 02, male, interpolated & $\\dots$ \\\\\n",
       "\t17 & Arab World & ARB & Age population, age 03, female, interpolated & $\\dots$ \\\\\n",
       "\t18 & Arab World & ARB & Age population, age 03, male, interpolated & $\\dots$ \\\\\n",
       "\t19 & Arab World & ARB & Age population, age 04, female, interpolated & $\\dots$ \\\\\n",
       "\t20 & Arab World & ARB & Age population, age 04, male, interpolated & $\\dots$ \\\\\n",
       "\t21 & Arab World & ARB & Age population, age 05, female, interpolated & $\\dots$ \\\\\n",
       "\t22 & Arab World & ARB & Age population, age 05, male, interpolated & $\\dots$ \\\\\n",
       "\t23 & Arab World & ARB & Age population, age 06, female, interpolated & $\\dots$ \\\\\n",
       "\t24 & Arab World & ARB & Age population, age 06, male, interpolated & $\\dots$ \\\\\n",
       "\t25 & Arab World & ARB & Age population, age 07, female, interpolated & $\\dots$ \\\\\n",
       "\t26 & Arab World & ARB & Age population, age 07, male, interpolated & $\\dots$ \\\\\n",
       "\t27 & Arab World & ARB & Age population, age 08, female, interpolated & $\\dots$ \\\\\n",
       "\t28 & Arab World & ARB & Age population, age 08, male, interpolated & $\\dots$ \\\\\n",
       "\t29 & Arab World & ARB & Age population, age 09, female, interpolated & $\\dots$ \\\\\n",
       "\t30 & Arab World & ARB & Age population, age 09, male, interpolated & $\\dots$ \\\\\n",
       "\t$\\dots$ & $\\dots$ & $\\dots$ & $\\dots$ &  \\\\\n",
       "\\end{tabular}\n"
      ],
      "text/plain": [
       "107485×66 DataFrame. Omitted printing of 64 columns\n",
       "│ Row    │ Country Name │ Country Code │\n",
       "│        │ \u001b[90mString\u001b[39m       │ \u001b[90mString\u001b[39m       │\n",
       "├────────┼──────────────┼──────────────┤\n",
       "│ 1      │ Arab World   │ ARB          │\n",
       "│ 2      │ Arab World   │ ARB          │\n",
       "│ 3      │ Arab World   │ ARB          │\n",
       "│ 4      │ Arab World   │ ARB          │\n",
       "│ 5      │ Arab World   │ ARB          │\n",
       "│ 6      │ Arab World   │ ARB          │\n",
       "│ 7      │ Arab World   │ ARB          │\n",
       "│ 8      │ Arab World   │ ARB          │\n",
       "│ 9      │ Arab World   │ ARB          │\n",
       "│ 10     │ Arab World   │ ARB          │\n",
       "⋮\n",
       "│ 107475 │ Zimbabwe     │ ZWE          │\n",
       "│ 107476 │ Zimbabwe     │ ZWE          │\n",
       "│ 107477 │ Zimbabwe     │ ZWE          │\n",
       "│ 107478 │ Zimbabwe     │ ZWE          │\n",
       "│ 107479 │ Zimbabwe     │ ZWE          │\n",
       "│ 107480 │ Zimbabwe     │ ZWE          │\n",
       "│ 107481 │ Zimbabwe     │ ZWE          │\n",
       "│ 107482 │ Zimbabwe     │ ZWE          │\n",
       "│ 107483 │ Zimbabwe     │ ZWE          │\n",
       "│ 107484 │ Zimbabwe     │ ZWE          │\n",
       "│ 107485 │ Zimbabwe     │ ZWE          │"
      ]
     },
     "execution_count": 5,
     "metadata": {},
     "output_type": "execute_result"
    }
   ],
   "source": [
    "# read HNP CSV into a dataframe\n",
    "ue_df = CSV.read(\"HNP_StatsData.csv\") |>\n",
    "  DataFrame"
   ]
  },
  {
   "cell_type": "code",
   "execution_count": 6,
   "metadata": {},
   "outputs": [
    {
     "data": {
      "text/html": [
       "<table class=\"data-frame\"><thead><tr><th></th><th>variable</th><th>mean</th><th>min</th><th>median</th><th>max</th></tr><tr><th></th><th>Symbol</th><th>Union…</th><th>Any</th><th>Union…</th><th>Any</th></tr></thead><tbody><p>66 rows × 8 columns (omitted printing of 3 columns)</p><tr><th>1</th><td>Country Name</td><td></td><td>Afghanistan</td><td></td><td>Zimbabwe</td></tr><tr><th>2</th><td>Country Code</td><td></td><td>ABW</td><td></td><td>ZWE</td></tr><tr><th>3</th><td>Indicator Name</td><td></td><td>AIDS estimated deaths (UNAIDS estimates)</td><td></td><td>Women's share of population ages 15+ living with HIV (%)</td></tr><tr><th>4</th><td>Indicator Code</td><td></td><td>HD.HCI.OVRL</td><td></td><td>SP.UWT.TFRT</td></tr><tr><th>5</th><td>1960</td><td>4.16825e6</td><td>0.0</td><td>3756.0</td><td>3.03144e9</td></tr><tr><th>6</th><td>1961</td><td>4.16621e6</td><td>-2.49882</td><td>3220.0</td><td>3.07248e9</td></tr><tr><th>7</th><td>1962</td><td>4.17473e6</td><td>-3.92722e6</td><td>2817.0</td><td>3.12546e9</td></tr><tr><th>8</th><td>1963</td><td>4.31249e6</td><td>-3.20668</td><td>3288.5</td><td>3.19056e9</td></tr><tr><th>9</th><td>1964</td><td>4.39659e6</td><td>-3.07861</td><td>3344.0</td><td>3.25606e9</td></tr><tr><th>10</th><td>1965</td><td>4.4702e6</td><td>-2.97853</td><td>3252.0</td><td>3.32297e9</td></tr><tr><th>11</th><td>1966</td><td>4.57302e6</td><td>-3.07226</td><td>3416.0</td><td>3.39303e9</td></tr><tr><th>12</th><td>1967</td><td>4.60734e6</td><td>-4.22161e6</td><td>3140.5</td><td>3.46246e9</td></tr><tr><th>13</th><td>1968</td><td>4.756e6</td><td>-4.3693</td><td>3496.0</td><td>3.53283e9</td></tr><tr><th>14</th><td>1969</td><td>4.84761e6</td><td>-4.71516</td><td>3528.0</td><td>3.6075e9</td></tr><tr><th>15</th><td>1970</td><td>4.78212e6</td><td>-5.28217</td><td>2362.5</td><td>3.68291e9</td></tr><tr><th>16</th><td>1971</td><td>4.80028e6</td><td>-12.6028</td><td>1954.5</td><td>3.76051e9</td></tr><tr><th>17</th><td>1972</td><td>4.83843e6</td><td>-7.16252e6</td><td>1848.5</td><td>3.83689e9</td></tr><tr><th>18</th><td>1973</td><td>4.99053e6</td><td>-14.8573</td><td>2087.0</td><td>3.91235e9</td></tr><tr><th>19</th><td>1974</td><td>5.08411e6</td><td>-15.8251</td><td>2115.0</td><td>3.98848e9</td></tr><tr><th>20</th><td>1975</td><td>5.06169e6</td><td>-187.142</td><td>1619.0</td><td>4.06286e9</td></tr><tr><th>21</th><td>1976</td><td>5.14469e6</td><td>-17.359</td><td>1645.0</td><td>4.13542e9</td></tr><tr><th>22</th><td>1977</td><td>5.1771e6</td><td>-7.2645e6</td><td>1517.5</td><td>4.20777e9</td></tr><tr><th>23</th><td>1978</td><td>5.32252e6</td><td>-18.4354</td><td>1692.0</td><td>4.28131e9</td></tr><tr><th>24</th><td>1979</td><td>5.40498e6</td><td>-18.8454</td><td>1680.0</td><td>4.35675e9</td></tr><tr><th>25</th><td>1980</td><td>5.40879e6</td><td>-12.8503</td><td>1326.0</td><td>4.43293e9</td></tr><tr><th>26</th><td>1981</td><td>5.46638e6</td><td>-13.6401</td><td>1220.0</td><td>4.51114e9</td></tr><tr><th>27</th><td>1982</td><td>5.52791e6</td><td>-6.53567e6</td><td>1205.0</td><td>4.59234e9</td></tr><tr><th>28</th><td>1983</td><td>5.67418e6</td><td>-15.4748</td><td>1297.0</td><td>4.67427e9</td></tr><tr><th>29</th><td>1984</td><td>5.74558e6</td><td>-15.0531</td><td>1210.0</td><td>4.75591e9</td></tr><tr><th>30</th><td>1985</td><td>5.82502e6</td><td>-15.2045</td><td>1166.5</td><td>4.83907e9</td></tr><tr><th>&vellip;</th><td>&vellip;</td><td>&vellip;</td><td>&vellip;</td><td>&vellip;</td><td>&vellip;</td></tr></tbody></table>"
      ],
      "text/latex": [
       "\\begin{tabular}{r|cccccc}\n",
       "\t& variable & mean & min & median & max & \\\\\n",
       "\t\\hline\n",
       "\t& Symbol & Union… & Any & Union… & Any & \\\\\n",
       "\t\\hline\n",
       "\t1 & Country Name &  & Afghanistan &  & Zimbabwe & $\\dots$ \\\\\n",
       "\t2 & Country Code &  & ABW &  & ZWE & $\\dots$ \\\\\n",
       "\t3 & Indicator Name &  & AIDS estimated deaths (UNAIDS estimates) &  & Women's share of population ages 15+ living with HIV (\\%) & $\\dots$ \\\\\n",
       "\t4 & Indicator Code &  & HD.HCI.OVRL &  & SP.UWT.TFRT & $\\dots$ \\\\\n",
       "\t5 & 1960 & 4.16825e6 & 0.0 & 3756.0 & 3.03144e9 & $\\dots$ \\\\\n",
       "\t6 & 1961 & 4.16621e6 & -2.49882 & 3220.0 & 3.07248e9 & $\\dots$ \\\\\n",
       "\t7 & 1962 & 4.17473e6 & -3.92722e6 & 2817.0 & 3.12546e9 & $\\dots$ \\\\\n",
       "\t8 & 1963 & 4.31249e6 & -3.20668 & 3288.5 & 3.19056e9 & $\\dots$ \\\\\n",
       "\t9 & 1964 & 4.39659e6 & -3.07861 & 3344.0 & 3.25606e9 & $\\dots$ \\\\\n",
       "\t10 & 1965 & 4.4702e6 & -2.97853 & 3252.0 & 3.32297e9 & $\\dots$ \\\\\n",
       "\t11 & 1966 & 4.57302e6 & -3.07226 & 3416.0 & 3.39303e9 & $\\dots$ \\\\\n",
       "\t12 & 1967 & 4.60734e6 & -4.22161e6 & 3140.5 & 3.46246e9 & $\\dots$ \\\\\n",
       "\t13 & 1968 & 4.756e6 & -4.3693 & 3496.0 & 3.53283e9 & $\\dots$ \\\\\n",
       "\t14 & 1969 & 4.84761e6 & -4.71516 & 3528.0 & 3.6075e9 & $\\dots$ \\\\\n",
       "\t15 & 1970 & 4.78212e6 & -5.28217 & 2362.5 & 3.68291e9 & $\\dots$ \\\\\n",
       "\t16 & 1971 & 4.80028e6 & -12.6028 & 1954.5 & 3.76051e9 & $\\dots$ \\\\\n",
       "\t17 & 1972 & 4.83843e6 & -7.16252e6 & 1848.5 & 3.83689e9 & $\\dots$ \\\\\n",
       "\t18 & 1973 & 4.99053e6 & -14.8573 & 2087.0 & 3.91235e9 & $\\dots$ \\\\\n",
       "\t19 & 1974 & 5.08411e6 & -15.8251 & 2115.0 & 3.98848e9 & $\\dots$ \\\\\n",
       "\t20 & 1975 & 5.06169e6 & -187.142 & 1619.0 & 4.06286e9 & $\\dots$ \\\\\n",
       "\t21 & 1976 & 5.14469e6 & -17.359 & 1645.0 & 4.13542e9 & $\\dots$ \\\\\n",
       "\t22 & 1977 & 5.1771e6 & -7.2645e6 & 1517.5 & 4.20777e9 & $\\dots$ \\\\\n",
       "\t23 & 1978 & 5.32252e6 & -18.4354 & 1692.0 & 4.28131e9 & $\\dots$ \\\\\n",
       "\t24 & 1979 & 5.40498e6 & -18.8454 & 1680.0 & 4.35675e9 & $\\dots$ \\\\\n",
       "\t25 & 1980 & 5.40879e6 & -12.8503 & 1326.0 & 4.43293e9 & $\\dots$ \\\\\n",
       "\t26 & 1981 & 5.46638e6 & -13.6401 & 1220.0 & 4.51114e9 & $\\dots$ \\\\\n",
       "\t27 & 1982 & 5.52791e6 & -6.53567e6 & 1205.0 & 4.59234e9 & $\\dots$ \\\\\n",
       "\t28 & 1983 & 5.67418e6 & -15.4748 & 1297.0 & 4.67427e9 & $\\dots$ \\\\\n",
       "\t29 & 1984 & 5.74558e6 & -15.0531 & 1210.0 & 4.75591e9 & $\\dots$ \\\\\n",
       "\t30 & 1985 & 5.82502e6 & -15.2045 & 1166.5 & 4.83907e9 & $\\dots$ \\\\\n",
       "\t$\\dots$ & $\\dots$ & $\\dots$ & $\\dots$ & $\\dots$ & $\\dots$ &  \\\\\n",
       "\\end{tabular}\n"
      ],
      "text/plain": [
       "66×8 DataFrame. Omitted printing of 5 columns\n",
       "│ Row │ variable       │ mean      │ min                                      │\n",
       "│     │ \u001b[90mSymbol\u001b[39m         │ \u001b[90mUnion…\u001b[39m    │ \u001b[90mAny\u001b[39m                                      │\n",
       "├─────┼────────────────┼───────────┼──────────────────────────────────────────┤\n",
       "│ 1   │ Country Name   │           │ Afghanistan                              │\n",
       "│ 2   │ Country Code   │           │ ABW                                      │\n",
       "│ 3   │ Indicator Name │           │ AIDS estimated deaths (UNAIDS estimates) │\n",
       "│ 4   │ Indicator Code │           │ HD.HCI.OVRL                              │\n",
       "│ 5   │ 1960           │ 4.16825e6 │ 0.0                                      │\n",
       "│ 6   │ 1961           │ 4.16621e6 │ -2.49882                                 │\n",
       "│ 7   │ 1962           │ 4.17473e6 │ -3.92722e6                               │\n",
       "│ 8   │ 1963           │ 4.31249e6 │ -3.20668                                 │\n",
       "│ 9   │ 1964           │ 4.39659e6 │ -3.07861                                 │\n",
       "│ 10  │ 1965           │ 4.4702e6  │ -2.97853                                 │\n",
       "⋮\n",
       "│ 56  │ 2011           │ 6.2195e6  │ -5.49848                                 │\n",
       "│ 57  │ 2012           │ 6.29779e6 │ -1.79195e7                               │\n",
       "│ 58  │ 2013           │ 6.41552e6 │ -6.2235                                  │\n",
       "│ 59  │ 2014           │ 6.47504e6 │ -6.51492                                 │\n",
       "│ 60  │ 2015           │ 6.3678e6  │ -5.30025                                 │\n",
       "│ 61  │ 2016           │ 6.29938e6 │ -4.71786                                 │\n",
       "│ 62  │ 2017           │ 6.91853e6 │ -1.58538e7                               │\n",
       "│ 63  │ 2018           │ 8.28107e6 │ -5.09731                                 │\n",
       "│ 64  │ 2019           │ 9.92191e6 │ -5.03389                                 │\n",
       "│ 65  │ 2020           │ 2.71731   │ 0.033                                    │\n",
       "│ 66  │ Column66       │           │                                          │"
      ]
     },
     "execution_count": 6,
     "metadata": {},
     "output_type": "execute_result"
    }
   ],
   "source": [
    "# overview the dataframe\n",
    "describe(ue_df)"
   ]
  },
  {
   "cell_type": "code",
   "execution_count": 7,
   "metadata": {},
   "outputs": [
    {
     "data": {
      "text/html": [
       "<table class=\"data-frame\"><thead><tr><th></th><th>Country Name</th><th>Country Code</th><th>2011</th><th>2012</th></tr><tr><th></th><th>String</th><th>String</th><th>Float64?</th><th>Float64?</th></tr></thead><tbody><p>259 rows × 12 columns (omitted printing of 8 columns)</p><tr><th>1</th><td>Arab World</td><td>ARB</td><td>10.2847</td><td>10.4908</td></tr><tr><th>2</th><td>Caribbean small states</td><td>CSS</td><td>10.4141</td><td>11.0101</td></tr><tr><th>3</th><td>Central Europe and the Baltics</td><td>CEB</td><td>9.78936</td><td>9.97771</td></tr><tr><th>4</th><td>Early-demographic dividend</td><td>EAR</td><td>5.66664</td><td>5.64458</td></tr><tr><th>5</th><td>East Asia &amp; Pacific</td><td>EAS</td><td>4.1598</td><td>4.07486</td></tr><tr><th>6</th><td>East Asia &amp; Pacific (excluding high income)</td><td>EAP</td><td>4.13901</td><td>4.06279</td></tr><tr><th>7</th><td>East Asia &amp; Pacific (IDA &amp; IBRD countries)</td><td>TEA</td><td>4.15613</td><td>4.07871</td></tr><tr><th>8</th><td>Euro area</td><td>EMU</td><td>10.1107</td><td>11.2887</td></tr><tr><th>9</th><td>Europe &amp; Central Asia</td><td>ECS</td><td>8.7607</td><td>8.9711</td></tr><tr><th>10</th><td>Europe &amp; Central Asia (excluding high income)</td><td>ECA</td><td>7.85394</td><td>7.25376</td></tr><tr><th>11</th><td>Europe &amp; Central Asia (IDA &amp; IBRD countries)</td><td>TEC</td><td>8.03269</td><td>7.56026</td></tr><tr><th>12</th><td>European Union</td><td>EUU</td><td>9.83614</td><td>10.8026</td></tr><tr><th>13</th><td>Fragile and conflict affected situations</td><td>FCS</td><td>5.6377</td><td>5.6685</td></tr><tr><th>14</th><td>Heavily indebted poor countries (HIPC)</td><td>HPC</td><td>4.94146</td><td>4.80014</td></tr><tr><th>15</th><td>High income</td><td>HIC</td><td>7.87676</td><td>7.90873</td></tr><tr><th>16</th><td>Late-demographic dividend</td><td>LTE</td><td>5.10521</td><td>5.05269</td></tr><tr><th>17</th><td>Latin America &amp; Caribbean</td><td>LCN</td><td>6.48278</td><td>6.39774</td></tr><tr><th>18</th><td>Latin America &amp; Caribbean (excluding high income)</td><td>LAC</td><td>6.43593</td><td>6.37493</td></tr><tr><th>19</th><td>Latin America &amp; the Caribbean (IDA &amp; IBRD countries)</td><td>TLA</td><td>6.49194</td><td>6.40598</td></tr><tr><th>20</th><td>Least developed countries: UN classification</td><td>LDC</td><td>4.44312</td><td>4.42257</td></tr><tr><th>21</th><td>Low &amp; middle income</td><td>LMY</td><td>5.33329</td><td>5.29051</td></tr><tr><th>22</th><td>Low income</td><td>LIC</td><td>5.17374</td><td>5.14343</td></tr><tr><th>23</th><td>Lower middle income</td><td>LMC</td><td>4.9318</td><td>4.98217</td></tr><tr><th>24</th><td>Middle East &amp; North Africa</td><td>MEA</td><td>10.0275</td><td>10.2268</td></tr><tr><th>25</th><td>Middle East &amp; North Africa (excluding high income)</td><td>MNA</td><td>11.4336</td><td>11.7618</td></tr><tr><th>26</th><td>Middle East &amp; North Africa (IDA &amp; IBRD countries)</td><td>TMN</td><td>11.3788</td><td>11.694</td></tr><tr><th>27</th><td>Middle income</td><td>MIC</td><td>5.34723</td><td>5.30356</td></tr><tr><th>28</th><td>North America</td><td>NAC</td><td>8.79329</td><td>7.98491</td></tr><tr><th>29</th><td>Not classified</td><td>INX</td><td><em>missing</em></td><td><em>missing</em></td></tr><tr><th>30</th><td>OECD members</td><td>OED</td><td>8.03041</td><td>8.00711</td></tr><tr><th>&vellip;</th><td>&vellip;</td><td>&vellip;</td><td>&vellip;</td><td>&vellip;</td></tr></tbody></table>"
      ],
      "text/latex": [
       "\\begin{tabular}{r|ccccc}\n",
       "\t& Country Name & Country Code & 2011 & 2012 & \\\\\n",
       "\t\\hline\n",
       "\t& String & String & Float64? & Float64? & \\\\\n",
       "\t\\hline\n",
       "\t1 & Arab World & ARB & 10.2847 & 10.4908 & $\\dots$ \\\\\n",
       "\t2 & Caribbean small states & CSS & 10.4141 & 11.0101 & $\\dots$ \\\\\n",
       "\t3 & Central Europe and the Baltics & CEB & 9.78936 & 9.97771 & $\\dots$ \\\\\n",
       "\t4 & Early-demographic dividend & EAR & 5.66664 & 5.64458 & $\\dots$ \\\\\n",
       "\t5 & East Asia \\& Pacific & EAS & 4.1598 & 4.07486 & $\\dots$ \\\\\n",
       "\t6 & East Asia \\& Pacific (excluding high income) & EAP & 4.13901 & 4.06279 & $\\dots$ \\\\\n",
       "\t7 & East Asia \\& Pacific (IDA \\& IBRD countries) & TEA & 4.15613 & 4.07871 & $\\dots$ \\\\\n",
       "\t8 & Euro area & EMU & 10.1107 & 11.2887 & $\\dots$ \\\\\n",
       "\t9 & Europe \\& Central Asia & ECS & 8.7607 & 8.9711 & $\\dots$ \\\\\n",
       "\t10 & Europe \\& Central Asia (excluding high income) & ECA & 7.85394 & 7.25376 & $\\dots$ \\\\\n",
       "\t11 & Europe \\& Central Asia (IDA \\& IBRD countries) & TEC & 8.03269 & 7.56026 & $\\dots$ \\\\\n",
       "\t12 & European Union & EUU & 9.83614 & 10.8026 & $\\dots$ \\\\\n",
       "\t13 & Fragile and conflict affected situations & FCS & 5.6377 & 5.6685 & $\\dots$ \\\\\n",
       "\t14 & Heavily indebted poor countries (HIPC) & HPC & 4.94146 & 4.80014 & $\\dots$ \\\\\n",
       "\t15 & High income & HIC & 7.87676 & 7.90873 & $\\dots$ \\\\\n",
       "\t16 & Late-demographic dividend & LTE & 5.10521 & 5.05269 & $\\dots$ \\\\\n",
       "\t17 & Latin America \\& Caribbean & LCN & 6.48278 & 6.39774 & $\\dots$ \\\\\n",
       "\t18 & Latin America \\& Caribbean (excluding high income) & LAC & 6.43593 & 6.37493 & $\\dots$ \\\\\n",
       "\t19 & Latin America \\& the Caribbean (IDA \\& IBRD countries) & TLA & 6.49194 & 6.40598 & $\\dots$ \\\\\n",
       "\t20 & Least developed countries: UN classification & LDC & 4.44312 & 4.42257 & $\\dots$ \\\\\n",
       "\t21 & Low \\& middle income & LMY & 5.33329 & 5.29051 & $\\dots$ \\\\\n",
       "\t22 & Low income & LIC & 5.17374 & 5.14343 & $\\dots$ \\\\\n",
       "\t23 & Lower middle income & LMC & 4.9318 & 4.98217 & $\\dots$ \\\\\n",
       "\t24 & Middle East \\& North Africa & MEA & 10.0275 & 10.2268 & $\\dots$ \\\\\n",
       "\t25 & Middle East \\& North Africa (excluding high income) & MNA & 11.4336 & 11.7618 & $\\dots$ \\\\\n",
       "\t26 & Middle East \\& North Africa (IDA \\& IBRD countries) & TMN & 11.3788 & 11.694 & $\\dots$ \\\\\n",
       "\t27 & Middle income & MIC & 5.34723 & 5.30356 & $\\dots$ \\\\\n",
       "\t28 & North America & NAC & 8.79329 & 7.98491 & $\\dots$ \\\\\n",
       "\t29 & Not classified & INX & \\emph{missing} & \\emph{missing} & $\\dots$ \\\\\n",
       "\t30 & OECD members & OED & 8.03041 & 8.00711 & $\\dots$ \\\\\n",
       "\t$\\dots$ & $\\dots$ & $\\dots$ & $\\dots$ & $\\dots$ &  \\\\\n",
       "\\end{tabular}\n"
      ],
      "text/plain": [
       "259×12 DataFrame. Omitted printing of 10 columns\n",
       "│ Row │ Country Name                                  │ Country Code │\n",
       "│     │ \u001b[90mString\u001b[39m                                        │ \u001b[90mString\u001b[39m       │\n",
       "├─────┼───────────────────────────────────────────────┼──────────────┤\n",
       "│ 1   │ Arab World                                    │ ARB          │\n",
       "│ 2   │ Caribbean small states                        │ CSS          │\n",
       "│ 3   │ Central Europe and the Baltics                │ CEB          │\n",
       "│ 4   │ Early-demographic dividend                    │ EAR          │\n",
       "│ 5   │ East Asia & Pacific                           │ EAS          │\n",
       "│ 6   │ East Asia & Pacific (excluding high income)   │ EAP          │\n",
       "│ 7   │ East Asia & Pacific (IDA & IBRD countries)    │ TEA          │\n",
       "│ 8   │ Euro area                                     │ EMU          │\n",
       "│ 9   │ Europe & Central Asia                         │ ECS          │\n",
       "│ 10  │ Europe & Central Asia (excluding high income) │ ECA          │\n",
       "⋮\n",
       "│ 249 │ United States                                 │ USA          │\n",
       "│ 250 │ Uruguay                                       │ URY          │\n",
       "│ 251 │ Uzbekistan                                    │ UZB          │\n",
       "│ 252 │ Vanuatu                                       │ VUT          │\n",
       "│ 253 │ Venezuela, RB                                 │ VEN          │\n",
       "│ 254 │ Vietnam                                       │ VNM          │\n",
       "│ 255 │ Virgin Islands (U.S.)                         │ VIR          │\n",
       "│ 256 │ West Bank and Gaza                            │ PSE          │\n",
       "│ 257 │ Yemen, Rep.                                   │ YEM          │\n",
       "│ 258 │ Zambia                                        │ ZMB          │\n",
       "│ 259 │ Zimbabwe                                      │ ZWE          │"
      ]
     },
     "execution_count": 7,
     "metadata": {},
     "output_type": "execute_result"
    }
   ],
   "source": [
    "# select the useful rows and columns we need\n",
    "ue_df = ue_df[ue_df[:,3] .== \"Unemployment, total (% of total labor force)\",\n",
    "    [1, 2, 56, 57, 58, 59, 60, 61, 62, 63, 64, 65]]"
   ]
  },
  {
   "cell_type": "code",
   "execution_count": 8,
   "metadata": {},
   "outputs": [
    {
     "name": "stdout",
     "output_type": "stream",
     "text": [
      "259×12 DataFrame\n",
      "│ Row │ Country Name                                         │ Country Code │\n",
      "│     │ \u001b[90mString\u001b[39m                                               │ \u001b[90mString\u001b[39m       │\n",
      "├─────┼──────────────────────────────────────────────────────┼──────────────┤\n",
      "│ 1   │ Arab World                                           │ ARB          │\n",
      "│ 2   │ Caribbean small states                               │ CSS          │\n",
      "│ 3   │ Central Europe and the Baltics                       │ CEB          │\n",
      "│ 4   │ Early-demographic dividend                           │ EAR          │\n",
      "│ 5   │ East Asia & Pacific                                  │ EAS          │\n",
      "│ 6   │ East Asia & Pacific (excluding high income)          │ EAP          │\n",
      "│ 7   │ East Asia & Pacific (IDA & IBRD countries)           │ TEA          │\n",
      "│ 8   │ Euro area                                            │ EMU          │\n",
      "│ 9   │ Europe & Central Asia                                │ ECS          │\n",
      "│ 10  │ Europe & Central Asia (excluding high income)        │ ECA          │\n",
      "│ 11  │ Europe & Central Asia (IDA & IBRD countries)         │ TEC          │\n",
      "│ 12  │ European Union                                       │ EUU          │\n",
      "│ 13  │ Fragile and conflict affected situations             │ FCS          │\n",
      "│ 14  │ Heavily indebted poor countries (HIPC)               │ HPC          │\n",
      "│ 15  │ High income                                          │ HIC          │\n",
      "│ 16  │ Late-demographic dividend                            │ LTE          │\n",
      "│ 17  │ Latin America & Caribbean                            │ LCN          │\n",
      "│ 18  │ Latin America & Caribbean (excluding high income)    │ LAC          │\n",
      "│ 19  │ Latin America & the Caribbean (IDA & IBRD countries) │ TLA          │\n",
      "│ 20  │ Least developed countries: UN classification         │ LDC          │\n",
      "│ 21  │ Low & middle income                                  │ LMY          │\n",
      "│ 22  │ Low income                                           │ LIC          │\n",
      "│ 23  │ Lower middle income                                  │ LMC          │\n",
      "│ 24  │ Middle East & North Africa                           │ MEA          │\n",
      "│ 25  │ Middle East & North Africa (excluding high income)   │ MNA          │\n",
      "│ 26  │ Middle East & North Africa (IDA & IBRD countries)    │ TMN          │\n",
      "│ 27  │ Middle income                                        │ MIC          │\n",
      "│ 28  │ North America                                        │ NAC          │\n",
      "│ 29  │ Not classified                                       │ INX          │\n",
      "│ 30  │ OECD members                                         │ OED          │\n",
      "│ 31  │ Other small states                                   │ OSS          │\n",
      "│ 32  │ Pacific island small states                          │ PSS          │\n",
      "│ 33  │ Post-demographic dividend                            │ PST          │\n",
      "│ 34  │ Pre-demographic dividend                             │ PRE          │\n",
      "│ 35  │ Small states                                         │ SST          │\n",
      "│ 36  │ South Asia                                           │ SAS          │\n",
      "│ 37  │ South Asia (IDA & IBRD)                              │ TSA          │\n",
      "│ 38  │ Sub-Saharan Africa                                   │ SSF          │\n",
      "│ 39  │ Sub-Saharan Africa (excluding high income)           │ SSA          │\n",
      "│ 40  │ Sub-Saharan Africa (IDA & IBRD countries)            │ TSS          │\n",
      "│ 41  │ Upper middle income                                  │ UMC          │\n",
      "│ 42  │ World                                                │ WLD          │\n",
      "│ 43  │ Afghanistan                                          │ AFG          │\n",
      "│ 44  │ Albania                                              │ ALB          │\n",
      "│ 45  │ Algeria                                              │ DZA          │\n",
      "│ 46  │ American Samoa                                       │ ASM          │\n",
      "│ 47  │ Andorra                                              │ AND          │\n",
      "│ 48  │ Angola                                               │ AGO          │\n",
      "│ 49  │ Antigua and Barbuda                                  │ ATG          │\n",
      "│ 50  │ Argentina                                            │ ARG          │\n",
      "│ 51  │ Armenia                                              │ ARM          │\n",
      "│ 52  │ Aruba                                                │ ABW          │\n",
      "│ 53  │ Australia                                            │ AUS          │\n",
      "│ 54  │ Austria                                              │ AUT          │\n",
      "│ 55  │ Azerbaijan                                           │ AZE          │\n",
      "│ 56  │ Bahamas, The                                         │ BHS          │\n",
      "│ 57  │ Bahrain                                              │ BHR          │\n",
      "│ 58  │ Bangladesh                                           │ BGD          │\n",
      "│ 59  │ Barbados                                             │ BRB          │\n",
      "│ 60  │ Belarus                                              │ BLR          │\n",
      "│ 61  │ Belgium                                              │ BEL          │\n",
      "│ 62  │ Belize                                               │ BLZ          │\n",
      "│ 63  │ Benin                                                │ BEN          │\n",
      "│ 64  │ Bermuda                                              │ BMU          │\n",
      "│ 65  │ Bhutan                                               │ BTN          │\n",
      "│ 66  │ Bolivia                                              │ BOL          │\n",
      "│ 67  │ Bosnia and Herzegovina                               │ BIH          │\n",
      "│ 68  │ Botswana                                             │ BWA          │\n",
      "│ 69  │ Brazil                                               │ BRA          │\n",
      "│ 70  │ British Virgin Islands                               │ VGB          │\n",
      "│ 71  │ Brunei Darussalam                                    │ BRN          │\n",
      "│ 72  │ Bulgaria                                             │ BGR          │\n",
      "│ 73  │ Burkina Faso                                         │ BFA          │\n",
      "│ 74  │ Burundi                                              │ BDI          │\n",
      "│ 75  │ Cabo Verde                                           │ CPV          │\n",
      "│ 76  │ Cambodia                                             │ KHM          │\n",
      "│ 77  │ Cameroon                                             │ CMR          │\n",
      "│ 78  │ Canada                                               │ CAN          │\n",
      "│ 79  │ Cayman Islands                                       │ CYM          │\n",
      "│ 80  │ Central African Republic                             │ CAF          │\n",
      "│ 81  │ Chad                                                 │ TCD          │\n",
      "│ 82  │ Channel Islands                                      │ CHI          │\n",
      "│ 83  │ Chile                                                │ CHL          │\n",
      "│ 84  │ China                                                │ CHN          │\n",
      "│ 85  │ Colombia                                             │ COL          │\n",
      "│ 86  │ Comoros                                              │ COM          │\n",
      "│ 87  │ Congo, Dem. Rep.                                     │ COD          │\n",
      "│ 88  │ Congo, Rep.                                          │ COG          │\n",
      "│ 89  │ Costa Rica                                           │ CRI          │\n",
      "│ 90  │ Cote d'Ivoire                                        │ CIV          │\n",
      "│ 91  │ Croatia                                              │ HRV          │\n",
      "│ 92  │ Cuba                                                 │ CUB          │\n",
      "│ 93  │ Curacao                                              │ CUW          │\n",
      "│ 94  │ Cyprus                                               │ CYP          │\n",
      "│ 95  │ Czech Republic                                       │ CZE          │\n",
      "│ 96  │ Denmark                                              │ DNK          │\n",
      "│ 97  │ Djibouti                                             │ DJI          │\n",
      "│ 98  │ Dominica                                             │ DMA          │\n",
      "│ 99  │ Dominican Republic                                   │ DOM          │\n",
      "│ 100 │ Ecuador                                              │ ECU          │\n",
      "│ 101 │ Egypt, Arab Rep.                                     │ EGY          │\n",
      "│ 102 │ El Salvador                                          │ SLV          │\n",
      "│ 103 │ Equatorial Guinea                                    │ GNQ          │\n",
      "│ 104 │ Eritrea                                              │ ERI          │\n",
      "│ 105 │ Estonia                                              │ EST          │\n",
      "│ 106 │ Eswatini                                             │ SWZ          │\n",
      "│ 107 │ Ethiopia                                             │ ETH          │\n",
      "│ 108 │ Faroe Islands                                        │ FRO          │\n",
      "│ 109 │ Fiji                                                 │ FJI          │\n",
      "│ 110 │ Finland                                              │ FIN          │\n",
      "│ 111 │ France                                               │ FRA          │\n",
      "│ 112 │ French Polynesia                                     │ PYF          │\n",
      "│ 113 │ Gabon                                                │ GAB          │\n",
      "│ 114 │ Gambia, The                                          │ GMB          │\n",
      "│ 115 │ Georgia                                              │ GEO          │\n",
      "│ 116 │ Germany                                              │ DEU          │\n",
      "│ 117 │ Ghana                                                │ GHA          │\n",
      "│ 118 │ Gibraltar                                            │ GIB          │\n",
      "│ 119 │ Greece                                               │ GRC          │\n",
      "│ 120 │ Greenland                                            │ GRL          │\n",
      "│ 121 │ Grenada                                              │ GRD          │\n",
      "│ 122 │ Guam                                                 │ GUM          │\n",
      "│ 123 │ Guatemala                                            │ GTM          │\n",
      "│ 124 │ Guinea                                               │ GIN          │\n",
      "│ 125 │ Guinea-Bissau                                        │ GNB          │\n",
      "│ 126 │ Guyana                                               │ GUY          │\n",
      "│ 127 │ Haiti                                                │ HTI          │\n",
      "│ 128 │ Honduras                                             │ HND          │\n",
      "│ 129 │ Hong Kong SAR, China                                 │ HKG          │\n",
      "│ 130 │ Hungary                                              │ HUN          │\n",
      "│ 131 │ Iceland                                              │ ISL          │\n",
      "│ 132 │ India                                                │ IND          │\n",
      "│ 133 │ Indonesia                                            │ IDN          │\n",
      "│ 134 │ Iran, Islamic Rep.                                   │ IRN          │\n",
      "│ 135 │ Iraq                                                 │ IRQ          │\n",
      "│ 136 │ Ireland                                              │ IRL          │\n",
      "│ 137 │ Isle of Man                                          │ IMN          │\n",
      "│ 138 │ Israel                                               │ ISR          │\n",
      "│ 139 │ Italy                                                │ ITA          │\n",
      "│ 140 │ Jamaica                                              │ JAM          │\n",
      "│ 141 │ Japan                                                │ JPN          │\n"
     ]
    },
    {
     "name": "stdout",
     "output_type": "stream",
     "text": [
      "│ 142 │ Jordan                                               │ JOR          │\n",
      "│ 143 │ Kazakhstan                                           │ KAZ          │\n",
      "│ 144 │ Kenya                                                │ KEN          │\n",
      "│ 145 │ Kiribati                                             │ KIR          │\n",
      "│ 146 │ Korea, Dem. People’s Rep.                            │ PRK          │\n",
      "│ 147 │ Korea, Rep.                                          │ KOR          │\n",
      "│ 148 │ Kosovo                                               │ XKX          │\n",
      "│ 149 │ Kuwait                                               │ KWT          │\n",
      "│ 150 │ Kyrgyz Republic                                      │ KGZ          │\n",
      "│ 151 │ Lao PDR                                              │ LAO          │\n",
      "│ 152 │ Latvia                                               │ LVA          │\n",
      "│ 153 │ Lebanon                                              │ LBN          │\n",
      "│ 154 │ Lesotho                                              │ LSO          │\n",
      "│ 155 │ Liberia                                              │ LBR          │\n",
      "│ 156 │ Libya                                                │ LBY          │\n",
      "│ 157 │ Liechtenstein                                        │ LIE          │\n",
      "│ 158 │ Lithuania                                            │ LTU          │\n",
      "│ 159 │ Luxembourg                                           │ LUX          │\n",
      "│ 160 │ Macao SAR, China                                     │ MAC          │\n",
      "│ 161 │ Madagascar                                           │ MDG          │\n",
      "│ 162 │ Malawi                                               │ MWI          │\n",
      "│ 163 │ Malaysia                                             │ MYS          │\n",
      "│ 164 │ Maldives                                             │ MDV          │\n",
      "│ 165 │ Mali                                                 │ MLI          │\n",
      "│ 166 │ Malta                                                │ MLT          │\n",
      "│ 167 │ Marshall Islands                                     │ MHL          │\n",
      "│ 168 │ Mauritania                                           │ MRT          │\n",
      "│ 169 │ Mauritius                                            │ MUS          │\n",
      "│ 170 │ Mexico                                               │ MEX          │\n",
      "│ 171 │ Micronesia, Fed. Sts.                                │ FSM          │\n",
      "│ 172 │ Moldova                                              │ MDA          │\n",
      "│ 173 │ Monaco                                               │ MCO          │\n",
      "│ 174 │ Mongolia                                             │ MNG          │\n",
      "│ 175 │ Montenegro                                           │ MNE          │\n",
      "│ 176 │ Morocco                                              │ MAR          │\n",
      "│ 177 │ Mozambique                                           │ MOZ          │\n",
      "│ 178 │ Myanmar                                              │ MMR          │\n",
      "│ 179 │ Namibia                                              │ NAM          │\n",
      "│ 180 │ Nauru                                                │ NRU          │\n",
      "│ 181 │ Nepal                                                │ NPL          │\n",
      "│ 182 │ Netherlands                                          │ NLD          │\n",
      "│ 183 │ New Caledonia                                        │ NCL          │\n",
      "│ 184 │ New Zealand                                          │ NZL          │\n",
      "│ 185 │ Nicaragua                                            │ NIC          │\n",
      "│ 186 │ Niger                                                │ NER          │\n",
      "│ 187 │ Nigeria                                              │ NGA          │\n",
      "│ 188 │ North Macedonia                                      │ MKD          │\n",
      "│ 189 │ Northern Mariana Islands                             │ MNP          │\n",
      "│ 190 │ Norway                                               │ NOR          │\n",
      "│ 191 │ Oman                                                 │ OMN          │\n",
      "│ 192 │ Pakistan                                             │ PAK          │\n",
      "│ 193 │ Palau                                                │ PLW          │\n",
      "│ 194 │ Panama                                               │ PAN          │\n",
      "│ 195 │ Papua New Guinea                                     │ PNG          │\n",
      "│ 196 │ Paraguay                                             │ PRY          │\n",
      "│ 197 │ Peru                                                 │ PER          │\n",
      "│ 198 │ Philippines                                          │ PHL          │\n",
      "│ 199 │ Poland                                               │ POL          │\n",
      "│ 200 │ Portugal                                             │ PRT          │\n",
      "│ 201 │ Puerto Rico                                          │ PRI          │\n",
      "│ 202 │ Qatar                                                │ QAT          │\n",
      "│ 203 │ Romania                                              │ ROU          │\n",
      "│ 204 │ Russian Federation                                   │ RUS          │\n",
      "│ 205 │ Rwanda                                               │ RWA          │\n",
      "│ 206 │ Samoa                                                │ WSM          │\n",
      "│ 207 │ San Marino                                           │ SMR          │\n",
      "│ 208 │ Sao Tome and Principe                                │ STP          │\n",
      "│ 209 │ Saudi Arabia                                         │ SAU          │\n",
      "│ 210 │ Senegal                                              │ SEN          │\n",
      "│ 211 │ Serbia                                               │ SRB          │\n",
      "│ 212 │ Seychelles                                           │ SYC          │\n",
      "│ 213 │ Sierra Leone                                         │ SLE          │\n",
      "│ 214 │ Singapore                                            │ SGP          │\n",
      "│ 215 │ Sint Maarten (Dutch part)                            │ SXM          │\n",
      "│ 216 │ Slovak Republic                                      │ SVK          │\n",
      "│ 217 │ Slovenia                                             │ SVN          │\n",
      "│ 218 │ Solomon Islands                                      │ SLB          │\n",
      "│ 219 │ Somalia                                              │ SOM          │\n",
      "│ 220 │ South Africa                                         │ ZAF          │\n",
      "│ 221 │ South Sudan                                          │ SSD          │\n",
      "│ 222 │ Spain                                                │ ESP          │\n",
      "│ 223 │ Sri Lanka                                            │ LKA          │\n",
      "│ 224 │ St. Kitts and Nevis                                  │ KNA          │\n",
      "│ 225 │ St. Lucia                                            │ LCA          │\n",
      "│ 226 │ St. Martin (French part)                             │ MAF          │\n",
      "│ 227 │ St. Vincent and the Grenadines                       │ VCT          │\n",
      "│ 228 │ Sudan                                                │ SDN          │\n",
      "│ 229 │ Suriname                                             │ SUR          │\n",
      "│ 230 │ Sweden                                               │ SWE          │\n",
      "│ 231 │ Switzerland                                          │ CHE          │\n",
      "│ 232 │ Syrian Arab Republic                                 │ SYR          │\n",
      "│ 233 │ Tajikistan                                           │ TJK          │\n",
      "│ 234 │ Tanzania                                             │ TZA          │\n",
      "│ 235 │ Thailand                                             │ THA          │\n",
      "│ 236 │ Timor-Leste                                          │ TLS          │\n",
      "│ 237 │ Togo                                                 │ TGO          │\n",
      "│ 238 │ Tonga                                                │ TON          │\n",
      "│ 239 │ Trinidad and Tobago                                  │ TTO          │\n",
      "│ 240 │ Tunisia                                              │ TUN          │\n",
      "│ 241 │ Turkey                                               │ TUR          │\n",
      "│ 242 │ Turkmenistan                                         │ TKM          │\n",
      "│ 243 │ Turks and Caicos Islands                             │ TCA          │\n",
      "│ 244 │ Tuvalu                                               │ TUV          │\n",
      "│ 245 │ Uganda                                               │ UGA          │\n",
      "│ 246 │ Ukraine                                              │ UKR          │\n",
      "│ 247 │ United Arab Emirates                                 │ ARE          │\n",
      "│ 248 │ United Kingdom                                       │ GBR          │\n",
      "│ 249 │ United States                                        │ USA          │\n",
      "│ 250 │ Uruguay                                              │ URY          │\n",
      "│ 251 │ Uzbekistan                                           │ UZB          │\n",
      "│ 252 │ Vanuatu                                              │ VUT          │\n",
      "│ 253 │ Venezuela, RB                                        │ VEN          │\n",
      "│ 254 │ Vietnam                                              │ VNM          │\n",
      "│ 255 │ Virgin Islands (U.S.)                                │ VIR          │\n",
      "│ 256 │ West Bank and Gaza                                   │ PSE          │\n",
      "│ 257 │ Yemen, Rep.                                          │ YEM          │\n",
      "│ 258 │ Zambia                                               │ ZMB          │\n",
      "│ 259 │ Zimbabwe                                             │ ZWE          │\n",
      "\n",
      "│ Row │ 2011     │ 2012     │ 2013     │ 2014     │ 2015     │ 2016     │\n",
      "│     │ \u001b[90mFloat64?\u001b[39m │ \u001b[90mFloat64?\u001b[39m │ \u001b[90mFloat64?\u001b[39m │ \u001b[90mFloat64?\u001b[39m │ \u001b[90mFloat64?\u001b[39m │ \u001b[90mFloat64?\u001b[39m │\n"
     ]
    },
    {
     "name": "stdout",
     "output_type": "stream",
     "text": [
      "├─────┼──────────┼──────────┼──────────┼──────────┼──────────┼──────────┤\n",
      "│ 1   │ 10.2847  │ 10.4908  │ 10.5741  │ 10.6546  │ 10.6753  │ 10.4509  │\n",
      "│ 2   │ 10.4141  │ 11.0101  │ 11.5431  │ 10.7659  │ 10.564   │ 10.4834  │\n",
      "│ 3   │ 9.78936  │ 9.97771  │ 10.0447  │ 8.94981  │ 7.81478  │ 6.48766  │\n",
      "│ 4   │ 5.66664  │ 5.64458  │ 5.71913  │ 5.64022  │ 5.77738  │ 5.78099  │\n",
      "│ 5   │ 4.1598   │ 4.07486  │ 4.07011  │ 4.03927  │ 4.07916  │ 3.98654  │\n",
      "│ 6   │ 4.13901  │ 4.06279  │ 4.07427  │ 4.05412  │ 4.11051  │ 4.02446  │\n",
      "│ 7   │ 4.15613  │ 4.07871  │ 4.09021  │ 4.0705   │ 4.12826  │ 4.04162  │\n",
      "│ 8   │ 10.1107  │ 11.2887  │ 11.9287  │ 11.6049  │ 10.8397  │ 10.0274  │\n",
      "│ 9   │ 8.7607   │ 8.9711   │ 9.20288  │ 8.95734  │ 8.55822  │ 8.0961   │\n",
      "│ 10  │ 7.85394  │ 7.25376  │ 7.27109  │ 7.48666  │ 7.61081  │ 7.62424  │\n",
      "│ 11  │ 8.03269  │ 7.56026  │ 7.61865  │ 7.67674  │ 7.64341  │ 7.47168  │\n",
      "│ 12  │ 9.83614  │ 10.8026  │ 11.3231  │ 10.8433  │ 10.0237  │ 9.12479  │\n",
      "│ 13  │ 5.6377   │ 5.6685   │ 5.82494  │ 6.033    │ 6.01986  │ 6.64694  │\n",
      "│ 14  │ 4.94146  │ 4.80014  │ 4.68327  │ 4.59302  │ 4.6549   │ 4.57764  │\n",
      "│ 15  │ 7.87676  │ 7.90873  │ 7.82792  │ 7.22689  │ 6.62342  │ 6.14541  │\n",
      "│ 16  │ 5.10521  │ 5.05269  │ 5.03902  │ 4.95335  │ 5.10177  │ 5.27411  │\n",
      "│ 17  │ 6.48278  │ 6.39774  │ 6.32163  │ 6.15103  │ 6.70235  │ 7.8131   │\n",
      "│ 18  │ 6.43593  │ 6.37493  │ 6.31298  │ 6.12111  │ 6.71     │ 7.86774  │\n",
      "│ 19  │ 6.49194  │ 6.40598  │ 6.33105  │ 6.17109  │ 6.75057  │ 7.89435  │\n",
      "│ 20  │ 4.44312  │ 4.42257  │ 4.45679  │ 4.39789  │ 4.4172   │ 4.43717  │\n",
      "│ 21  │ 5.33329  │ 5.29051  │ 5.30982  │ 5.27455  │ 5.417    │ 5.56362  │\n",
      "│ 22  │ 5.17374  │ 5.14343  │ 5.09965  │ 5.06823  │ 5.09713  │ 5.05199  │\n",
      "│ 23  │ 4.9318   │ 4.98217  │ 5.07681  │ 5.04023  │ 5.10808  │ 5.18944  │\n",
      "│ 24  │ 10.0275  │ 10.2268  │ 9.88513  │ 9.97491  │ 10.0656  │ 10.1086  │\n",
      "│ 25  │ 11.4336  │ 11.7618  │ 11.3728  │ 11.5542  │ 11.7814  │ 11.878   │\n",
      "│ 26  │ 11.3788  │ 11.694   │ 11.294   │ 11.4686  │ 11.6673  │ 11.7549  │\n",
      "│ 27  │ 5.34723  │ 5.30356  │ 5.3288   │ 5.29349  │ 5.44692  │ 5.61245  │\n",
      "│ 28  │ 8.79329  │ 7.98491  │ 7.34211  │ 6.24948  │ 5.4575   │ 5.1012   │\n",
      "│ 29  │ \u001b[90mmissing\u001b[39m  │ \u001b[90mmissing\u001b[39m  │ \u001b[90mmissing\u001b[39m  │ \u001b[90mmissing\u001b[39m  │ \u001b[90mmissing\u001b[39m  │ \u001b[90mmissing\u001b[39m  │\n",
      "│ 30  │ 8.03041  │ 8.00711  │ 7.92613  │ 7.40657  │ 6.83156  │ 6.41827  │\n",
      "│ 31  │ 10.4391  │ 10.1689  │ 10.3382  │ 10.0776  │ 9.99823  │ 9.978    │\n",
      "│ 32  │ 3.36435  │ 3.43773  │ 3.33915  │ 3.27279  │ 3.22211  │ 3.16745  │\n",
      "│ 33  │ 8.01258  │ 8.0659   │ 7.98015  │ 7.45964  │ 6.86921  │ 6.40432  │\n",
      "│ 34  │ 5.18072  │ 5.07833  │ 5.00124  │ 5.11068  │ 5.0896   │ 5.55598  │\n",
      "│ 35  │ 10.0481  │ 9.97372  │ 10.2071  │ 9.86191  │ 9.76422  │ 9.73394  │\n",
      "│ 36  │ 4.93587  │ 5.05603  │ 5.23425  │ 5.0654   │ 5.20934  │ 5.1834   │\n",
      "│ 37  │ 4.93587  │ 5.05603  │ 5.23425  │ 5.0654   │ 5.20934  │ 5.1834   │\n",
      "│ 38  │ 5.85349  │ 5.77586  │ 5.68349  │ 5.74343  │ 5.75281  │ 6.14187  │\n",
      "│ 39  │ 5.85086  │ 5.77309  │ 5.6808   │ 5.74065  │ 5.75017  │ 6.14083  │\n",
      "│ 40  │ 5.85349  │ 5.77586  │ 5.68349  │ 5.74343  │ 5.75281  │ 6.14187  │\n",
      "│ 41  │ 5.64515  │ 5.53371  │ 5.51093  │ 5.478    │ 5.69536  │ 5.92489  │\n",
      "│ 42  │ 5.80372  │ 5.77427  │ 5.7734   │ 5.63314  │ 5.63774  │ 5.66997  │\n",
      "│ 43  │ 11.488   │ 11.508   │ 11.534   │ 11.448   │ 11.387   │ 11.313   │\n",
      "│ 44  │ 13.481   │ 13.376   │ 15.866   │ 17.49    │ 17.08    │ 15.22    │\n",
      "│ 45  │ 9.96     │ 10.97    │ 9.82     │ 10.207   │ 11.206   │ 10.202   │\n",
      "│ 46  │ \u001b[90mmissing\u001b[39m  │ \u001b[90mmissing\u001b[39m  │ \u001b[90mmissing\u001b[39m  │ \u001b[90mmissing\u001b[39m  │ \u001b[90mmissing\u001b[39m  │ \u001b[90mmissing\u001b[39m  │\n",
      "│ 47  │ \u001b[90mmissing\u001b[39m  │ \u001b[90mmissing\u001b[39m  │ \u001b[90mmissing\u001b[39m  │ \u001b[90mmissing\u001b[39m  │ \u001b[90mmissing\u001b[39m  │ \u001b[90mmissing\u001b[39m  │\n",
      "│ 48  │ 7.362    │ 7.379    │ 7.4      │ 7.331    │ 7.282    │ 7.223    │\n",
      "│ 49  │ \u001b[90mmissing\u001b[39m  │ \u001b[90mmissing\u001b[39m  │ \u001b[90mmissing\u001b[39m  │ \u001b[90mmissing\u001b[39m  │ \u001b[90mmissing\u001b[39m  │ \u001b[90mmissing\u001b[39m  │\n",
      "│ 50  │ 7.18     │ 7.217    │ 7.1      │ 7.268    │ 7.75     │ 7.977    │\n",
      "│ 51  │ 18.443   │ 17.301   │ 16.179   │ 17.498   │ 18.261   │ 17.617   │\n",
      "│ 52  │ \u001b[90mmissing\u001b[39m  │ \u001b[90mmissing\u001b[39m  │ \u001b[90mmissing\u001b[39m  │ \u001b[90mmissing\u001b[39m  │ \u001b[90mmissing\u001b[39m  │ \u001b[90mmissing\u001b[39m  │\n",
      "│ 53  │ 5.081    │ 5.224    │ 5.662    │ 6.077    │ 6.054    │ 5.71     │\n",
      "│ 54  │ 4.564    │ 4.865    │ 5.335    │ 5.62     │ 5.723    │ 6.014    │\n",
      "│ 55  │ 5.42     │ 5.19     │ 4.97     │ 4.91     │ 4.96     │ 5.0      │\n",
      "│ 56  │ 14.52    │ 14.02    │ 16.18    │ 13.8     │ 12.0     │ 12.7     │\n",
      "│ 57  │ 1.274    │ 1.2      │ 1.323    │ 1.17     │ 1.13     │ 0.919    │\n",
      "│ 58  │ 3.705    │ 4.055    │ 4.426    │ 4.395    │ 4.378    │ 4.35     │\n",
      "│ 59  │ 11.19    │ 11.59    │ 11.55    │ 12.17    │ 11.35    │ 9.72     │\n",
      "│ 60  │ 6.098    │ 6.078    │ 6.063    │ 5.981    │ 5.914    │ 5.84     │\n",
      "│ 61  │ 7.14     │ 7.542    │ 8.425    │ 8.523    │ 8.482    │ 7.83     │\n",
      "│ 62  │ 8.426    │ 8.385    │ 8.349    │ 8.244    │ 7.578    │ 7.0      │\n",
      "│ 63  │ 2.646    │ 2.66     │ 2.677    │ 2.621    │ 2.582    │ 2.537    │\n",
      "│ 64  │ \u001b[90mmissing\u001b[39m  │ \u001b[90mmissing\u001b[39m  │ \u001b[90mmissing\u001b[39m  │ \u001b[90mmissing\u001b[39m  │ \u001b[90mmissing\u001b[39m  │ \u001b[90mmissing\u001b[39m  │\n",
      "│ 65  │ 3.23     │ 2.05     │ 2.87     │ 2.63     │ 2.45     │ 2.416    │\n",
      "│ 66  │ 2.219    │ 2.048    │ 2.394    │ 2.007    │ 3.066    │ 3.525    │\n",
      "│ 67  │ 27.582   │ 28.01    │ 27.45    │ 27.517   │ 27.694   │ 25.408   │\n",
      "│ 68  │ 17.865   │ 17.889   │ 17.921   │ 17.819   │ 17.747   │ 17.659   │\n",
      "│ 69  │ 6.917    │ 7.186    │ 6.976    │ 6.661    │ 8.427    │ 11.6     │\n",
      "│ 70  │ \u001b[90mmissing\u001b[39m  │ \u001b[90mmissing\u001b[39m  │ \u001b[90mmissing\u001b[39m  │ \u001b[90mmissing\u001b[39m  │ \u001b[90mmissing\u001b[39m  │ \u001b[90mmissing\u001b[39m  │\n",
      "│ 71  │ 6.694    │ 6.905    │ 7.126    │ 6.965    │ 7.914    │ 8.711    │\n",
      "│ 72  │ 11.26    │ 12.27    │ 12.941   │ 11.424   │ 9.143    │ 7.575    │\n",
      "│ 73  │ 5.143    │ 5.601    │ 6.087    │ 6.479    │ 6.418    │ 6.344    │\n",
      "│ 74  │ 1.715    │ 1.678    │ 1.644    │ 1.572    │ 1.552    │ 1.528    │\n",
      "│ 75  │ 10.935   │ 11.218   │ 11.511   │ 11.698   │ 11.909   │ 12.106   │\n",
      "│ 76  │ 0.577    │ 0.505    │ 0.438    │ 0.692    │ 0.393    │ 0.716    │\n",
      "│ 77  │ 3.969    │ 3.837    │ 3.711    │ 3.534    │ 3.506    │ 3.472    │\n",
      "│ 78  │ 7.511    │ 7.292    │ 7.074    │ 6.914    │ 6.906    │ 6.999    │\n",
      "│ 79  │ \u001b[90mmissing\u001b[39m  │ \u001b[90mmissing\u001b[39m  │ \u001b[90mmissing\u001b[39m  │ \u001b[90mmissing\u001b[39m  │ \u001b[90mmissing\u001b[39m  │ \u001b[90mmissing\u001b[39m  │\n",
      "│ 80  │ 3.929    │ 3.94     │ 3.956    │ 3.902    │ 3.864    │ 3.819    │\n",
      "│ 81  │ 1.633    │ 1.704    │ 1.781    │ 1.801    │ 1.833    │ 1.856    │\n",
      "│ 82  │ 8.378    │ 8.464    │ 8.521    │ 8.292    │ 8.084    │ 7.858    │\n",
      "│ 83  │ 7.344    │ 6.659    │ 6.214    │ 6.665    │ 6.508    │ 6.738    │\n",
      "│ 84  │ 4.548    │ 4.57     │ 4.59     │ 4.609    │ 4.629    │ 4.535    │\n",
      "│ 85  │ 10.111   │ 9.74     │ 9.052    │ 8.572    │ 8.299    │ 8.692    │\n",
      "│ 86  │ 4.551    │ 4.563    │ 4.579    │ 4.528    │ 4.493    │ 4.45     │\n",
      "│ 87  │ 4.222    │ 4.485    │ 4.503    │ 4.445    │ 4.406    │ 4.357    │\n",
      "│ 88  │ 11.897   │ 10.0     │ 10.02    │ 9.956    │ 9.912    │ 9.858    │\n",
      "│ 89  │ 10.139   │ 9.784    │ 8.768    │ 9.059    │ 8.999    │ 8.598    │\n",
      "│ 90  │ 6.954    │ 7.223    │ 4.254    │ 3.647    │ 3.102    │ 2.599    │\n",
      "│ 91  │ 13.678   │ 15.935   │ 17.251   │ 17.29    │ 16.175   │ 13.103   │\n",
      "│ 92  │ 3.18     │ 3.46     │ 3.29     │ 2.7      │ 2.4      │ 2.0      │\n",
      "│ 93  │ \u001b[90mmissing\u001b[39m  │ \u001b[90mmissing\u001b[39m  │ \u001b[90mmissing\u001b[39m  │ \u001b[90mmissing\u001b[39m  │ \u001b[90mmissing\u001b[39m  │ \u001b[90mmissing\u001b[39m  │\n",
      "│ 94  │ 7.856    │ 11.795   │ 15.871   │ 16.088   │ 14.908   │ 12.95    │\n",
      "│ 95  │ 6.711    │ 6.978    │ 6.953    │ 6.108    │ 5.046    │ 3.951    │\n",
      "│ 96  │ 7.573    │ 7.526    │ 6.997    │ 6.589    │ 6.168    │ 6.181    │\n",
      "│ 97  │ 10.685   │ 10.704   │ 10.729   │ 10.644   │ 10.584   │ 10.51    │\n",
      "│ 98  │ \u001b[90mmissing\u001b[39m  │ \u001b[90mmissing\u001b[39m  │ \u001b[90mmissing\u001b[39m  │ \u001b[90mmissing\u001b[39m  │ \u001b[90mmissing\u001b[39m  │ \u001b[90mmissing\u001b[39m  │\n",
      "│ 99  │ 6.087    │ 6.722    │ 7.352    │ 6.719    │ 7.605    │ 7.283    │\n",
      "│ 100 │ 3.458    │ 3.235    │ 3.083    │ 3.48     │ 3.616    │ 4.597    │\n",
      "│ 101 │ 11.849   │ 12.597   │ 13.154   │ 13.105   │ 13.052   │ 12.407   │\n",
      "│ 102 │ 4.297    │ 3.843    │ 3.693    │ 4.154    │ 3.998    │ 4.418    │\n",
      "│ 103 │ 6.726    │ 6.741    │ 6.761    │ 6.692    │ 6.644    │ 6.585    │\n",
      "│ 104 │ 5.412    │ 5.426    │ 5.444    │ 5.382    │ 5.338    │ 5.285    │\n",
      "│ 105 │ 12.328   │ 10.021   │ 8.631    │ 7.352    │ 6.187    │ 6.762    │\n",
      "│ 106 │ 26.242   │ 25.598   │ 24.971   │ 24.187   │ 23.455   │ 22.718   │\n",
      "│ 107 │ 2.304    │ 2.276    │ 2.251    │ 2.218    │ 2.195    │ 2.168    │\n",
      "│ 108 │ \u001b[90mmissing\u001b[39m  │ \u001b[90mmissing\u001b[39m  │ \u001b[90mmissing\u001b[39m  │ \u001b[90mmissing\u001b[39m  │ \u001b[90mmissing\u001b[39m  │ \u001b[90mmissing\u001b[39m  │\n",
      "│ 109 │ 4.405    │ 4.423    │ 4.445    │ 4.396    │ 4.363    │ 4.319    │\n",
      "│ 110 │ 7.781    │ 7.689    │ 8.193    │ 8.663    │ 9.376    │ 8.818    │\n",
      "│ 111 │ 8.811    │ 9.4      │ 9.921    │ 10.292   │ 10.359   │ 10.057   │\n",
      "│ 112 │ 14.314   │ 14.582   │ 14.804   │ 14.294   │ 13.745   │ 13.256   │\n",
      "│ 113 │ 20.396   │ 20.424   │ 20.46    │ 20.343   │ 20.26    │ 20.159   │\n",
      "│ 114 │ 9.399    │ 9.417    │ 9.441    │ 9.365    │ 9.313    │ 9.249    │\n",
      "│ 115 │ 19.632   │ 19.653   │ 19.416   │ 17.438   │ 16.506   │ 16.604   │\n",
      "│ 116 │ 5.824    │ 5.379    │ 5.231    │ 4.981    │ 4.624    │ 4.122    │\n",
      "│ 117 │ 5.619    │ 5.937    │ 6.269    │ 6.527    │ 6.806    │ 5.45     │\n",
      "│ 118 │ \u001b[90mmissing\u001b[39m  │ \u001b[90mmissing\u001b[39m  │ \u001b[90mmissing\u001b[39m  │ \u001b[90mmissing\u001b[39m  │ \u001b[90mmissing\u001b[39m  │ \u001b[90mmissing\u001b[39m  │\n",
      "│ 119 │ 17.865   │ 24.439   │ 27.466   │ 26.491   │ 24.897   │ 23.539   │\n",
      "│ 120 │ \u001b[90mmissing\u001b[39m  │ \u001b[90mmissing\u001b[39m  │ \u001b[90mmissing\u001b[39m  │ \u001b[90mmissing\u001b[39m  │ \u001b[90mmissing\u001b[39m  │ \u001b[90mmissing\u001b[39m  │\n",
      "│ 121 │ \u001b[90mmissing\u001b[39m  │ \u001b[90mmissing\u001b[39m  │ \u001b[90mmissing\u001b[39m  │ \u001b[90mmissing\u001b[39m  │ \u001b[90mmissing\u001b[39m  │ \u001b[90mmissing\u001b[39m  │\n",
      "│ 122 │ 13.3     │ 12.2     │ 11.5     │ 7.6      │ 6.9      │ 5.4      │\n",
      "│ 123 │ 3.116    │ 2.765    │ 3.017    │ 2.717    │ 2.506    │ 2.583    │\n",
      "│ 124 │ 4.49     │ 4.502    │ 4.518    │ 4.468    │ 4.434    │ 4.392    │\n",
      "│ 125 │ 2.658    │ 2.668    │ 2.68     │ 2.635    │ 2.604    │ 2.566    │\n",
      "│ 126 │ 11.587   │ 11.738   │ 11.896   │ 11.937   │ 12.004   │ 12.055   │\n",
      "│ 127 │ 14.723   │ 14.1     │ 14.13    │ 14.033   │ 13.965   │ 13.881   │\n",
      "│ 128 │ 4.474    │ 3.754    │ 4.096    │ 5.488    │ 6.147    │ 6.727    │\n",
      "│ 129 │ 3.42     │ 3.29     │ 3.4      │ 3.3      │ 3.32     │ 3.39     │\n",
      "│ 130 │ 11.029   │ 11.003   │ 10.176   │ 7.725    │ 6.813    │ 5.115    │\n",
      "│ 131 │ 7.028    │ 6.0      │ 5.376    │ 4.897    │ 3.979    │ 2.978    │\n",
      "│ 132 │ 5.638    │ 5.652    │ 5.671    │ 5.608    │ 5.565    │ 5.511    │\n",
      "│ 133 │ 5.153    │ 4.468    │ 4.336    │ 4.049    │ 4.514    │ 4.301    │\n",
      "│ 134 │ 12.45    │ 12.63    │ 10.44    │ 10.57    │ 11.06    │ 12.43    │\n",
      "│ 135 │ 8.158    │ 7.965    │ 9.278    │ 10.59    │ 10.713   │ 10.82    │\n",
      "│ 136 │ 15.353   │ 15.451   │ 13.735   │ 11.857   │ 9.906    │ 8.374    │\n",
      "│ 137 │ \u001b[90mmissing\u001b[39m  │ \u001b[90mmissing\u001b[39m  │ \u001b[90mmissing\u001b[39m  │ \u001b[90mmissing\u001b[39m  │ \u001b[90mmissing\u001b[39m  │ \u001b[90mmissing\u001b[39m  │\n",
      "│ 138 │ 7.139    │ 6.857    │ 6.208    │ 5.89     │ 5.251    │ 4.798    │\n",
      "│ 139 │ 8.359    │ 10.655   │ 12.149   │ 12.683   │ 11.896   │ 11.688   │\n",
      "│ 140 │ 12.7     │ 13.93    │ 15.251   │ 13.74    │ 13.511   │ 13.192   │\n",
      "│ 141 │ 4.521    │ 4.3      │ 4.0      │ 3.6      │ 3.4      │ 3.1      │\n",
      "│ 142 │ 12.9     │ 12.2     │ 12.6     │ 11.9     │ 13.075   │ 15.275   │\n",
      "│ 143 │ 5.39     │ 5.29     │ 5.2      │ 5.06     │ 4.93     │ 4.96     │\n",
      "│ 144 │ 2.844    │ 2.854    │ 2.867    │ 2.824    │ 2.794    │ 2.757    │\n",
      "│ 145 │ \u001b[90mmissing\u001b[39m  │ \u001b[90mmissing\u001b[39m  │ \u001b[90mmissing\u001b[39m  │ \u001b[90mmissing\u001b[39m  │ \u001b[90mmissing\u001b[39m  │ \u001b[90mmissing\u001b[39m  │\n",
      "│ 146 │ 2.944    │ 2.954    │ 2.968    │ 2.921    │ 2.888    │ 2.848    │\n",
      "│ 147 │ 3.4      │ 3.2      │ 3.1      │ 3.5      │ 3.6      │ 3.7      │\n",
      "│ 148 │ \u001b[90mmissing\u001b[39m  │ \u001b[90mmissing\u001b[39m  │ \u001b[90mmissing\u001b[39m  │ \u001b[90mmissing\u001b[39m  │ \u001b[90mmissing\u001b[39m  │ \u001b[90mmissing\u001b[39m  │\n",
      "│ 149 │ 2.216    │ 2.615    │ 2.922    │ 2.9      │ 2.2      │ 2.16     │\n",
      "│ 150 │ 8.53     │ 8.43     │ 8.33     │ 8.05     │ 7.56     │ 7.21     │\n",
      "│ 151 │ 0.709    │ 0.712    │ 0.717    │ 0.702    │ 0.692    │ 0.68     │\n",
      "│ 152 │ 16.206   │ 15.047   │ 11.867   │ 10.846   │ 9.873    │ 9.643    │\n",
      "│ 153 │ 6.422    │ 6.435    │ 6.452    │ 6.396    │ 6.357    │ 6.309    │\n",
      "│ 154 │ 26.042   │ 25.302   │ 24.58    │ 24.471   │ 24.394   │ 24.3     │\n",
      "│ 155 │ 2.238    │ 2.215    │ 2.196    │ 2.132    │ 2.079    │ 3.081    │\n",
      "│ 156 │ 19.005   │ 19.03    │ 19.063   │ 18.956   │ 18.881   │ 18.789   │\n",
      "│ 157 │ \u001b[90mmissing\u001b[39m  │ \u001b[90mmissing\u001b[39m  │ \u001b[90mmissing\u001b[39m  │ \u001b[90mmissing\u001b[39m  │ \u001b[90mmissing\u001b[39m  │ \u001b[90mmissing\u001b[39m  │\n",
      "│ 158 │ 15.39    │ 13.365   │ 11.77    │ 10.698   │ 9.12     │ 7.862    │\n",
      "│ 159 │ 4.901    │ 5.14     │ 5.848    │ 5.852    │ 6.669    │ 6.291    │\n"
     ]
    },
    {
     "name": "stdout",
     "output_type": "stream",
     "text": [
      "│ 160 │ 2.56     │ 1.97     │ 1.82     │ 1.7      │ 1.81     │ 1.9      │\n",
      "│ 161 │ 2.019    │ 0.599    │ 0.936    │ 1.327    │ 1.785    │ 1.763    │\n",
      "│ 162 │ 5.914    │ 5.928    │ 5.946    │ 5.887    │ 5.846    │ 5.795    │\n",
      "│ 163 │ 3.05     │ 3.04     │ 3.11     │ 2.88     │ 3.1      │ 3.44     │\n",
      "│ 164 │ 4.409    │ 4.695    │ 4.996    │ 5.21     │ 5.667    │ 6.12     │\n",
      "│ 165 │ 6.9      │ 7.096    │ 7.3      │ 6.375    │ 7.729    │ 7.553    │\n",
      "│ 166 │ 6.378    │ 6.196    │ 6.106    │ 5.725    │ 5.379    │ 4.687    │\n",
      "│ 167 │ \u001b[90mmissing\u001b[39m  │ \u001b[90mmissing\u001b[39m  │ \u001b[90mmissing\u001b[39m  │ \u001b[90mmissing\u001b[39m  │ \u001b[90mmissing\u001b[39m  │ \u001b[90mmissing\u001b[39m  │\n",
      "│ 168 │ 9.846    │ 9.865    │ 9.888    │ 9.811    │ 9.758    │ 9.692    │\n",
      "│ 169 │ 7.447    │ 7.472    │ 7.322    │ 7.467    │ 7.41     │ 6.814    │\n",
      "│ 170 │ 5.17     │ 4.887    │ 4.914    │ 4.809    │ 4.313    │ 3.859    │\n",
      "│ 171 │ \u001b[90mmissing\u001b[39m  │ \u001b[90mmissing\u001b[39m  │ \u001b[90mmissing\u001b[39m  │ \u001b[90mmissing\u001b[39m  │ \u001b[90mmissing\u001b[39m  │ \u001b[90mmissing\u001b[39m  │\n",
      "│ 172 │ 6.682    │ 5.578    │ 5.104    │ 3.856    │ 3.694    │ 4.185    │\n",
      "│ 173 │ \u001b[90mmissing\u001b[39m  │ \u001b[90mmissing\u001b[39m  │ \u001b[90mmissing\u001b[39m  │ \u001b[90mmissing\u001b[39m  │ \u001b[90mmissing\u001b[39m  │ \u001b[90mmissing\u001b[39m  │\n",
      "│ 174 │ 4.769    │ 3.905    │ 4.231    │ 4.798    │ 4.861    │ 7.235    │\n",
      "│ 175 │ 19.671   │ 19.974   │ 19.496   │ 17.997   │ 17.544   │ 17.723   │\n",
      "│ 176 │ 8.91     │ 8.99     │ 9.23     │ 9.7      │ 9.46     │ 9.3      │\n",
      "│ 177 │ 3.305    │ 3.362    │ 3.422    │ 3.417    │ 3.426    │ 3.383    │\n",
      "│ 178 │ 0.786    │ 0.79     │ 0.796    │ 0.778    │ 0.766    │ 1.141    │\n",
      "│ 179 │ 19.335   │ 16.771   │ 19.028   │ 18.521   │ 20.882   │ 23.352   │\n",
      "│ 180 │ \u001b[90mmissing\u001b[39m  │ \u001b[90mmissing\u001b[39m  │ \u001b[90mmissing\u001b[39m  │ \u001b[90mmissing\u001b[39m  │ \u001b[90mmissing\u001b[39m  │ \u001b[90mmissing\u001b[39m  │\n",
      "│ 181 │ 1.517    │ 1.525    │ 1.534    │ 1.499    │ 1.475    │ 1.446    │\n",
      "│ 182 │ 4.977    │ 5.821    │ 7.243    │ 7.416    │ 6.872    │ 6.006    │\n",
      "│ 183 │ 14.356   │ 14.672   │ 14.914   │ 14.59    │ 14.127   │ 13.683   │\n",
      "│ 184 │ 6.491    │ 6.931    │ 6.265    │ 5.752    │ 5.365    │ 5.1      │\n",
      "│ 185 │ 6.447    │ 5.208    │ 5.28     │ 4.519    │ 4.7      │ 3.9      │\n",
      "│ 186 │ 0.317    │ 0.384    │ 0.458    │ 0.524    │ 0.515    │ 0.505    │\n",
      "│ 187 │ 3.77     │ 3.735    │ 3.703    │ 4.562    │ 4.311    │ 7.06     │\n",
      "│ 188 │ 31.377   │ 31.016   │ 28.996   │ 28.03    │ 26.068   │ 23.724   │\n",
      "│ 189 │ \u001b[90mmissing\u001b[39m  │ \u001b[90mmissing\u001b[39m  │ \u001b[90mmissing\u001b[39m  │ \u001b[90mmissing\u001b[39m  │ \u001b[90mmissing\u001b[39m  │ \u001b[90mmissing\u001b[39m  │\n",
      "│ 190 │ 3.215    │ 3.123    │ 3.423    │ 3.484    │ 4.296    │ 4.679    │\n",
      "│ 191 │ 4.624    │ 4.531    │ 4.358    │ 3.897    │ 3.632    │ 3.27     │\n",
      "│ 192 │ 0.796    │ 1.7      │ 2.954    │ 1.827    │ 3.566    │ 3.789    │\n",
      "│ 193 │ \u001b[90mmissing\u001b[39m  │ \u001b[90mmissing\u001b[39m  │ \u001b[90mmissing\u001b[39m  │ \u001b[90mmissing\u001b[39m  │ \u001b[90mmissing\u001b[39m  │ \u001b[90mmissing\u001b[39m  │\n",
      "│ 194 │ 2.311    │ 2.391    │ 2.3      │ 2.723    │ 3.002    │ 3.315    │\n",
      "│ 195 │ 2.62     │ 2.63     │ 2.642    │ 2.601    │ 2.573    │ 2.539    │\n",
      "│ 196 │ 4.669    │ 4.085    │ 4.385    │ 5.034    │ 4.556    │ 5.255    │\n",
      "│ 197 │ 3.442    │ 3.109    │ 3.237    │ 2.962    │ 3.0      │ 3.535    │\n",
      "│ 198 │ 3.592    │ 3.504    │ 3.497    │ 3.6      │ 3.068    │ 2.708    │\n",
      "│ 199 │ 9.632    │ 10.088   │ 10.326   │ 8.99     │ 7.501    │ 6.161    │\n",
      "│ 200 │ 12.677   │ 15.527   │ 16.183   │ 13.894   │ 12.444   │ 11.066   │\n",
      "│ 201 │ 15.7     │ 14.5     │ 14.3     │ 13.9     │ 12.0     │ 11.8     │\n",
      "│ 202 │ 0.56     │ 0.48     │ 0.28     │ 0.2      │ 0.17     │ 0.15     │\n",
      "│ 203 │ 7.177    │ 6.794    │ 7.096    │ 6.802    │ 6.812    │ 5.901    │\n",
      "│ 204 │ 6.536    │ 5.436    │ 5.458    │ 5.16     │ 5.571    │ 5.559    │\n",
      "│ 205 │ 1.102    │ 1.138    │ 1.178    │ 1.169    │ 1.143    │ 1.113    │\n",
      "│ 206 │ 5.68     │ 8.752    │ 8.796    │ 8.72     │ 8.656    │ 8.578    │\n",
      "│ 207 │ \u001b[90mmissing\u001b[39m  │ \u001b[90mmissing\u001b[39m  │ \u001b[90mmissing\u001b[39m  │ \u001b[90mmissing\u001b[39m  │ \u001b[90mmissing\u001b[39m  │ \u001b[90mmissing\u001b[39m  │\n",
      "│ 208 │ 14.112   │ 13.59    │ 13.616   │ 13.532   │ 13.472   │ 13.4     │\n",
      "│ 209 │ 5.77     │ 5.52     │ 5.57     │ 5.72     │ 5.59     │ 5.65     │\n",
      "│ 210 │ 10.36    │ 9.427    │ 8.542    │ 7.611    │ 6.757    │ 6.706    │\n",
      "│ 211 │ 22.966   │ 24.0     │ 22.154   │ 19.223   │ 17.66    │ 15.257   │\n",
      "│ 212 │ \u001b[90mmissing\u001b[39m  │ \u001b[90mmissing\u001b[39m  │ \u001b[90mmissing\u001b[39m  │ \u001b[90mmissing\u001b[39m  │ \u001b[90mmissing\u001b[39m  │ \u001b[90mmissing\u001b[39m  │\n",
      "│ 213 │ 4.293    │ 4.441    │ 4.597    │ 4.678    │ 4.637    │ 4.587    │\n",
      "│ 214 │ 3.89     │ 3.72     │ 3.86     │ 3.74     │ 3.79     │ 4.08     │\n",
      "│ 215 │ \u001b[90mmissing\u001b[39m  │ \u001b[90mmissing\u001b[39m  │ \u001b[90mmissing\u001b[39m  │ \u001b[90mmissing\u001b[39m  │ \u001b[90mmissing\u001b[39m  │ \u001b[90mmissing\u001b[39m  │\n",
      "│ 216 │ 13.617   │ 13.963   │ 14.221   │ 13.184   │ 11.481   │ 9.67     │\n",
      "│ 217 │ 8.166    │ 8.84     │ 10.102   │ 9.668    │ 8.962    │ 8.0      │\n",
      "│ 218 │ 1.286    │ 0.968    │ 0.694    │ 0.679    │ 0.669    │ 0.658    │\n",
      "│ 219 │ 11.728   │ 11.748   │ 11.775   │ 11.685   │ 11.623   │ 11.546   │\n",
      "│ 220 │ 24.653   │ 24.732   │ 24.569   │ 24.898   │ 25.156   │ 26.551   │\n",
      "│ 221 │ 12.681   │ 12.702   │ 12.73    │ 12.638   │ 12.575   │ 12.496   │\n",
      "│ 222 │ 21.39    │ 24.787   │ 26.094   │ 24.441   │ 22.057   │ 19.635   │\n",
      "│ 223 │ 4.118    │ 3.88     │ 4.241    │ 4.194    │ 4.519    │ 4.242    │\n",
      "│ 224 │ \u001b[90mmissing\u001b[39m  │ \u001b[90mmissing\u001b[39m  │ \u001b[90mmissing\u001b[39m  │ \u001b[90mmissing\u001b[39m  │ \u001b[90mmissing\u001b[39m  │ \u001b[90mmissing\u001b[39m  │\n",
      "│ 225 │ 18.86    │ 19.06    │ 22.21    │ 23.124   │ 24.09    │ 21.263   │\n",
      "│ 226 │ \u001b[90mmissing\u001b[39m  │ \u001b[90mmissing\u001b[39m  │ \u001b[90mmissing\u001b[39m  │ \u001b[90mmissing\u001b[39m  │ \u001b[90mmissing\u001b[39m  │ \u001b[90mmissing\u001b[39m  │\n",
      "│ 227 │ 19.448   │ 19.473   │ 19.507   │ 19.394   │ 19.315   │ 19.217   │\n",
      "│ 228 │ 17.44    │ 17.466   │ 17.499   │ 17.391   │ 17.316   │ 17.223   │\n",
      "│ 229 │ 7.54     │ 8.1      │ 6.6      │ 6.94     │ 7.22     │ 7.169    │\n",
      "│ 230 │ 7.804    │ 7.976    │ 8.052    │ 7.953    │ 7.432    │ 6.99     │\n",
      "│ 231 │ 4.408    │ 4.485    │ 4.747    │ 4.826    │ 4.801    │ 4.918    │\n",
      "│ 232 │ 8.614    │ 8.631    │ 8.653    │ 8.581    │ 8.531    │ 8.469    │\n",
      "│ 233 │ 11.614   │ 11.636   │ 11.666   │ 11.569   │ 11.501   │ 11.418   │\n",
      "│ 234 │ 3.47     │ 3.193    │ 2.93     │ 2.125    │ 2.103    │ 2.077    │\n",
      "│ 235 │ 0.66     │ 0.58     │ 0.489    │ 0.576    │ 0.597    │ 0.688    │\n",
      "│ 236 │ 3.53     │ 3.776    │ 4.035    │ 4.233    │ 4.449    │ 4.657    │\n",
      "│ 237 │ 1.982    │ 2.052    │ 2.127    │ 2.161    │ 2.204    │ 2.175    │\n",
      "│ 238 │ 1.152    │ 1.156    │ 1.162    │ 1.141    │ 1.127    │ 1.11     │\n",
      "│ 239 │ 3.248    │ 3.453    │ 2.46     │ 2.224    │ 2.211    │ 2.972    │\n",
      "│ 240 │ 18.334   │ 17.63    │ 15.934   │ 15.058   │ 15.218   │ 15.514   │\n",
      "│ 241 │ 8.796    │ 8.149    │ 8.732    │ 9.88     │ 10.236   │ 10.839   │\n",
      "│ 242 │ 4.002    │ 4.012    │ 4.024    │ 3.983    │ 3.954    │ 3.92     │\n",
      "│ 243 │ \u001b[90mmissing\u001b[39m  │ \u001b[90mmissing\u001b[39m  │ \u001b[90mmissing\u001b[39m  │ \u001b[90mmissing\u001b[39m  │ \u001b[90mmissing\u001b[39m  │ \u001b[90mmissing\u001b[39m  │\n",
      "│ 244 │ \u001b[90mmissing\u001b[39m  │ \u001b[90mmissing\u001b[39m  │ \u001b[90mmissing\u001b[39m  │ \u001b[90mmissing\u001b[39m  │ \u001b[90mmissing\u001b[39m  │ \u001b[90mmissing\u001b[39m  │\n",
      "│ 245 │ 3.582    │ 3.551    │ 1.91     │ 1.88     │ 1.859    │ 1.833    │\n",
      "│ 246 │ 7.851    │ 7.529    │ 7.17     │ 9.27     │ 9.14     │ 9.35     │\n",
      "│ 247 │ 2.496    │ 2.509    │ 2.576    │ 2.212    │ 1.91     │ 1.636    │\n",
      "│ 248 │ 8.037    │ 7.885    │ 7.525    │ 6.11     │ 5.301    │ 4.813    │\n",
      "│ 249 │ 8.949    │ 8.069    │ 7.375    │ 6.168    │ 5.28     │ 4.869    │\n",
      "│ 250 │ 6.307    │ 6.451    │ 6.444    │ 6.547    │ 7.488    │ 7.841    │\n",
      "│ 251 │ 4.96     │ 4.87     │ 4.86     │ 5.09     │ 5.15     │ 5.16     │\n",
      "│ 252 │ 4.628    │ 4.641    │ 4.657    │ 4.604    │ 4.567    │ 4.522    │\n",
      "│ 253 │ 6.902    │ 6.601    │ 7.54     │ 7.481    │ 7.44     │ 7.39     │\n",
      "│ 254 │ 1.875    │ 1.676    │ 1.977    │ 1.873    │ 2.125    │ 2.083    │\n",
      "│ 255 │ 9.892    │ 10.035   │ 10.271   │ 9.914    │ 9.527    │ 9.165    │\n",
      "│ 256 │ 17.597   │ 19.202   │ 19.894   │ 20.526   │ 23.005   │ 23.939   │\n",
      "│ 257 │ 13.08    │ 13.248   │ 13.424   │ 13.467   │ 13.395   │ 13.307   │\n",
      "│ 258 │ 10.343   │ 7.85     │ 8.618    │ 9.34     │ 10.105   │ 10.882   │\n",
      "│ 259 │ 5.368    │ 5.381    │ 5.399    │ 5.342    │ 5.302    │ 5.253    │\n",
      "\n",
      "│ Row │ 2017     │ 2018     │ 2019     │ 2020     │\n",
      "│     │ \u001b[90mFloat64?\u001b[39m │ \u001b[90mFloat64?\u001b[39m │ \u001b[90mFloat64?\u001b[39m │ \u001b[90mFloat64?\u001b[39m │\n",
      "├─────┼──────────┼──────────┼──────────┼──────────┤\n",
      "│ 1   │ 10.6413  │ 10.5633  │ 10.3369  │ 10.1915  │\n",
      "│ 2   │ 9.55346  │ 8.37281  │ 8.01152  │ 8.09253  │\n",
      "│ 3   │ 5.29334  │ 4.31245  │ 3.87038  │ 3.64185  │\n",
      "│ 4   │ 5.70971  │ 5.68987  │ 5.81661  │ 5.84416  │\n",
      "│ 5   │ 3.89991  │ 3.78844  │ 3.83029  │ 3.89789  │\n",
      "│ 6   │ 3.95013  │ 3.85277  │ 3.89568  │ 3.95141  │\n",
      "│ 7   │ 3.9673   │ 3.86954  │ 3.91277  │ 3.96903  │\n",
      "│ 8   │ 9.06012  │ 8.18786  │ 7.49617  │ 7.25475  │\n",
      "│ 9   │ 7.49188  │ 6.90387  │ 6.76319  │ 6.63157  │\n",
      "│ 10  │ 7.41955  │ 7.09256  │ 7.49187  │ 7.37641  │\n",
      "│ 11  │ 7.12545  │ 6.70027  │ 6.99465  │ 6.86025  │\n",
      "│ 12  │ 8.13562  │ 7.26938  │ 6.66685  │ 6.44528  │\n",
      "│ 13  │ 7.0105   │ 6.91443  │ 6.965    │ 6.99456  │\n",
      "│ 14  │ 4.47498  │ 4.42163  │ 4.44717  │ 4.47722  │\n",
      "│ 15  │ 5.58346  │ 5.07434  │ 4.79325  │ 4.81122  │\n",
      "│ 16  │ 5.26061  │ 5.05945  │ 5.0648   │ 5.08485  │\n",
      "│ 17  │ 8.08801  │ 7.95434  │ 8.06918  │ 8.14154  │\n",
      "│ 18  │ 8.15301  │ 8.0087   │ 8.13432  │ 8.20861  │\n",
      "│ 19  │ 8.18522  │ 8.05309  │ 8.17279  │ 8.24418  │\n",
      "│ 20  │ 4.42857  │ 4.35562  │ 4.34826  │ 4.36339  │\n",
      "│ 21  │ 5.56701  │ 5.46289  │ 5.52779  │ 5.55321  │\n",
      "│ 22  │ 4.96444  │ 4.88144  │ 4.88968  │ 4.91398  │\n",
      "│ 23  │ 5.22062  │ 5.13223  │ 5.13493  │ 5.13225  │\n",
      "│ 24  │ 10.2162  │ 10.1372  │ 9.82508  │ 9.63661  │\n",
      "│ 25  │ 11.9953  │ 11.9005  │ 11.525   │ 11.2963  │\n",
      "│ 26  │ 11.8521  │ 11.7498  │ 11.3679  │ 11.1344  │\n",
      "│ 27  │ 5.62565  │ 5.52063  │ 5.59253  │ 5.6195   │\n",
      "│ 28  │ 4.57203  │ 4.10785  │ 3.88974  │ 4.03349  │\n",
      "│ 29  │ \u001b[90mmissing\u001b[39m  │ \u001b[90mmissing\u001b[39m  │ \u001b[90mmissing\u001b[39m  │ \u001b[90mmissing\u001b[39m  │\n",
      "│ 30  │ 5.88688  │ 5.44359  │ 5.35623  │ 5.36552  │\n",
      "│ 31  │ 9.56061  │ 9.16759  │ 9.15998  │ 9.21416  │\n",
      "│ 32  │ 3.08834  │ 3.0134   │ 2.97033  │ 2.94394  │\n",
      "│ 33  │ 5.83347  │ 5.28619  │ 4.99967  │ 5.03006  │\n",
      "│ 34  │ 5.82238  │ 5.72582  │ 5.69346  │ 5.6799   │\n",
      "│ 35  │ 9.23875  │ 8.71726  │ 8.64578  │ 8.70297  │\n",
      "│ 36  │ 5.12543  │ 5.05969  │ 5.11142  │ 5.1402   │\n",
      "│ 37  │ 5.12543  │ 5.05969  │ 5.11142  │ 5.1402   │\n",
      "│ 38  │ 6.27871  │ 6.15942  │ 6.18681  │ 6.17576  │\n",
      "│ 39  │ 6.278    │ 6.15868  │ 6.18611  │ 6.17504  │\n",
      "│ 40  │ 6.27871  │ 6.15942  │ 6.18681  │ 6.17576  │\n",
      "│ 41  │ 5.92673  │ 5.81179  │ 5.94049  │ 5.99535  │\n",
      "│ 42  │ 5.57001  │ 5.39221  │ 5.39506  │ 5.42015  │\n",
      "│ 43  │ 11.184   │ 11.057   │ 11.118   │ 11.164   │\n",
      "│ 44  │ 13.75    │ 12.34    │ 12.331   │ 12.813   │\n",
      "│ 45  │ 11.996   │ 11.882   │ 11.704   │ 11.525   │\n",
      "│ 46  │ \u001b[90mmissing\u001b[39m  │ \u001b[90mmissing\u001b[39m  │ \u001b[90mmissing\u001b[39m  │ \u001b[90mmissing\u001b[39m  │\n",
      "│ 47  │ \u001b[90mmissing\u001b[39m  │ \u001b[90mmissing\u001b[39m  │ \u001b[90mmissing\u001b[39m  │ \u001b[90mmissing\u001b[39m  │\n",
      "│ 48  │ 7.119    │ 7.019    │ 6.886    │ 6.774    │\n",
      "│ 49  │ \u001b[90mmissing\u001b[39m  │ \u001b[90mmissing\u001b[39m  │ \u001b[90mmissing\u001b[39m  │ \u001b[90mmissing\u001b[39m  │\n",
      "│ 50  │ 8.347    │ 9.22     │ 9.789    │ 10.436   │\n",
      "│ 51  │ 17.705   │ 17.496   │ 16.99    │ 16.625   │\n",
      "│ 52  │ \u001b[90mmissing\u001b[39m  │ \u001b[90mmissing\u001b[39m  │ \u001b[90mmissing\u001b[39m  │ \u001b[90mmissing\u001b[39m  │\n",
      "│ 53  │ 5.591    │ 5.298    │ 5.268    │ 5.328    │\n",
      "│ 54  │ 5.499    │ 4.848    │ 4.674    │ 4.779    │\n",
      "│ 55  │ 5.0      │ 4.9      │ 5.509    │ 5.96     │\n",
      "│ 56  │ 9.8      │ 10.0     │ 10.36    │ 11.27    │\n",
      "│ 57  │ 0.701    │ 0.65     │ 0.714    │ 0.763    │\n",
      "│ 58  │ 4.372    │ 4.281    │ 4.19     │ 4.151    │\n",
      "│ 59  │ 9.761    │ 9.385    │ 10.331   │ 10.938   │\n",
      "│ 60  │ 5.65     │ 4.76     │ 4.595    │ 4.625    │\n",
      "│ 61  │ 7.086    │ 5.948    │ 5.589    │ 5.692    │\n",
      "│ 62  │ 6.595    │ 6.512    │ 6.413    │ 6.357    │\n",
      "│ 63  │ 2.459    │ 2.386    │ 2.232    │ 2.023    │\n",
      "│ 64  │ \u001b[90mmissing\u001b[39m  │ \u001b[90mmissing\u001b[39m  │ \u001b[90mmissing\u001b[39m  │ \u001b[90mmissing\u001b[39m  │\n",
      "│ 65  │ 2.358    │ 2.303    │ 2.342    │ 2.39     │\n",
      "│ 66  │ 3.67     │ 3.534    │ 3.498    │ 3.45     │\n",
      "│ 67  │ 20.527   │ 18.4     │ 18.425   │ 18.438   │\n",
      "│ 68  │ 17.505   │ 17.353   │ 18.193   │ 18.721   │\n",
      "│ 69  │ 12.822   │ 12.334   │ 12.083   │ 11.966   │\n",
      "│ 70  │ \u001b[90mmissing\u001b[39m  │ \u001b[90mmissing\u001b[39m  │ \u001b[90mmissing\u001b[39m  │ \u001b[90mmissing\u001b[39m  │\n",
      "│ 71  │ 9.316    │ 8.862    │ 9.117    │ 9.044    │\n",
      "│ 72  │ 6.164    │ 5.211    │ 4.34     │ 3.85     │\n",
      "│ 73  │ 6.216    │ 6.094    │ 6.264    │ 6.414    │\n",
      "│ 74  │ 1.487    │ 1.448    │ 1.427    │ 1.408    │\n",
      "│ 75  │ 12.24    │ 12.17    │ 12.249   │ 12.318   │\n",
      "│ 76  │ 0.683    │ 0.652    │ 0.677    │ 0.696    │\n",
      "│ 77  │ 3.414    │ 3.357    │ 3.38     │ 3.428    │\n",
      "│ 78  │ 6.34     │ 5.831    │ 5.564    │ 5.412    │\n",
      "│ 79  │ \u001b[90mmissing\u001b[39m  │ \u001b[90mmissing\u001b[39m  │ \u001b[90mmissing\u001b[39m  │ \u001b[90mmissing\u001b[39m  │\n",
      "│ 80  │ 3.74     │ 3.664    │ 3.68     │ 3.696    │\n"
     ]
    },
    {
     "name": "stdout",
     "output_type": "stream",
     "text": [
      "│ 81  │ 1.848    │ 1.838    │ 1.891    │ 1.943    │\n",
      "│ 82  │ 7.622    │ 7.41     │ 7.487    │ 7.535    │\n",
      "│ 83  │ 6.958    │ 7.233    │ 7.09     │ 7.096    │\n",
      "│ 84  │ 4.441    │ 4.276    │ 4.32     │ 4.37     │\n",
      "│ 85  │ 8.872    │ 9.111    │ 9.707    │ 9.744    │\n",
      "│ 86  │ 4.375    │ 4.302    │ 4.336    │ 4.366    │\n",
      "│ 87  │ 4.273    │ 4.193    │ 4.236    │ 4.25     │\n",
      "│ 88  │ 9.763    │ 9.67     │ 9.472    │ 9.282    │\n",
      "│ 89  │ 8.142    │ 9.632    │ 11.854   │ 12.734   │\n",
      "│ 90  │ 3.273    │ 3.21     │ 3.317    │ 3.423    │\n",
      "│ 91  │ 11.208   │ 8.432    │ 6.935    │ 7.114    │\n",
      "│ 92  │ 1.7      │ 1.7      │ 1.638    │ 1.59     │\n",
      "│ 93  │ \u001b[90mmissing\u001b[39m  │ \u001b[90mmissing\u001b[39m  │ \u001b[90mmissing\u001b[39m  │ \u001b[90mmissing\u001b[39m  │\n",
      "│ 94  │ 11.052   │ 8.37     │ 7.274    │ 7.234    │\n",
      "│ 95  │ 2.89     │ 2.243    │ 1.933    │ 1.91     │\n",
      "│ 96  │ 5.743    │ 4.975    │ 4.913    │ 4.846    │\n",
      "│ 97  │ 10.382   │ 10.257   │ 10.295   │ 10.323   │\n",
      "│ 98  │ \u001b[90mmissing\u001b[39m  │ \u001b[90mmissing\u001b[39m  │ \u001b[90mmissing\u001b[39m  │ \u001b[90mmissing\u001b[39m  │\n",
      "│ 99  │ 5.832    │ 5.739    │ 5.845    │ 5.919    │\n",
      "│ 100 │ 3.836    │ 3.53     │ 3.968    │ 4.238    │\n",
      "│ 101 │ 11.737   │ 11.592   │ 10.76    │ 10.128   │\n",
      "│ 102 │ 4.385    │ 4.006    │ 4.11     │ 4.196    │\n",
      "│ 103 │ 6.483    │ 6.383    │ 6.433    │ 6.47     │\n",
      "│ 104 │ 5.193    │ 5.104    │ 5.144    │ 5.172    │\n",
      "│ 105 │ 5.76     │ 5.366    │ 5.115    │ 5.379    │\n",
      "│ 106 │ 22.538   │ 22.361   │ 22.083   │ 21.971   │\n",
      "│ 107 │ 2.12     │ 2.075    │ 2.081    │ 2.082    │\n",
      "│ 108 │ \u001b[90mmissing\u001b[39m  │ \u001b[90mmissing\u001b[39m  │ \u001b[90mmissing\u001b[39m  │ \u001b[90mmissing\u001b[39m  │\n",
      "│ 109 │ 4.237    │ 4.158    │ 4.101    │ 4.08     │\n",
      "│ 110 │ 8.64     │ 7.361    │ 6.595    │ 6.659    │\n",
      "│ 111 │ 9.397    │ 9.059    │ 8.427    │ 8.338    │\n",
      "│ 112 │ 12.774   │ 12.314   │ 12.096   │ 11.934   │\n",
      "│ 113 │ 19.982   │ 19.807   │ 20.004   │ 20.145   │\n",
      "│ 114 │ 9.136    │ 9.027    │ 9.056    │ 9.107    │\n",
      "│ 115 │ 13.939   │ 13.785   │ 14.398   │ 14.742   │\n",
      "│ 116 │ 3.746    │ 3.384    │ 3.043    │ 3.025    │\n",
      "│ 117 │ 4.223    │ 4.157    │ 4.331    │ 4.509    │\n",
      "│ 118 │ \u001b[90mmissing\u001b[39m  │ \u001b[90mmissing\u001b[39m  │ \u001b[90mmissing\u001b[39m  │ \u001b[90mmissing\u001b[39m  │\n",
      "│ 119 │ 21.488   │ 19.292   │ 17.238   │ 15.474   │\n",
      "│ 120 │ \u001b[90mmissing\u001b[39m  │ \u001b[90mmissing\u001b[39m  │ \u001b[90mmissing\u001b[39m  │ \u001b[90mmissing\u001b[39m  │\n",
      "│ 121 │ \u001b[90mmissing\u001b[39m  │ \u001b[90mmissing\u001b[39m  │ \u001b[90mmissing\u001b[39m  │ \u001b[90mmissing\u001b[39m  │\n",
      "│ 122 │ 5.154    │ 4.929    │ 5.311    │ 5.675    │\n",
      "│ 123 │ 2.462    │ 2.402    │ 2.459    │ 2.507    │\n",
      "│ 124 │ 4.318    │ 4.247    │ 4.296    │ 4.33     │\n",
      "│ 125 │ 2.5      │ 2.438    │ 2.466    │ 2.487    │\n",
      "│ 126 │ 12.044   │ 11.906   │ 11.852   │ 11.813   │\n",
      "│ 127 │ 13.735   │ 13.592   │ 13.781   │ 13.915   │\n",
      "│ 128 │ 5.528    │ 5.648    │ 5.386    │ 5.229    │\n",
      "│ 129 │ 3.09     │ 2.903    │ 3.629    │ 4.265    │\n",
      "│ 130 │ 4.156    │ 3.708    │ 3.399    │ 3.46     │\n",
      "│ 131 │ 2.742    │ 2.704    │ 2.842    │ 3.222    │\n",
      "│ 132 │ 5.419    │ 5.33     │ 5.355    │ 5.399    │\n",
      "│ 133 │ 4.185    │ 4.511    │ 4.687    │ 4.835    │\n",
      "│ 134 │ 12.1     │ 12.04    │ 11.382   │ 11.181   │\n",
      "│ 135 │ 13.02    │ 12.862   │ 12.822   │ 12.825   │\n",
      "│ 136 │ 6.712    │ 5.74     │ 4.928    │ 5.158    │\n",
      "│ 137 │ \u001b[90mmissing\u001b[39m  │ \u001b[90mmissing\u001b[39m  │ \u001b[90mmissing\u001b[39m  │ \u001b[90mmissing\u001b[39m  │\n",
      "│ 138 │ 4.215    │ 3.998    │ 3.861    │ 3.779    │\n",
      "│ 139 │ 11.211   │ 10.61    │ 9.887    │ 9.836    │\n",
      "│ 140 │ 11.634   │ 9.104    │ 8.002    │ 7.95     │\n",
      "│ 141 │ 2.8      │ 2.4      │ 2.291    │ 2.339    │\n",
      "│ 142 │ 15.115   │ 14.959   │ 14.715   │ 14.613   │\n",
      "│ 143 │ 4.9      │ 4.825    │ 4.59     │ 4.551    │\n",
      "│ 144 │ 2.695    │ 2.635    │ 2.642    │ 2.646    │\n",
      "│ 145 │ \u001b[90mmissing\u001b[39m  │ \u001b[90mmissing\u001b[39m  │ \u001b[90mmissing\u001b[39m  │ \u001b[90mmissing\u001b[39m  │\n",
      "│ 146 │ 2.779    │ 2.713    │ 2.74     │ 2.764    │\n",
      "│ 147 │ 3.7      │ 3.848    │ 4.148    │ 4.597    │\n",
      "│ 148 │ \u001b[90mmissing\u001b[39m  │ \u001b[90mmissing\u001b[39m  │ \u001b[90mmissing\u001b[39m  │ \u001b[90mmissing\u001b[39m  │\n",
      "│ 149 │ 1.798    │ 2.076    │ 2.182    │ 2.303    │\n",
      "│ 150 │ 6.89     │ 5.96     │ 6.33     │ 6.643    │\n",
      "│ 151 │ 0.66     │ 0.641    │ 0.626    │ 0.602    │\n",
      "│ 152 │ 8.715    │ 7.412    │ 6.52     │ 6.533    │\n",
      "│ 153 │ 6.225    │ 6.143    │ 6.229    │ 6.276    │\n",
      "│ 154 │ 24.134   │ 23.971   │ 23.405   │ 22.831   │\n",
      "│ 155 │ 3.004    │ 2.932    │ 2.814    │ 2.725    │\n",
      "│ 156 │ 18.627   │ 18.468   │ 18.563   │ 18.626   │\n",
      "│ 157 │ \u001b[90mmissing\u001b[39m  │ \u001b[90mmissing\u001b[39m  │ \u001b[90mmissing\u001b[39m  │ \u001b[90mmissing\u001b[39m  │\n",
      "│ 158 │ 7.073    │ 6.147    │ 6.352    │ 6.261    │\n",
      "│ 159 │ 5.522    │ 5.585    │ 5.363    │ 5.244    │\n",
      "│ 160 │ 2.0      │ 1.966    │ 2.237    │ 2.505    │\n",
      "│ 161 │ 1.725    │ 1.689    │ 1.758    │ 1.833    │\n",
      "│ 162 │ 5.707    │ 5.622    │ 5.653    │ 5.674    │\n",
      "│ 163 │ 3.41     │ 3.35     │ 3.324    │ 3.378    │\n",
      "│ 164 │ 5.981    │ 5.849    │ 6.138    │ 6.434    │\n",
      "│ 165 │ 7.33     │ 7.11     │ 7.224    │ 7.341    │\n",
      "│ 166 │ 4.001    │ 3.716    │ 3.473    │ 3.367    │\n",
      "│ 167 │ \u001b[90mmissing\u001b[39m  │ \u001b[90mmissing\u001b[39m  │ \u001b[90mmissing\u001b[39m  │ \u001b[90mmissing\u001b[39m  │\n",
      "│ 168 │ 9.577    │ 9.464    │ 9.548    │ 9.614    │\n",
      "│ 169 │ 6.752    │ 6.657    │ 6.674    │ 6.689    │\n",
      "│ 170 │ 3.42     │ 3.283    │ 3.425    │ 3.654    │\n",
      "│ 171 │ \u001b[90mmissing\u001b[39m  │ \u001b[90mmissing\u001b[39m  │ \u001b[90mmissing\u001b[39m  │ \u001b[90mmissing\u001b[39m  │\n",
      "│ 172 │ 4.098    │ 2.978    │ 5.473    │ 5.365    │\n",
      "│ 173 │ \u001b[90mmissing\u001b[39m  │ \u001b[90mmissing\u001b[39m  │ \u001b[90mmissing\u001b[39m  │ \u001b[90mmissing\u001b[39m  │\n",
      "│ 174 │ 6.359    │ 6.254    │ 6.011    │ 5.946    │\n",
      "│ 175 │ 16.071   │ 15.175   │ 14.883   │ 14.756   │\n",
      "│ 176 │ 9.187    │ 9.078    │ 9.019    │ 8.955    │\n",
      "│ 177 │ 3.308    │ 3.237    │ 3.241    │ 3.242    │\n",
      "│ 178 │ 1.551    │ 1.494    │ 1.577    │ 1.711    │\n",
      "│ 179 │ 21.574   │ 19.877   │ 20.273   │ 20.587   │\n",
      "│ 180 │ \u001b[90mmissing\u001b[39m  │ \u001b[90mmissing\u001b[39m  │ \u001b[90mmissing\u001b[39m  │ \u001b[90mmissing\u001b[39m  │\n",
      "│ 181 │ 1.396    │ 1.35     │ 1.407    │ 1.466    │\n",
      "│ 182 │ 4.839    │ 3.83     │ 3.196    │ 2.975    │\n",
      "│ 183 │ 13.249   │ 12.847   │ 12.8     │ 12.781   │\n",
      "│ 184 │ 4.702    │ 4.298    │ 4.069    │ 4.013    │\n",
      "│ 185 │ 3.3      │ 5.2      │ 6.837    │ 7.355    │\n",
      "│ 186 │ 0.487    │ 0.471    │ 0.475    │ 0.485    │\n",
      "│ 187 │ 8.389    │ 8.243    │ 8.096    │ 7.96     │\n",
      "│ 188 │ 22.381   │ 20.736   │ 17.759   │ 16.439   │\n",
      "│ 189 │ \u001b[90mmissing\u001b[39m  │ \u001b[90mmissing\u001b[39m  │ \u001b[90mmissing\u001b[39m  │ \u001b[90mmissing\u001b[39m  │\n",
      "│ 190 │ 4.162    │ 3.8      │ 3.346    │ 3.31     │\n",
      "│ 191 │ 3.023    │ 2.864    │ 2.671    │ 2.546    │\n",
      "│ 192 │ 3.945    │ 4.083    │ 4.453    │ 4.445    │\n",
      "│ 193 │ \u001b[90mmissing\u001b[39m  │ \u001b[90mmissing\u001b[39m  │ \u001b[90mmissing\u001b[39m  │ \u001b[90mmissing\u001b[39m  │\n",
      "│ 194 │ 3.9      │ 3.894    │ 3.902    │ 3.825    │\n",
      "│ 195 │ 2.48     │ 2.423    │ 2.459    │ 2.487    │\n",
      "│ 196 │ 4.615    │ 4.534    │ 4.809    │ 4.836    │\n",
      "│ 197 │ 3.46     │ 3.39     │ 3.31     │ 3.196    │\n",
      "│ 198 │ 2.552    │ 2.338    │ 2.15     │ 2.164    │\n",
      "│ 199 │ 4.887    │ 3.845    │ 3.474    │ 3.04     │\n",
      "│ 200 │ 8.867    │ 6.993    │ 6.334    │ 5.933    │\n",
      "│ 201 │ 10.8     │ 9.2      │ 8.187    │ 8.414    │\n",
      "│ 202 │ 0.14     │ 0.11     │ 0.091    │ 0.082    │\n",
      "│ 203 │ 4.927    │ 4.187    │ 3.976    │ 3.922    │\n",
      "│ 204 │ 5.212    │ 4.846    │ 4.585    │ 4.425    │\n",
      "│ 205 │ 1.063    │ 1.017    │ 1.03     │ 1.041    │\n",
      "│ 206 │ 8.443    │ 8.312    │ 8.359    │ 8.355    │\n",
      "│ 207 │ \u001b[90mmissing\u001b[39m  │ \u001b[90mmissing\u001b[39m  │ \u001b[90mmissing\u001b[39m  │ \u001b[90mmissing\u001b[39m  │\n",
      "│ 208 │ 13.273   │ 13.148   │ 13.369   │ 13.671   │\n",
      "│ 209 │ 5.89     │ 6.04     │ 5.927    │ 5.858    │\n",
      "│ 210 │ 6.615    │ 6.527    │ 6.604    │ 6.676    │\n",
      "│ 211 │ 13.477   │ 12.733   │ 12.686   │ 12.722   │\n",
      "│ 212 │ \u001b[90mmissing\u001b[39m  │ \u001b[90mmissing\u001b[39m  │ \u001b[90mmissing\u001b[39m  │ \u001b[90mmissing\u001b[39m  │\n",
      "│ 213 │ 4.5      │ 4.417    │ 4.428    │ 4.441    │\n",
      "│ 214 │ 4.2      │ 4.019    │ 4.109    │ 4.38     │\n",
      "│ 215 │ \u001b[90mmissing\u001b[39m  │ \u001b[90mmissing\u001b[39m  │ \u001b[90mmissing\u001b[39m  │ \u001b[90mmissing\u001b[39m  │\n",
      "│ 216 │ 8.131    │ 6.536    │ 5.561    │ 5.104    │\n",
      "│ 217 │ 6.564    │ 5.108    │ 4.195    │ 3.802    │\n",
      "│ 218 │ 0.637    │ 0.618    │ 0.576    │ 0.542    │\n",
      "│ 219 │ 11.411   │ 11.28    │ 11.351   │ 11.4     │\n",
      "│ 220 │ 27.071   │ 26.92    │ 28.181   │ 28.477   │\n",
      "│ 221 │ 12.359   │ 12.225   │ 12.244   │ 12.257   │\n",
      "│ 222 │ 17.224   │ 15.255   │ 13.959   │ 13.015   │\n",
      "│ 223 │ 4.18     │ 4.119    │ 4.198    │ 4.178    │\n",
      "│ 224 │ \u001b[90mmissing\u001b[39m  │ \u001b[90mmissing\u001b[39m  │ \u001b[90mmissing\u001b[39m  │ \u001b[90mmissing\u001b[39m  │\n",
      "│ 225 │ 21.069   │ 20.879   │ 20.706   │ 20.15    │\n",
      "│ 226 │ \u001b[90mmissing\u001b[39m  │ \u001b[90mmissing\u001b[39m  │ \u001b[90mmissing\u001b[39m  │ \u001b[90mmissing\u001b[39m  │\n",
      "│ 227 │ 19.047   │ 18.879   │ 18.881   │ 18.87    │\n"
     ]
    },
    {
     "name": "stdout",
     "output_type": "stream",
     "text": [
      "│ 228 │ 17.06    │ 16.9     │ 16.535   │ 16.618   │\n",
      "│ 229 │ 7.081    │ 6.994    │ 7.334    │ 7.472    │\n",
      "│ 230 │ 6.718    │ 6.346    │ 6.476    │ 6.674    │\n",
      "│ 231 │ 4.797    │ 4.713    │ 4.581    │ 4.849    │\n",
      "│ 232 │ 8.362    │ 8.257    │ 8.37     │ 8.448    │\n",
      "│ 233 │ 11.274   │ 11.133   │ 11.017   │ 10.989   │\n",
      "│ 234 │ 2.033    │ 1.99     │ 1.98     │ 1.981    │\n",
      "│ 235 │ 0.83     │ 0.766    │ 0.754    │ 0.803    │\n",
      "│ 236 │ 4.566    │ 4.479    │ 4.548    │ 4.603    │\n",
      "│ 237 │ 2.126    │ 2.079    │ 2.038    │ 2.005    │\n",
      "│ 238 │ 1.08     │ 1.052    │ 1.117    │ 1.157    │\n",
      "│ 239 │ 2.706    │ 2.5      │ 2.686    │ 2.795    │\n",
      "│ 240 │ 15.379   │ 15.459   │ 16.022   │ 16.154   │\n",
      "│ 241 │ 10.819   │ 10.89    │ 13.49    │ 12.941   │\n",
      "│ 242 │ 3.859    │ 3.8      │ 3.913    │ 4.071    │\n",
      "│ 243 │ \u001b[90mmissing\u001b[39m  │ \u001b[90mmissing\u001b[39m  │ \u001b[90mmissing\u001b[39m  │ \u001b[90mmissing\u001b[39m  │\n",
      "│ 244 │ \u001b[90mmissing\u001b[39m  │ \u001b[90mmissing\u001b[39m  │ \u001b[90mmissing\u001b[39m  │ \u001b[90mmissing\u001b[39m  │\n",
      "│ 245 │ 1.79     │ 1.749    │ 1.843    │ 1.919    │\n",
      "│ 246 │ 9.51     │ 8.799    │ 8.882    │ 8.934    │\n",
      "│ 247 │ 2.463    │ 2.229    │ 2.348    │ 2.447    │\n",
      "│ 248 │ 4.335    │ 3.996    │ 3.851    │ 4.115    │\n",
      "│ 249 │ 4.355    │ 3.896    │ 3.682    │ 3.862    │\n",
      "│ 250 │ 7.89     │ 8.336    │ 8.731    │ 8.777    │\n",
      "│ 251 │ 5.83     │ 5.736    │ 5.917    │ 6.082    │\n",
      "│ 252 │ 4.443    │ 4.368    │ 4.385    │ 4.408    │\n",
      "│ 253 │ 7.302    │ 7.217    │ 8.801    │ 9.381    │\n",
      "│ 254 │ 2.053    │ 1.993    │ 2.013    │ 2.022    │\n",
      "│ 255 │ 8.746    │ 8.398    │ 8.662    │ 8.759    │\n",
      "│ 256 │ 25.677   │ 26.256   │ 26.169   │ 26.098   │\n",
      "│ 257 │ 13.152   │ 13.002   │ 12.91    │ 12.83    │\n",
      "│ 258 │ 11.626   │ 11.5     │ 11.425   │ 11.412   │\n",
      "│ 259 │ 5.168    │ 5.087    │ 4.954    │ 4.991    │"
     ]
    }
   ],
   "source": [
    "# find out which row number the ligitimate country starts\n",
    "showall(ue_df)"
   ]
  },
  {
   "cell_type": "code",
   "execution_count": 9,
   "metadata": {},
   "outputs": [
    {
     "data": {
      "text/html": [
       "<table class=\"data-frame\"><thead><tr><th></th><th>Country Name</th><th>Country Code</th><th>2011</th><th>2012</th><th>2013</th><th>2014</th><th>2015</th></tr><tr><th></th><th>String</th><th>String</th><th>Float64?</th><th>Float64?</th><th>Float64?</th><th>Float64?</th><th>Float64?</th></tr></thead><tbody><p>217 rows × 12 columns (omitted printing of 5 columns)</p><tr><th>1</th><td>Afghanistan</td><td>AFG</td><td>11.488</td><td>11.508</td><td>11.534</td><td>11.448</td><td>11.387</td></tr><tr><th>2</th><td>Albania</td><td>ALB</td><td>13.481</td><td>13.376</td><td>15.866</td><td>17.49</td><td>17.08</td></tr><tr><th>3</th><td>Algeria</td><td>DZA</td><td>9.96</td><td>10.97</td><td>9.82</td><td>10.207</td><td>11.206</td></tr><tr><th>4</th><td>American Samoa</td><td>ASM</td><td><em>missing</em></td><td><em>missing</em></td><td><em>missing</em></td><td><em>missing</em></td><td><em>missing</em></td></tr><tr><th>5</th><td>Andorra</td><td>AND</td><td><em>missing</em></td><td><em>missing</em></td><td><em>missing</em></td><td><em>missing</em></td><td><em>missing</em></td></tr><tr><th>6</th><td>Angola</td><td>AGO</td><td>7.362</td><td>7.379</td><td>7.4</td><td>7.331</td><td>7.282</td></tr><tr><th>7</th><td>Antigua and Barbuda</td><td>ATG</td><td><em>missing</em></td><td><em>missing</em></td><td><em>missing</em></td><td><em>missing</em></td><td><em>missing</em></td></tr><tr><th>8</th><td>Argentina</td><td>ARG</td><td>7.18</td><td>7.217</td><td>7.1</td><td>7.268</td><td>7.75</td></tr><tr><th>9</th><td>Armenia</td><td>ARM</td><td>18.443</td><td>17.301</td><td>16.179</td><td>17.498</td><td>18.261</td></tr><tr><th>10</th><td>Aruba</td><td>ABW</td><td><em>missing</em></td><td><em>missing</em></td><td><em>missing</em></td><td><em>missing</em></td><td><em>missing</em></td></tr><tr><th>11</th><td>Australia</td><td>AUS</td><td>5.081</td><td>5.224</td><td>5.662</td><td>6.077</td><td>6.054</td></tr><tr><th>12</th><td>Austria</td><td>AUT</td><td>4.564</td><td>4.865</td><td>5.335</td><td>5.62</td><td>5.723</td></tr><tr><th>13</th><td>Azerbaijan</td><td>AZE</td><td>5.42</td><td>5.19</td><td>4.97</td><td>4.91</td><td>4.96</td></tr><tr><th>14</th><td>Bahamas, The</td><td>BHS</td><td>14.52</td><td>14.02</td><td>16.18</td><td>13.8</td><td>12.0</td></tr><tr><th>15</th><td>Bahrain</td><td>BHR</td><td>1.274</td><td>1.2</td><td>1.323</td><td>1.17</td><td>1.13</td></tr><tr><th>16</th><td>Bangladesh</td><td>BGD</td><td>3.705</td><td>4.055</td><td>4.426</td><td>4.395</td><td>4.378</td></tr><tr><th>17</th><td>Barbados</td><td>BRB</td><td>11.19</td><td>11.59</td><td>11.55</td><td>12.17</td><td>11.35</td></tr><tr><th>18</th><td>Belarus</td><td>BLR</td><td>6.098</td><td>6.078</td><td>6.063</td><td>5.981</td><td>5.914</td></tr><tr><th>19</th><td>Belgium</td><td>BEL</td><td>7.14</td><td>7.542</td><td>8.425</td><td>8.523</td><td>8.482</td></tr><tr><th>20</th><td>Belize</td><td>BLZ</td><td>8.426</td><td>8.385</td><td>8.349</td><td>8.244</td><td>7.578</td></tr><tr><th>21</th><td>Benin</td><td>BEN</td><td>2.646</td><td>2.66</td><td>2.677</td><td>2.621</td><td>2.582</td></tr><tr><th>22</th><td>Bermuda</td><td>BMU</td><td><em>missing</em></td><td><em>missing</em></td><td><em>missing</em></td><td><em>missing</em></td><td><em>missing</em></td></tr><tr><th>23</th><td>Bhutan</td><td>BTN</td><td>3.23</td><td>2.05</td><td>2.87</td><td>2.63</td><td>2.45</td></tr><tr><th>24</th><td>Bolivia</td><td>BOL</td><td>2.219</td><td>2.048</td><td>2.394</td><td>2.007</td><td>3.066</td></tr><tr><th>25</th><td>Bosnia and Herzegovina</td><td>BIH</td><td>27.582</td><td>28.01</td><td>27.45</td><td>27.517</td><td>27.694</td></tr><tr><th>26</th><td>Botswana</td><td>BWA</td><td>17.865</td><td>17.889</td><td>17.921</td><td>17.819</td><td>17.747</td></tr><tr><th>27</th><td>Brazil</td><td>BRA</td><td>6.917</td><td>7.186</td><td>6.976</td><td>6.661</td><td>8.427</td></tr><tr><th>28</th><td>British Virgin Islands</td><td>VGB</td><td><em>missing</em></td><td><em>missing</em></td><td><em>missing</em></td><td><em>missing</em></td><td><em>missing</em></td></tr><tr><th>29</th><td>Brunei Darussalam</td><td>BRN</td><td>6.694</td><td>6.905</td><td>7.126</td><td>6.965</td><td>7.914</td></tr><tr><th>30</th><td>Bulgaria</td><td>BGR</td><td>11.26</td><td>12.27</td><td>12.941</td><td>11.424</td><td>9.143</td></tr><tr><th>&vellip;</th><td>&vellip;</td><td>&vellip;</td><td>&vellip;</td><td>&vellip;</td><td>&vellip;</td><td>&vellip;</td><td>&vellip;</td></tr></tbody></table>"
      ],
      "text/latex": [
       "\\begin{tabular}{r|cccccccc}\n",
       "\t& Country Name & Country Code & 2011 & 2012 & 2013 & 2014 & 2015 & \\\\\n",
       "\t\\hline\n",
       "\t& String & String & Float64? & Float64? & Float64? & Float64? & Float64? & \\\\\n",
       "\t\\hline\n",
       "\t1 & Afghanistan & AFG & 11.488 & 11.508 & 11.534 & 11.448 & 11.387 & $\\dots$ \\\\\n",
       "\t2 & Albania & ALB & 13.481 & 13.376 & 15.866 & 17.49 & 17.08 & $\\dots$ \\\\\n",
       "\t3 & Algeria & DZA & 9.96 & 10.97 & 9.82 & 10.207 & 11.206 & $\\dots$ \\\\\n",
       "\t4 & American Samoa & ASM & \\emph{missing} & \\emph{missing} & \\emph{missing} & \\emph{missing} & \\emph{missing} & $\\dots$ \\\\\n",
       "\t5 & Andorra & AND & \\emph{missing} & \\emph{missing} & \\emph{missing} & \\emph{missing} & \\emph{missing} & $\\dots$ \\\\\n",
       "\t6 & Angola & AGO & 7.362 & 7.379 & 7.4 & 7.331 & 7.282 & $\\dots$ \\\\\n",
       "\t7 & Antigua and Barbuda & ATG & \\emph{missing} & \\emph{missing} & \\emph{missing} & \\emph{missing} & \\emph{missing} & $\\dots$ \\\\\n",
       "\t8 & Argentina & ARG & 7.18 & 7.217 & 7.1 & 7.268 & 7.75 & $\\dots$ \\\\\n",
       "\t9 & Armenia & ARM & 18.443 & 17.301 & 16.179 & 17.498 & 18.261 & $\\dots$ \\\\\n",
       "\t10 & Aruba & ABW & \\emph{missing} & \\emph{missing} & \\emph{missing} & \\emph{missing} & \\emph{missing} & $\\dots$ \\\\\n",
       "\t11 & Australia & AUS & 5.081 & 5.224 & 5.662 & 6.077 & 6.054 & $\\dots$ \\\\\n",
       "\t12 & Austria & AUT & 4.564 & 4.865 & 5.335 & 5.62 & 5.723 & $\\dots$ \\\\\n",
       "\t13 & Azerbaijan & AZE & 5.42 & 5.19 & 4.97 & 4.91 & 4.96 & $\\dots$ \\\\\n",
       "\t14 & Bahamas, The & BHS & 14.52 & 14.02 & 16.18 & 13.8 & 12.0 & $\\dots$ \\\\\n",
       "\t15 & Bahrain & BHR & 1.274 & 1.2 & 1.323 & 1.17 & 1.13 & $\\dots$ \\\\\n",
       "\t16 & Bangladesh & BGD & 3.705 & 4.055 & 4.426 & 4.395 & 4.378 & $\\dots$ \\\\\n",
       "\t17 & Barbados & BRB & 11.19 & 11.59 & 11.55 & 12.17 & 11.35 & $\\dots$ \\\\\n",
       "\t18 & Belarus & BLR & 6.098 & 6.078 & 6.063 & 5.981 & 5.914 & $\\dots$ \\\\\n",
       "\t19 & Belgium & BEL & 7.14 & 7.542 & 8.425 & 8.523 & 8.482 & $\\dots$ \\\\\n",
       "\t20 & Belize & BLZ & 8.426 & 8.385 & 8.349 & 8.244 & 7.578 & $\\dots$ \\\\\n",
       "\t21 & Benin & BEN & 2.646 & 2.66 & 2.677 & 2.621 & 2.582 & $\\dots$ \\\\\n",
       "\t22 & Bermuda & BMU & \\emph{missing} & \\emph{missing} & \\emph{missing} & \\emph{missing} & \\emph{missing} & $\\dots$ \\\\\n",
       "\t23 & Bhutan & BTN & 3.23 & 2.05 & 2.87 & 2.63 & 2.45 & $\\dots$ \\\\\n",
       "\t24 & Bolivia & BOL & 2.219 & 2.048 & 2.394 & 2.007 & 3.066 & $\\dots$ \\\\\n",
       "\t25 & Bosnia and Herzegovina & BIH & 27.582 & 28.01 & 27.45 & 27.517 & 27.694 & $\\dots$ \\\\\n",
       "\t26 & Botswana & BWA & 17.865 & 17.889 & 17.921 & 17.819 & 17.747 & $\\dots$ \\\\\n",
       "\t27 & Brazil & BRA & 6.917 & 7.186 & 6.976 & 6.661 & 8.427 & $\\dots$ \\\\\n",
       "\t28 & British Virgin Islands & VGB & \\emph{missing} & \\emph{missing} & \\emph{missing} & \\emph{missing} & \\emph{missing} & $\\dots$ \\\\\n",
       "\t29 & Brunei Darussalam & BRN & 6.694 & 6.905 & 7.126 & 6.965 & 7.914 & $\\dots$ \\\\\n",
       "\t30 & Bulgaria & BGR & 11.26 & 12.27 & 12.941 & 11.424 & 9.143 & $\\dots$ \\\\\n",
       "\t$\\dots$ & $\\dots$ & $\\dots$ & $\\dots$ & $\\dots$ & $\\dots$ & $\\dots$ & $\\dots$ &  \\\\\n",
       "\\end{tabular}\n"
      ],
      "text/plain": [
       "217×12 DataFrame. Omitted printing of 7 columns\n",
       "│ Row │ Country Name          │ Country Code │ 2011     │ 2012     │ 2013     │\n",
       "│     │ \u001b[90mString\u001b[39m                │ \u001b[90mString\u001b[39m       │ \u001b[90mFloat64?\u001b[39m │ \u001b[90mFloat64?\u001b[39m │ \u001b[90mFloat64?\u001b[39m │\n",
       "├─────┼───────────────────────┼──────────────┼──────────┼──────────┼──────────┤\n",
       "│ 1   │ Afghanistan           │ AFG          │ 11.488   │ 11.508   │ 11.534   │\n",
       "│ 2   │ Albania               │ ALB          │ 13.481   │ 13.376   │ 15.866   │\n",
       "│ 3   │ Algeria               │ DZA          │ 9.96     │ 10.97    │ 9.82     │\n",
       "│ 4   │ American Samoa        │ ASM          │ \u001b[90mmissing\u001b[39m  │ \u001b[90mmissing\u001b[39m  │ \u001b[90mmissing\u001b[39m  │\n",
       "│ 5   │ Andorra               │ AND          │ \u001b[90mmissing\u001b[39m  │ \u001b[90mmissing\u001b[39m  │ \u001b[90mmissing\u001b[39m  │\n",
       "│ 6   │ Angola                │ AGO          │ 7.362    │ 7.379    │ 7.4      │\n",
       "│ 7   │ Antigua and Barbuda   │ ATG          │ \u001b[90mmissing\u001b[39m  │ \u001b[90mmissing\u001b[39m  │ \u001b[90mmissing\u001b[39m  │\n",
       "│ 8   │ Argentina             │ ARG          │ 7.18     │ 7.217    │ 7.1      │\n",
       "│ 9   │ Armenia               │ ARM          │ 18.443   │ 17.301   │ 16.179   │\n",
       "│ 10  │ Aruba                 │ ABW          │ \u001b[90mmissing\u001b[39m  │ \u001b[90mmissing\u001b[39m  │ \u001b[90mmissing\u001b[39m  │\n",
       "⋮\n",
       "│ 207 │ United States         │ USA          │ 8.949    │ 8.069    │ 7.375    │\n",
       "│ 208 │ Uruguay               │ URY          │ 6.307    │ 6.451    │ 6.444    │\n",
       "│ 209 │ Uzbekistan            │ UZB          │ 4.96     │ 4.87     │ 4.86     │\n",
       "│ 210 │ Vanuatu               │ VUT          │ 4.628    │ 4.641    │ 4.657    │\n",
       "│ 211 │ Venezuela, RB         │ VEN          │ 6.902    │ 6.601    │ 7.54     │\n",
       "│ 212 │ Vietnam               │ VNM          │ 1.875    │ 1.676    │ 1.977    │\n",
       "│ 213 │ Virgin Islands (U.S.) │ VIR          │ 9.892    │ 10.035   │ 10.271   │\n",
       "│ 214 │ West Bank and Gaza    │ PSE          │ 17.597   │ 19.202   │ 19.894   │\n",
       "│ 215 │ Yemen, Rep.           │ YEM          │ 13.08    │ 13.248   │ 13.424   │\n",
       "│ 216 │ Zambia                │ ZMB          │ 10.343   │ 7.85     │ 8.618    │\n",
       "│ 217 │ Zimbabwe              │ ZWE          │ 5.368    │ 5.381    │ 5.399    │"
      ]
     },
     "execution_count": 9,
     "metadata": {},
     "output_type": "execute_result"
    }
   ],
   "source": [
    "# filter the rows are just countries\n",
    "ue_df = ue_df[43:259, :]"
   ]
  },
  {
   "cell_type": "code",
   "execution_count": 10,
   "metadata": {},
   "outputs": [
    {
     "data": {
      "text/html": [
       "<table class=\"data-frame\"><thead><tr><th></th><th>Country Name</th><th>Country Code</th><th>2011</th><th>2012</th><th>2013</th><th>2014</th><th>2015</th></tr><tr><th></th><th>String</th><th>String</th><th>Float64?</th><th>Float64?</th><th>Float64?</th><th>Float64?</th><th>Float64?</th></tr></thead><tbody><p>187 rows × 12 columns (omitted printing of 5 columns)</p><tr><th>1</th><td>Afghanistan</td><td>AFG</td><td>11.488</td><td>11.508</td><td>11.534</td><td>11.448</td><td>11.387</td></tr><tr><th>2</th><td>Albania</td><td>ALB</td><td>13.481</td><td>13.376</td><td>15.866</td><td>17.49</td><td>17.08</td></tr><tr><th>3</th><td>Algeria</td><td>DZA</td><td>9.96</td><td>10.97</td><td>9.82</td><td>10.207</td><td>11.206</td></tr><tr><th>4</th><td>Angola</td><td>AGO</td><td>7.362</td><td>7.379</td><td>7.4</td><td>7.331</td><td>7.282</td></tr><tr><th>5</th><td>Argentina</td><td>ARG</td><td>7.18</td><td>7.217</td><td>7.1</td><td>7.268</td><td>7.75</td></tr><tr><th>6</th><td>Armenia</td><td>ARM</td><td>18.443</td><td>17.301</td><td>16.179</td><td>17.498</td><td>18.261</td></tr><tr><th>7</th><td>Australia</td><td>AUS</td><td>5.081</td><td>5.224</td><td>5.662</td><td>6.077</td><td>6.054</td></tr><tr><th>8</th><td>Austria</td><td>AUT</td><td>4.564</td><td>4.865</td><td>5.335</td><td>5.62</td><td>5.723</td></tr><tr><th>9</th><td>Azerbaijan</td><td>AZE</td><td>5.42</td><td>5.19</td><td>4.97</td><td>4.91</td><td>4.96</td></tr><tr><th>10</th><td>Bahamas, The</td><td>BHS</td><td>14.52</td><td>14.02</td><td>16.18</td><td>13.8</td><td>12.0</td></tr><tr><th>11</th><td>Bahrain</td><td>BHR</td><td>1.274</td><td>1.2</td><td>1.323</td><td>1.17</td><td>1.13</td></tr><tr><th>12</th><td>Bangladesh</td><td>BGD</td><td>3.705</td><td>4.055</td><td>4.426</td><td>4.395</td><td>4.378</td></tr><tr><th>13</th><td>Barbados</td><td>BRB</td><td>11.19</td><td>11.59</td><td>11.55</td><td>12.17</td><td>11.35</td></tr><tr><th>14</th><td>Belarus</td><td>BLR</td><td>6.098</td><td>6.078</td><td>6.063</td><td>5.981</td><td>5.914</td></tr><tr><th>15</th><td>Belgium</td><td>BEL</td><td>7.14</td><td>7.542</td><td>8.425</td><td>8.523</td><td>8.482</td></tr><tr><th>16</th><td>Belize</td><td>BLZ</td><td>8.426</td><td>8.385</td><td>8.349</td><td>8.244</td><td>7.578</td></tr><tr><th>17</th><td>Benin</td><td>BEN</td><td>2.646</td><td>2.66</td><td>2.677</td><td>2.621</td><td>2.582</td></tr><tr><th>18</th><td>Bhutan</td><td>BTN</td><td>3.23</td><td>2.05</td><td>2.87</td><td>2.63</td><td>2.45</td></tr><tr><th>19</th><td>Bolivia</td><td>BOL</td><td>2.219</td><td>2.048</td><td>2.394</td><td>2.007</td><td>3.066</td></tr><tr><th>20</th><td>Bosnia and Herzegovina</td><td>BIH</td><td>27.582</td><td>28.01</td><td>27.45</td><td>27.517</td><td>27.694</td></tr><tr><th>21</th><td>Botswana</td><td>BWA</td><td>17.865</td><td>17.889</td><td>17.921</td><td>17.819</td><td>17.747</td></tr><tr><th>22</th><td>Brazil</td><td>BRA</td><td>6.917</td><td>7.186</td><td>6.976</td><td>6.661</td><td>8.427</td></tr><tr><th>23</th><td>Brunei Darussalam</td><td>BRN</td><td>6.694</td><td>6.905</td><td>7.126</td><td>6.965</td><td>7.914</td></tr><tr><th>24</th><td>Bulgaria</td><td>BGR</td><td>11.26</td><td>12.27</td><td>12.941</td><td>11.424</td><td>9.143</td></tr><tr><th>25</th><td>Burkina Faso</td><td>BFA</td><td>5.143</td><td>5.601</td><td>6.087</td><td>6.479</td><td>6.418</td></tr><tr><th>26</th><td>Burundi</td><td>BDI</td><td>1.715</td><td>1.678</td><td>1.644</td><td>1.572</td><td>1.552</td></tr><tr><th>27</th><td>Cabo Verde</td><td>CPV</td><td>10.935</td><td>11.218</td><td>11.511</td><td>11.698</td><td>11.909</td></tr><tr><th>28</th><td>Cambodia</td><td>KHM</td><td>0.577</td><td>0.505</td><td>0.438</td><td>0.692</td><td>0.393</td></tr><tr><th>29</th><td>Cameroon</td><td>CMR</td><td>3.969</td><td>3.837</td><td>3.711</td><td>3.534</td><td>3.506</td></tr><tr><th>30</th><td>Canada</td><td>CAN</td><td>7.511</td><td>7.292</td><td>7.074</td><td>6.914</td><td>6.906</td></tr><tr><th>&vellip;</th><td>&vellip;</td><td>&vellip;</td><td>&vellip;</td><td>&vellip;</td><td>&vellip;</td><td>&vellip;</td><td>&vellip;</td></tr></tbody></table>"
      ],
      "text/latex": [
       "\\begin{tabular}{r|cccccccc}\n",
       "\t& Country Name & Country Code & 2011 & 2012 & 2013 & 2014 & 2015 & \\\\\n",
       "\t\\hline\n",
       "\t& String & String & Float64? & Float64? & Float64? & Float64? & Float64? & \\\\\n",
       "\t\\hline\n",
       "\t1 & Afghanistan & AFG & 11.488 & 11.508 & 11.534 & 11.448 & 11.387 & $\\dots$ \\\\\n",
       "\t2 & Albania & ALB & 13.481 & 13.376 & 15.866 & 17.49 & 17.08 & $\\dots$ \\\\\n",
       "\t3 & Algeria & DZA & 9.96 & 10.97 & 9.82 & 10.207 & 11.206 & $\\dots$ \\\\\n",
       "\t4 & Angola & AGO & 7.362 & 7.379 & 7.4 & 7.331 & 7.282 & $\\dots$ \\\\\n",
       "\t5 & Argentina & ARG & 7.18 & 7.217 & 7.1 & 7.268 & 7.75 & $\\dots$ \\\\\n",
       "\t6 & Armenia & ARM & 18.443 & 17.301 & 16.179 & 17.498 & 18.261 & $\\dots$ \\\\\n",
       "\t7 & Australia & AUS & 5.081 & 5.224 & 5.662 & 6.077 & 6.054 & $\\dots$ \\\\\n",
       "\t8 & Austria & AUT & 4.564 & 4.865 & 5.335 & 5.62 & 5.723 & $\\dots$ \\\\\n",
       "\t9 & Azerbaijan & AZE & 5.42 & 5.19 & 4.97 & 4.91 & 4.96 & $\\dots$ \\\\\n",
       "\t10 & Bahamas, The & BHS & 14.52 & 14.02 & 16.18 & 13.8 & 12.0 & $\\dots$ \\\\\n",
       "\t11 & Bahrain & BHR & 1.274 & 1.2 & 1.323 & 1.17 & 1.13 & $\\dots$ \\\\\n",
       "\t12 & Bangladesh & BGD & 3.705 & 4.055 & 4.426 & 4.395 & 4.378 & $\\dots$ \\\\\n",
       "\t13 & Barbados & BRB & 11.19 & 11.59 & 11.55 & 12.17 & 11.35 & $\\dots$ \\\\\n",
       "\t14 & Belarus & BLR & 6.098 & 6.078 & 6.063 & 5.981 & 5.914 & $\\dots$ \\\\\n",
       "\t15 & Belgium & BEL & 7.14 & 7.542 & 8.425 & 8.523 & 8.482 & $\\dots$ \\\\\n",
       "\t16 & Belize & BLZ & 8.426 & 8.385 & 8.349 & 8.244 & 7.578 & $\\dots$ \\\\\n",
       "\t17 & Benin & BEN & 2.646 & 2.66 & 2.677 & 2.621 & 2.582 & $\\dots$ \\\\\n",
       "\t18 & Bhutan & BTN & 3.23 & 2.05 & 2.87 & 2.63 & 2.45 & $\\dots$ \\\\\n",
       "\t19 & Bolivia & BOL & 2.219 & 2.048 & 2.394 & 2.007 & 3.066 & $\\dots$ \\\\\n",
       "\t20 & Bosnia and Herzegovina & BIH & 27.582 & 28.01 & 27.45 & 27.517 & 27.694 & $\\dots$ \\\\\n",
       "\t21 & Botswana & BWA & 17.865 & 17.889 & 17.921 & 17.819 & 17.747 & $\\dots$ \\\\\n",
       "\t22 & Brazil & BRA & 6.917 & 7.186 & 6.976 & 6.661 & 8.427 & $\\dots$ \\\\\n",
       "\t23 & Brunei Darussalam & BRN & 6.694 & 6.905 & 7.126 & 6.965 & 7.914 & $\\dots$ \\\\\n",
       "\t24 & Bulgaria & BGR & 11.26 & 12.27 & 12.941 & 11.424 & 9.143 & $\\dots$ \\\\\n",
       "\t25 & Burkina Faso & BFA & 5.143 & 5.601 & 6.087 & 6.479 & 6.418 & $\\dots$ \\\\\n",
       "\t26 & Burundi & BDI & 1.715 & 1.678 & 1.644 & 1.572 & 1.552 & $\\dots$ \\\\\n",
       "\t27 & Cabo Verde & CPV & 10.935 & 11.218 & 11.511 & 11.698 & 11.909 & $\\dots$ \\\\\n",
       "\t28 & Cambodia & KHM & 0.577 & 0.505 & 0.438 & 0.692 & 0.393 & $\\dots$ \\\\\n",
       "\t29 & Cameroon & CMR & 3.969 & 3.837 & 3.711 & 3.534 & 3.506 & $\\dots$ \\\\\n",
       "\t30 & Canada & CAN & 7.511 & 7.292 & 7.074 & 6.914 & 6.906 & $\\dots$ \\\\\n",
       "\t$\\dots$ & $\\dots$ & $\\dots$ & $\\dots$ & $\\dots$ & $\\dots$ & $\\dots$ & $\\dots$ &  \\\\\n",
       "\\end{tabular}\n"
      ],
      "text/plain": [
       "187×12 DataFrame. Omitted printing of 7 columns\n",
       "│ Row │ Country Name          │ Country Code │ 2011     │ 2012     │ 2013     │\n",
       "│     │ \u001b[90mString\u001b[39m                │ \u001b[90mString\u001b[39m       │ \u001b[90mFloat64?\u001b[39m │ \u001b[90mFloat64?\u001b[39m │ \u001b[90mFloat64?\u001b[39m │\n",
       "├─────┼───────────────────────┼──────────────┼──────────┼──────────┼──────────┤\n",
       "│ 1   │ Afghanistan           │ AFG          │ 11.488   │ 11.508   │ 11.534   │\n",
       "│ 2   │ Albania               │ ALB          │ 13.481   │ 13.376   │ 15.866   │\n",
       "│ 3   │ Algeria               │ DZA          │ 9.96     │ 10.97    │ 9.82     │\n",
       "│ 4   │ Angola                │ AGO          │ 7.362    │ 7.379    │ 7.4      │\n",
       "│ 5   │ Argentina             │ ARG          │ 7.18     │ 7.217    │ 7.1      │\n",
       "│ 6   │ Armenia               │ ARM          │ 18.443   │ 17.301   │ 16.179   │\n",
       "│ 7   │ Australia             │ AUS          │ 5.081    │ 5.224    │ 5.662    │\n",
       "│ 8   │ Austria               │ AUT          │ 4.564    │ 4.865    │ 5.335    │\n",
       "│ 9   │ Azerbaijan            │ AZE          │ 5.42     │ 5.19     │ 4.97     │\n",
       "│ 10  │ Bahamas, The          │ BHS          │ 14.52    │ 14.02    │ 16.18    │\n",
       "⋮\n",
       "│ 177 │ United States         │ USA          │ 8.949    │ 8.069    │ 7.375    │\n",
       "│ 178 │ Uruguay               │ URY          │ 6.307    │ 6.451    │ 6.444    │\n",
       "│ 179 │ Uzbekistan            │ UZB          │ 4.96     │ 4.87     │ 4.86     │\n",
       "│ 180 │ Vanuatu               │ VUT          │ 4.628    │ 4.641    │ 4.657    │\n",
       "│ 181 │ Venezuela, RB         │ VEN          │ 6.902    │ 6.601    │ 7.54     │\n",
       "│ 182 │ Vietnam               │ VNM          │ 1.875    │ 1.676    │ 1.977    │\n",
       "│ 183 │ Virgin Islands (U.S.) │ VIR          │ 9.892    │ 10.035   │ 10.271   │\n",
       "│ 184 │ West Bank and Gaza    │ PSE          │ 17.597   │ 19.202   │ 19.894   │\n",
       "│ 185 │ Yemen, Rep.           │ YEM          │ 13.08    │ 13.248   │ 13.424   │\n",
       "│ 186 │ Zambia                │ ZMB          │ 10.343   │ 7.85     │ 8.618    │\n",
       "│ 187 │ Zimbabwe              │ ZWE          │ 5.368    │ 5.381    │ 5.399    │"
      ]
     },
     "execution_count": 10,
     "metadata": {},
     "output_type": "execute_result"
    }
   ],
   "source": [
    "# remove the missing rows\n",
    "ue_df = ue_df[completecases(ue_df), :]"
   ]
  },
  {
   "cell_type": "code",
   "execution_count": 11,
   "metadata": {},
   "outputs": [
    {
     "data": {
      "text/html": [
       "<table class=\"data-frame\"><thead><tr><th></th><th>Country</th><th>ISO</th><th>2011</th><th>2012</th><th>2013</th><th>2014</th><th>2015</th></tr><tr><th></th><th>String</th><th>String</th><th>Float64?</th><th>Float64?</th><th>Float64?</th><th>Float64?</th><th>Float64?</th></tr></thead><tbody><p>187 rows × 12 columns (omitted printing of 5 columns)</p><tr><th>1</th><td>Afghanistan</td><td>AFG</td><td>11.488</td><td>11.508</td><td>11.534</td><td>11.448</td><td>11.387</td></tr><tr><th>2</th><td>Albania</td><td>ALB</td><td>13.481</td><td>13.376</td><td>15.866</td><td>17.49</td><td>17.08</td></tr><tr><th>3</th><td>Algeria</td><td>DZA</td><td>9.96</td><td>10.97</td><td>9.82</td><td>10.207</td><td>11.206</td></tr><tr><th>4</th><td>Angola</td><td>AGO</td><td>7.362</td><td>7.379</td><td>7.4</td><td>7.331</td><td>7.282</td></tr><tr><th>5</th><td>Argentina</td><td>ARG</td><td>7.18</td><td>7.217</td><td>7.1</td><td>7.268</td><td>7.75</td></tr><tr><th>6</th><td>Armenia</td><td>ARM</td><td>18.443</td><td>17.301</td><td>16.179</td><td>17.498</td><td>18.261</td></tr><tr><th>7</th><td>Australia</td><td>AUS</td><td>5.081</td><td>5.224</td><td>5.662</td><td>6.077</td><td>6.054</td></tr><tr><th>8</th><td>Austria</td><td>AUT</td><td>4.564</td><td>4.865</td><td>5.335</td><td>5.62</td><td>5.723</td></tr><tr><th>9</th><td>Azerbaijan</td><td>AZE</td><td>5.42</td><td>5.19</td><td>4.97</td><td>4.91</td><td>4.96</td></tr><tr><th>10</th><td>Bahamas, The</td><td>BHS</td><td>14.52</td><td>14.02</td><td>16.18</td><td>13.8</td><td>12.0</td></tr><tr><th>11</th><td>Bahrain</td><td>BHR</td><td>1.274</td><td>1.2</td><td>1.323</td><td>1.17</td><td>1.13</td></tr><tr><th>12</th><td>Bangladesh</td><td>BGD</td><td>3.705</td><td>4.055</td><td>4.426</td><td>4.395</td><td>4.378</td></tr><tr><th>13</th><td>Barbados</td><td>BRB</td><td>11.19</td><td>11.59</td><td>11.55</td><td>12.17</td><td>11.35</td></tr><tr><th>14</th><td>Belarus</td><td>BLR</td><td>6.098</td><td>6.078</td><td>6.063</td><td>5.981</td><td>5.914</td></tr><tr><th>15</th><td>Belgium</td><td>BEL</td><td>7.14</td><td>7.542</td><td>8.425</td><td>8.523</td><td>8.482</td></tr><tr><th>16</th><td>Belize</td><td>BLZ</td><td>8.426</td><td>8.385</td><td>8.349</td><td>8.244</td><td>7.578</td></tr><tr><th>17</th><td>Benin</td><td>BEN</td><td>2.646</td><td>2.66</td><td>2.677</td><td>2.621</td><td>2.582</td></tr><tr><th>18</th><td>Bhutan</td><td>BTN</td><td>3.23</td><td>2.05</td><td>2.87</td><td>2.63</td><td>2.45</td></tr><tr><th>19</th><td>Bolivia</td><td>BOL</td><td>2.219</td><td>2.048</td><td>2.394</td><td>2.007</td><td>3.066</td></tr><tr><th>20</th><td>Bosnia and Herzegovina</td><td>BIH</td><td>27.582</td><td>28.01</td><td>27.45</td><td>27.517</td><td>27.694</td></tr><tr><th>21</th><td>Botswana</td><td>BWA</td><td>17.865</td><td>17.889</td><td>17.921</td><td>17.819</td><td>17.747</td></tr><tr><th>22</th><td>Brazil</td><td>BRA</td><td>6.917</td><td>7.186</td><td>6.976</td><td>6.661</td><td>8.427</td></tr><tr><th>23</th><td>Brunei Darussalam</td><td>BRN</td><td>6.694</td><td>6.905</td><td>7.126</td><td>6.965</td><td>7.914</td></tr><tr><th>24</th><td>Bulgaria</td><td>BGR</td><td>11.26</td><td>12.27</td><td>12.941</td><td>11.424</td><td>9.143</td></tr><tr><th>25</th><td>Burkina Faso</td><td>BFA</td><td>5.143</td><td>5.601</td><td>6.087</td><td>6.479</td><td>6.418</td></tr><tr><th>26</th><td>Burundi</td><td>BDI</td><td>1.715</td><td>1.678</td><td>1.644</td><td>1.572</td><td>1.552</td></tr><tr><th>27</th><td>Cabo Verde</td><td>CPV</td><td>10.935</td><td>11.218</td><td>11.511</td><td>11.698</td><td>11.909</td></tr><tr><th>28</th><td>Cambodia</td><td>KHM</td><td>0.577</td><td>0.505</td><td>0.438</td><td>0.692</td><td>0.393</td></tr><tr><th>29</th><td>Cameroon</td><td>CMR</td><td>3.969</td><td>3.837</td><td>3.711</td><td>3.534</td><td>3.506</td></tr><tr><th>30</th><td>Canada</td><td>CAN</td><td>7.511</td><td>7.292</td><td>7.074</td><td>6.914</td><td>6.906</td></tr><tr><th>&vellip;</th><td>&vellip;</td><td>&vellip;</td><td>&vellip;</td><td>&vellip;</td><td>&vellip;</td><td>&vellip;</td><td>&vellip;</td></tr></tbody></table>"
      ],
      "text/latex": [
       "\\begin{tabular}{r|cccccccc}\n",
       "\t& Country & ISO & 2011 & 2012 & 2013 & 2014 & 2015 & \\\\\n",
       "\t\\hline\n",
       "\t& String & String & Float64? & Float64? & Float64? & Float64? & Float64? & \\\\\n",
       "\t\\hline\n",
       "\t1 & Afghanistan & AFG & 11.488 & 11.508 & 11.534 & 11.448 & 11.387 & $\\dots$ \\\\\n",
       "\t2 & Albania & ALB & 13.481 & 13.376 & 15.866 & 17.49 & 17.08 & $\\dots$ \\\\\n",
       "\t3 & Algeria & DZA & 9.96 & 10.97 & 9.82 & 10.207 & 11.206 & $\\dots$ \\\\\n",
       "\t4 & Angola & AGO & 7.362 & 7.379 & 7.4 & 7.331 & 7.282 & $\\dots$ \\\\\n",
       "\t5 & Argentina & ARG & 7.18 & 7.217 & 7.1 & 7.268 & 7.75 & $\\dots$ \\\\\n",
       "\t6 & Armenia & ARM & 18.443 & 17.301 & 16.179 & 17.498 & 18.261 & $\\dots$ \\\\\n",
       "\t7 & Australia & AUS & 5.081 & 5.224 & 5.662 & 6.077 & 6.054 & $\\dots$ \\\\\n",
       "\t8 & Austria & AUT & 4.564 & 4.865 & 5.335 & 5.62 & 5.723 & $\\dots$ \\\\\n",
       "\t9 & Azerbaijan & AZE & 5.42 & 5.19 & 4.97 & 4.91 & 4.96 & $\\dots$ \\\\\n",
       "\t10 & Bahamas, The & BHS & 14.52 & 14.02 & 16.18 & 13.8 & 12.0 & $\\dots$ \\\\\n",
       "\t11 & Bahrain & BHR & 1.274 & 1.2 & 1.323 & 1.17 & 1.13 & $\\dots$ \\\\\n",
       "\t12 & Bangladesh & BGD & 3.705 & 4.055 & 4.426 & 4.395 & 4.378 & $\\dots$ \\\\\n",
       "\t13 & Barbados & BRB & 11.19 & 11.59 & 11.55 & 12.17 & 11.35 & $\\dots$ \\\\\n",
       "\t14 & Belarus & BLR & 6.098 & 6.078 & 6.063 & 5.981 & 5.914 & $\\dots$ \\\\\n",
       "\t15 & Belgium & BEL & 7.14 & 7.542 & 8.425 & 8.523 & 8.482 & $\\dots$ \\\\\n",
       "\t16 & Belize & BLZ & 8.426 & 8.385 & 8.349 & 8.244 & 7.578 & $\\dots$ \\\\\n",
       "\t17 & Benin & BEN & 2.646 & 2.66 & 2.677 & 2.621 & 2.582 & $\\dots$ \\\\\n",
       "\t18 & Bhutan & BTN & 3.23 & 2.05 & 2.87 & 2.63 & 2.45 & $\\dots$ \\\\\n",
       "\t19 & Bolivia & BOL & 2.219 & 2.048 & 2.394 & 2.007 & 3.066 & $\\dots$ \\\\\n",
       "\t20 & Bosnia and Herzegovina & BIH & 27.582 & 28.01 & 27.45 & 27.517 & 27.694 & $\\dots$ \\\\\n",
       "\t21 & Botswana & BWA & 17.865 & 17.889 & 17.921 & 17.819 & 17.747 & $\\dots$ \\\\\n",
       "\t22 & Brazil & BRA & 6.917 & 7.186 & 6.976 & 6.661 & 8.427 & $\\dots$ \\\\\n",
       "\t23 & Brunei Darussalam & BRN & 6.694 & 6.905 & 7.126 & 6.965 & 7.914 & $\\dots$ \\\\\n",
       "\t24 & Bulgaria & BGR & 11.26 & 12.27 & 12.941 & 11.424 & 9.143 & $\\dots$ \\\\\n",
       "\t25 & Burkina Faso & BFA & 5.143 & 5.601 & 6.087 & 6.479 & 6.418 & $\\dots$ \\\\\n",
       "\t26 & Burundi & BDI & 1.715 & 1.678 & 1.644 & 1.572 & 1.552 & $\\dots$ \\\\\n",
       "\t27 & Cabo Verde & CPV & 10.935 & 11.218 & 11.511 & 11.698 & 11.909 & $\\dots$ \\\\\n",
       "\t28 & Cambodia & KHM & 0.577 & 0.505 & 0.438 & 0.692 & 0.393 & $\\dots$ \\\\\n",
       "\t29 & Cameroon & CMR & 3.969 & 3.837 & 3.711 & 3.534 & 3.506 & $\\dots$ \\\\\n",
       "\t30 & Canada & CAN & 7.511 & 7.292 & 7.074 & 6.914 & 6.906 & $\\dots$ \\\\\n",
       "\t$\\dots$ & $\\dots$ & $\\dots$ & $\\dots$ & $\\dots$ & $\\dots$ & $\\dots$ & $\\dots$ &  \\\\\n",
       "\\end{tabular}\n"
      ],
      "text/plain": [
       "187×12 DataFrame. Omitted printing of 7 columns\n",
       "│ Row │ Country               │ ISO    │ 2011     │ 2012     │ 2013     │\n",
       "│     │ \u001b[90mString\u001b[39m                │ \u001b[90mString\u001b[39m │ \u001b[90mFloat64?\u001b[39m │ \u001b[90mFloat64?\u001b[39m │ \u001b[90mFloat64?\u001b[39m │\n",
       "├─────┼───────────────────────┼────────┼──────────┼──────────┼──────────┤\n",
       "│ 1   │ Afghanistan           │ AFG    │ 11.488   │ 11.508   │ 11.534   │\n",
       "│ 2   │ Albania               │ ALB    │ 13.481   │ 13.376   │ 15.866   │\n",
       "│ 3   │ Algeria               │ DZA    │ 9.96     │ 10.97    │ 9.82     │\n",
       "│ 4   │ Angola                │ AGO    │ 7.362    │ 7.379    │ 7.4      │\n",
       "│ 5   │ Argentina             │ ARG    │ 7.18     │ 7.217    │ 7.1      │\n",
       "│ 6   │ Armenia               │ ARM    │ 18.443   │ 17.301   │ 16.179   │\n",
       "│ 7   │ Australia             │ AUS    │ 5.081    │ 5.224    │ 5.662    │\n",
       "│ 8   │ Austria               │ AUT    │ 4.564    │ 4.865    │ 5.335    │\n",
       "│ 9   │ Azerbaijan            │ AZE    │ 5.42     │ 5.19     │ 4.97     │\n",
       "│ 10  │ Bahamas, The          │ BHS    │ 14.52    │ 14.02    │ 16.18    │\n",
       "⋮\n",
       "│ 177 │ United States         │ USA    │ 8.949    │ 8.069    │ 7.375    │\n",
       "│ 178 │ Uruguay               │ URY    │ 6.307    │ 6.451    │ 6.444    │\n",
       "│ 179 │ Uzbekistan            │ UZB    │ 4.96     │ 4.87     │ 4.86     │\n",
       "│ 180 │ Vanuatu               │ VUT    │ 4.628    │ 4.641    │ 4.657    │\n",
       "│ 181 │ Venezuela, RB         │ VEN    │ 6.902    │ 6.601    │ 7.54     │\n",
       "│ 182 │ Vietnam               │ VNM    │ 1.875    │ 1.676    │ 1.977    │\n",
       "│ 183 │ Virgin Islands (U.S.) │ VIR    │ 9.892    │ 10.035   │ 10.271   │\n",
       "│ 184 │ West Bank and Gaza    │ PSE    │ 17.597   │ 19.202   │ 19.894   │\n",
       "│ 185 │ Yemen, Rep.           │ YEM    │ 13.08    │ 13.248   │ 13.424   │\n",
       "│ 186 │ Zambia                │ ZMB    │ 10.343   │ 7.85     │ 8.618    │\n",
       "│ 187 │ Zimbabwe              │ ZWE    │ 5.368    │ 5.381    │ 5.399    │"
      ]
     },
     "execution_count": 11,
     "metadata": {},
     "output_type": "execute_result"
    }
   ],
   "source": [
    "# rename some columns to more suitable names\n",
    "rename!(ue_df, Symbol(\"Country Name\")=>Symbol(\"Country\"), Symbol(\"Country Code\")=>Symbol(\"ISO\"))"
   ]
  },
  {
   "cell_type": "code",
   "execution_count": 12,
   "metadata": {},
   "outputs": [
    {
     "data": {
      "text/html": [
       "<table class=\"data-frame\"><thead><tr><th></th><th>Date_reported</th><th> Country_code</th><th> Country</th><th> WHO_region</th><th> New_cases</th><th> Cumulative_cases</th></tr><tr><th></th><th>Date…</th><th>String</th><th>String</th><th>String</th><th>Int64</th><th>Int64</th></tr></thead><tbody><p>65,218 rows × 8 columns (omitted printing of 2 columns)</p><tr><th>1</th><td>2020-01-03</td><td>AF</td><td>Afghanistan</td><td>EMRO</td><td>0</td><td>0</td></tr><tr><th>2</th><td>2020-01-04</td><td>AF</td><td>Afghanistan</td><td>EMRO</td><td>0</td><td>0</td></tr><tr><th>3</th><td>2020-01-05</td><td>AF</td><td>Afghanistan</td><td>EMRO</td><td>0</td><td>0</td></tr><tr><th>4</th><td>2020-01-06</td><td>AF</td><td>Afghanistan</td><td>EMRO</td><td>0</td><td>0</td></tr><tr><th>5</th><td>2020-01-07</td><td>AF</td><td>Afghanistan</td><td>EMRO</td><td>0</td><td>0</td></tr><tr><th>6</th><td>2020-01-08</td><td>AF</td><td>Afghanistan</td><td>EMRO</td><td>0</td><td>0</td></tr><tr><th>7</th><td>2020-01-09</td><td>AF</td><td>Afghanistan</td><td>EMRO</td><td>0</td><td>0</td></tr><tr><th>8</th><td>2020-01-10</td><td>AF</td><td>Afghanistan</td><td>EMRO</td><td>0</td><td>0</td></tr><tr><th>9</th><td>2020-01-11</td><td>AF</td><td>Afghanistan</td><td>EMRO</td><td>0</td><td>0</td></tr><tr><th>10</th><td>2020-01-12</td><td>AF</td><td>Afghanistan</td><td>EMRO</td><td>0</td><td>0</td></tr><tr><th>11</th><td>2020-01-13</td><td>AF</td><td>Afghanistan</td><td>EMRO</td><td>0</td><td>0</td></tr><tr><th>12</th><td>2020-01-14</td><td>AF</td><td>Afghanistan</td><td>EMRO</td><td>0</td><td>0</td></tr><tr><th>13</th><td>2020-01-15</td><td>AF</td><td>Afghanistan</td><td>EMRO</td><td>0</td><td>0</td></tr><tr><th>14</th><td>2020-01-16</td><td>AF</td><td>Afghanistan</td><td>EMRO</td><td>0</td><td>0</td></tr><tr><th>15</th><td>2020-01-17</td><td>AF</td><td>Afghanistan</td><td>EMRO</td><td>0</td><td>0</td></tr><tr><th>16</th><td>2020-01-18</td><td>AF</td><td>Afghanistan</td><td>EMRO</td><td>0</td><td>0</td></tr><tr><th>17</th><td>2020-01-19</td><td>AF</td><td>Afghanistan</td><td>EMRO</td><td>0</td><td>0</td></tr><tr><th>18</th><td>2020-01-20</td><td>AF</td><td>Afghanistan</td><td>EMRO</td><td>0</td><td>0</td></tr><tr><th>19</th><td>2020-01-21</td><td>AF</td><td>Afghanistan</td><td>EMRO</td><td>0</td><td>0</td></tr><tr><th>20</th><td>2020-01-22</td><td>AF</td><td>Afghanistan</td><td>EMRO</td><td>0</td><td>0</td></tr><tr><th>21</th><td>2020-01-23</td><td>AF</td><td>Afghanistan</td><td>EMRO</td><td>0</td><td>0</td></tr><tr><th>22</th><td>2020-01-24</td><td>AF</td><td>Afghanistan</td><td>EMRO</td><td>0</td><td>0</td></tr><tr><th>23</th><td>2020-01-25</td><td>AF</td><td>Afghanistan</td><td>EMRO</td><td>0</td><td>0</td></tr><tr><th>24</th><td>2020-01-26</td><td>AF</td><td>Afghanistan</td><td>EMRO</td><td>0</td><td>0</td></tr><tr><th>25</th><td>2020-01-27</td><td>AF</td><td>Afghanistan</td><td>EMRO</td><td>0</td><td>0</td></tr><tr><th>26</th><td>2020-01-28</td><td>AF</td><td>Afghanistan</td><td>EMRO</td><td>0</td><td>0</td></tr><tr><th>27</th><td>2020-01-29</td><td>AF</td><td>Afghanistan</td><td>EMRO</td><td>0</td><td>0</td></tr><tr><th>28</th><td>2020-01-30</td><td>AF</td><td>Afghanistan</td><td>EMRO</td><td>0</td><td>0</td></tr><tr><th>29</th><td>2020-01-31</td><td>AF</td><td>Afghanistan</td><td>EMRO</td><td>0</td><td>0</td></tr><tr><th>30</th><td>2020-02-01</td><td>AF</td><td>Afghanistan</td><td>EMRO</td><td>0</td><td>0</td></tr><tr><th>&vellip;</th><td>&vellip;</td><td>&vellip;</td><td>&vellip;</td><td>&vellip;</td><td>&vellip;</td><td>&vellip;</td></tr></tbody></table>"
      ],
      "text/latex": [
       "\\begin{tabular}{r|ccccccc}\n",
       "\t& Date\\_reported &  Country\\_code &  Country &  WHO\\_region &  New\\_cases &  Cumulative\\_cases & \\\\\n",
       "\t\\hline\n",
       "\t& Date… & String & String & String & Int64 & Int64 & \\\\\n",
       "\t\\hline\n",
       "\t1 & 2020-01-03 & AF & Afghanistan & EMRO & 0 & 0 & $\\dots$ \\\\\n",
       "\t2 & 2020-01-04 & AF & Afghanistan & EMRO & 0 & 0 & $\\dots$ \\\\\n",
       "\t3 & 2020-01-05 & AF & Afghanistan & EMRO & 0 & 0 & $\\dots$ \\\\\n",
       "\t4 & 2020-01-06 & AF & Afghanistan & EMRO & 0 & 0 & $\\dots$ \\\\\n",
       "\t5 & 2020-01-07 & AF & Afghanistan & EMRO & 0 & 0 & $\\dots$ \\\\\n",
       "\t6 & 2020-01-08 & AF & Afghanistan & EMRO & 0 & 0 & $\\dots$ \\\\\n",
       "\t7 & 2020-01-09 & AF & Afghanistan & EMRO & 0 & 0 & $\\dots$ \\\\\n",
       "\t8 & 2020-01-10 & AF & Afghanistan & EMRO & 0 & 0 & $\\dots$ \\\\\n",
       "\t9 & 2020-01-11 & AF & Afghanistan & EMRO & 0 & 0 & $\\dots$ \\\\\n",
       "\t10 & 2020-01-12 & AF & Afghanistan & EMRO & 0 & 0 & $\\dots$ \\\\\n",
       "\t11 & 2020-01-13 & AF & Afghanistan & EMRO & 0 & 0 & $\\dots$ \\\\\n",
       "\t12 & 2020-01-14 & AF & Afghanistan & EMRO & 0 & 0 & $\\dots$ \\\\\n",
       "\t13 & 2020-01-15 & AF & Afghanistan & EMRO & 0 & 0 & $\\dots$ \\\\\n",
       "\t14 & 2020-01-16 & AF & Afghanistan & EMRO & 0 & 0 & $\\dots$ \\\\\n",
       "\t15 & 2020-01-17 & AF & Afghanistan & EMRO & 0 & 0 & $\\dots$ \\\\\n",
       "\t16 & 2020-01-18 & AF & Afghanistan & EMRO & 0 & 0 & $\\dots$ \\\\\n",
       "\t17 & 2020-01-19 & AF & Afghanistan & EMRO & 0 & 0 & $\\dots$ \\\\\n",
       "\t18 & 2020-01-20 & AF & Afghanistan & EMRO & 0 & 0 & $\\dots$ \\\\\n",
       "\t19 & 2020-01-21 & AF & Afghanistan & EMRO & 0 & 0 & $\\dots$ \\\\\n",
       "\t20 & 2020-01-22 & AF & Afghanistan & EMRO & 0 & 0 & $\\dots$ \\\\\n",
       "\t21 & 2020-01-23 & AF & Afghanistan & EMRO & 0 & 0 & $\\dots$ \\\\\n",
       "\t22 & 2020-01-24 & AF & Afghanistan & EMRO & 0 & 0 & $\\dots$ \\\\\n",
       "\t23 & 2020-01-25 & AF & Afghanistan & EMRO & 0 & 0 & $\\dots$ \\\\\n",
       "\t24 & 2020-01-26 & AF & Afghanistan & EMRO & 0 & 0 & $\\dots$ \\\\\n",
       "\t25 & 2020-01-27 & AF & Afghanistan & EMRO & 0 & 0 & $\\dots$ \\\\\n",
       "\t26 & 2020-01-28 & AF & Afghanistan & EMRO & 0 & 0 & $\\dots$ \\\\\n",
       "\t27 & 2020-01-29 & AF & Afghanistan & EMRO & 0 & 0 & $\\dots$ \\\\\n",
       "\t28 & 2020-01-30 & AF & Afghanistan & EMRO & 0 & 0 & $\\dots$ \\\\\n",
       "\t29 & 2020-01-31 & AF & Afghanistan & EMRO & 0 & 0 & $\\dots$ \\\\\n",
       "\t30 & 2020-02-01 & AF & Afghanistan & EMRO & 0 & 0 & $\\dots$ \\\\\n",
       "\t$\\dots$ & $\\dots$ & $\\dots$ & $\\dots$ & $\\dots$ & $\\dots$ & $\\dots$ &  \\\\\n",
       "\\end{tabular}\n"
      ],
      "text/plain": [
       "65218×8 DataFrame. Omitted printing of 4 columns\n",
       "│ Row   │ Date_reported │  Country_code │  Country    │  WHO_region │\n",
       "│       │ \u001b[90mDates.Date\u001b[39m    │ \u001b[90mString\u001b[39m        │ \u001b[90mString\u001b[39m      │ \u001b[90mString\u001b[39m      │\n",
       "├───────┼───────────────┼───────────────┼─────────────┼─────────────┤\n",
       "│ 1     │ 2020-01-03    │ AF            │ Afghanistan │ EMRO        │\n",
       "│ 2     │ 2020-01-04    │ AF            │ Afghanistan │ EMRO        │\n",
       "│ 3     │ 2020-01-05    │ AF            │ Afghanistan │ EMRO        │\n",
       "│ 4     │ 2020-01-06    │ AF            │ Afghanistan │ EMRO        │\n",
       "│ 5     │ 2020-01-07    │ AF            │ Afghanistan │ EMRO        │\n",
       "│ 6     │ 2020-01-08    │ AF            │ Afghanistan │ EMRO        │\n",
       "│ 7     │ 2020-01-09    │ AF            │ Afghanistan │ EMRO        │\n",
       "│ 8     │ 2020-01-10    │ AF            │ Afghanistan │ EMRO        │\n",
       "│ 9     │ 2020-01-11    │ AF            │ Afghanistan │ EMRO        │\n",
       "│ 10    │ 2020-01-12    │ AF            │ Afghanistan │ EMRO        │\n",
       "⋮\n",
       "│ 65208 │ 2020-09-25    │ ZW            │ Zimbabwe    │ AFRO        │\n",
       "│ 65209 │ 2020-09-26    │ ZW            │ Zimbabwe    │ AFRO        │\n",
       "│ 65210 │ 2020-09-27    │ ZW            │ Zimbabwe    │ AFRO        │\n",
       "│ 65211 │ 2020-09-28    │ ZW            │ Zimbabwe    │ AFRO        │\n",
       "│ 65212 │ 2020-09-29    │ ZW            │ Zimbabwe    │ AFRO        │\n",
       "│ 65213 │ 2020-09-30    │ ZW            │ Zimbabwe    │ AFRO        │\n",
       "│ 65214 │ 2020-10-01    │ ZW            │ Zimbabwe    │ AFRO        │\n",
       "│ 65215 │ 2020-10-02    │ ZW            │ Zimbabwe    │ AFRO        │\n",
       "│ 65216 │ 2020-10-03    │ ZW            │ Zimbabwe    │ AFRO        │\n",
       "│ 65217 │ 2020-10-04    │ ZW            │ Zimbabwe    │ AFRO        │\n",
       "│ 65218 │ 2020-10-05    │ ZW            │ Zimbabwe    │ AFRO        │"
      ]
     },
     "execution_count": 12,
     "metadata": {},
     "output_type": "execute_result"
    }
   ],
   "source": [
    "# read Covid-19 CSV\n",
    "covid_df = CSV.read(\"WHO-COVID-19-global-data.csv\") |>\n",
    "  DataFrame"
   ]
  },
  {
   "cell_type": "code",
   "execution_count": 13,
   "metadata": {},
   "outputs": [
    {
     "data": {
      "text/html": [
       "<table class=\"data-frame\"><thead><tr><th></th><th>Date</th><th> Country_code</th><th>Country</th><th>WHO_region</th><th> New_cases</th><th> Cumulative_cases</th></tr><tr><th></th><th>Date…</th><th>String</th><th>String</th><th>String</th><th>Int64</th><th>Int64</th></tr></thead><tbody><p>65,218 rows × 8 columns (omitted printing of 2 columns)</p><tr><th>1</th><td>2020-01-03</td><td>AF</td><td>Afghanistan</td><td>EMRO</td><td>0</td><td>0</td></tr><tr><th>2</th><td>2020-01-04</td><td>AF</td><td>Afghanistan</td><td>EMRO</td><td>0</td><td>0</td></tr><tr><th>3</th><td>2020-01-05</td><td>AF</td><td>Afghanistan</td><td>EMRO</td><td>0</td><td>0</td></tr><tr><th>4</th><td>2020-01-06</td><td>AF</td><td>Afghanistan</td><td>EMRO</td><td>0</td><td>0</td></tr><tr><th>5</th><td>2020-01-07</td><td>AF</td><td>Afghanistan</td><td>EMRO</td><td>0</td><td>0</td></tr><tr><th>6</th><td>2020-01-08</td><td>AF</td><td>Afghanistan</td><td>EMRO</td><td>0</td><td>0</td></tr><tr><th>7</th><td>2020-01-09</td><td>AF</td><td>Afghanistan</td><td>EMRO</td><td>0</td><td>0</td></tr><tr><th>8</th><td>2020-01-10</td><td>AF</td><td>Afghanistan</td><td>EMRO</td><td>0</td><td>0</td></tr><tr><th>9</th><td>2020-01-11</td><td>AF</td><td>Afghanistan</td><td>EMRO</td><td>0</td><td>0</td></tr><tr><th>10</th><td>2020-01-12</td><td>AF</td><td>Afghanistan</td><td>EMRO</td><td>0</td><td>0</td></tr><tr><th>11</th><td>2020-01-13</td><td>AF</td><td>Afghanistan</td><td>EMRO</td><td>0</td><td>0</td></tr><tr><th>12</th><td>2020-01-14</td><td>AF</td><td>Afghanistan</td><td>EMRO</td><td>0</td><td>0</td></tr><tr><th>13</th><td>2020-01-15</td><td>AF</td><td>Afghanistan</td><td>EMRO</td><td>0</td><td>0</td></tr><tr><th>14</th><td>2020-01-16</td><td>AF</td><td>Afghanistan</td><td>EMRO</td><td>0</td><td>0</td></tr><tr><th>15</th><td>2020-01-17</td><td>AF</td><td>Afghanistan</td><td>EMRO</td><td>0</td><td>0</td></tr><tr><th>16</th><td>2020-01-18</td><td>AF</td><td>Afghanistan</td><td>EMRO</td><td>0</td><td>0</td></tr><tr><th>17</th><td>2020-01-19</td><td>AF</td><td>Afghanistan</td><td>EMRO</td><td>0</td><td>0</td></tr><tr><th>18</th><td>2020-01-20</td><td>AF</td><td>Afghanistan</td><td>EMRO</td><td>0</td><td>0</td></tr><tr><th>19</th><td>2020-01-21</td><td>AF</td><td>Afghanistan</td><td>EMRO</td><td>0</td><td>0</td></tr><tr><th>20</th><td>2020-01-22</td><td>AF</td><td>Afghanistan</td><td>EMRO</td><td>0</td><td>0</td></tr><tr><th>21</th><td>2020-01-23</td><td>AF</td><td>Afghanistan</td><td>EMRO</td><td>0</td><td>0</td></tr><tr><th>22</th><td>2020-01-24</td><td>AF</td><td>Afghanistan</td><td>EMRO</td><td>0</td><td>0</td></tr><tr><th>23</th><td>2020-01-25</td><td>AF</td><td>Afghanistan</td><td>EMRO</td><td>0</td><td>0</td></tr><tr><th>24</th><td>2020-01-26</td><td>AF</td><td>Afghanistan</td><td>EMRO</td><td>0</td><td>0</td></tr><tr><th>25</th><td>2020-01-27</td><td>AF</td><td>Afghanistan</td><td>EMRO</td><td>0</td><td>0</td></tr><tr><th>26</th><td>2020-01-28</td><td>AF</td><td>Afghanistan</td><td>EMRO</td><td>0</td><td>0</td></tr><tr><th>27</th><td>2020-01-29</td><td>AF</td><td>Afghanistan</td><td>EMRO</td><td>0</td><td>0</td></tr><tr><th>28</th><td>2020-01-30</td><td>AF</td><td>Afghanistan</td><td>EMRO</td><td>0</td><td>0</td></tr><tr><th>29</th><td>2020-01-31</td><td>AF</td><td>Afghanistan</td><td>EMRO</td><td>0</td><td>0</td></tr><tr><th>30</th><td>2020-02-01</td><td>AF</td><td>Afghanistan</td><td>EMRO</td><td>0</td><td>0</td></tr><tr><th>&vellip;</th><td>&vellip;</td><td>&vellip;</td><td>&vellip;</td><td>&vellip;</td><td>&vellip;</td><td>&vellip;</td></tr></tbody></table>"
      ],
      "text/latex": [
       "\\begin{tabular}{r|ccccccc}\n",
       "\t& Date &  Country\\_code & Country & WHO\\_region &  New\\_cases &  Cumulative\\_cases & \\\\\n",
       "\t\\hline\n",
       "\t& Date… & String & String & String & Int64 & Int64 & \\\\\n",
       "\t\\hline\n",
       "\t1 & 2020-01-03 & AF & Afghanistan & EMRO & 0 & 0 & $\\dots$ \\\\\n",
       "\t2 & 2020-01-04 & AF & Afghanistan & EMRO & 0 & 0 & $\\dots$ \\\\\n",
       "\t3 & 2020-01-05 & AF & Afghanistan & EMRO & 0 & 0 & $\\dots$ \\\\\n",
       "\t4 & 2020-01-06 & AF & Afghanistan & EMRO & 0 & 0 & $\\dots$ \\\\\n",
       "\t5 & 2020-01-07 & AF & Afghanistan & EMRO & 0 & 0 & $\\dots$ \\\\\n",
       "\t6 & 2020-01-08 & AF & Afghanistan & EMRO & 0 & 0 & $\\dots$ \\\\\n",
       "\t7 & 2020-01-09 & AF & Afghanistan & EMRO & 0 & 0 & $\\dots$ \\\\\n",
       "\t8 & 2020-01-10 & AF & Afghanistan & EMRO & 0 & 0 & $\\dots$ \\\\\n",
       "\t9 & 2020-01-11 & AF & Afghanistan & EMRO & 0 & 0 & $\\dots$ \\\\\n",
       "\t10 & 2020-01-12 & AF & Afghanistan & EMRO & 0 & 0 & $\\dots$ \\\\\n",
       "\t11 & 2020-01-13 & AF & Afghanistan & EMRO & 0 & 0 & $\\dots$ \\\\\n",
       "\t12 & 2020-01-14 & AF & Afghanistan & EMRO & 0 & 0 & $\\dots$ \\\\\n",
       "\t13 & 2020-01-15 & AF & Afghanistan & EMRO & 0 & 0 & $\\dots$ \\\\\n",
       "\t14 & 2020-01-16 & AF & Afghanistan & EMRO & 0 & 0 & $\\dots$ \\\\\n",
       "\t15 & 2020-01-17 & AF & Afghanistan & EMRO & 0 & 0 & $\\dots$ \\\\\n",
       "\t16 & 2020-01-18 & AF & Afghanistan & EMRO & 0 & 0 & $\\dots$ \\\\\n",
       "\t17 & 2020-01-19 & AF & Afghanistan & EMRO & 0 & 0 & $\\dots$ \\\\\n",
       "\t18 & 2020-01-20 & AF & Afghanistan & EMRO & 0 & 0 & $\\dots$ \\\\\n",
       "\t19 & 2020-01-21 & AF & Afghanistan & EMRO & 0 & 0 & $\\dots$ \\\\\n",
       "\t20 & 2020-01-22 & AF & Afghanistan & EMRO & 0 & 0 & $\\dots$ \\\\\n",
       "\t21 & 2020-01-23 & AF & Afghanistan & EMRO & 0 & 0 & $\\dots$ \\\\\n",
       "\t22 & 2020-01-24 & AF & Afghanistan & EMRO & 0 & 0 & $\\dots$ \\\\\n",
       "\t23 & 2020-01-25 & AF & Afghanistan & EMRO & 0 & 0 & $\\dots$ \\\\\n",
       "\t24 & 2020-01-26 & AF & Afghanistan & EMRO & 0 & 0 & $\\dots$ \\\\\n",
       "\t25 & 2020-01-27 & AF & Afghanistan & EMRO & 0 & 0 & $\\dots$ \\\\\n",
       "\t26 & 2020-01-28 & AF & Afghanistan & EMRO & 0 & 0 & $\\dots$ \\\\\n",
       "\t27 & 2020-01-29 & AF & Afghanistan & EMRO & 0 & 0 & $\\dots$ \\\\\n",
       "\t28 & 2020-01-30 & AF & Afghanistan & EMRO & 0 & 0 & $\\dots$ \\\\\n",
       "\t29 & 2020-01-31 & AF & Afghanistan & EMRO & 0 & 0 & $\\dots$ \\\\\n",
       "\t30 & 2020-02-01 & AF & Afghanistan & EMRO & 0 & 0 & $\\dots$ \\\\\n",
       "\t$\\dots$ & $\\dots$ & $\\dots$ & $\\dots$ & $\\dots$ & $\\dots$ & $\\dots$ &  \\\\\n",
       "\\end{tabular}\n"
      ],
      "text/plain": [
       "65218×8 DataFrame. Omitted printing of 3 columns\n",
       "│ Row   │ Date       │  Country_code │ Country     │ WHO_region │  New_cases │\n",
       "│       │ \u001b[90mDates.Date\u001b[39m │ \u001b[90mString\u001b[39m        │ \u001b[90mString\u001b[39m      │ \u001b[90mString\u001b[39m     │ \u001b[90mInt64\u001b[39m      │\n",
       "├───────┼────────────┼───────────────┼─────────────┼────────────┼────────────┤\n",
       "│ 1     │ 2020-01-03 │ AF            │ Afghanistan │ EMRO       │ 0          │\n",
       "│ 2     │ 2020-01-04 │ AF            │ Afghanistan │ EMRO       │ 0          │\n",
       "│ 3     │ 2020-01-05 │ AF            │ Afghanistan │ EMRO       │ 0          │\n",
       "│ 4     │ 2020-01-06 │ AF            │ Afghanistan │ EMRO       │ 0          │\n",
       "│ 5     │ 2020-01-07 │ AF            │ Afghanistan │ EMRO       │ 0          │\n",
       "│ 6     │ 2020-01-08 │ AF            │ Afghanistan │ EMRO       │ 0          │\n",
       "│ 7     │ 2020-01-09 │ AF            │ Afghanistan │ EMRO       │ 0          │\n",
       "│ 8     │ 2020-01-10 │ AF            │ Afghanistan │ EMRO       │ 0          │\n",
       "│ 9     │ 2020-01-11 │ AF            │ Afghanistan │ EMRO       │ 0          │\n",
       "│ 10    │ 2020-01-12 │ AF            │ Afghanistan │ EMRO       │ 0          │\n",
       "⋮\n",
       "│ 65208 │ 2020-09-25 │ ZW            │ Zimbabwe    │ AFRO       │ 0          │\n",
       "│ 65209 │ 2020-09-26 │ ZW            │ Zimbabwe    │ AFRO       │ 62         │\n",
       "│ 65210 │ 2020-09-27 │ ZW            │ Zimbabwe    │ AFRO       │ 16         │\n",
       "│ 65211 │ 2020-09-28 │ ZW            │ Zimbabwe    │ AFRO       │ 9          │\n",
       "│ 65212 │ 2020-09-29 │ ZW            │ Zimbabwe    │ AFRO       │ 4          │\n",
       "│ 65213 │ 2020-09-30 │ ZW            │ Zimbabwe    │ AFRO       │ 21         │\n",
       "│ 65214 │ 2020-10-01 │ ZW            │ Zimbabwe    │ AFRO       │ 1          │\n",
       "│ 65215 │ 2020-10-02 │ ZW            │ Zimbabwe    │ AFRO       │ 12         │\n",
       "│ 65216 │ 2020-10-03 │ ZW            │ Zimbabwe    │ AFRO       │ 8          │\n",
       "│ 65217 │ 2020-10-04 │ ZW            │ Zimbabwe    │ AFRO       │ 0          │\n",
       "│ 65218 │ 2020-10-05 │ ZW            │ Zimbabwe    │ AFRO       │ 30         │"
      ]
     },
     "execution_count": 13,
     "metadata": {},
     "output_type": "execute_result"
    }
   ],
   "source": [
    "# rename the columns with more suitable names\n",
    "rename!(covid_df, Symbol(\"Date_reported\")=>Symbol(\"Date\"), Symbol(\" Country\")=>Symbol(\"Country\"), \n",
    "    Symbol(\" WHO_region\")=>Symbol(\"WHO_region\"))"
   ]
  },
  {
   "cell_type": "code",
   "execution_count": 14,
   "metadata": {},
   "outputs": [
    {
     "data": {
      "text/html": [
       "<table class=\"data-frame\"><thead><tr><th></th><th>Country</th><th>WHO_region</th></tr><tr><th></th><th>String</th><th>String</th></tr></thead><tbody><p>235 rows × 2 columns</p><tr><th>1</th><td>Afghanistan</td><td>EMRO</td></tr><tr><th>2</th><td>Albania</td><td>EURO</td></tr><tr><th>3</th><td>Algeria</td><td>AFRO</td></tr><tr><th>4</th><td>American Samoa</td><td>WPRO</td></tr><tr><th>5</th><td>Andorra</td><td>EURO</td></tr><tr><th>6</th><td>Angola</td><td>AFRO</td></tr><tr><th>7</th><td>Anguilla</td><td>AMRO</td></tr><tr><th>8</th><td>Antigua and Barbuda</td><td>AMRO</td></tr><tr><th>9</th><td>Argentina</td><td>AMRO</td></tr><tr><th>10</th><td>Armenia</td><td>EURO</td></tr><tr><th>11</th><td>Aruba</td><td>AMRO</td></tr><tr><th>12</th><td>Australia</td><td>WPRO</td></tr><tr><th>13</th><td>Austria</td><td>EURO</td></tr><tr><th>14</th><td>Azerbaijan</td><td>EURO</td></tr><tr><th>15</th><td>Bahamas</td><td>AMRO</td></tr><tr><th>16</th><td>Bahrain</td><td>EMRO</td></tr><tr><th>17</th><td>Bangladesh</td><td>SEARO</td></tr><tr><th>18</th><td>Barbados</td><td>AMRO</td></tr><tr><th>19</th><td>Belarus</td><td>EURO</td></tr><tr><th>20</th><td>Belgium</td><td>EURO</td></tr><tr><th>21</th><td>Belize</td><td>AMRO</td></tr><tr><th>22</th><td>Benin</td><td>AFRO</td></tr><tr><th>23</th><td>Bermuda</td><td>AMRO</td></tr><tr><th>24</th><td>Bhutan</td><td>SEARO</td></tr><tr><th>25</th><td>Bolivia (Plurinational State of)</td><td>AMRO</td></tr><tr><th>26</th><td>Bonaire, Sint Eustatius and Saba</td><td>AMRO</td></tr><tr><th>27</th><td>Bosnia and Herzegovina</td><td>EURO</td></tr><tr><th>28</th><td>Botswana</td><td>AFRO</td></tr><tr><th>29</th><td>Brazil</td><td>AMRO</td></tr><tr><th>30</th><td>British Virgin Islands</td><td>AMRO</td></tr><tr><th>&vellip;</th><td>&vellip;</td><td>&vellip;</td></tr></tbody></table>"
      ],
      "text/latex": [
       "\\begin{tabular}{r|cc}\n",
       "\t& Country & WHO\\_region\\\\\n",
       "\t\\hline\n",
       "\t& String & String\\\\\n",
       "\t\\hline\n",
       "\t1 & Afghanistan & EMRO \\\\\n",
       "\t2 & Albania & EURO \\\\\n",
       "\t3 & Algeria & AFRO \\\\\n",
       "\t4 & American Samoa & WPRO \\\\\n",
       "\t5 & Andorra & EURO \\\\\n",
       "\t6 & Angola & AFRO \\\\\n",
       "\t7 & Anguilla & AMRO \\\\\n",
       "\t8 & Antigua and Barbuda & AMRO \\\\\n",
       "\t9 & Argentina & AMRO \\\\\n",
       "\t10 & Armenia & EURO \\\\\n",
       "\t11 & Aruba & AMRO \\\\\n",
       "\t12 & Australia & WPRO \\\\\n",
       "\t13 & Austria & EURO \\\\\n",
       "\t14 & Azerbaijan & EURO \\\\\n",
       "\t15 & Bahamas & AMRO \\\\\n",
       "\t16 & Bahrain & EMRO \\\\\n",
       "\t17 & Bangladesh & SEARO \\\\\n",
       "\t18 & Barbados & AMRO \\\\\n",
       "\t19 & Belarus & EURO \\\\\n",
       "\t20 & Belgium & EURO \\\\\n",
       "\t21 & Belize & AMRO \\\\\n",
       "\t22 & Benin & AFRO \\\\\n",
       "\t23 & Bermuda & AMRO \\\\\n",
       "\t24 & Bhutan & SEARO \\\\\n",
       "\t25 & Bolivia (Plurinational State of) & AMRO \\\\\n",
       "\t26 & Bonaire, Sint Eustatius and Saba & AMRO \\\\\n",
       "\t27 & Bosnia and Herzegovina & EURO \\\\\n",
       "\t28 & Botswana & AFRO \\\\\n",
       "\t29 & Brazil & AMRO \\\\\n",
       "\t30 & British Virgin Islands & AMRO \\\\\n",
       "\t$\\dots$ & $\\dots$ & $\\dots$ \\\\\n",
       "\\end{tabular}\n"
      ],
      "text/plain": [
       "235×2 DataFrame\n",
       "│ Row │ Country                            │ WHO_region │\n",
       "│     │ \u001b[90mString\u001b[39m                             │ \u001b[90mString\u001b[39m     │\n",
       "├─────┼────────────────────────────────────┼────────────┤\n",
       "│ 1   │ Afghanistan                        │ EMRO       │\n",
       "│ 2   │ Albania                            │ EURO       │\n",
       "│ 3   │ Algeria                            │ AFRO       │\n",
       "│ 4   │ American Samoa                     │ WPRO       │\n",
       "│ 5   │ Andorra                            │ EURO       │\n",
       "│ 6   │ Angola                             │ AFRO       │\n",
       "│ 7   │ Anguilla                           │ AMRO       │\n",
       "│ 8   │ Antigua and Barbuda                │ AMRO       │\n",
       "│ 9   │ Argentina                          │ AMRO       │\n",
       "│ 10  │ Armenia                            │ EURO       │\n",
       "⋮\n",
       "│ 225 │ United States of America           │ AMRO       │\n",
       "│ 226 │ United States Virgin Islands       │ AMRO       │\n",
       "│ 227 │ Uruguay                            │ AMRO       │\n",
       "│ 228 │ Uzbekistan                         │ EURO       │\n",
       "│ 229 │ Vanuatu                            │ WPRO       │\n",
       "│ 230 │ Venezuela (Bolivarian Republic of) │ AMRO       │\n",
       "│ 231 │ Viet Nam                           │ WPRO       │\n",
       "│ 232 │ Wallis and Futuna                  │ WPRO       │\n",
       "│ 233 │ Yemen                              │ EMRO       │\n",
       "│ 234 │ Zambia                             │ AFRO       │\n",
       "│ 235 │ Zimbabwe                           │ AFRO       │"
      ]
     },
     "execution_count": 14,
     "metadata": {},
     "output_type": "execute_result"
    }
   ],
   "source": [
    "# we only need the WHO regions information with corresponding countries from this table\n",
    "area_df = by(DataFrame(covid_df[:,[3, 4]]), :Country) do group\n",
    "    DataFrame(WHO_region = group[!, :WHO_region][1])\n",
    "end"
   ]
  },
  {
   "cell_type": "code",
   "execution_count": 15,
   "metadata": {},
   "outputs": [
    {
     "data": {
      "text/plain": [
       "translate_region (generic function with 1 method)"
      ]
     },
     "execution_count": 15,
     "metadata": {},
     "output_type": "execute_result"
    }
   ],
   "source": [
    "# ceate a function to translate WHO region names\n",
    "function translate_region(region)\n",
    "    if region == \"AMRO\"\n",
    "        region = \"Americas\"\n",
    "    elseif region == \"SEARO\"\n",
    "        region = \"South-East Asia\"\n",
    "    elseif region == \"EURO\"\n",
    "        region = \"European\"\n",
    "    elseif region == \"AFRO\"\n",
    "        region = \"African\"\n",
    "    elseif region == \"WPRO\"\n",
    "        region = \"Western Pacific\" \n",
    "    elseif region == \"EMRO\"\n",
    "        region = \"Eastern Mediterranean\" \n",
    "    else\n",
    "        region = region\n",
    "    end\n",
    "end"
   ]
  },
  {
   "cell_type": "code",
   "execution_count": 16,
   "metadata": {},
   "outputs": [
    {
     "data": {
      "text/plain": [
       "235-element Array{String,1}:\n",
       " \"Eastern Mediterranean\"\n",
       " \"European\"\n",
       " \"African\"\n",
       " \"Western Pacific\"\n",
       " \"European\"\n",
       " \"African\"\n",
       " \"Americas\"\n",
       " \"Americas\"\n",
       " \"Americas\"\n",
       " \"European\"\n",
       " \"Americas\"\n",
       " \"Western Pacific\"\n",
       " \"European\"\n",
       " ⋮\n",
       " \"African\"\n",
       " \"Americas\"\n",
       " \"Americas\"\n",
       " \"Americas\"\n",
       " \"European\"\n",
       " \"Western Pacific\"\n",
       " \"Americas\"\n",
       " \"Western Pacific\"\n",
       " \"Western Pacific\"\n",
       " \"Eastern Mediterranean\"\n",
       " \"African\"\n",
       " \"African\""
      ]
     },
     "execution_count": 16,
     "metadata": {},
     "output_type": "execute_result"
    }
   ],
   "source": [
    "# apply the translate function\n",
    "area_df.WHO_region = map(translate_region, area_df.WHO_region)"
   ]
  },
  {
   "cell_type": "code",
   "execution_count": 17,
   "metadata": {},
   "outputs": [
    {
     "data": {
      "text/html": [
       "<table class=\"data-frame\"><thead><tr><th></th><th>Country</th><th>ISO</th><th>2011</th><th>2012</th><th>2013</th><th>2014</th><th>2015</th></tr><tr><th></th><th>String</th><th>String?</th><th>Float64?</th><th>Float64?</th><th>Float64?</th><th>Float64?</th><th>Float64?</th></tr></thead><tbody><p>263 rows × 13 columns (omitted printing of 6 columns)</p><tr><th>1</th><td>Afghanistan</td><td>AFG</td><td>11.488</td><td>11.508</td><td>11.534</td><td>11.448</td><td>11.387</td></tr><tr><th>2</th><td>Albania</td><td>ALB</td><td>13.481</td><td>13.376</td><td>15.866</td><td>17.49</td><td>17.08</td></tr><tr><th>3</th><td>Algeria</td><td>DZA</td><td>9.96</td><td>10.97</td><td>9.82</td><td>10.207</td><td>11.206</td></tr><tr><th>4</th><td>Angola</td><td>AGO</td><td>7.362</td><td>7.379</td><td>7.4</td><td>7.331</td><td>7.282</td></tr><tr><th>5</th><td>Argentina</td><td>ARG</td><td>7.18</td><td>7.217</td><td>7.1</td><td>7.268</td><td>7.75</td></tr><tr><th>6</th><td>Armenia</td><td>ARM</td><td>18.443</td><td>17.301</td><td>16.179</td><td>17.498</td><td>18.261</td></tr><tr><th>7</th><td>Australia</td><td>AUS</td><td>5.081</td><td>5.224</td><td>5.662</td><td>6.077</td><td>6.054</td></tr><tr><th>8</th><td>Austria</td><td>AUT</td><td>4.564</td><td>4.865</td><td>5.335</td><td>5.62</td><td>5.723</td></tr><tr><th>9</th><td>Azerbaijan</td><td>AZE</td><td>5.42</td><td>5.19</td><td>4.97</td><td>4.91</td><td>4.96</td></tr><tr><th>10</th><td>Bahamas, The</td><td>BHS</td><td>14.52</td><td>14.02</td><td>16.18</td><td>13.8</td><td>12.0</td></tr><tr><th>11</th><td>Bahrain</td><td>BHR</td><td>1.274</td><td>1.2</td><td>1.323</td><td>1.17</td><td>1.13</td></tr><tr><th>12</th><td>Bangladesh</td><td>BGD</td><td>3.705</td><td>4.055</td><td>4.426</td><td>4.395</td><td>4.378</td></tr><tr><th>13</th><td>Barbados</td><td>BRB</td><td>11.19</td><td>11.59</td><td>11.55</td><td>12.17</td><td>11.35</td></tr><tr><th>14</th><td>Belarus</td><td>BLR</td><td>6.098</td><td>6.078</td><td>6.063</td><td>5.981</td><td>5.914</td></tr><tr><th>15</th><td>Belgium</td><td>BEL</td><td>7.14</td><td>7.542</td><td>8.425</td><td>8.523</td><td>8.482</td></tr><tr><th>16</th><td>Belize</td><td>BLZ</td><td>8.426</td><td>8.385</td><td>8.349</td><td>8.244</td><td>7.578</td></tr><tr><th>17</th><td>Benin</td><td>BEN</td><td>2.646</td><td>2.66</td><td>2.677</td><td>2.621</td><td>2.582</td></tr><tr><th>18</th><td>Bhutan</td><td>BTN</td><td>3.23</td><td>2.05</td><td>2.87</td><td>2.63</td><td>2.45</td></tr><tr><th>19</th><td>Bolivia</td><td>BOL</td><td>2.219</td><td>2.048</td><td>2.394</td><td>2.007</td><td>3.066</td></tr><tr><th>20</th><td>Bosnia and Herzegovina</td><td>BIH</td><td>27.582</td><td>28.01</td><td>27.45</td><td>27.517</td><td>27.694</td></tr><tr><th>21</th><td>Botswana</td><td>BWA</td><td>17.865</td><td>17.889</td><td>17.921</td><td>17.819</td><td>17.747</td></tr><tr><th>22</th><td>Brazil</td><td>BRA</td><td>6.917</td><td>7.186</td><td>6.976</td><td>6.661</td><td>8.427</td></tr><tr><th>23</th><td>Brunei Darussalam</td><td>BRN</td><td>6.694</td><td>6.905</td><td>7.126</td><td>6.965</td><td>7.914</td></tr><tr><th>24</th><td>Bulgaria</td><td>BGR</td><td>11.26</td><td>12.27</td><td>12.941</td><td>11.424</td><td>9.143</td></tr><tr><th>25</th><td>Burkina Faso</td><td>BFA</td><td>5.143</td><td>5.601</td><td>6.087</td><td>6.479</td><td>6.418</td></tr><tr><th>26</th><td>Burundi</td><td>BDI</td><td>1.715</td><td>1.678</td><td>1.644</td><td>1.572</td><td>1.552</td></tr><tr><th>27</th><td>Cabo Verde</td><td>CPV</td><td>10.935</td><td>11.218</td><td>11.511</td><td>11.698</td><td>11.909</td></tr><tr><th>28</th><td>Cambodia</td><td>KHM</td><td>0.577</td><td>0.505</td><td>0.438</td><td>0.692</td><td>0.393</td></tr><tr><th>29</th><td>Cameroon</td><td>CMR</td><td>3.969</td><td>3.837</td><td>3.711</td><td>3.534</td><td>3.506</td></tr><tr><th>30</th><td>Canada</td><td>CAN</td><td>7.511</td><td>7.292</td><td>7.074</td><td>6.914</td><td>6.906</td></tr><tr><th>&vellip;</th><td>&vellip;</td><td>&vellip;</td><td>&vellip;</td><td>&vellip;</td><td>&vellip;</td><td>&vellip;</td><td>&vellip;</td></tr></tbody></table>"
      ],
      "text/latex": [
       "\\begin{tabular}{r|cccccccc}\n",
       "\t& Country & ISO & 2011 & 2012 & 2013 & 2014 & 2015 & \\\\\n",
       "\t\\hline\n",
       "\t& String & String? & Float64? & Float64? & Float64? & Float64? & Float64? & \\\\\n",
       "\t\\hline\n",
       "\t1 & Afghanistan & AFG & 11.488 & 11.508 & 11.534 & 11.448 & 11.387 & $\\dots$ \\\\\n",
       "\t2 & Albania & ALB & 13.481 & 13.376 & 15.866 & 17.49 & 17.08 & $\\dots$ \\\\\n",
       "\t3 & Algeria & DZA & 9.96 & 10.97 & 9.82 & 10.207 & 11.206 & $\\dots$ \\\\\n",
       "\t4 & Angola & AGO & 7.362 & 7.379 & 7.4 & 7.331 & 7.282 & $\\dots$ \\\\\n",
       "\t5 & Argentina & ARG & 7.18 & 7.217 & 7.1 & 7.268 & 7.75 & $\\dots$ \\\\\n",
       "\t6 & Armenia & ARM & 18.443 & 17.301 & 16.179 & 17.498 & 18.261 & $\\dots$ \\\\\n",
       "\t7 & Australia & AUS & 5.081 & 5.224 & 5.662 & 6.077 & 6.054 & $\\dots$ \\\\\n",
       "\t8 & Austria & AUT & 4.564 & 4.865 & 5.335 & 5.62 & 5.723 & $\\dots$ \\\\\n",
       "\t9 & Azerbaijan & AZE & 5.42 & 5.19 & 4.97 & 4.91 & 4.96 & $\\dots$ \\\\\n",
       "\t10 & Bahamas, The & BHS & 14.52 & 14.02 & 16.18 & 13.8 & 12.0 & $\\dots$ \\\\\n",
       "\t11 & Bahrain & BHR & 1.274 & 1.2 & 1.323 & 1.17 & 1.13 & $\\dots$ \\\\\n",
       "\t12 & Bangladesh & BGD & 3.705 & 4.055 & 4.426 & 4.395 & 4.378 & $\\dots$ \\\\\n",
       "\t13 & Barbados & BRB & 11.19 & 11.59 & 11.55 & 12.17 & 11.35 & $\\dots$ \\\\\n",
       "\t14 & Belarus & BLR & 6.098 & 6.078 & 6.063 & 5.981 & 5.914 & $\\dots$ \\\\\n",
       "\t15 & Belgium & BEL & 7.14 & 7.542 & 8.425 & 8.523 & 8.482 & $\\dots$ \\\\\n",
       "\t16 & Belize & BLZ & 8.426 & 8.385 & 8.349 & 8.244 & 7.578 & $\\dots$ \\\\\n",
       "\t17 & Benin & BEN & 2.646 & 2.66 & 2.677 & 2.621 & 2.582 & $\\dots$ \\\\\n",
       "\t18 & Bhutan & BTN & 3.23 & 2.05 & 2.87 & 2.63 & 2.45 & $\\dots$ \\\\\n",
       "\t19 & Bolivia & BOL & 2.219 & 2.048 & 2.394 & 2.007 & 3.066 & $\\dots$ \\\\\n",
       "\t20 & Bosnia and Herzegovina & BIH & 27.582 & 28.01 & 27.45 & 27.517 & 27.694 & $\\dots$ \\\\\n",
       "\t21 & Botswana & BWA & 17.865 & 17.889 & 17.921 & 17.819 & 17.747 & $\\dots$ \\\\\n",
       "\t22 & Brazil & BRA & 6.917 & 7.186 & 6.976 & 6.661 & 8.427 & $\\dots$ \\\\\n",
       "\t23 & Brunei Darussalam & BRN & 6.694 & 6.905 & 7.126 & 6.965 & 7.914 & $\\dots$ \\\\\n",
       "\t24 & Bulgaria & BGR & 11.26 & 12.27 & 12.941 & 11.424 & 9.143 & $\\dots$ \\\\\n",
       "\t25 & Burkina Faso & BFA & 5.143 & 5.601 & 6.087 & 6.479 & 6.418 & $\\dots$ \\\\\n",
       "\t26 & Burundi & BDI & 1.715 & 1.678 & 1.644 & 1.572 & 1.552 & $\\dots$ \\\\\n",
       "\t27 & Cabo Verde & CPV & 10.935 & 11.218 & 11.511 & 11.698 & 11.909 & $\\dots$ \\\\\n",
       "\t28 & Cambodia & KHM & 0.577 & 0.505 & 0.438 & 0.692 & 0.393 & $\\dots$ \\\\\n",
       "\t29 & Cameroon & CMR & 3.969 & 3.837 & 3.711 & 3.534 & 3.506 & $\\dots$ \\\\\n",
       "\t30 & Canada & CAN & 7.511 & 7.292 & 7.074 & 6.914 & 6.906 & $\\dots$ \\\\\n",
       "\t$\\dots$ & $\\dots$ & $\\dots$ & $\\dots$ & $\\dots$ & $\\dots$ & $\\dots$ & $\\dots$ &  \\\\\n",
       "\\end{tabular}\n"
      ],
      "text/plain": [
       "263×13 DataFrame. Omitted printing of 9 columns\n",
       "│ Row │ Country                            │ ISO     │ 2011     │ 2012     │\n",
       "│     │ \u001b[90mString\u001b[39m                             │ \u001b[90mString?\u001b[39m │ \u001b[90mFloat64?\u001b[39m │ \u001b[90mFloat64?\u001b[39m │\n",
       "├─────┼────────────────────────────────────┼─────────┼──────────┼──────────┤\n",
       "│ 1   │ Afghanistan                        │ AFG     │ 11.488   │ 11.508   │\n",
       "│ 2   │ Albania                            │ ALB     │ 13.481   │ 13.376   │\n",
       "│ 3   │ Algeria                            │ DZA     │ 9.96     │ 10.97    │\n",
       "│ 4   │ Angola                             │ AGO     │ 7.362    │ 7.379    │\n",
       "│ 5   │ Argentina                          │ ARG     │ 7.18     │ 7.217    │\n",
       "│ 6   │ Armenia                            │ ARM     │ 18.443   │ 17.301   │\n",
       "│ 7   │ Australia                          │ AUS     │ 5.081    │ 5.224    │\n",
       "│ 8   │ Austria                            │ AUT     │ 4.564    │ 4.865    │\n",
       "│ 9   │ Azerbaijan                         │ AZE     │ 5.42     │ 5.19     │\n",
       "│ 10  │ Bahamas, The                       │ BHS     │ 14.52    │ 14.02    │\n",
       "⋮\n",
       "│ 253 │ The United Kingdom                 │ \u001b[90mmissing\u001b[39m │ \u001b[90mmissing\u001b[39m  │ \u001b[90mmissing\u001b[39m  │\n",
       "│ 254 │ Tokelau                            │ \u001b[90mmissing\u001b[39m │ \u001b[90mmissing\u001b[39m  │ \u001b[90mmissing\u001b[39m  │\n",
       "│ 255 │ Turks and Caicos Islands           │ \u001b[90mmissing\u001b[39m │ \u001b[90mmissing\u001b[39m  │ \u001b[90mmissing\u001b[39m  │\n",
       "│ 256 │ Tuvalu                             │ \u001b[90mmissing\u001b[39m │ \u001b[90mmissing\u001b[39m  │ \u001b[90mmissing\u001b[39m  │\n",
       "│ 257 │ United Republic of Tanzania        │ \u001b[90mmissing\u001b[39m │ \u001b[90mmissing\u001b[39m  │ \u001b[90mmissing\u001b[39m  │\n",
       "│ 258 │ United States of America           │ \u001b[90mmissing\u001b[39m │ \u001b[90mmissing\u001b[39m  │ \u001b[90mmissing\u001b[39m  │\n",
       "│ 259 │ United States Virgin Islands       │ \u001b[90mmissing\u001b[39m │ \u001b[90mmissing\u001b[39m  │ \u001b[90mmissing\u001b[39m  │\n",
       "│ 260 │ Venezuela (Bolivarian Republic of) │ \u001b[90mmissing\u001b[39m │ \u001b[90mmissing\u001b[39m  │ \u001b[90mmissing\u001b[39m  │\n",
       "│ 261 │ Viet Nam                           │ \u001b[90mmissing\u001b[39m │ \u001b[90mmissing\u001b[39m  │ \u001b[90mmissing\u001b[39m  │\n",
       "│ 262 │ Wallis and Futuna                  │ \u001b[90mmissing\u001b[39m │ \u001b[90mmissing\u001b[39m  │ \u001b[90mmissing\u001b[39m  │\n",
       "│ 263 │ Yemen                              │ \u001b[90mmissing\u001b[39m │ \u001b[90mmissing\u001b[39m  │ \u001b[90mmissing\u001b[39m  │"
      ]
     },
     "execution_count": 17,
     "metadata": {},
     "output_type": "execute_result"
    }
   ],
   "source": [
    "# outer jion WHO region information with unemployment dataframe\n",
    "unemployment_df = outerjoin(ue_df, area_df, on = :Country)"
   ]
  },
  {
   "cell_type": "code",
   "execution_count": 18,
   "metadata": {},
   "outputs": [
    {
     "name": "stdout",
     "output_type": "stream",
     "text": [
      "[\"Bahamas, The\", \"Bolivia\", \"Channel Islands\", \"Congo, Dem. Rep.\", \"Congo, Rep.\", \"Cote d'Ivoire\", \"Czech Republic\", \"Egypt, Arab Rep.\", \"Gambia, The\", \"Hong Kong SAR, China\", \"Iran, Islamic Rep.\", \"Korea, Dem. People’s Rep.\", \"Korea, Rep.\", \"Kyrgyz Republic\", \"Lao PDR\", \"Macao SAR, China\", \"Moldova\", \"Slovak Republic\", \"St. Lucia\", \"St. Vincent and the Grenadines\", \"Tanzania\", \"United Kingdom\", \"United States\", \"Venezuela, RB\", \"Vietnam\", \"Virgin Islands (U.S.)\", \"West Bank and Gaza\", \"Yemen, Rep.\"]"
     ]
    }
   ],
   "source": [
    "# find out the unmatched countries\n",
    "miss_df = unemployment_df[unemployment_df.WHO_region .=== missing, :]\n",
    "print(miss_df.Country)"
   ]
  },
  {
   "cell_type": "code",
   "execution_count": 19,
   "metadata": {},
   "outputs": [
    {
     "name": "stdout",
     "output_type": "stream",
     "text": [
      "[\"American Samoa\", \"Andorra\", \"Anguilla\", \"Antigua and Barbuda\", \"Aruba\", \"Bahamas\", \"Bermuda\", \"Bolivia (Plurinational State of)\", \"Bonaire, Sint Eustatius and Saba\", \"British Virgin Islands\", \"Cayman Islands\", \"Congo\", \"Cook Islands\", \"Côte d’Ivoire\", \"Curaçao\", \"Czechia\", \"Democratic People's Republic of Korea\", \"Democratic Republic of the Congo\", \"Dominica\", \"Egypt\", \"Falkland Islands (Malvinas)\", \"Faroe Islands\", \"French Guiana\", \"Gambia\", \"Gibraltar\", \"Greenland\", \"Grenada\", \"Guadeloupe\", \"Guernsey\", \"Holy See\", \"Iran (Islamic Republic of)\", \"Isle of Man\", \"Jersey\", \"Kiribati\", \"Kosovo[1]\", \"Kyrgyzstan\", \"Lao People's Democratic Republic\", \"Liechtenstein\", \"Marshall Islands\", \"Martinique\", \"Mayotte\", \"Micronesia (Federated States of)\", \"Monaco\", \"Montserrat\", \"Nauru\", \"Niue\", \"Northern Mariana Islands (Commonwealth of the)\", \"occupied Palestinian territory, including east Jerusalem\", \"Other\", \"Palau\", \"Pitcairn Islands\", \"Republic of Korea\", \"Republic of Moldova\", \"Réunion\", \"Saint Barthélemy\", \"Saint Helena\", \"Saint Kitts and Nevis\", \"Saint Lucia\", \"Saint Martin\", \"Saint Pierre and Miquelon\", \"Saint Vincent and the Grenadines\", \"San Marino\", \"Seychelles\", \"Sint Maarten\", \"Slovakia\", \"The United Kingdom\", \"Tokelau\", \"Turks and Caicos Islands\", \"Tuvalu\", \"United Republic of Tanzania\", \"United States of America\", \"United States Virgin Islands\", \"Venezuela (Bolivarian Republic of)\", \"Viet Nam\", \"Wallis and Futuna\", \"Yemen\"]"
     ]
    }
   ],
   "source": [
    "# list the countries still available to be joined\n",
    "missing_df = unemployment_df[unemployment_df.ISO .=== missing, :]\n",
    "print(missing_df.Country)"
   ]
  },
  {
   "cell_type": "code",
   "execution_count": 20,
   "metadata": {},
   "outputs": [
    {
     "data": {
      "text/plain": [
       "correct_country (generic function with 1 method)"
      ]
     },
     "execution_count": 20,
     "metadata": {},
     "output_type": "execute_result"
    }
   ],
   "source": [
    "# create a function to amend the country names to get join again\n",
    "function correct_country(name)\n",
    "    if name == \"Bahamas, The\"\n",
    "        name = \"Bahamas\"\n",
    "    elseif name == \"Bolivia\"\n",
    "        name = \"Bolivia (Plurinational State of)\"\n",
    "    elseif name == \"Congo, Dem. Rep.\"\n",
    "        name = \"Congo\"\n",
    "    elseif name == \"Congo, Rep.\"\n",
    "        name = \"Democratic Republic of the Congo\"\n",
    "    elseif name == \"Cote d'Ivoire\"\n",
    "        name = \"Côte d’Ivoire\"\n",
    "    elseif name == \"Czech Republic\"\n",
    "        name = \"Czechia\"\n",
    "    elseif name == \"Egypt, Arab Rep.\"\n",
    "        name = \"Egypt\"\n",
    "    elseif name == \"Gambia, The\"\n",
    "        name = \"Gambia\"\n",
    "    elseif name == \"Hong Kong SAR, China\"\n",
    "        name = \"China\"\n",
    "    elseif name == \"Iran, Islamic Rep.\"\n",
    "        name = \"Iran (Islamic Republic of)\"\n",
    "    elseif name == \"Korea, Dem. People’s Rep.\"\n",
    "        name = \"Democratic People's Republic of Korea\"\n",
    "    elseif name == \"Korea, Rep.\"\n",
    "        name = \"Republic of Korea\"\n",
    "    elseif name == \"Kyrgyz Republic\"\n",
    "        name = \"Kyrgyzstan\"\n",
    "    elseif name == \"Lao PDR\"\n",
    "        name = \"Lao People's Democratic Republic\"\n",
    "    elseif name == \"Macao SAR, China\"\n",
    "        name = \"China\"\n",
    "    elseif name == \"Moldova\"\n",
    "        name = \"Republic of Moldova\"\n",
    "    elseif name == \"Slovak Republic\"\n",
    "        name = \"Slovakia\"\n",
    "    elseif name == \"St. Lucia\"\n",
    "        name = \"Saint Lucia\"\n",
    "    elseif name == \"St. Vincent and the Grenadines\"\n",
    "        name = \"Saint Vincent and the Grenadines\"\n",
    "    elseif name == \"Tanzania\"\n",
    "        name = \"United Republic of Tanzania\"\n",
    "    elseif name == \"United Kingdom\"\n",
    "        name = \"The United Kingdom\"\n",
    "    elseif name == \"United States\"\n",
    "        name = \"United States of America\"\n",
    "    elseif name == \"Venezuela, RB\"\n",
    "        name = \"Venezuela (Bolivarian Republic of)\"\n",
    "    elseif name == \"Vietnam\"\n",
    "        name = \"Viet Nam\"\n",
    "    elseif name == \"Virgin Islands (U.S.)\"\n",
    "        name = \"United States Virgin Islands\"\n",
    "    elseif name == \"Yemen, Rep.\"\n",
    "        name = \"Yemen\"\n",
    "    elseif name == \"West Bank and Gaza\"\n",
    "        name = \"occupied Palestinian territory, including east Jerusalem\"\n",
    "    else\n",
    "        name = name\n",
    "    end\n",
    "end"
   ]
  },
  {
   "cell_type": "code",
   "execution_count": 21,
   "metadata": {},
   "outputs": [
    {
     "data": {
      "text/plain": [
       "187-element PooledArrays.PooledArray{String,UInt32,1,Array{UInt32,1}}:\n",
       " \"Afghanistan\"\n",
       " \"Albania\"\n",
       " \"Algeria\"\n",
       " \"Angola\"\n",
       " \"Argentina\"\n",
       " \"Armenia\"\n",
       " \"Australia\"\n",
       " \"Austria\"\n",
       " \"Azerbaijan\"\n",
       " \"Bahamas\"\n",
       " \"Bahrain\"\n",
       " \"Bangladesh\"\n",
       " \"Barbados\"\n",
       " ⋮\n",
       " \"The United Kingdom\"\n",
       " \"United States of America\"\n",
       " \"Uruguay\"\n",
       " \"Uzbekistan\"\n",
       " \"Vanuatu\"\n",
       " \"Venezuela (Bolivarian Republic of)\"\n",
       " \"Viet Nam\"\n",
       " \"United States Virgin Islands\"\n",
       " \"occupied Palestinian territory, including east Jerusalem\"\n",
       " \"Yemen\"\n",
       " \"Zambia\"\n",
       " \"Zimbabwe\""
      ]
     },
     "execution_count": 21,
     "metadata": {},
     "output_type": "execute_result"
    }
   ],
   "source": [
    "# apply the function to change country names from unemployment dataframe\n",
    "ue_df.Country = map(correct_country, ue_df.Country)"
   ]
  },
  {
   "cell_type": "code",
   "execution_count": 22,
   "metadata": {},
   "outputs": [
    {
     "data": {
      "text/html": [
       "<table class=\"data-frame\"><thead><tr><th></th><th>Country</th><th>ISO</th><th>2011</th><th>2012</th><th>2013</th><th>2014</th></tr><tr><th></th><th>String</th><th>String</th><th>Float64?</th><th>Float64?</th><th>Float64?</th><th>Float64?</th></tr></thead><tbody><p>187 rows × 13 columns (omitted printing of 7 columns)</p><tr><th>1</th><td>Afghanistan</td><td>AFG</td><td>11.488</td><td>11.508</td><td>11.534</td><td>11.448</td></tr><tr><th>2</th><td>Albania</td><td>ALB</td><td>13.481</td><td>13.376</td><td>15.866</td><td>17.49</td></tr><tr><th>3</th><td>Algeria</td><td>DZA</td><td>9.96</td><td>10.97</td><td>9.82</td><td>10.207</td></tr><tr><th>4</th><td>Angola</td><td>AGO</td><td>7.362</td><td>7.379</td><td>7.4</td><td>7.331</td></tr><tr><th>5</th><td>Argentina</td><td>ARG</td><td>7.18</td><td>7.217</td><td>7.1</td><td>7.268</td></tr><tr><th>6</th><td>Armenia</td><td>ARM</td><td>18.443</td><td>17.301</td><td>16.179</td><td>17.498</td></tr><tr><th>7</th><td>Australia</td><td>AUS</td><td>5.081</td><td>5.224</td><td>5.662</td><td>6.077</td></tr><tr><th>8</th><td>Austria</td><td>AUT</td><td>4.564</td><td>4.865</td><td>5.335</td><td>5.62</td></tr><tr><th>9</th><td>Azerbaijan</td><td>AZE</td><td>5.42</td><td>5.19</td><td>4.97</td><td>4.91</td></tr><tr><th>10</th><td>Bahamas</td><td>BHS</td><td>14.52</td><td>14.02</td><td>16.18</td><td>13.8</td></tr><tr><th>11</th><td>Bahrain</td><td>BHR</td><td>1.274</td><td>1.2</td><td>1.323</td><td>1.17</td></tr><tr><th>12</th><td>Bangladesh</td><td>BGD</td><td>3.705</td><td>4.055</td><td>4.426</td><td>4.395</td></tr><tr><th>13</th><td>Barbados</td><td>BRB</td><td>11.19</td><td>11.59</td><td>11.55</td><td>12.17</td></tr><tr><th>14</th><td>Belarus</td><td>BLR</td><td>6.098</td><td>6.078</td><td>6.063</td><td>5.981</td></tr><tr><th>15</th><td>Belgium</td><td>BEL</td><td>7.14</td><td>7.542</td><td>8.425</td><td>8.523</td></tr><tr><th>16</th><td>Belize</td><td>BLZ</td><td>8.426</td><td>8.385</td><td>8.349</td><td>8.244</td></tr><tr><th>17</th><td>Benin</td><td>BEN</td><td>2.646</td><td>2.66</td><td>2.677</td><td>2.621</td></tr><tr><th>18</th><td>Bhutan</td><td>BTN</td><td>3.23</td><td>2.05</td><td>2.87</td><td>2.63</td></tr><tr><th>19</th><td>Bolivia (Plurinational State of)</td><td>BOL</td><td>2.219</td><td>2.048</td><td>2.394</td><td>2.007</td></tr><tr><th>20</th><td>Bosnia and Herzegovina</td><td>BIH</td><td>27.582</td><td>28.01</td><td>27.45</td><td>27.517</td></tr><tr><th>21</th><td>Botswana</td><td>BWA</td><td>17.865</td><td>17.889</td><td>17.921</td><td>17.819</td></tr><tr><th>22</th><td>Brazil</td><td>BRA</td><td>6.917</td><td>7.186</td><td>6.976</td><td>6.661</td></tr><tr><th>23</th><td>Brunei Darussalam</td><td>BRN</td><td>6.694</td><td>6.905</td><td>7.126</td><td>6.965</td></tr><tr><th>24</th><td>Bulgaria</td><td>BGR</td><td>11.26</td><td>12.27</td><td>12.941</td><td>11.424</td></tr><tr><th>25</th><td>Burkina Faso</td><td>BFA</td><td>5.143</td><td>5.601</td><td>6.087</td><td>6.479</td></tr><tr><th>26</th><td>Burundi</td><td>BDI</td><td>1.715</td><td>1.678</td><td>1.644</td><td>1.572</td></tr><tr><th>27</th><td>Cabo Verde</td><td>CPV</td><td>10.935</td><td>11.218</td><td>11.511</td><td>11.698</td></tr><tr><th>28</th><td>Cambodia</td><td>KHM</td><td>0.577</td><td>0.505</td><td>0.438</td><td>0.692</td></tr><tr><th>29</th><td>Cameroon</td><td>CMR</td><td>3.969</td><td>3.837</td><td>3.711</td><td>3.534</td></tr><tr><th>30</th><td>Canada</td><td>CAN</td><td>7.511</td><td>7.292</td><td>7.074</td><td>6.914</td></tr><tr><th>&vellip;</th><td>&vellip;</td><td>&vellip;</td><td>&vellip;</td><td>&vellip;</td><td>&vellip;</td><td>&vellip;</td></tr></tbody></table>"
      ],
      "text/latex": [
       "\\begin{tabular}{r|ccccccc}\n",
       "\t& Country & ISO & 2011 & 2012 & 2013 & 2014 & \\\\\n",
       "\t\\hline\n",
       "\t& String & String & Float64? & Float64? & Float64? & Float64? & \\\\\n",
       "\t\\hline\n",
       "\t1 & Afghanistan & AFG & 11.488 & 11.508 & 11.534 & 11.448 & $\\dots$ \\\\\n",
       "\t2 & Albania & ALB & 13.481 & 13.376 & 15.866 & 17.49 & $\\dots$ \\\\\n",
       "\t3 & Algeria & DZA & 9.96 & 10.97 & 9.82 & 10.207 & $\\dots$ \\\\\n",
       "\t4 & Angola & AGO & 7.362 & 7.379 & 7.4 & 7.331 & $\\dots$ \\\\\n",
       "\t5 & Argentina & ARG & 7.18 & 7.217 & 7.1 & 7.268 & $\\dots$ \\\\\n",
       "\t6 & Armenia & ARM & 18.443 & 17.301 & 16.179 & 17.498 & $\\dots$ \\\\\n",
       "\t7 & Australia & AUS & 5.081 & 5.224 & 5.662 & 6.077 & $\\dots$ \\\\\n",
       "\t8 & Austria & AUT & 4.564 & 4.865 & 5.335 & 5.62 & $\\dots$ \\\\\n",
       "\t9 & Azerbaijan & AZE & 5.42 & 5.19 & 4.97 & 4.91 & $\\dots$ \\\\\n",
       "\t10 & Bahamas & BHS & 14.52 & 14.02 & 16.18 & 13.8 & $\\dots$ \\\\\n",
       "\t11 & Bahrain & BHR & 1.274 & 1.2 & 1.323 & 1.17 & $\\dots$ \\\\\n",
       "\t12 & Bangladesh & BGD & 3.705 & 4.055 & 4.426 & 4.395 & $\\dots$ \\\\\n",
       "\t13 & Barbados & BRB & 11.19 & 11.59 & 11.55 & 12.17 & $\\dots$ \\\\\n",
       "\t14 & Belarus & BLR & 6.098 & 6.078 & 6.063 & 5.981 & $\\dots$ \\\\\n",
       "\t15 & Belgium & BEL & 7.14 & 7.542 & 8.425 & 8.523 & $\\dots$ \\\\\n",
       "\t16 & Belize & BLZ & 8.426 & 8.385 & 8.349 & 8.244 & $\\dots$ \\\\\n",
       "\t17 & Benin & BEN & 2.646 & 2.66 & 2.677 & 2.621 & $\\dots$ \\\\\n",
       "\t18 & Bhutan & BTN & 3.23 & 2.05 & 2.87 & 2.63 & $\\dots$ \\\\\n",
       "\t19 & Bolivia (Plurinational State of) & BOL & 2.219 & 2.048 & 2.394 & 2.007 & $\\dots$ \\\\\n",
       "\t20 & Bosnia and Herzegovina & BIH & 27.582 & 28.01 & 27.45 & 27.517 & $\\dots$ \\\\\n",
       "\t21 & Botswana & BWA & 17.865 & 17.889 & 17.921 & 17.819 & $\\dots$ \\\\\n",
       "\t22 & Brazil & BRA & 6.917 & 7.186 & 6.976 & 6.661 & $\\dots$ \\\\\n",
       "\t23 & Brunei Darussalam & BRN & 6.694 & 6.905 & 7.126 & 6.965 & $\\dots$ \\\\\n",
       "\t24 & Bulgaria & BGR & 11.26 & 12.27 & 12.941 & 11.424 & $\\dots$ \\\\\n",
       "\t25 & Burkina Faso & BFA & 5.143 & 5.601 & 6.087 & 6.479 & $\\dots$ \\\\\n",
       "\t26 & Burundi & BDI & 1.715 & 1.678 & 1.644 & 1.572 & $\\dots$ \\\\\n",
       "\t27 & Cabo Verde & CPV & 10.935 & 11.218 & 11.511 & 11.698 & $\\dots$ \\\\\n",
       "\t28 & Cambodia & KHM & 0.577 & 0.505 & 0.438 & 0.692 & $\\dots$ \\\\\n",
       "\t29 & Cameroon & CMR & 3.969 & 3.837 & 3.711 & 3.534 & $\\dots$ \\\\\n",
       "\t30 & Canada & CAN & 7.511 & 7.292 & 7.074 & 6.914 & $\\dots$ \\\\\n",
       "\t$\\dots$ & $\\dots$ & $\\dots$ & $\\dots$ & $\\dots$ & $\\dots$ & $\\dots$ &  \\\\\n",
       "\\end{tabular}\n"
      ],
      "text/plain": [
       "187×13 DataFrame. Omitted printing of 11 columns\n",
       "│ Row │ Country                                                  │ ISO    │\n",
       "│     │ \u001b[90mString\u001b[39m                                                   │ \u001b[90mString\u001b[39m │\n",
       "├─────┼──────────────────────────────────────────────────────────┼────────┤\n",
       "│ 1   │ Afghanistan                                              │ AFG    │\n",
       "│ 2   │ Albania                                                  │ ALB    │\n",
       "│ 3   │ Algeria                                                  │ DZA    │\n",
       "│ 4   │ Angola                                                   │ AGO    │\n",
       "│ 5   │ Argentina                                                │ ARG    │\n",
       "│ 6   │ Armenia                                                  │ ARM    │\n",
       "│ 7   │ Australia                                                │ AUS    │\n",
       "│ 8   │ Austria                                                  │ AUT    │\n",
       "│ 9   │ Azerbaijan                                               │ AZE    │\n",
       "│ 10  │ Bahamas                                                  │ BHS    │\n",
       "⋮\n",
       "│ 177 │ United States of America                                 │ USA    │\n",
       "│ 178 │ Uruguay                                                  │ URY    │\n",
       "│ 179 │ Uzbekistan                                               │ UZB    │\n",
       "│ 180 │ Vanuatu                                                  │ VUT    │\n",
       "│ 181 │ Venezuela (Bolivarian Republic of)                       │ VEN    │\n",
       "│ 182 │ Viet Nam                                                 │ VNM    │\n",
       "│ 183 │ United States Virgin Islands                             │ VIR    │\n",
       "│ 184 │ occupied Palestinian territory, including east Jerusalem │ PSE    │\n",
       "│ 185 │ Yemen                                                    │ YEM    │\n",
       "│ 186 │ Zambia                                                   │ ZMB    │\n",
       "│ 187 │ Zimbabwe                                                 │ ZWE    │"
      ]
     },
     "execution_count": 22,
     "metadata": {},
     "output_type": "execute_result"
    }
   ],
   "source": [
    "# now we just use left join to make a join again\n",
    "unemployment_df = leftjoin(ue_df, area_df, on = :Country)"
   ]
  },
  {
   "cell_type": "code",
   "execution_count": 23,
   "metadata": {},
   "outputs": [
    {
     "name": "stdout",
     "output_type": "stream",
     "text": [
      "[\"Channel Islands\"]"
     ]
    }
   ],
   "source": [
    "# have a look the unmatched country again\n",
    "miss_df = unemployment_df[unemployment_df.WHO_region .=== missing, :]\n",
    "print(miss_df.Country)"
   ]
  },
  {
   "cell_type": "markdown",
   "metadata": {},
   "source": [
    "Now, there is only one country is unmatched, which is not available."
   ]
  },
  {
   "cell_type": "code",
   "execution_count": 24,
   "metadata": {},
   "outputs": [
    {
     "data": {
      "application/vnd.dataresource+json": {
       "data": [
        {
         "2011": 4.5479998588562,
         "2012": 4.57000017166138,
         "2013": 4.59000015258789,
         "2014": 4.60900020599365,
         "2015": 4.62900018692017,
         "2016": 4.53499984741211,
         "2017": 4.44099998474121,
         "2018": 4.27600002288818,
         "2019": 4.32000017166138,
         "2020": 4.36999988555908,
         "Country": "China",
         "ISO": "CHN",
         "WHO_region": "Western Pacific"
        },
        {
         "2011": 3.42000007629395,
         "2012": 3.28999996185303,
         "2013": 3.40000009536743,
         "2014": 3.29999995231628,
         "2015": 3.3199999332428,
         "2016": 3.39000010490417,
         "2017": 3.08999991416931,
         "2018": 2.90300011634827,
         "2019": 3.62899994850159,
         "2020": 4.2649998664856,
         "Country": "China",
         "ISO": "HKG",
         "WHO_region": "Western Pacific"
        },
        {
         "2011": 2.55999994277954,
         "2012": 1.97000002861023,
         "2013": 1.82000005245209,
         "2014": 1.70000004768372,
         "2015": 1.80999994277954,
         "2016": 1.89999997615814,
         "2017": 2,
         "2018": 1.96599996089935,
         "2019": 2.23699998855591,
         "2020": 2.50500011444092,
         "Country": "China",
         "ISO": "MAC",
         "WHO_region": "Western Pacific"
        }
       ],
       "schema": {
        "fields": [
         {
          "name": "Country",
          "type": "string"
         },
         {
          "name": "ISO",
          "type": "string"
         },
         {
          "name": "2011",
          "type": "number"
         },
         {
          "name": "2012",
          "type": "number"
         },
         {
          "name": "2013",
          "type": "number"
         },
         {
          "name": "2014",
          "type": "number"
         },
         {
          "name": "2015",
          "type": "number"
         },
         {
          "name": "2016",
          "type": "number"
         },
         {
          "name": "2017",
          "type": "number"
         },
         {
          "name": "2018",
          "type": "number"
         },
         {
          "name": "2019",
          "type": "number"
         },
         {
          "name": "2020",
          "type": "number"
         },
         {
          "name": "WHO_region",
          "type": "string"
         }
        ]
       }
      },
      "text/html": [
       "<table><thead><tr><th>Country</th><th>ISO</th><th>2011</th><th>2012</th><th>2013</th><th>2014</th><th>2015</th><th>2016</th><th>2017</th><th>2018</th><th>2019</th><th>2020</th><th>WHO_region</th></tr></thead><tbody><tr><td>&quot;China&quot;</td><td>&quot;CHN&quot;</td><td>4.548</td><td>4.57</td><td>4.59</td><td>4.609</td><td>4.629</td><td>4.535</td><td>4.441</td><td>4.276</td><td>4.32</td><td>4.37</td><td>&quot;Western Pacific&quot;</td></tr><tr><td>&quot;China&quot;</td><td>&quot;HKG&quot;</td><td>3.42</td><td>3.29</td><td>3.4</td><td>3.3</td><td>3.32</td><td>3.39</td><td>3.09</td><td>2.903</td><td>3.629</td><td>4.265</td><td>&quot;Western Pacific&quot;</td></tr><tr><td>&quot;China&quot;</td><td>&quot;MAC&quot;</td><td>2.56</td><td>1.97</td><td>1.82</td><td>1.7</td><td>1.81</td><td>1.9</td><td>2.0</td><td>1.966</td><td>2.237</td><td>2.505</td><td>&quot;Western Pacific&quot;</td></tr></tbody></table>"
      ],
      "text/plain": [
       "3x13 query result\n",
       "Country │ ISO │ 2011  │ 2012 │ 2013 │ 2014  │ 2015  │ 2016  │ 2017  │ 2018 \n",
       "────────┼─────┼───────┼──────┼──────┼───────┼───────┼───────┼───────┼──────\n",
       "China   │ CHN │ 4.548 │ 4.57 │ 4.59 │ 4.609 │ 4.629 │ 4.535 │ 4.441 │ 4.276\n",
       "China   │ HKG │ 3.42  │ 3.29 │ 3.4  │ 3.3   │ 3.32  │ 3.39  │ 3.09  │ 2.903\n",
       "China   │ MAC │ 2.56  │ 1.97 │ 1.82 │ 1.7   │ 1.81  │ 1.9   │ 2.0   │ 1.966\n",
       "... with 3 more columns: 2019, 2020, WHO_region"
      ]
     },
     "execution_count": 24,
     "metadata": {},
     "output_type": "execute_result"
    }
   ],
   "source": [
    "# have a look country \"China\" with multiple rows but with different ISO country codes\n",
    "unemployment_df |> @filter(_.Country == \"China\")"
   ]
  },
  {
   "cell_type": "code",
   "execution_count": 25,
   "metadata": {},
   "outputs": [
    {
     "data": {
      "text/plain": [
       "correct_back (generic function with 1 method)"
      ]
     },
     "execution_count": 25,
     "metadata": {},
     "output_type": "execute_result"
    }
   ],
   "source": [
    "# create a function to change their country names back after the join is done\n",
    "function correct_back(ISO, country)\n",
    "    if ISO == \"HKG\"\n",
    "        country = \"China HongKong\"\n",
    "    elseif ISO == \"MAC\"\n",
    "        country = \"China Macao\"\n",
    "    else\n",
    "        country = country\n",
    "    end\n",
    "end"
   ]
  },
  {
   "cell_type": "code",
   "execution_count": 26,
   "metadata": {},
   "outputs": [
    {
     "data": {
      "text/plain": [
       "187-element Array{String,1}:\n",
       " \"Afghanistan\"\n",
       " \"Albania\"\n",
       " \"Algeria\"\n",
       " \"Angola\"\n",
       " \"Argentina\"\n",
       " \"Armenia\"\n",
       " \"Australia\"\n",
       " \"Austria\"\n",
       " \"Azerbaijan\"\n",
       " \"Bahamas\"\n",
       " \"Bahrain\"\n",
       " \"Bangladesh\"\n",
       " \"Barbados\"\n",
       " ⋮\n",
       " \"The United Kingdom\"\n",
       " \"United States of America\"\n",
       " \"Uruguay\"\n",
       " \"Uzbekistan\"\n",
       " \"Vanuatu\"\n",
       " \"Venezuela (Bolivarian Republic of)\"\n",
       " \"Viet Nam\"\n",
       " \"United States Virgin Islands\"\n",
       " \"occupied Palestinian territory, including east Jerusalem\"\n",
       " \"Yemen\"\n",
       " \"Zambia\"\n",
       " \"Zimbabwe\""
      ]
     },
     "execution_count": 26,
     "metadata": {},
     "output_type": "execute_result"
    }
   ],
   "source": [
    "# apply the function to change them\n",
    "unemployment_df.Country = map(correct_back, unemployment_df.ISO, unemployment_df.Country)"
   ]
  },
  {
   "cell_type": "code",
   "execution_count": 27,
   "metadata": {},
   "outputs": [
    {
     "data": {
      "text/plain": [
       "187-element Array{Union{Missing, String},1}:\n",
       " \"Eastern Mediterranean\"\n",
       " \"European\"\n",
       " \"African\"\n",
       " \"African\"\n",
       " \"Americas\"\n",
       " \"European\"\n",
       " \"Western Pacific\"\n",
       " \"European\"\n",
       " \"European\"\n",
       " \"Americas\"\n",
       " \"Eastern Mediterranean\"\n",
       " \"South-East Asia\"\n",
       " \"Americas\"\n",
       " ⋮\n",
       " \"European\"\n",
       " \"Americas\"\n",
       " \"Americas\"\n",
       " \"European\"\n",
       " \"Western Pacific\"\n",
       " \"Americas\"\n",
       " \"Western Pacific\"\n",
       " \"Americas\"\n",
       " \"Eastern Mediterranean\"\n",
       " \"Eastern Mediterranean\"\n",
       " \"African\"\n",
       " \"African\""
      ]
     },
     "execution_count": 27,
     "metadata": {},
     "output_type": "execute_result"
    }
   ],
   "source": [
    "# fill the missing WHO region names to \"Other\"\n",
    "replace!(unemployment_df.WHO_region, missing => \"Other\")"
   ]
  },
  {
   "cell_type": "code",
   "execution_count": 28,
   "metadata": {},
   "outputs": [
    {
     "data": {
      "text/html": [
       "<table class=\"data-frame\"><thead><tr><th></th><th>Country</th><th>ISO</th><th>WHO_region</th><th>variable</th><th>value</th></tr><tr><th></th><th>String</th><th>String</th><th>String?</th><th>Cat…</th><th>Float64?</th></tr></thead><tbody><p>1,870 rows × 5 columns</p><tr><th>1</th><td>Afghanistan</td><td>AFG</td><td>Eastern Mediterranean</td><td>2011</td><td>11.488</td></tr><tr><th>2</th><td>Albania</td><td>ALB</td><td>European</td><td>2011</td><td>13.481</td></tr><tr><th>3</th><td>Algeria</td><td>DZA</td><td>African</td><td>2011</td><td>9.96</td></tr><tr><th>4</th><td>Angola</td><td>AGO</td><td>African</td><td>2011</td><td>7.362</td></tr><tr><th>5</th><td>Argentina</td><td>ARG</td><td>Americas</td><td>2011</td><td>7.18</td></tr><tr><th>6</th><td>Armenia</td><td>ARM</td><td>European</td><td>2011</td><td>18.443</td></tr><tr><th>7</th><td>Australia</td><td>AUS</td><td>Western Pacific</td><td>2011</td><td>5.081</td></tr><tr><th>8</th><td>Austria</td><td>AUT</td><td>European</td><td>2011</td><td>4.564</td></tr><tr><th>9</th><td>Azerbaijan</td><td>AZE</td><td>European</td><td>2011</td><td>5.42</td></tr><tr><th>10</th><td>Bahamas</td><td>BHS</td><td>Americas</td><td>2011</td><td>14.52</td></tr><tr><th>11</th><td>Bahrain</td><td>BHR</td><td>Eastern Mediterranean</td><td>2011</td><td>1.274</td></tr><tr><th>12</th><td>Bangladesh</td><td>BGD</td><td>South-East Asia</td><td>2011</td><td>3.705</td></tr><tr><th>13</th><td>Barbados</td><td>BRB</td><td>Americas</td><td>2011</td><td>11.19</td></tr><tr><th>14</th><td>Belarus</td><td>BLR</td><td>European</td><td>2011</td><td>6.098</td></tr><tr><th>15</th><td>Belgium</td><td>BEL</td><td>European</td><td>2011</td><td>7.14</td></tr><tr><th>16</th><td>Belize</td><td>BLZ</td><td>Americas</td><td>2011</td><td>8.426</td></tr><tr><th>17</th><td>Benin</td><td>BEN</td><td>African</td><td>2011</td><td>2.646</td></tr><tr><th>18</th><td>Bhutan</td><td>BTN</td><td>South-East Asia</td><td>2011</td><td>3.23</td></tr><tr><th>19</th><td>Bolivia (Plurinational State of)</td><td>BOL</td><td>Americas</td><td>2011</td><td>2.219</td></tr><tr><th>20</th><td>Bosnia and Herzegovina</td><td>BIH</td><td>European</td><td>2011</td><td>27.582</td></tr><tr><th>21</th><td>Botswana</td><td>BWA</td><td>African</td><td>2011</td><td>17.865</td></tr><tr><th>22</th><td>Brazil</td><td>BRA</td><td>Americas</td><td>2011</td><td>6.917</td></tr><tr><th>23</th><td>Brunei Darussalam</td><td>BRN</td><td>Western Pacific</td><td>2011</td><td>6.694</td></tr><tr><th>24</th><td>Bulgaria</td><td>BGR</td><td>European</td><td>2011</td><td>11.26</td></tr><tr><th>25</th><td>Burkina Faso</td><td>BFA</td><td>African</td><td>2011</td><td>5.143</td></tr><tr><th>26</th><td>Burundi</td><td>BDI</td><td>African</td><td>2011</td><td>1.715</td></tr><tr><th>27</th><td>Cabo Verde</td><td>CPV</td><td>African</td><td>2011</td><td>10.935</td></tr><tr><th>28</th><td>Cambodia</td><td>KHM</td><td>Western Pacific</td><td>2011</td><td>0.577</td></tr><tr><th>29</th><td>Cameroon</td><td>CMR</td><td>African</td><td>2011</td><td>3.969</td></tr><tr><th>30</th><td>Canada</td><td>CAN</td><td>Americas</td><td>2011</td><td>7.511</td></tr><tr><th>&vellip;</th><td>&vellip;</td><td>&vellip;</td><td>&vellip;</td><td>&vellip;</td><td>&vellip;</td></tr></tbody></table>"
      ],
      "text/latex": [
       "\\begin{tabular}{r|ccccc}\n",
       "\t& Country & ISO & WHO\\_region & variable & value\\\\\n",
       "\t\\hline\n",
       "\t& String & String & String? & Cat… & Float64?\\\\\n",
       "\t\\hline\n",
       "\t1 & Afghanistan & AFG & Eastern Mediterranean & 2011 & 11.488 \\\\\n",
       "\t2 & Albania & ALB & European & 2011 & 13.481 \\\\\n",
       "\t3 & Algeria & DZA & African & 2011 & 9.96 \\\\\n",
       "\t4 & Angola & AGO & African & 2011 & 7.362 \\\\\n",
       "\t5 & Argentina & ARG & Americas & 2011 & 7.18 \\\\\n",
       "\t6 & Armenia & ARM & European & 2011 & 18.443 \\\\\n",
       "\t7 & Australia & AUS & Western Pacific & 2011 & 5.081 \\\\\n",
       "\t8 & Austria & AUT & European & 2011 & 4.564 \\\\\n",
       "\t9 & Azerbaijan & AZE & European & 2011 & 5.42 \\\\\n",
       "\t10 & Bahamas & BHS & Americas & 2011 & 14.52 \\\\\n",
       "\t11 & Bahrain & BHR & Eastern Mediterranean & 2011 & 1.274 \\\\\n",
       "\t12 & Bangladesh & BGD & South-East Asia & 2011 & 3.705 \\\\\n",
       "\t13 & Barbados & BRB & Americas & 2011 & 11.19 \\\\\n",
       "\t14 & Belarus & BLR & European & 2011 & 6.098 \\\\\n",
       "\t15 & Belgium & BEL & European & 2011 & 7.14 \\\\\n",
       "\t16 & Belize & BLZ & Americas & 2011 & 8.426 \\\\\n",
       "\t17 & Benin & BEN & African & 2011 & 2.646 \\\\\n",
       "\t18 & Bhutan & BTN & South-East Asia & 2011 & 3.23 \\\\\n",
       "\t19 & Bolivia (Plurinational State of) & BOL & Americas & 2011 & 2.219 \\\\\n",
       "\t20 & Bosnia and Herzegovina & BIH & European & 2011 & 27.582 \\\\\n",
       "\t21 & Botswana & BWA & African & 2011 & 17.865 \\\\\n",
       "\t22 & Brazil & BRA & Americas & 2011 & 6.917 \\\\\n",
       "\t23 & Brunei Darussalam & BRN & Western Pacific & 2011 & 6.694 \\\\\n",
       "\t24 & Bulgaria & BGR & European & 2011 & 11.26 \\\\\n",
       "\t25 & Burkina Faso & BFA & African & 2011 & 5.143 \\\\\n",
       "\t26 & Burundi & BDI & African & 2011 & 1.715 \\\\\n",
       "\t27 & Cabo Verde & CPV & African & 2011 & 10.935 \\\\\n",
       "\t28 & Cambodia & KHM & Western Pacific & 2011 & 0.577 \\\\\n",
       "\t29 & Cameroon & CMR & African & 2011 & 3.969 \\\\\n",
       "\t30 & Canada & CAN & Americas & 2011 & 7.511 \\\\\n",
       "\t$\\dots$ & $\\dots$ & $\\dots$ & $\\dots$ & $\\dots$ & $\\dots$ \\\\\n",
       "\\end{tabular}\n"
      ],
      "text/plain": [
       "1870×5 DataFrame. Omitted printing of 3 columns\n",
       "│ Row  │ Country                                                  │ ISO    │\n",
       "│      │ \u001b[90mString\u001b[39m                                                   │ \u001b[90mString\u001b[39m │\n",
       "├──────┼──────────────────────────────────────────────────────────┼────────┤\n",
       "│ 1    │ Afghanistan                                              │ AFG    │\n",
       "│ 2    │ Albania                                                  │ ALB    │\n",
       "│ 3    │ Algeria                                                  │ DZA    │\n",
       "│ 4    │ Angola                                                   │ AGO    │\n",
       "│ 5    │ Argentina                                                │ ARG    │\n",
       "│ 6    │ Armenia                                                  │ ARM    │\n",
       "│ 7    │ Australia                                                │ AUS    │\n",
       "│ 8    │ Austria                                                  │ AUT    │\n",
       "│ 9    │ Azerbaijan                                               │ AZE    │\n",
       "│ 10   │ Bahamas                                                  │ BHS    │\n",
       "⋮\n",
       "│ 1860 │ United States of America                                 │ USA    │\n",
       "│ 1861 │ Uruguay                                                  │ URY    │\n",
       "│ 1862 │ Uzbekistan                                               │ UZB    │\n",
       "│ 1863 │ Vanuatu                                                  │ VUT    │\n",
       "│ 1864 │ Venezuela (Bolivarian Republic of)                       │ VEN    │\n",
       "│ 1865 │ Viet Nam                                                 │ VNM    │\n",
       "│ 1866 │ United States Virgin Islands                             │ VIR    │\n",
       "│ 1867 │ occupied Palestinian territory, including east Jerusalem │ PSE    │\n",
       "│ 1868 │ Yemen                                                    │ YEM    │\n",
       "│ 1869 │ Zambia                                                   │ ZMB    │\n",
       "│ 1870 │ Zimbabwe                                                 │ ZWE    │"
      ]
     },
     "execution_count": 28,
     "metadata": {},
     "output_type": "execute_result"
    }
   ],
   "source": [
    "# reshape the dataframe to a long dataframe\n",
    "unemployment_long = stack(unemployment_df, [\"20$i\" for i in 11:20])"
   ]
  },
  {
   "cell_type": "code",
   "execution_count": 29,
   "metadata": {},
   "outputs": [
    {
     "data": {
      "text/html": [
       "<table class=\"data-frame\"><thead><tr><th></th><th>Country</th><th>ISO</th><th>WHO_region</th><th>Date</th><th>value</th></tr><tr><th></th><th>String</th><th>String</th><th>String?</th><th>Cat…</th><th>Float64?</th></tr></thead><tbody><p>1,870 rows × 5 columns</p><tr><th>1</th><td>Afghanistan</td><td>AFG</td><td>Eastern Mediterranean</td><td>2011</td><td>11.488</td></tr><tr><th>2</th><td>Albania</td><td>ALB</td><td>European</td><td>2011</td><td>13.481</td></tr><tr><th>3</th><td>Algeria</td><td>DZA</td><td>African</td><td>2011</td><td>9.96</td></tr><tr><th>4</th><td>Angola</td><td>AGO</td><td>African</td><td>2011</td><td>7.362</td></tr><tr><th>5</th><td>Argentina</td><td>ARG</td><td>Americas</td><td>2011</td><td>7.18</td></tr><tr><th>6</th><td>Armenia</td><td>ARM</td><td>European</td><td>2011</td><td>18.443</td></tr><tr><th>7</th><td>Australia</td><td>AUS</td><td>Western Pacific</td><td>2011</td><td>5.081</td></tr><tr><th>8</th><td>Austria</td><td>AUT</td><td>European</td><td>2011</td><td>4.564</td></tr><tr><th>9</th><td>Azerbaijan</td><td>AZE</td><td>European</td><td>2011</td><td>5.42</td></tr><tr><th>10</th><td>Bahamas</td><td>BHS</td><td>Americas</td><td>2011</td><td>14.52</td></tr><tr><th>11</th><td>Bahrain</td><td>BHR</td><td>Eastern Mediterranean</td><td>2011</td><td>1.274</td></tr><tr><th>12</th><td>Bangladesh</td><td>BGD</td><td>South-East Asia</td><td>2011</td><td>3.705</td></tr><tr><th>13</th><td>Barbados</td><td>BRB</td><td>Americas</td><td>2011</td><td>11.19</td></tr><tr><th>14</th><td>Belarus</td><td>BLR</td><td>European</td><td>2011</td><td>6.098</td></tr><tr><th>15</th><td>Belgium</td><td>BEL</td><td>European</td><td>2011</td><td>7.14</td></tr><tr><th>16</th><td>Belize</td><td>BLZ</td><td>Americas</td><td>2011</td><td>8.426</td></tr><tr><th>17</th><td>Benin</td><td>BEN</td><td>African</td><td>2011</td><td>2.646</td></tr><tr><th>18</th><td>Bhutan</td><td>BTN</td><td>South-East Asia</td><td>2011</td><td>3.23</td></tr><tr><th>19</th><td>Bolivia (Plurinational State of)</td><td>BOL</td><td>Americas</td><td>2011</td><td>2.219</td></tr><tr><th>20</th><td>Bosnia and Herzegovina</td><td>BIH</td><td>European</td><td>2011</td><td>27.582</td></tr><tr><th>21</th><td>Botswana</td><td>BWA</td><td>African</td><td>2011</td><td>17.865</td></tr><tr><th>22</th><td>Brazil</td><td>BRA</td><td>Americas</td><td>2011</td><td>6.917</td></tr><tr><th>23</th><td>Brunei Darussalam</td><td>BRN</td><td>Western Pacific</td><td>2011</td><td>6.694</td></tr><tr><th>24</th><td>Bulgaria</td><td>BGR</td><td>European</td><td>2011</td><td>11.26</td></tr><tr><th>25</th><td>Burkina Faso</td><td>BFA</td><td>African</td><td>2011</td><td>5.143</td></tr><tr><th>26</th><td>Burundi</td><td>BDI</td><td>African</td><td>2011</td><td>1.715</td></tr><tr><th>27</th><td>Cabo Verde</td><td>CPV</td><td>African</td><td>2011</td><td>10.935</td></tr><tr><th>28</th><td>Cambodia</td><td>KHM</td><td>Western Pacific</td><td>2011</td><td>0.577</td></tr><tr><th>29</th><td>Cameroon</td><td>CMR</td><td>African</td><td>2011</td><td>3.969</td></tr><tr><th>30</th><td>Canada</td><td>CAN</td><td>Americas</td><td>2011</td><td>7.511</td></tr><tr><th>&vellip;</th><td>&vellip;</td><td>&vellip;</td><td>&vellip;</td><td>&vellip;</td><td>&vellip;</td></tr></tbody></table>"
      ],
      "text/latex": [
       "\\begin{tabular}{r|ccccc}\n",
       "\t& Country & ISO & WHO\\_region & Date & value\\\\\n",
       "\t\\hline\n",
       "\t& String & String & String? & Cat… & Float64?\\\\\n",
       "\t\\hline\n",
       "\t1 & Afghanistan & AFG & Eastern Mediterranean & 2011 & 11.488 \\\\\n",
       "\t2 & Albania & ALB & European & 2011 & 13.481 \\\\\n",
       "\t3 & Algeria & DZA & African & 2011 & 9.96 \\\\\n",
       "\t4 & Angola & AGO & African & 2011 & 7.362 \\\\\n",
       "\t5 & Argentina & ARG & Americas & 2011 & 7.18 \\\\\n",
       "\t6 & Armenia & ARM & European & 2011 & 18.443 \\\\\n",
       "\t7 & Australia & AUS & Western Pacific & 2011 & 5.081 \\\\\n",
       "\t8 & Austria & AUT & European & 2011 & 4.564 \\\\\n",
       "\t9 & Azerbaijan & AZE & European & 2011 & 5.42 \\\\\n",
       "\t10 & Bahamas & BHS & Americas & 2011 & 14.52 \\\\\n",
       "\t11 & Bahrain & BHR & Eastern Mediterranean & 2011 & 1.274 \\\\\n",
       "\t12 & Bangladesh & BGD & South-East Asia & 2011 & 3.705 \\\\\n",
       "\t13 & Barbados & BRB & Americas & 2011 & 11.19 \\\\\n",
       "\t14 & Belarus & BLR & European & 2011 & 6.098 \\\\\n",
       "\t15 & Belgium & BEL & European & 2011 & 7.14 \\\\\n",
       "\t16 & Belize & BLZ & Americas & 2011 & 8.426 \\\\\n",
       "\t17 & Benin & BEN & African & 2011 & 2.646 \\\\\n",
       "\t18 & Bhutan & BTN & South-East Asia & 2011 & 3.23 \\\\\n",
       "\t19 & Bolivia (Plurinational State of) & BOL & Americas & 2011 & 2.219 \\\\\n",
       "\t20 & Bosnia and Herzegovina & BIH & European & 2011 & 27.582 \\\\\n",
       "\t21 & Botswana & BWA & African & 2011 & 17.865 \\\\\n",
       "\t22 & Brazil & BRA & Americas & 2011 & 6.917 \\\\\n",
       "\t23 & Brunei Darussalam & BRN & Western Pacific & 2011 & 6.694 \\\\\n",
       "\t24 & Bulgaria & BGR & European & 2011 & 11.26 \\\\\n",
       "\t25 & Burkina Faso & BFA & African & 2011 & 5.143 \\\\\n",
       "\t26 & Burundi & BDI & African & 2011 & 1.715 \\\\\n",
       "\t27 & Cabo Verde & CPV & African & 2011 & 10.935 \\\\\n",
       "\t28 & Cambodia & KHM & Western Pacific & 2011 & 0.577 \\\\\n",
       "\t29 & Cameroon & CMR & African & 2011 & 3.969 \\\\\n",
       "\t30 & Canada & CAN & Americas & 2011 & 7.511 \\\\\n",
       "\t$\\dots$ & $\\dots$ & $\\dots$ & $\\dots$ & $\\dots$ & $\\dots$ \\\\\n",
       "\\end{tabular}\n"
      ],
      "text/plain": [
       "1870×5 DataFrame. Omitted printing of 3 columns\n",
       "│ Row  │ Country                                                  │ ISO    │\n",
       "│      │ \u001b[90mString\u001b[39m                                                   │ \u001b[90mString\u001b[39m │\n",
       "├──────┼──────────────────────────────────────────────────────────┼────────┤\n",
       "│ 1    │ Afghanistan                                              │ AFG    │\n",
       "│ 2    │ Albania                                                  │ ALB    │\n",
       "│ 3    │ Algeria                                                  │ DZA    │\n",
       "│ 4    │ Angola                                                   │ AGO    │\n",
       "│ 5    │ Argentina                                                │ ARG    │\n",
       "│ 6    │ Armenia                                                  │ ARM    │\n",
       "│ 7    │ Australia                                                │ AUS    │\n",
       "│ 8    │ Austria                                                  │ AUT    │\n",
       "│ 9    │ Azerbaijan                                               │ AZE    │\n",
       "│ 10   │ Bahamas                                                  │ BHS    │\n",
       "⋮\n",
       "│ 1860 │ United States of America                                 │ USA    │\n",
       "│ 1861 │ Uruguay                                                  │ URY    │\n",
       "│ 1862 │ Uzbekistan                                               │ UZB    │\n",
       "│ 1863 │ Vanuatu                                                  │ VUT    │\n",
       "│ 1864 │ Venezuela (Bolivarian Republic of)                       │ VEN    │\n",
       "│ 1865 │ Viet Nam                                                 │ VNM    │\n",
       "│ 1866 │ United States Virgin Islands                             │ VIR    │\n",
       "│ 1867 │ occupied Palestinian territory, including east Jerusalem │ PSE    │\n",
       "│ 1868 │ Yemen                                                    │ YEM    │\n",
       "│ 1869 │ Zambia                                                   │ ZMB    │\n",
       "│ 1870 │ Zimbabwe                                                 │ ZWE    │"
      ]
     },
     "execution_count": 29,
     "metadata": {},
     "output_type": "execute_result"
    }
   ],
   "source": [
    "# change the column with a more suitable name\n",
    "rename!(unemployment_long, Symbol(\"variable\")=>Symbol(\"Date\"))"
   ]
  },
  {
   "cell_type": "code",
   "execution_count": 30,
   "metadata": {},
   "outputs": [
    {
     "data": {
      "text/plain": [
       "1870-element Array{String,1}:\n",
       " \"2011\"\n",
       " \"2011\"\n",
       " \"2011\"\n",
       " \"2011\"\n",
       " \"2011\"\n",
       " \"2011\"\n",
       " \"2011\"\n",
       " \"2011\"\n",
       " \"2011\"\n",
       " \"2011\"\n",
       " \"2011\"\n",
       " \"2011\"\n",
       " \"2011\"\n",
       " ⋮\n",
       " \"2020\"\n",
       " \"2020\"\n",
       " \"2020\"\n",
       " \"2020\"\n",
       " \"2020\"\n",
       " \"2020\"\n",
       " \"2020\"\n",
       " \"2020\"\n",
       " \"2020\"\n",
       " \"2020\"\n",
       " \"2020\"\n",
       " \"2020\""
      ]
     },
     "execution_count": 30,
     "metadata": {},
     "output_type": "execute_result"
    }
   ],
   "source": [
    "# convert year column back to string data type\n",
    "unemployment_long.Date = convert(Array{String}, unemployment_long.Date)"
   ]
  },
  {
   "cell_type": "code",
   "execution_count": 31,
   "metadata": {},
   "outputs": [
    {
     "data": {
      "application/vnd.vegalite.v4+json": {
       "data": {
        "values": [
         {
          "Country": "Afghanistan",
          "Date": "2011",
          "ISO": "AFG",
          "WHO_region": "Eastern Mediterranean",
          "value": 11.4879999160767
         },
         {
          "Country": "Albania",
          "Date": "2011",
          "ISO": "ALB",
          "WHO_region": "European",
          "value": 13.4809999465942
         },
         {
          "Country": "Algeria",
          "Date": "2011",
          "ISO": "DZA",
          "WHO_region": "African",
          "value": 9.96000003814697
         },
         {
          "Country": "Angola",
          "Date": "2011",
          "ISO": "AGO",
          "WHO_region": "African",
          "value": 7.36199998855591
         },
         {
          "Country": "Argentina",
          "Date": "2011",
          "ISO": "ARG",
          "WHO_region": "Americas",
          "value": 7.17999982833862
         },
         {
          "Country": "Armenia",
          "Date": "2011",
          "ISO": "ARM",
          "WHO_region": "European",
          "value": 18.443000793457
         },
         {
          "Country": "Australia",
          "Date": "2011",
          "ISO": "AUS",
          "WHO_region": "Western Pacific",
          "value": 5.08099985122681
         },
         {
          "Country": "Austria",
          "Date": "2011",
          "ISO": "AUT",
          "WHO_region": "European",
          "value": 4.56400012969971
         },
         {
          "Country": "Azerbaijan",
          "Date": "2011",
          "ISO": "AZE",
          "WHO_region": "European",
          "value": 5.42000007629395
         },
         {
          "Country": "Bahamas",
          "Date": "2011",
          "ISO": "BHS",
          "WHO_region": "Americas",
          "value": 14.5200004577637
         },
         {
          "Country": "Bahrain",
          "Date": "2011",
          "ISO": "BHR",
          "WHO_region": "Eastern Mediterranean",
          "value": 1.27400004863739
         },
         {
          "Country": "Bangladesh",
          "Date": "2011",
          "ISO": "BGD",
          "WHO_region": "South-East Asia",
          "value": 3.70499992370605
         },
         {
          "Country": "Barbados",
          "Date": "2011",
          "ISO": "BRB",
          "WHO_region": "Americas",
          "value": 11.1899995803833
         },
         {
          "Country": "Belarus",
          "Date": "2011",
          "ISO": "BLR",
          "WHO_region": "European",
          "value": 6.09800004959106
         },
         {
          "Country": "Belgium",
          "Date": "2011",
          "ISO": "BEL",
          "WHO_region": "European",
          "value": 7.1399998664856
         },
         {
          "Country": "Belize",
          "Date": "2011",
          "ISO": "BLZ",
          "WHO_region": "Americas",
          "value": 8.42599964141846
         },
         {
          "Country": "Benin",
          "Date": "2011",
          "ISO": "BEN",
          "WHO_region": "African",
          "value": 2.64599990844727
         },
         {
          "Country": "Bhutan",
          "Date": "2011",
          "ISO": "BTN",
          "WHO_region": "South-East Asia",
          "value": 3.23000001907349
         },
         {
          "Country": "Bolivia (Plurinational State of)",
          "Date": "2011",
          "ISO": "BOL",
          "WHO_region": "Americas",
          "value": 2.21900010108948
         },
         {
          "Country": "Bosnia and Herzegovina",
          "Date": "2011",
          "ISO": "BIH",
          "WHO_region": "European",
          "value": 27.5820007324219
         },
         {
          "Country": "Botswana",
          "Date": "2011",
          "ISO": "BWA",
          "WHO_region": "African",
          "value": 17.8649997711182
         },
         {
          "Country": "Brazil",
          "Date": "2011",
          "ISO": "BRA",
          "WHO_region": "Americas",
          "value": 6.91699981689453
         },
         {
          "Country": "Brunei Darussalam",
          "Date": "2011",
          "ISO": "BRN",
          "WHO_region": "Western Pacific",
          "value": 6.69399976730347
         },
         {
          "Country": "Bulgaria",
          "Date": "2011",
          "ISO": "BGR",
          "WHO_region": "European",
          "value": 11.2600002288818
         },
         {
          "Country": "Burkina Faso",
          "Date": "2011",
          "ISO": "BFA",
          "WHO_region": "African",
          "value": 5.14300012588501
         },
         {
          "Country": "Burundi",
          "Date": "2011",
          "ISO": "BDI",
          "WHO_region": "African",
          "value": 1.7150000333786
         },
         {
          "Country": "Cabo Verde",
          "Date": "2011",
          "ISO": "CPV",
          "WHO_region": "African",
          "value": 10.9350004196167
         },
         {
          "Country": "Cambodia",
          "Date": "2011",
          "ISO": "KHM",
          "WHO_region": "Western Pacific",
          "value": 0.577000021934509
         },
         {
          "Country": "Cameroon",
          "Date": "2011",
          "ISO": "CMR",
          "WHO_region": "African",
          "value": 3.96900010108948
         },
         {
          "Country": "Canada",
          "Date": "2011",
          "ISO": "CAN",
          "WHO_region": "Americas",
          "value": 7.51100015640259
         },
         {
          "Country": "Central African Republic",
          "Date": "2011",
          "ISO": "CAF",
          "WHO_region": "African",
          "value": 3.92899990081787
         },
         {
          "Country": "Chad",
          "Date": "2011",
          "ISO": "TCD",
          "WHO_region": "African",
          "value": 1.63300001621246
         },
         {
          "Country": "Channel Islands",
          "Date": "2011",
          "ISO": "CHI",
          "WHO_region": "Other",
          "value": 8.37800025939941
         },
         {
          "Country": "Chile",
          "Date": "2011",
          "ISO": "CHL",
          "WHO_region": "Americas",
          "value": 7.3439998626709
         },
         {
          "Country": "China",
          "Date": "2011",
          "ISO": "CHN",
          "WHO_region": "Western Pacific",
          "value": 4.5479998588562
         },
         {
          "Country": "Colombia",
          "Date": "2011",
          "ISO": "COL",
          "WHO_region": "Americas",
          "value": 10.1110000610352
         },
         {
          "Country": "Comoros",
          "Date": "2011",
          "ISO": "COM",
          "WHO_region": "African",
          "value": 4.55100011825562
         },
         {
          "Country": "Congo",
          "Date": "2011",
          "ISO": "COD",
          "WHO_region": "African",
          "value": 4.22200012207031
         },
         {
          "Country": "Democratic Republic of the Congo",
          "Date": "2011",
          "ISO": "COG",
          "WHO_region": "African",
          "value": 11.8970003128052
         },
         {
          "Country": "Costa Rica",
          "Date": "2011",
          "ISO": "CRI",
          "WHO_region": "Americas",
          "value": 10.1389999389648
         },
         {
          "Country": "Côte d’Ivoire",
          "Date": "2011",
          "ISO": "CIV",
          "WHO_region": "African",
          "value": 6.9539999961853
         },
         {
          "Country": "Croatia",
          "Date": "2011",
          "ISO": "HRV",
          "WHO_region": "European",
          "value": 13.6780004501343
         },
         {
          "Country": "Cuba",
          "Date": "2011",
          "ISO": "CUB",
          "WHO_region": "Americas",
          "value": 3.1800000667572
         },
         {
          "Country": "Cyprus",
          "Date": "2011",
          "ISO": "CYP",
          "WHO_region": "European",
          "value": 7.85599994659424
         },
         {
          "Country": "Czechia",
          "Date": "2011",
          "ISO": "CZE",
          "WHO_region": "European",
          "value": 6.71099996566772
         },
         {
          "Country": "Denmark",
          "Date": "2011",
          "ISO": "DNK",
          "WHO_region": "European",
          "value": 7.57299995422363
         },
         {
          "Country": "Djibouti",
          "Date": "2011",
          "ISO": "DJI",
          "WHO_region": "Eastern Mediterranean",
          "value": 10.6850004196167
         },
         {
          "Country": "Dominican Republic",
          "Date": "2011",
          "ISO": "DOM",
          "WHO_region": "Americas",
          "value": 6.08699989318848
         },
         {
          "Country": "Ecuador",
          "Date": "2011",
          "ISO": "ECU",
          "WHO_region": "Americas",
          "value": 3.45799994468689
         },
         {
          "Country": "Egypt",
          "Date": "2011",
          "ISO": "EGY",
          "WHO_region": "Eastern Mediterranean",
          "value": 11.8489999771118
         },
         {
          "Country": "El Salvador",
          "Date": "2011",
          "ISO": "SLV",
          "WHO_region": "Americas",
          "value": 4.29699993133545
         },
         {
          "Country": "Equatorial Guinea",
          "Date": "2011",
          "ISO": "GNQ",
          "WHO_region": "African",
          "value": 6.72599983215332
         },
         {
          "Country": "Eritrea",
          "Date": "2011",
          "ISO": "ERI",
          "WHO_region": "African",
          "value": 5.41200017929077
         },
         {
          "Country": "Estonia",
          "Date": "2011",
          "ISO": "EST",
          "WHO_region": "European",
          "value": 12.3280000686646
         },
         {
          "Country": "Eswatini",
          "Date": "2011",
          "ISO": "SWZ",
          "WHO_region": "African",
          "value": 26.242000579834
         },
         {
          "Country": "Ethiopia",
          "Date": "2011",
          "ISO": "ETH",
          "WHO_region": "African",
          "value": 2.30399990081787
         },
         {
          "Country": "Fiji",
          "Date": "2011",
          "ISO": "FJI",
          "WHO_region": "Western Pacific",
          "value": 4.40500020980835
         },
         {
          "Country": "Finland",
          "Date": "2011",
          "ISO": "FIN",
          "WHO_region": "European",
          "value": 7.7810001373291
         },
         {
          "Country": "France",
          "Date": "2011",
          "ISO": "FRA",
          "WHO_region": "European",
          "value": 8.81099987030029
         },
         {
          "Country": "French Polynesia",
          "Date": "2011",
          "ISO": "PYF",
          "WHO_region": "Western Pacific",
          "value": 14.3140001296997
         },
         {
          "Country": "Gabon",
          "Date": "2011",
          "ISO": "GAB",
          "WHO_region": "African",
          "value": 20.3959999084473
         },
         {
          "Country": "Gambia",
          "Date": "2011",
          "ISO": "GMB",
          "WHO_region": "African",
          "value": 9.39900016784668
         },
         {
          "Country": "Georgia",
          "Date": "2011",
          "ISO": "GEO",
          "WHO_region": "European",
          "value": 19.6319999694824
         },
         {
          "Country": "Germany",
          "Date": "2011",
          "ISO": "DEU",
          "WHO_region": "European",
          "value": 5.82399988174438
         },
         {
          "Country": "Ghana",
          "Date": "2011",
          "ISO": "GHA",
          "WHO_region": "African",
          "value": 5.61899995803833
         },
         {
          "Country": "Greece",
          "Date": "2011",
          "ISO": "GRC",
          "WHO_region": "European",
          "value": 17.8649997711182
         },
         {
          "Country": "Guam",
          "Date": "2011",
          "ISO": "GUM",
          "WHO_region": "Western Pacific",
          "value": 13.3000001907349
         },
         {
          "Country": "Guatemala",
          "Date": "2011",
          "ISO": "GTM",
          "WHO_region": "Americas",
          "value": 3.1159999370575
         },
         {
          "Country": "Guinea",
          "Date": "2011",
          "ISO": "GIN",
          "WHO_region": "African",
          "value": 4.48999977111816
         },
         {
          "Country": "Guinea-Bissau",
          "Date": "2011",
          "ISO": "GNB",
          "WHO_region": "African",
          "value": 2.65799999237061
         },
         {
          "Country": "Guyana",
          "Date": "2011",
          "ISO": "GUY",
          "WHO_region": "Americas",
          "value": 11.5869998931885
         },
         {
          "Country": "Haiti",
          "Date": "2011",
          "ISO": "HTI",
          "WHO_region": "Americas",
          "value": 14.7229995727539
         },
         {
          "Country": "Honduras",
          "Date": "2011",
          "ISO": "HND",
          "WHO_region": "Americas",
          "value": 4.47399997711182
         },
         {
          "Country": "China HongKong",
          "Date": "2011",
          "ISO": "HKG",
          "WHO_region": "Western Pacific",
          "value": 3.42000007629395
         },
         {
          "Country": "Hungary",
          "Date": "2011",
          "ISO": "HUN",
          "WHO_region": "European",
          "value": 11.0290002822876
         },
         {
          "Country": "Iceland",
          "Date": "2011",
          "ISO": "ISL",
          "WHO_region": "European",
          "value": 7.02799987792969
         },
         {
          "Country": "India",
          "Date": "2011",
          "ISO": "IND",
          "WHO_region": "South-East Asia",
          "value": 5.63800001144409
         },
         {
          "Country": "Indonesia",
          "Date": "2011",
          "ISO": "IDN",
          "WHO_region": "South-East Asia",
          "value": 5.15299987792969
         },
         {
          "Country": "Iran (Islamic Republic of)",
          "Date": "2011",
          "ISO": "IRN",
          "WHO_region": "Eastern Mediterranean",
          "value": 12.4499998092651
         },
         {
          "Country": "Iraq",
          "Date": "2011",
          "ISO": "IRQ",
          "WHO_region": "Eastern Mediterranean",
          "value": 8.15799999237061
         },
         {
          "Country": "Ireland",
          "Date": "2011",
          "ISO": "IRL",
          "WHO_region": "European",
          "value": 15.3529996871948
         },
         {
          "Country": "Israel",
          "Date": "2011",
          "ISO": "ISR",
          "WHO_region": "European",
          "value": 7.13899993896484
         },
         {
          "Country": "Italy",
          "Date": "2011",
          "ISO": "ITA",
          "WHO_region": "European",
          "value": 8.35900020599365
         },
         {
          "Country": "Jamaica",
          "Date": "2011",
          "ISO": "JAM",
          "WHO_region": "Americas",
          "value": 12.6999998092651
         },
         {
          "Country": "Japan",
          "Date": "2011",
          "ISO": "JPN",
          "WHO_region": "Western Pacific",
          "value": 4.52099990844727
         },
         {
          "Country": "Jordan",
          "Date": "2011",
          "ISO": "JOR",
          "WHO_region": "Eastern Mediterranean",
          "value": 12.8999996185303
         },
         {
          "Country": "Kazakhstan",
          "Date": "2011",
          "ISO": "KAZ",
          "WHO_region": "European",
          "value": 5.3899998664856
         },
         {
          "Country": "Kenya",
          "Date": "2011",
          "ISO": "KEN",
          "WHO_region": "African",
          "value": 2.84400010108948
         },
         {
          "Country": "Democratic People's Republic of Korea",
          "Date": "2011",
          "ISO": "PRK",
          "WHO_region": "South-East Asia",
          "value": 2.94400000572205
         },
         {
          "Country": "Republic of Korea",
          "Date": "2011",
          "ISO": "KOR",
          "WHO_region": "Western Pacific",
          "value": 3.40000009536743
         },
         {
          "Country": "Kuwait",
          "Date": "2011",
          "ISO": "KWT",
          "WHO_region": "Eastern Mediterranean",
          "value": 2.21600008010864
         },
         {
          "Country": "Kyrgyzstan",
          "Date": "2011",
          "ISO": "KGZ",
          "WHO_region": "European",
          "value": 8.52999973297119
         },
         {
          "Country": "Lao People's Democratic Republic",
          "Date": "2011",
          "ISO": "LAO",
          "WHO_region": "Western Pacific",
          "value": 0.708999991416931
         },
         {
          "Country": "Latvia",
          "Date": "2011",
          "ISO": "LVA",
          "WHO_region": "European",
          "value": 16.2059993743896
         },
         {
          "Country": "Lebanon",
          "Date": "2011",
          "ISO": "LBN",
          "WHO_region": "Eastern Mediterranean",
          "value": 6.42199993133545
         },
         {
          "Country": "Lesotho",
          "Date": "2011",
          "ISO": "LSO",
          "WHO_region": "African",
          "value": 26.0419998168945
         },
         {
          "Country": "Liberia",
          "Date": "2011",
          "ISO": "LBR",
          "WHO_region": "African",
          "value": 2.23799991607666
         },
         {
          "Country": "Libya",
          "Date": "2011",
          "ISO": "LBY",
          "WHO_region": "Eastern Mediterranean",
          "value": 19.0049991607666
         },
         {
          "Country": "Lithuania",
          "Date": "2011",
          "ISO": "LTU",
          "WHO_region": "European",
          "value": 15.3900003433228
         },
         {
          "Country": "Luxembourg",
          "Date": "2011",
          "ISO": "LUX",
          "WHO_region": "European",
          "value": 4.90100002288818
         },
         {
          "Country": "China Macao",
          "Date": "2011",
          "ISO": "MAC",
          "WHO_region": "Western Pacific",
          "value": 2.55999994277954
         },
         {
          "Country": "Madagascar",
          "Date": "2011",
          "ISO": "MDG",
          "WHO_region": "African",
          "value": 2.01900005340576
         },
         {
          "Country": "Malawi",
          "Date": "2011",
          "ISO": "MWI",
          "WHO_region": "African",
          "value": 5.91400003433228
         },
         {
          "Country": "Malaysia",
          "Date": "2011",
          "ISO": "MYS",
          "WHO_region": "Western Pacific",
          "value": 3.04999995231628
         },
         {
          "Country": "Maldives",
          "Date": "2011",
          "ISO": "MDV",
          "WHO_region": "South-East Asia",
          "value": 4.40899991989136
         },
         {
          "Country": "Mali",
          "Date": "2011",
          "ISO": "MLI",
          "WHO_region": "African",
          "value": 6.90000009536743
         },
         {
          "Country": "Malta",
          "Date": "2011",
          "ISO": "MLT",
          "WHO_region": "European",
          "value": 6.37799978256226
         },
         {
          "Country": "Mauritania",
          "Date": "2011",
          "ISO": "MRT",
          "WHO_region": "African",
          "value": 9.8459997177124
         },
         {
          "Country": "Mauritius",
          "Date": "2011",
          "ISO": "MUS",
          "WHO_region": "African",
          "value": 7.44700002670288
         },
         {
          "Country": "Mexico",
          "Date": "2011",
          "ISO": "MEX",
          "WHO_region": "Americas",
          "value": 5.17000007629395
         },
         {
          "Country": "Republic of Moldova",
          "Date": "2011",
          "ISO": "MDA",
          "WHO_region": "European",
          "value": 6.68200016021729
         },
         {
          "Country": "Mongolia",
          "Date": "2011",
          "ISO": "MNG",
          "WHO_region": "Western Pacific",
          "value": 4.76900005340576
         },
         {
          "Country": "Montenegro",
          "Date": "2011",
          "ISO": "MNE",
          "WHO_region": "European",
          "value": 19.6709995269775
         },
         {
          "Country": "Morocco",
          "Date": "2011",
          "ISO": "MAR",
          "WHO_region": "Eastern Mediterranean",
          "value": 8.90999984741211
         },
         {
          "Country": "Mozambique",
          "Date": "2011",
          "ISO": "MOZ",
          "WHO_region": "African",
          "value": 3.3050000667572
         },
         {
          "Country": "Myanmar",
          "Date": "2011",
          "ISO": "MMR",
          "WHO_region": "South-East Asia",
          "value": 0.78600001335144
         },
         {
          "Country": "Namibia",
          "Date": "2011",
          "ISO": "NAM",
          "WHO_region": "African",
          "value": 19.3349990844727
         },
         {
          "Country": "Nepal",
          "Date": "2011",
          "ISO": "NPL",
          "WHO_region": "South-East Asia",
          "value": 1.51699995994568
         },
         {
          "Country": "Netherlands",
          "Date": "2011",
          "ISO": "NLD",
          "WHO_region": "European",
          "value": 4.97700023651123
         },
         {
          "Country": "New Caledonia",
          "Date": "2011",
          "ISO": "NCL",
          "WHO_region": "Western Pacific",
          "value": 14.3559999465942
         },
         {
          "Country": "New Zealand",
          "Date": "2011",
          "ISO": "NZL",
          "WHO_region": "Western Pacific",
          "value": 6.49100017547607
         },
         {
          "Country": "Nicaragua",
          "Date": "2011",
          "ISO": "NIC",
          "WHO_region": "Americas",
          "value": 6.44700002670288
         },
         {
          "Country": "Niger",
          "Date": "2011",
          "ISO": "NER",
          "WHO_region": "African",
          "value": 0.31700000166893
         },
         {
          "Country": "Nigeria",
          "Date": "2011",
          "ISO": "NGA",
          "WHO_region": "African",
          "value": 3.76999998092651
         },
         {
          "Country": "North Macedonia",
          "Date": "2011",
          "ISO": "MKD",
          "WHO_region": "European",
          "value": 31.3770008087158
         },
         {
          "Country": "Norway",
          "Date": "2011",
          "ISO": "NOR",
          "WHO_region": "European",
          "value": 3.21499991416931
         },
         {
          "Country": "Oman",
          "Date": "2011",
          "ISO": "OMN",
          "WHO_region": "Eastern Mediterranean",
          "value": 4.62400007247925
         },
         {
          "Country": "Pakistan",
          "Date": "2011",
          "ISO": "PAK",
          "WHO_region": "Eastern Mediterranean",
          "value": 0.796000003814697
         },
         {
          "Country": "Panama",
          "Date": "2011",
          "ISO": "PAN",
          "WHO_region": "Americas",
          "value": 2.31100010871887
         },
         {
          "Country": "Papua New Guinea",
          "Date": "2011",
          "ISO": "PNG",
          "WHO_region": "Western Pacific",
          "value": 2.61999988555908
         },
         {
          "Country": "Paraguay",
          "Date": "2011",
          "ISO": "PRY",
          "WHO_region": "Americas",
          "value": 4.66900014877319
         },
         {
          "Country": "Peru",
          "Date": "2011",
          "ISO": "PER",
          "WHO_region": "Americas",
          "value": 3.44199991226196
         },
         {
          "Country": "Philippines",
          "Date": "2011",
          "ISO": "PHL",
          "WHO_region": "Western Pacific",
          "value": 3.59200000762939
         },
         {
          "Country": "Poland",
          "Date": "2011",
          "ISO": "POL",
          "WHO_region": "European",
          "value": 9.63199996948242
         },
         {
          "Country": "Portugal",
          "Date": "2011",
          "ISO": "PRT",
          "WHO_region": "European",
          "value": 12.6770000457764
         },
         {
          "Country": "Puerto Rico",
          "Date": "2011",
          "ISO": "PRI",
          "WHO_region": "Americas",
          "value": 15.6999998092651
         },
         {
          "Country": "Qatar",
          "Date": "2011",
          "ISO": "QAT",
          "WHO_region": "Eastern Mediterranean",
          "value": 0.560000002384186
         },
         {
          "Country": "Romania",
          "Date": "2011",
          "ISO": "ROU",
          "WHO_region": "European",
          "value": 7.17700004577637
         },
         {
          "Country": "Russian Federation",
          "Date": "2011",
          "ISO": "RUS",
          "WHO_region": "European",
          "value": 6.53599977493286
         },
         {
          "Country": "Rwanda",
          "Date": "2011",
          "ISO": "RWA",
          "WHO_region": "African",
          "value": 1.10199999809265
         },
         {
          "Country": "Samoa",
          "Date": "2011",
          "ISO": "WSM",
          "WHO_region": "Western Pacific",
          "value": 5.67999982833862
         },
         {
          "Country": "Sao Tome and Principe",
          "Date": "2011",
          "ISO": "STP",
          "WHO_region": "African",
          "value": 14.1120004653931
         },
         {
          "Country": "Saudi Arabia",
          "Date": "2011",
          "ISO": "SAU",
          "WHO_region": "Eastern Mediterranean",
          "value": 5.76999998092651
         },
         {
          "Country": "Senegal",
          "Date": "2011",
          "ISO": "SEN",
          "WHO_region": "African",
          "value": 10.3599996566772
         },
         {
          "Country": "Serbia",
          "Date": "2011",
          "ISO": "SRB",
          "WHO_region": "European",
          "value": 22.9659996032715
         },
         {
          "Country": "Sierra Leone",
          "Date": "2011",
          "ISO": "SLE",
          "WHO_region": "African",
          "value": 4.29300022125244
         },
         {
          "Country": "Singapore",
          "Date": "2011",
          "ISO": "SGP",
          "WHO_region": "Western Pacific",
          "value": 3.89000010490417
         },
         {
          "Country": "Slovakia",
          "Date": "2011",
          "ISO": "SVK",
          "WHO_region": "European",
          "value": 13.6169996261597
         },
         {
          "Country": "Slovenia",
          "Date": "2011",
          "ISO": "SVN",
          "WHO_region": "European",
          "value": 8.16600036621094
         },
         {
          "Country": "Solomon Islands",
          "Date": "2011",
          "ISO": "SLB",
          "WHO_region": "Western Pacific",
          "value": 1.28600001335144
         },
         {
          "Country": "Somalia",
          "Date": "2011",
          "ISO": "SOM",
          "WHO_region": "Eastern Mediterranean",
          "value": 11.7279996871948
         },
         {
          "Country": "South Africa",
          "Date": "2011",
          "ISO": "ZAF",
          "WHO_region": "African",
          "value": 24.6529998779297
         },
         {
          "Country": "South Sudan",
          "Date": "2011",
          "ISO": "SSD",
          "WHO_region": "African",
          "value": 12.6809997558594
         },
         {
          "Country": "Spain",
          "Date": "2011",
          "ISO": "ESP",
          "WHO_region": "European",
          "value": 21.3899993896484
         },
         {
          "Country": "Sri Lanka",
          "Date": "2011",
          "ISO": "LKA",
          "WHO_region": "South-East Asia",
          "value": 4.11800003051758
         },
         {
          "Country": "Saint Lucia",
          "Date": "2011",
          "ISO": "LCA",
          "WHO_region": "Americas",
          "value": 18.8600006103516
         },
         {
          "Country": "Saint Vincent and the Grenadines",
          "Date": "2011",
          "ISO": "VCT",
          "WHO_region": "Americas",
          "value": 19.4479999542236
         },
         {
          "Country": "Sudan",
          "Date": "2011",
          "ISO": "SDN",
          "WHO_region": "Eastern Mediterranean",
          "value": 17.4400005340576
         },
         {
          "Country": "Suriname",
          "Date": "2011",
          "ISO": "SUR",
          "WHO_region": "Americas",
          "value": 7.53999996185303
         },
         {
          "Country": "Sweden",
          "Date": "2011",
          "ISO": "SWE",
          "WHO_region": "European",
          "value": 7.80399990081787
         },
         {
          "Country": "Switzerland",
          "Date": "2011",
          "ISO": "CHE",
          "WHO_region": "European",
          "value": 4.40799999237061
         },
         {
          "Country": "Syrian Arab Republic",
          "Date": "2011",
          "ISO": "SYR",
          "WHO_region": "Eastern Mediterranean",
          "value": 8.61400032043457
         },
         {
          "Country": "Tajikistan",
          "Date": "2011",
          "ISO": "TJK",
          "WHO_region": "European",
          "value": 11.6140003204346
         },
         {
          "Country": "United Republic of Tanzania",
          "Date": "2011",
          "ISO": "TZA",
          "WHO_region": "African",
          "value": 3.47000002861023
         },
         {
          "Country": "Thailand",
          "Date": "2011",
          "ISO": "THA",
          "WHO_region": "South-East Asia",
          "value": 0.660000026226044
         },
         {
          "Country": "Timor-Leste",
          "Date": "2011",
          "ISO": "TLS",
          "WHO_region": "South-East Asia",
          "value": 3.52999997138977
         },
         {
          "Country": "Togo",
          "Date": "2011",
          "ISO": "TGO",
          "WHO_region": "African",
          "value": 1.98199999332428
         },
         {
          "Country": "Tonga",
          "Date": "2011",
          "ISO": "TON",
          "WHO_region": "Western Pacific",
          "value": 1.15199995040894
         },
         {
          "Country": "Trinidad and Tobago",
          "Date": "2011",
          "ISO": "TTO",
          "WHO_region": "Americas",
          "value": 3.24799990653992
         },
         {
          "Country": "Tunisia",
          "Date": "2011",
          "ISO": "TUN",
          "WHO_region": "Eastern Mediterranean",
          "value": 18.3339996337891
         },
         {
          "Country": "Turkey",
          "Date": "2011",
          "ISO": "TUR",
          "WHO_region": "European",
          "value": 8.79599952697754
         },
         {
          "Country": "Turkmenistan",
          "Date": "2011",
          "ISO": "TKM",
          "WHO_region": "European",
          "value": 4.0019998550415
         },
         {
          "Country": "Uganda",
          "Date": "2011",
          "ISO": "UGA",
          "WHO_region": "African",
          "value": 3.58200001716614
         },
         {
          "Country": "Ukraine",
          "Date": "2011",
          "ISO": "UKR",
          "WHO_region": "European",
          "value": 7.85099983215332
         },
         {
          "Country": "United Arab Emirates",
          "Date": "2011",
          "ISO": "ARE",
          "WHO_region": "Eastern Mediterranean",
          "value": 2.49600005149841
         },
         {
          "Country": "The United Kingdom",
          "Date": "2011",
          "ISO": "GBR",
          "WHO_region": "European",
          "value": 8.03699970245361
         },
         {
          "Country": "United States of America",
          "Date": "2011",
          "ISO": "USA",
          "WHO_region": "Americas",
          "value": 8.94900035858154
         },
         {
          "Country": "Uruguay",
          "Date": "2011",
          "ISO": "URY",
          "WHO_region": "Americas",
          "value": 6.30700016021729
         },
         {
          "Country": "Uzbekistan",
          "Date": "2011",
          "ISO": "UZB",
          "WHO_region": "European",
          "value": 4.96000003814697
         },
         {
          "Country": "Vanuatu",
          "Date": "2011",
          "ISO": "VUT",
          "WHO_region": "Western Pacific",
          "value": 4.62799978256226
         },
         {
          "Country": "Venezuela (Bolivarian Republic of)",
          "Date": "2011",
          "ISO": "VEN",
          "WHO_region": "Americas",
          "value": 6.90199995040894
         },
         {
          "Country": "Viet Nam",
          "Date": "2011",
          "ISO": "VNM",
          "WHO_region": "Western Pacific",
          "value": 1.875
         },
         {
          "Country": "United States Virgin Islands",
          "Date": "2011",
          "ISO": "VIR",
          "WHO_region": "Americas",
          "value": 9.89200019836426
         },
         {
          "Country": "occupied Palestinian territory, including east Jerusalem",
          "Date": "2011",
          "ISO": "PSE",
          "WHO_region": "Eastern Mediterranean",
          "value": 17.5970001220703
         },
         {
          "Country": "Yemen",
          "Date": "2011",
          "ISO": "YEM",
          "WHO_region": "Eastern Mediterranean",
          "value": 13.0799999237061
         },
         {
          "Country": "Zambia",
          "Date": "2011",
          "ISO": "ZMB",
          "WHO_region": "African",
          "value": 10.3430004119873
         },
         {
          "Country": "Zimbabwe",
          "Date": "2011",
          "ISO": "ZWE",
          "WHO_region": "African",
          "value": 5.36800003051758
         },
         {
          "Country": "Afghanistan",
          "Date": "2012",
          "ISO": "AFG",
          "WHO_region": "Eastern Mediterranean",
          "value": 11.5080003738403
         },
         {
          "Country": "Albania",
          "Date": "2012",
          "ISO": "ALB",
          "WHO_region": "European",
          "value": 13.3760004043579
         },
         {
          "Country": "Algeria",
          "Date": "2012",
          "ISO": "DZA",
          "WHO_region": "African",
          "value": 10.9700002670288
         },
         {
          "Country": "Angola",
          "Date": "2012",
          "ISO": "AGO",
          "WHO_region": "African",
          "value": 7.37900018692017
         },
         {
          "Country": "Argentina",
          "Date": "2012",
          "ISO": "ARG",
          "WHO_region": "Americas",
          "value": 7.21700000762939
         },
         {
          "Country": "Armenia",
          "Date": "2012",
          "ISO": "ARM",
          "WHO_region": "European",
          "value": 17.3010005950928
         },
         {
          "Country": "Australia",
          "Date": "2012",
          "ISO": "AUS",
          "WHO_region": "Western Pacific",
          "value": 5.22399997711182
         },
         {
          "Country": "Austria",
          "Date": "2012",
          "ISO": "AUT",
          "WHO_region": "European",
          "value": 4.86499977111816
         },
         {
          "Country": "Azerbaijan",
          "Date": "2012",
          "ISO": "AZE",
          "WHO_region": "European",
          "value": 5.19000005722046
         },
         {
          "Country": "Bahamas",
          "Date": "2012",
          "ISO": "BHS",
          "WHO_region": "Americas",
          "value": 14.0200004577637
         },
         {
          "Country": "Bahrain",
          "Date": "2012",
          "ISO": "BHR",
          "WHO_region": "Eastern Mediterranean",
          "value": 1.20000004768372
         },
         {
          "Country": "Bangladesh",
          "Date": "2012",
          "ISO": "BGD",
          "WHO_region": "South-East Asia",
          "value": 4.05499982833862
         },
         {
          "Country": "Barbados",
          "Date": "2012",
          "ISO": "BRB",
          "WHO_region": "Americas",
          "value": 11.5900001525879
         },
         {
          "Country": "Belarus",
          "Date": "2012",
          "ISO": "BLR",
          "WHO_region": "European",
          "value": 6.07800006866455
         },
         {
          "Country": "Belgium",
          "Date": "2012",
          "ISO": "BEL",
          "WHO_region": "European",
          "value": 7.54199981689453
         },
         {
          "Country": "Belize",
          "Date": "2012",
          "ISO": "BLZ",
          "WHO_region": "Americas",
          "value": 8.38500022888184
         },
         {
          "Country": "Benin",
          "Date": "2012",
          "ISO": "BEN",
          "WHO_region": "African",
          "value": 2.66000008583069
         },
         {
          "Country": "Bhutan",
          "Date": "2012",
          "ISO": "BTN",
          "WHO_region": "South-East Asia",
          "value": 2.04999995231628
         },
         {
          "Country": "Bolivia (Plurinational State of)",
          "Date": "2012",
          "ISO": "BOL",
          "WHO_region": "Americas",
          "value": 2.04800009727478
         },
         {
          "Country": "Bosnia and Herzegovina",
          "Date": "2012",
          "ISO": "BIH",
          "WHO_region": "European",
          "value": 28.0100002288818
         },
         {
          "Country": "Botswana",
          "Date": "2012",
          "ISO": "BWA",
          "WHO_region": "African",
          "value": 17.8889999389648
         },
         {
          "Country": "Brazil",
          "Date": "2012",
          "ISO": "BRA",
          "WHO_region": "Americas",
          "value": 7.18599987030029
         },
         {
          "Country": "Brunei Darussalam",
          "Date": "2012",
          "ISO": "BRN",
          "WHO_region": "Western Pacific",
          "value": 6.90500020980835
         },
         {
          "Country": "Bulgaria",
          "Date": "2012",
          "ISO": "BGR",
          "WHO_region": "European",
          "value": 12.2700004577637
         },
         {
          "Country": "Burkina Faso",
          "Date": "2012",
          "ISO": "BFA",
          "WHO_region": "African",
          "value": 5.60099983215332
         },
         {
          "Country": "Burundi",
          "Date": "2012",
          "ISO": "BDI",
          "WHO_region": "African",
          "value": 1.67799997329712
         },
         {
          "Country": "Cabo Verde",
          "Date": "2012",
          "ISO": "CPV",
          "WHO_region": "African",
          "value": 11.2180004119873
         },
         {
          "Country": "Cambodia",
          "Date": "2012",
          "ISO": "KHM",
          "WHO_region": "Western Pacific",
          "value": 0.504999995231628
         },
         {
          "Country": "Cameroon",
          "Date": "2012",
          "ISO": "CMR",
          "WHO_region": "African",
          "value": 3.83699989318848
         },
         {
          "Country": "Canada",
          "Date": "2012",
          "ISO": "CAN",
          "WHO_region": "Americas",
          "value": 7.29199981689453
         },
         {
          "Country": "Central African Republic",
          "Date": "2012",
          "ISO": "CAF",
          "WHO_region": "African",
          "value": 3.94000005722046
         },
         {
          "Country": "Chad",
          "Date": "2012",
          "ISO": "TCD",
          "WHO_region": "African",
          "value": 1.7039999961853
         },
         {
          "Country": "Channel Islands",
          "Date": "2012",
          "ISO": "CHI",
          "WHO_region": "Other",
          "value": 8.46399974822998
         },
         {
          "Country": "Chile",
          "Date": "2012",
          "ISO": "CHL",
          "WHO_region": "Americas",
          "value": 6.65899991989136
         },
         {
          "Country": "China",
          "Date": "2012",
          "ISO": "CHN",
          "WHO_region": "Western Pacific",
          "value": 4.57000017166138
         },
         {
          "Country": "Colombia",
          "Date": "2012",
          "ISO": "COL",
          "WHO_region": "Americas",
          "value": 9.73999977111816
         },
         {
          "Country": "Comoros",
          "Date": "2012",
          "ISO": "COM",
          "WHO_region": "African",
          "value": 4.56300020217896
         },
         {
          "Country": "Congo",
          "Date": "2012",
          "ISO": "COD",
          "WHO_region": "African",
          "value": 4.4850001335144
         },
         {
          "Country": "Democratic Republic of the Congo",
          "Date": "2012",
          "ISO": "COG",
          "WHO_region": "African",
          "value": 10
         },
         {
          "Country": "Costa Rica",
          "Date": "2012",
          "ISO": "CRI",
          "WHO_region": "Americas",
          "value": 9.78400039672852
         },
         {
          "Country": "Côte d’Ivoire",
          "Date": "2012",
          "ISO": "CIV",
          "WHO_region": "African",
          "value": 7.22300004959106
         },
         {
          "Country": "Croatia",
          "Date": "2012",
          "ISO": "HRV",
          "WHO_region": "European",
          "value": 15.9350004196167
         },
         {
          "Country": "Cuba",
          "Date": "2012",
          "ISO": "CUB",
          "WHO_region": "Americas",
          "value": 3.46000003814697
         },
         {
          "Country": "Cyprus",
          "Date": "2012",
          "ISO": "CYP",
          "WHO_region": "European",
          "value": 11.7950000762939
         },
         {
          "Country": "Czechia",
          "Date": "2012",
          "ISO": "CZE",
          "WHO_region": "European",
          "value": 6.97800016403198
         },
         {
          "Country": "Denmark",
          "Date": "2012",
          "ISO": "DNK",
          "WHO_region": "European",
          "value": 7.52600002288818
         },
         {
          "Country": "Djibouti",
          "Date": "2012",
          "ISO": "DJI",
          "WHO_region": "Eastern Mediterranean",
          "value": 10.7040004730225
         },
         {
          "Country": "Dominican Republic",
          "Date": "2012",
          "ISO": "DOM",
          "WHO_region": "Americas",
          "value": 6.72200012207031
         },
         {
          "Country": "Ecuador",
          "Date": "2012",
          "ISO": "ECU",
          "WHO_region": "Americas",
          "value": 3.23499989509583
         },
         {
          "Country": "Egypt",
          "Date": "2012",
          "ISO": "EGY",
          "WHO_region": "Eastern Mediterranean",
          "value": 12.5970001220703
         },
         {
          "Country": "El Salvador",
          "Date": "2012",
          "ISO": "SLV",
          "WHO_region": "Americas",
          "value": 3.84299993515015
         },
         {
          "Country": "Equatorial Guinea",
          "Date": "2012",
          "ISO": "GNQ",
          "WHO_region": "African",
          "value": 6.74100017547607
         },
         {
          "Country": "Eritrea",
          "Date": "2012",
          "ISO": "ERI",
          "WHO_region": "African",
          "value": 5.42600011825562
         },
         {
          "Country": "Estonia",
          "Date": "2012",
          "ISO": "EST",
          "WHO_region": "European",
          "value": 10.0209999084473
         },
         {
          "Country": "Eswatini",
          "Date": "2012",
          "ISO": "SWZ",
          "WHO_region": "African",
          "value": 25.5979995727539
         },
         {
          "Country": "Ethiopia",
          "Date": "2012",
          "ISO": "ETH",
          "WHO_region": "African",
          "value": 2.27600002288818
         },
         {
          "Country": "Fiji",
          "Date": "2012",
          "ISO": "FJI",
          "WHO_region": "Western Pacific",
          "value": 4.4229998588562
         },
         {
          "Country": "Finland",
          "Date": "2012",
          "ISO": "FIN",
          "WHO_region": "European",
          "value": 7.68900012969971
         },
         {
          "Country": "France",
          "Date": "2012",
          "ISO": "FRA",
          "WHO_region": "European",
          "value": 9.39999961853027
         },
         {
          "Country": "French Polynesia",
          "Date": "2012",
          "ISO": "PYF",
          "WHO_region": "Western Pacific",
          "value": 14.5819997787476
         },
         {
          "Country": "Gabon",
          "Date": "2012",
          "ISO": "GAB",
          "WHO_region": "African",
          "value": 20.423999786377
         },
         {
          "Country": "Gambia",
          "Date": "2012",
          "ISO": "GMB",
          "WHO_region": "African",
          "value": 9.41699981689453
         },
         {
          "Country": "Georgia",
          "Date": "2012",
          "ISO": "GEO",
          "WHO_region": "European",
          "value": 19.6529998779297
         },
         {
          "Country": "Germany",
          "Date": "2012",
          "ISO": "DEU",
          "WHO_region": "European",
          "value": 5.37900018692017
         },
         {
          "Country": "Ghana",
          "Date": "2012",
          "ISO": "GHA",
          "WHO_region": "African",
          "value": 5.93699979782104
         },
         {
          "Country": "Greece",
          "Date": "2012",
          "ISO": "GRC",
          "WHO_region": "European",
          "value": 24.4389991760254
         },
         {
          "Country": "Guam",
          "Date": "2012",
          "ISO": "GUM",
          "WHO_region": "Western Pacific",
          "value": 12.1999998092651
         },
         {
          "Country": "Guatemala",
          "Date": "2012",
          "ISO": "GTM",
          "WHO_region": "Americas",
          "value": 2.76500010490417
         },
         {
          "Country": "Guinea",
          "Date": "2012",
          "ISO": "GIN",
          "WHO_region": "African",
          "value": 4.5019998550415
         },
         {
          "Country": "Guinea-Bissau",
          "Date": "2012",
          "ISO": "GNB",
          "WHO_region": "African",
          "value": 2.66799998283386
         },
         {
          "Country": "Guyana",
          "Date": "2012",
          "ISO": "GUY",
          "WHO_region": "Americas",
          "value": 11.7379999160767
         },
         {
          "Country": "Haiti",
          "Date": "2012",
          "ISO": "HTI",
          "WHO_region": "Americas",
          "value": 14.1000003814697
         },
         {
          "Country": "Honduras",
          "Date": "2012",
          "ISO": "HND",
          "WHO_region": "Americas",
          "value": 3.75399994850159
         },
         {
          "Country": "China HongKong",
          "Date": "2012",
          "ISO": "HKG",
          "WHO_region": "Western Pacific",
          "value": 3.28999996185303
         },
         {
          "Country": "Hungary",
          "Date": "2012",
          "ISO": "HUN",
          "WHO_region": "European",
          "value": 11.0030002593994
         },
         {
          "Country": "Iceland",
          "Date": "2012",
          "ISO": "ISL",
          "WHO_region": "European",
          "value": 6
         },
         {
          "Country": "India",
          "Date": "2012",
          "ISO": "IND",
          "WHO_region": "South-East Asia",
          "value": 5.65199995040894
         },
         {
          "Country": "Indonesia",
          "Date": "2012",
          "ISO": "IDN",
          "WHO_region": "South-East Asia",
          "value": 4.46799993515015
         },
         {
          "Country": "Iran (Islamic Republic of)",
          "Date": "2012",
          "ISO": "IRN",
          "WHO_region": "Eastern Mediterranean",
          "value": 12.6300001144409
         },
         {
          "Country": "Iraq",
          "Date": "2012",
          "ISO": "IRQ",
          "WHO_region": "Eastern Mediterranean",
          "value": 7.96500015258789
         },
         {
          "Country": "Ireland",
          "Date": "2012",
          "ISO": "IRL",
          "WHO_region": "European",
          "value": 15.451000213623
         },
         {
          "Country": "Israel",
          "Date": "2012",
          "ISO": "ISR",
          "WHO_region": "European",
          "value": 6.85699987411499
         },
         {
          "Country": "Italy",
          "Date": "2012",
          "ISO": "ITA",
          "WHO_region": "European",
          "value": 10.6549997329712
         },
         {
          "Country": "Jamaica",
          "Date": "2012",
          "ISO": "JAM",
          "WHO_region": "Americas",
          "value": 13.9300003051758
         },
         {
          "Country": "Japan",
          "Date": "2012",
          "ISO": "JPN",
          "WHO_region": "Western Pacific",
          "value": 4.30000019073486
         },
         {
          "Country": "Jordan",
          "Date": "2012",
          "ISO": "JOR",
          "WHO_region": "Eastern Mediterranean",
          "value": 12.1999998092651
         },
         {
          "Country": "Kazakhstan",
          "Date": "2012",
          "ISO": "KAZ",
          "WHO_region": "European",
          "value": 5.28999996185303
         },
         {
          "Country": "Kenya",
          "Date": "2012",
          "ISO": "KEN",
          "WHO_region": "African",
          "value": 2.85400009155273
         },
         {
          "Country": "Democratic People's Republic of Korea",
          "Date": "2012",
          "ISO": "PRK",
          "WHO_region": "South-East Asia",
          "value": 2.9539999961853
         },
         {
          "Country": "Republic of Korea",
          "Date": "2012",
          "ISO": "KOR",
          "WHO_region": "Western Pacific",
          "value": 3.20000004768372
         },
         {
          "Country": "Kuwait",
          "Date": "2012",
          "ISO": "KWT",
          "WHO_region": "Eastern Mediterranean",
          "value": 2.61500000953674
         },
         {
          "Country": "Kyrgyzstan",
          "Date": "2012",
          "ISO": "KGZ",
          "WHO_region": "European",
          "value": 8.43000030517578
         },
         {
          "Country": "Lao People's Democratic Republic",
          "Date": "2012",
          "ISO": "LAO",
          "WHO_region": "Western Pacific",
          "value": 0.712000012397766
         },
         {
          "Country": "Latvia",
          "Date": "2012",
          "ISO": "LVA",
          "WHO_region": "European",
          "value": 15.0469999313354
         },
         {
          "Country": "Lebanon",
          "Date": "2012",
          "ISO": "LBN",
          "WHO_region": "Eastern Mediterranean",
          "value": 6.43499994277954
         },
         {
          "Country": "Lesotho",
          "Date": "2012",
          "ISO": "LSO",
          "WHO_region": "African",
          "value": 25.3020000457764
         },
         {
          "Country": "Liberia",
          "Date": "2012",
          "ISO": "LBR",
          "WHO_region": "African",
          "value": 2.21499991416931
         },
         {
          "Country": "Libya",
          "Date": "2012",
          "ISO": "LBY",
          "WHO_region": "Eastern Mediterranean",
          "value": 19.0300006866455
         },
         {
          "Country": "Lithuania",
          "Date": "2012",
          "ISO": "LTU",
          "WHO_region": "European",
          "value": 13.3649997711182
         },
         {
          "Country": "Luxembourg",
          "Date": "2012",
          "ISO": "LUX",
          "WHO_region": "European",
          "value": 5.1399998664856
         },
         {
          "Country": "China Macao",
          "Date": "2012",
          "ISO": "MAC",
          "WHO_region": "Western Pacific",
          "value": 1.97000002861023
         },
         {
          "Country": "Madagascar",
          "Date": "2012",
          "ISO": "MDG",
          "WHO_region": "African",
          "value": 0.598999977111816
         },
         {
          "Country": "Malawi",
          "Date": "2012",
          "ISO": "MWI",
          "WHO_region": "African",
          "value": 5.92799997329712
         },
         {
          "Country": "Malaysia",
          "Date": "2012",
          "ISO": "MYS",
          "WHO_region": "Western Pacific",
          "value": 3.03999996185303
         },
         {
          "Country": "Maldives",
          "Date": "2012",
          "ISO": "MDV",
          "WHO_region": "South-East Asia",
          "value": 4.69500017166138
         },
         {
          "Country": "Mali",
          "Date": "2012",
          "ISO": "MLI",
          "WHO_region": "African",
          "value": 7.09600019454956
         },
         {
          "Country": "Malta",
          "Date": "2012",
          "ISO": "MLT",
          "WHO_region": "European",
          "value": 6.19600009918213
         },
         {
          "Country": "Mauritania",
          "Date": "2012",
          "ISO": "MRT",
          "WHO_region": "African",
          "value": 9.86499977111816
         },
         {
          "Country": "Mauritius",
          "Date": "2012",
          "ISO": "MUS",
          "WHO_region": "African",
          "value": 7.47200012207031
         },
         {
          "Country": "Mexico",
          "Date": "2012",
          "ISO": "MEX",
          "WHO_region": "Americas",
          "value": 4.88700008392334
         },
         {
          "Country": "Republic of Moldova",
          "Date": "2012",
          "ISO": "MDA",
          "WHO_region": "European",
          "value": 5.57800006866455
         },
         {
          "Country": "Mongolia",
          "Date": "2012",
          "ISO": "MNG",
          "WHO_region": "Western Pacific",
          "value": 3.90499997138977
         },
         {
          "Country": "Montenegro",
          "Date": "2012",
          "ISO": "MNE",
          "WHO_region": "European",
          "value": 19.9740009307861
         },
         {
          "Country": "Morocco",
          "Date": "2012",
          "ISO": "MAR",
          "WHO_region": "Eastern Mediterranean",
          "value": 8.98999977111816
         },
         {
          "Country": "Mozambique",
          "Date": "2012",
          "ISO": "MOZ",
          "WHO_region": "African",
          "value": 3.36199998855591
         },
         {
          "Country": "Myanmar",
          "Date": "2012",
          "ISO": "MMR",
          "WHO_region": "South-East Asia",
          "value": 0.790000021457672
         },
         {
          "Country": "Namibia",
          "Date": "2012",
          "ISO": "NAM",
          "WHO_region": "African",
          "value": 16.7709999084473
         },
         {
          "Country": "Nepal",
          "Date": "2012",
          "ISO": "NPL",
          "WHO_region": "South-East Asia",
          "value": 1.52499997615814
         },
         {
          "Country": "Netherlands",
          "Date": "2012",
          "ISO": "NLD",
          "WHO_region": "European",
          "value": 5.82100009918213
         },
         {
          "Country": "New Caledonia",
          "Date": "2012",
          "ISO": "NCL",
          "WHO_region": "Western Pacific",
          "value": 14.6719999313354
         },
         {
          "Country": "New Zealand",
          "Date": "2012",
          "ISO": "NZL",
          "WHO_region": "Western Pacific",
          "value": 6.93100023269653
         },
         {
          "Country": "Nicaragua",
          "Date": "2012",
          "ISO": "NIC",
          "WHO_region": "Americas",
          "value": 5.20800018310547
         },
         {
          "Country": "Niger",
          "Date": "2012",
          "ISO": "NER",
          "WHO_region": "African",
          "value": 0.38400000333786
         },
         {
          "Country": "Nigeria",
          "Date": "2012",
          "ISO": "NGA",
          "WHO_region": "African",
          "value": 3.73499989509583
         },
         {
          "Country": "North Macedonia",
          "Date": "2012",
          "ISO": "MKD",
          "WHO_region": "European",
          "value": 31.0160007476807
         },
         {
          "Country": "Norway",
          "Date": "2012",
          "ISO": "NOR",
          "WHO_region": "European",
          "value": 3.12299990653992
         },
         {
          "Country": "Oman",
          "Date": "2012",
          "ISO": "OMN",
          "WHO_region": "Eastern Mediterranean",
          "value": 4.5310001373291
         },
         {
          "Country": "Pakistan",
          "Date": "2012",
          "ISO": "PAK",
          "WHO_region": "Eastern Mediterranean",
          "value": 1.70000004768372
         },
         {
          "Country": "Panama",
          "Date": "2012",
          "ISO": "PAN",
          "WHO_region": "Americas",
          "value": 2.39100003242493
         },
         {
          "Country": "Papua New Guinea",
          "Date": "2012",
          "ISO": "PNG",
          "WHO_region": "Western Pacific",
          "value": 2.63000011444092
         },
         {
          "Country": "Paraguay",
          "Date": "2012",
          "ISO": "PRY",
          "WHO_region": "Americas",
          "value": 4.08500003814697
         },
         {
          "Country": "Peru",
          "Date": "2012",
          "ISO": "PER",
          "WHO_region": "Americas",
          "value": 3.10899996757507
         },
         {
          "Country": "Philippines",
          "Date": "2012",
          "ISO": "PHL",
          "WHO_region": "Western Pacific",
          "value": 3.50399994850159
         },
         {
          "Country": "Poland",
          "Date": "2012",
          "ISO": "POL",
          "WHO_region": "European",
          "value": 10.0880002975464
         },
         {
          "Country": "Portugal",
          "Date": "2012",
          "ISO": "PRT",
          "WHO_region": "European",
          "value": 15.5270004272461
         },
         {
          "Country": "Puerto Rico",
          "Date": "2012",
          "ISO": "PRI",
          "WHO_region": "Americas",
          "value": 14.5
         },
         {
          "Country": "Qatar",
          "Date": "2012",
          "ISO": "QAT",
          "WHO_region": "Eastern Mediterranean",
          "value": 0.479999989271164
         },
         {
          "Country": "Romania",
          "Date": "2012",
          "ISO": "ROU",
          "WHO_region": "European",
          "value": 6.79400014877319
         },
         {
          "Country": "Russian Federation",
          "Date": "2012",
          "ISO": "RUS",
          "WHO_region": "European",
          "value": 5.43599987030029
         },
         {
          "Country": "Rwanda",
          "Date": "2012",
          "ISO": "RWA",
          "WHO_region": "African",
          "value": 1.13800001144409
         },
         {
          "Country": "Samoa",
          "Date": "2012",
          "ISO": "WSM",
          "WHO_region": "Western Pacific",
          "value": 8.7519998550415
         },
         {
          "Country": "Sao Tome and Principe",
          "Date": "2012",
          "ISO": "STP",
          "WHO_region": "African",
          "value": 13.5900001525879
         },
         {
          "Country": "Saudi Arabia",
          "Date": "2012",
          "ISO": "SAU",
          "WHO_region": "Eastern Mediterranean",
          "value": 5.51999998092651
         },
         {
          "Country": "Senegal",
          "Date": "2012",
          "ISO": "SEN",
          "WHO_region": "African",
          "value": 9.42700004577637
         },
         {
          "Country": "Serbia",
          "Date": "2012",
          "ISO": "SRB",
          "WHO_region": "European",
          "value": 24
         },
         {
          "Country": "Sierra Leone",
          "Date": "2012",
          "ISO": "SLE",
          "WHO_region": "African",
          "value": 4.44099998474121
         },
         {
          "Country": "Singapore",
          "Date": "2012",
          "ISO": "SGP",
          "WHO_region": "Western Pacific",
          "value": 3.72000002861023
         },
         {
          "Country": "Slovakia",
          "Date": "2012",
          "ISO": "SVK",
          "WHO_region": "European",
          "value": 13.9630002975464
         },
         {
          "Country": "Slovenia",
          "Date": "2012",
          "ISO": "SVN",
          "WHO_region": "European",
          "value": 8.84000015258789
         },
         {
          "Country": "Solomon Islands",
          "Date": "2012",
          "ISO": "SLB",
          "WHO_region": "Western Pacific",
          "value": 0.967999994754791
         },
         {
          "Country": "Somalia",
          "Date": "2012",
          "ISO": "SOM",
          "WHO_region": "Eastern Mediterranean",
          "value": 11.7480001449585
         },
         {
          "Country": "South Africa",
          "Date": "2012",
          "ISO": "ZAF",
          "WHO_region": "African",
          "value": 24.7320003509521
         },
         {
          "Country": "South Sudan",
          "Date": "2012",
          "ISO": "SSD",
          "WHO_region": "African",
          "value": 12.7019996643066
         },
         {
          "Country": "Spain",
          "Date": "2012",
          "ISO": "ESP",
          "WHO_region": "European",
          "value": 24.7870006561279
         },
         {
          "Country": "Sri Lanka",
          "Date": "2012",
          "ISO": "LKA",
          "WHO_region": "South-East Asia",
          "value": 3.88000011444092
         },
         {
          "Country": "Saint Lucia",
          "Date": "2012",
          "ISO": "LCA",
          "WHO_region": "Americas",
          "value": 19.0599994659424
         },
         {
          "Country": "Saint Vincent and the Grenadines",
          "Date": "2012",
          "ISO": "VCT",
          "WHO_region": "Americas",
          "value": 19.4729995727539
         },
         {
          "Country": "Sudan",
          "Date": "2012",
          "ISO": "SDN",
          "WHO_region": "Eastern Mediterranean",
          "value": 17.4659996032715
         },
         {
          "Country": "Suriname",
          "Date": "2012",
          "ISO": "SUR",
          "WHO_region": "Americas",
          "value": 8.10000038146973
         },
         {
          "Country": "Sweden",
          "Date": "2012",
          "ISO": "SWE",
          "WHO_region": "European",
          "value": 7.97599983215332
         },
         {
          "Country": "Switzerland",
          "Date": "2012",
          "ISO": "CHE",
          "WHO_region": "European",
          "value": 4.4850001335144
         },
         {
          "Country": "Syrian Arab Republic",
          "Date": "2012",
          "ISO": "SYR",
          "WHO_region": "Eastern Mediterranean",
          "value": 8.63099956512451
         },
         {
          "Country": "Tajikistan",
          "Date": "2012",
          "ISO": "TJK",
          "WHO_region": "European",
          "value": 11.6359996795654
         },
         {
          "Country": "United Republic of Tanzania",
          "Date": "2012",
          "ISO": "TZA",
          "WHO_region": "African",
          "value": 3.19300007820129
         },
         {
          "Country": "Thailand",
          "Date": "2012",
          "ISO": "THA",
          "WHO_region": "South-East Asia",
          "value": 0.579999983310699
         },
         {
          "Country": "Timor-Leste",
          "Date": "2012",
          "ISO": "TLS",
          "WHO_region": "South-East Asia",
          "value": 3.77600002288818
         },
         {
          "Country": "Togo",
          "Date": "2012",
          "ISO": "TGO",
          "WHO_region": "African",
          "value": 2.05200004577637
         },
         {
          "Country": "Tonga",
          "Date": "2012",
          "ISO": "TON",
          "WHO_region": "Western Pacific",
          "value": 1.15600001811981
         },
         {
          "Country": "Trinidad and Tobago",
          "Date": "2012",
          "ISO": "TTO",
          "WHO_region": "Americas",
          "value": 3.45300006866455
         },
         {
          "Country": "Tunisia",
          "Date": "2012",
          "ISO": "TUN",
          "WHO_region": "Eastern Mediterranean",
          "value": 17.6299991607666
         },
         {
          "Country": "Turkey",
          "Date": "2012",
          "ISO": "TUR",
          "WHO_region": "European",
          "value": 8.14900016784668
         },
         {
          "Country": "Turkmenistan",
          "Date": "2012",
          "ISO": "TKM",
          "WHO_region": "European",
          "value": 4.01200008392334
         },
         {
          "Country": "Uganda",
          "Date": "2012",
          "ISO": "UGA",
          "WHO_region": "African",
          "value": 3.55100011825562
         },
         {
          "Country": "Ukraine",
          "Date": "2012",
          "ISO": "UKR",
          "WHO_region": "European",
          "value": 7.52899980545044
         },
         {
          "Country": "United Arab Emirates",
          "Date": "2012",
          "ISO": "ARE",
          "WHO_region": "Eastern Mediterranean",
          "value": 2.5090000629425
         },
         {
          "Country": "The United Kingdom",
          "Date": "2012",
          "ISO": "GBR",
          "WHO_region": "European",
          "value": 7.88500022888184
         },
         {
          "Country": "United States of America",
          "Date": "2012",
          "ISO": "USA",
          "WHO_region": "Americas",
          "value": 8.06900024414063
         },
         {
          "Country": "Uruguay",
          "Date": "2012",
          "ISO": "URY",
          "WHO_region": "Americas",
          "value": 6.45100021362305
         },
         {
          "Country": "Uzbekistan",
          "Date": "2012",
          "ISO": "UZB",
          "WHO_region": "European",
          "value": 4.86999988555908
         },
         {
          "Country": "Vanuatu",
          "Date": "2012",
          "ISO": "VUT",
          "WHO_region": "Western Pacific",
          "value": 4.64099979400635
         },
         {
          "Country": "Venezuela (Bolivarian Republic of)",
          "Date": "2012",
          "ISO": "VEN",
          "WHO_region": "Americas",
          "value": 6.60099983215332
         },
         {
          "Country": "Viet Nam",
          "Date": "2012",
          "ISO": "VNM",
          "WHO_region": "Western Pacific",
          "value": 1.67599999904633
         },
         {
          "Country": "United States Virgin Islands",
          "Date": "2012",
          "ISO": "VIR",
          "WHO_region": "Americas",
          "value": 10.0349998474121
         },
         {
          "Country": "occupied Palestinian territory, including east Jerusalem",
          "Date": "2012",
          "ISO": "PSE",
          "WHO_region": "Eastern Mediterranean",
          "value": 19.2019996643066
         },
         {
          "Country": "Yemen",
          "Date": "2012",
          "ISO": "YEM",
          "WHO_region": "Eastern Mediterranean",
          "value": 13.2480001449585
         },
         {
          "Country": "Zambia",
          "Date": "2012",
          "ISO": "ZMB",
          "WHO_region": "African",
          "value": 7.84999990463257
         },
         {
          "Country": "Zimbabwe",
          "Date": "2012",
          "ISO": "ZWE",
          "WHO_region": "African",
          "value": 5.38100004196167
         },
         {
          "Country": "Afghanistan",
          "Date": "2013",
          "ISO": "AFG",
          "WHO_region": "Eastern Mediterranean",
          "value": 11.5340003967285
         },
         {
          "Country": "Albania",
          "Date": "2013",
          "ISO": "ALB",
          "WHO_region": "European",
          "value": 15.8660001754761
         },
         {
          "Country": "Algeria",
          "Date": "2013",
          "ISO": "DZA",
          "WHO_region": "African",
          "value": 9.81999969482422
         },
         {
          "Country": "Angola",
          "Date": "2013",
          "ISO": "AGO",
          "WHO_region": "African",
          "value": 7.40000009536743
         },
         {
          "Country": "Argentina",
          "Date": "2013",
          "ISO": "ARG",
          "WHO_region": "Americas",
          "value": 7.09999990463257
         },
         {
          "Country": "Armenia",
          "Date": "2013",
          "ISO": "ARM",
          "WHO_region": "European",
          "value": 16.1790008544922
         },
         {
          "Country": "Australia",
          "Date": "2013",
          "ISO": "AUS",
          "WHO_region": "Western Pacific",
          "value": 5.66200017929077
         },
         {
          "Country": "Austria",
          "Date": "2013",
          "ISO": "AUT",
          "WHO_region": "European",
          "value": 5.33500003814697
         },
         {
          "Country": "Azerbaijan",
          "Date": "2013",
          "ISO": "AZE",
          "WHO_region": "European",
          "value": 4.96999979019165
         },
         {
          "Country": "Bahamas",
          "Date": "2013",
          "ISO": "BHS",
          "WHO_region": "Americas",
          "value": 16.1800003051758
         },
         {
          "Country": "Bahrain",
          "Date": "2013",
          "ISO": "BHR",
          "WHO_region": "Eastern Mediterranean",
          "value": 1.32299995422363
         },
         {
          "Country": "Bangladesh",
          "Date": "2013",
          "ISO": "BGD",
          "WHO_region": "South-East Asia",
          "value": 4.42600011825562
         },
         {
          "Country": "Barbados",
          "Date": "2013",
          "ISO": "BRB",
          "WHO_region": "Americas",
          "value": 11.5500001907349
         },
         {
          "Country": "Belarus",
          "Date": "2013",
          "ISO": "BLR",
          "WHO_region": "European",
          "value": 6.06300020217896
         },
         {
          "Country": "Belgium",
          "Date": "2013",
          "ISO": "BEL",
          "WHO_region": "European",
          "value": 8.42500019073486
         },
         {
          "Country": "Belize",
          "Date": "2013",
          "ISO": "BLZ",
          "WHO_region": "Americas",
          "value": 8.34899997711182
         },
         {
          "Country": "Benin",
          "Date": "2013",
          "ISO": "BEN",
          "WHO_region": "African",
          "value": 2.67700004577637
         },
         {
          "Country": "Bhutan",
          "Date": "2013",
          "ISO": "BTN",
          "WHO_region": "South-East Asia",
          "value": 2.86999988555908
         },
         {
          "Country": "Bolivia (Plurinational State of)",
          "Date": "2013",
          "ISO": "BOL",
          "WHO_region": "Americas",
          "value": 2.39400005340576
         },
         {
          "Country": "Bosnia and Herzegovina",
          "Date": "2013",
          "ISO": "BIH",
          "WHO_region": "European",
          "value": 27.4500007629395
         },
         {
          "Country": "Botswana",
          "Date": "2013",
          "ISO": "BWA",
          "WHO_region": "African",
          "value": 17.9209995269775
         },
         {
          "Country": "Brazil",
          "Date": "2013",
          "ISO": "BRA",
          "WHO_region": "Americas",
          "value": 6.97599983215332
         },
         {
          "Country": "Brunei Darussalam",
          "Date": "2013",
          "ISO": "BRN",
          "WHO_region": "Western Pacific",
          "value": 7.12599992752075
         },
         {
          "Country": "Bulgaria",
          "Date": "2013",
          "ISO": "BGR",
          "WHO_region": "European",
          "value": 12.9409999847412
         },
         {
          "Country": "Burkina Faso",
          "Date": "2013",
          "ISO": "BFA",
          "WHO_region": "African",
          "value": 6.08699989318848
         },
         {
          "Country": "Burundi",
          "Date": "2013",
          "ISO": "BDI",
          "WHO_region": "African",
          "value": 1.64400005340576
         },
         {
          "Country": "Cabo Verde",
          "Date": "2013",
          "ISO": "CPV",
          "WHO_region": "African",
          "value": 11.5109996795654
         },
         {
          "Country": "Cambodia",
          "Date": "2013",
          "ISO": "KHM",
          "WHO_region": "Western Pacific",
          "value": 0.437999993562698
         },
         {
          "Country": "Cameroon",
          "Date": "2013",
          "ISO": "CMR",
          "WHO_region": "African",
          "value": 3.71099996566772
         },
         {
          "Country": "Canada",
          "Date": "2013",
          "ISO": "CAN",
          "WHO_region": "Americas",
          "value": 7.07399988174438
         },
         {
          "Country": "Central African Republic",
          "Date": "2013",
          "ISO": "CAF",
          "WHO_region": "African",
          "value": 3.95600008964539
         },
         {
          "Country": "Chad",
          "Date": "2013",
          "ISO": "TCD",
          "WHO_region": "African",
          "value": 1.78100001811981
         },
         {
          "Country": "Channel Islands",
          "Date": "2013",
          "ISO": "CHI",
          "WHO_region": "Other",
          "value": 8.52099990844727
         },
         {
          "Country": "Chile",
          "Date": "2013",
          "ISO": "CHL",
          "WHO_region": "Americas",
          "value": 6.21400022506714
         },
         {
          "Country": "China",
          "Date": "2013",
          "ISO": "CHN",
          "WHO_region": "Western Pacific",
          "value": 4.59000015258789
         },
         {
          "Country": "Colombia",
          "Date": "2013",
          "ISO": "COL",
          "WHO_region": "Americas",
          "value": 9.05200004577637
         },
         {
          "Country": "Comoros",
          "Date": "2013",
          "ISO": "COM",
          "WHO_region": "African",
          "value": 4.5789999961853
         },
         {
          "Country": "Congo",
          "Date": "2013",
          "ISO": "COD",
          "WHO_region": "African",
          "value": 4.50299978256226
         },
         {
          "Country": "Democratic Republic of the Congo",
          "Date": "2013",
          "ISO": "COG",
          "WHO_region": "African",
          "value": 10.0200004577637
         },
         {
          "Country": "Costa Rica",
          "Date": "2013",
          "ISO": "CRI",
          "WHO_region": "Americas",
          "value": 8.76799964904785
         },
         {
          "Country": "Côte d’Ivoire",
          "Date": "2013",
          "ISO": "CIV",
          "WHO_region": "African",
          "value": 4.25400018692017
         },
         {
          "Country": "Croatia",
          "Date": "2013",
          "ISO": "HRV",
          "WHO_region": "European",
          "value": 17.2509994506836
         },
         {
          "Country": "Cuba",
          "Date": "2013",
          "ISO": "CUB",
          "WHO_region": "Americas",
          "value": 3.28999996185303
         },
         {
          "Country": "Cyprus",
          "Date": "2013",
          "ISO": "CYP",
          "WHO_region": "European",
          "value": 15.871000289917
         },
         {
          "Country": "Czechia",
          "Date": "2013",
          "ISO": "CZE",
          "WHO_region": "European",
          "value": 6.95300006866455
         },
         {
          "Country": "Denmark",
          "Date": "2013",
          "ISO": "DNK",
          "WHO_region": "European",
          "value": 6.99700021743774
         },
         {
          "Country": "Djibouti",
          "Date": "2013",
          "ISO": "DJI",
          "WHO_region": "Eastern Mediterranean",
          "value": 10.7290000915527
         },
         {
          "Country": "Dominican Republic",
          "Date": "2013",
          "ISO": "DOM",
          "WHO_region": "Americas",
          "value": 7.35200023651123
         },
         {
          "Country": "Ecuador",
          "Date": "2013",
          "ISO": "ECU",
          "WHO_region": "Americas",
          "value": 3.08299994468689
         },
         {
          "Country": "Egypt",
          "Date": "2013",
          "ISO": "EGY",
          "WHO_region": "Eastern Mediterranean",
          "value": 13.1540002822876
         },
         {
          "Country": "El Salvador",
          "Date": "2013",
          "ISO": "SLV",
          "WHO_region": "Americas",
          "value": 3.69300007820129
         },
         {
          "Country": "Equatorial Guinea",
          "Date": "2013",
          "ISO": "GNQ",
          "WHO_region": "African",
          "value": 6.76100015640259
         },
         {
          "Country": "Eritrea",
          "Date": "2013",
          "ISO": "ERI",
          "WHO_region": "African",
          "value": 5.44399976730347
         },
         {
          "Country": "Estonia",
          "Date": "2013",
          "ISO": "EST",
          "WHO_region": "European",
          "value": 8.63099956512451
         },
         {
          "Country": "Eswatini",
          "Date": "2013",
          "ISO": "SWZ",
          "WHO_region": "African",
          "value": 24.9710006713867
         },
         {
          "Country": "Ethiopia",
          "Date": "2013",
          "ISO": "ETH",
          "WHO_region": "African",
          "value": 2.25099992752075
         },
         {
          "Country": "Fiji",
          "Date": "2013",
          "ISO": "FJI",
          "WHO_region": "Western Pacific",
          "value": 4.44500017166138
         },
         {
          "Country": "Finland",
          "Date": "2013",
          "ISO": "FIN",
          "WHO_region": "European",
          "value": 8.19299983978271
         },
         {
          "Country": "France",
          "Date": "2013",
          "ISO": "FRA",
          "WHO_region": "European",
          "value": 9.92099952697754
         },
         {
          "Country": "French Polynesia",
          "Date": "2013",
          "ISO": "PYF",
          "WHO_region": "Western Pacific",
          "value": 14.8039999008179
         },
         {
          "Country": "Gabon",
          "Date": "2013",
          "ISO": "GAB",
          "WHO_region": "African",
          "value": 20.4599990844727
         },
         {
          "Country": "Gambia",
          "Date": "2013",
          "ISO": "GMB",
          "WHO_region": "African",
          "value": 9.44099998474121
         },
         {
          "Country": "Georgia",
          "Date": "2013",
          "ISO": "GEO",
          "WHO_region": "European",
          "value": 19.4160003662109
         },
         {
          "Country": "Germany",
          "Date": "2013",
          "ISO": "DEU",
          "WHO_region": "European",
          "value": 5.23099994659424
         },
         {
          "Country": "Ghana",
          "Date": "2013",
          "ISO": "GHA",
          "WHO_region": "African",
          "value": 6.26900005340576
         },
         {
          "Country": "Greece",
          "Date": "2013",
          "ISO": "GRC",
          "WHO_region": "European",
          "value": 27.4659996032715
         },
         {
          "Country": "Guam",
          "Date": "2013",
          "ISO": "GUM",
          "WHO_region": "Western Pacific",
          "value": 11.5
         },
         {
          "Country": "Guatemala",
          "Date": "2013",
          "ISO": "GTM",
          "WHO_region": "Americas",
          "value": 3.01699995994568
         },
         {
          "Country": "Guinea",
          "Date": "2013",
          "ISO": "GIN",
          "WHO_region": "African",
          "value": 4.51800012588501
         },
         {
          "Country": "Guinea-Bissau",
          "Date": "2013",
          "ISO": "GNB",
          "WHO_region": "African",
          "value": 2.6800000667572
         },
         {
          "Country": "Guyana",
          "Date": "2013",
          "ISO": "GUY",
          "WHO_region": "Americas",
          "value": 11.8959999084473
         },
         {
          "Country": "Haiti",
          "Date": "2013",
          "ISO": "HTI",
          "WHO_region": "Americas",
          "value": 14.1300001144409
         },
         {
          "Country": "Honduras",
          "Date": "2013",
          "ISO": "HND",
          "WHO_region": "Americas",
          "value": 4.09600019454956
         },
         {
          "Country": "China HongKong",
          "Date": "2013",
          "ISO": "HKG",
          "WHO_region": "Western Pacific",
          "value": 3.40000009536743
         },
         {
          "Country": "Hungary",
          "Date": "2013",
          "ISO": "HUN",
          "WHO_region": "European",
          "value": 10.1759996414185
         },
         {
          "Country": "Iceland",
          "Date": "2013",
          "ISO": "ISL",
          "WHO_region": "European",
          "value": 5.37599992752075
         },
         {
          "Country": "India",
          "Date": "2013",
          "ISO": "IND",
          "WHO_region": "South-East Asia",
          "value": 5.6710000038147
         },
         {
          "Country": "Indonesia",
          "Date": "2013",
          "ISO": "IDN",
          "WHO_region": "South-East Asia",
          "value": 4.33599996566772
         },
         {
          "Country": "Iran (Islamic Republic of)",
          "Date": "2013",
          "ISO": "IRN",
          "WHO_region": "Eastern Mediterranean",
          "value": 10.4399995803833
         },
         {
          "Country": "Iraq",
          "Date": "2013",
          "ISO": "IRQ",
          "WHO_region": "Eastern Mediterranean",
          "value": 9.27799987792969
         },
         {
          "Country": "Ireland",
          "Date": "2013",
          "ISO": "IRL",
          "WHO_region": "European",
          "value": 13.7349996566772
         },
         {
          "Country": "Israel",
          "Date": "2013",
          "ISO": "ISR",
          "WHO_region": "European",
          "value": 6.20800018310547
         },
         {
          "Country": "Italy",
          "Date": "2013",
          "ISO": "ITA",
          "WHO_region": "European",
          "value": 12.1490001678467
         },
         {
          "Country": "Jamaica",
          "Date": "2013",
          "ISO": "JAM",
          "WHO_region": "Americas",
          "value": 15.2510004043579
         },
         {
          "Country": "Japan",
          "Date": "2013",
          "ISO": "JPN",
          "WHO_region": "Western Pacific",
          "value": 4
         },
         {
          "Country": "Jordan",
          "Date": "2013",
          "ISO": "JOR",
          "WHO_region": "Eastern Mediterranean",
          "value": 12.6000003814697
         },
         {
          "Country": "Kazakhstan",
          "Date": "2013",
          "ISO": "KAZ",
          "WHO_region": "European",
          "value": 5.19999980926514
         },
         {
          "Country": "Kenya",
          "Date": "2013",
          "ISO": "KEN",
          "WHO_region": "African",
          "value": 2.86700010299683
         },
         {
          "Country": "Democratic People's Republic of Korea",
          "Date": "2013",
          "ISO": "PRK",
          "WHO_region": "South-East Asia",
          "value": 2.96799993515015
         },
         {
          "Country": "Republic of Korea",
          "Date": "2013",
          "ISO": "KOR",
          "WHO_region": "Western Pacific",
          "value": 3.09999990463257
         },
         {
          "Country": "Kuwait",
          "Date": "2013",
          "ISO": "KWT",
          "WHO_region": "Eastern Mediterranean",
          "value": 2.92199993133545
         },
         {
          "Country": "Kyrgyzstan",
          "Date": "2013",
          "ISO": "KGZ",
          "WHO_region": "European",
          "value": 8.32999992370605
         },
         {
          "Country": "Lao People's Democratic Republic",
          "Date": "2013",
          "ISO": "LAO",
          "WHO_region": "Western Pacific",
          "value": 0.717000007629395
         },
         {
          "Country": "Latvia",
          "Date": "2013",
          "ISO": "LVA",
          "WHO_region": "European",
          "value": 11.8669996261597
         },
         {
          "Country": "Lebanon",
          "Date": "2013",
          "ISO": "LBN",
          "WHO_region": "Eastern Mediterranean",
          "value": 6.4520001411438
         },
         {
          "Country": "Lesotho",
          "Date": "2013",
          "ISO": "LSO",
          "WHO_region": "African",
          "value": 24.5799999237061
         },
         {
          "Country": "Liberia",
          "Date": "2013",
          "ISO": "LBR",
          "WHO_region": "African",
          "value": 2.19600009918213
         },
         {
          "Country": "Libya",
          "Date": "2013",
          "ISO": "LBY",
          "WHO_region": "Eastern Mediterranean",
          "value": 19.0629997253418
         },
         {
          "Country": "Lithuania",
          "Date": "2013",
          "ISO": "LTU",
          "WHO_region": "European",
          "value": 11.7700004577637
         },
         {
          "Country": "Luxembourg",
          "Date": "2013",
          "ISO": "LUX",
          "WHO_region": "European",
          "value": 5.84800004959106
         },
         {
          "Country": "China Macao",
          "Date": "2013",
          "ISO": "MAC",
          "WHO_region": "Western Pacific",
          "value": 1.82000005245209
         },
         {
          "Country": "Madagascar",
          "Date": "2013",
          "ISO": "MDG",
          "WHO_region": "African",
          "value": 0.935999989509583
         },
         {
          "Country": "Malawi",
          "Date": "2013",
          "ISO": "MWI",
          "WHO_region": "African",
          "value": 5.94600009918213
         },
         {
          "Country": "Malaysia",
          "Date": "2013",
          "ISO": "MYS",
          "WHO_region": "Western Pacific",
          "value": 3.10999989509583
         },
         {
          "Country": "Maldives",
          "Date": "2013",
          "ISO": "MDV",
          "WHO_region": "South-East Asia",
          "value": 4.99599981307983
         },
         {
          "Country": "Mali",
          "Date": "2013",
          "ISO": "MLI",
          "WHO_region": "African",
          "value": 7.30000019073486
         },
         {
          "Country": "Malta",
          "Date": "2013",
          "ISO": "MLT",
          "WHO_region": "European",
          "value": 6.10599994659424
         },
         {
          "Country": "Mauritania",
          "Date": "2013",
          "ISO": "MRT",
          "WHO_region": "African",
          "value": 9.88799953460693
         },
         {
          "Country": "Mauritius",
          "Date": "2013",
          "ISO": "MUS",
          "WHO_region": "African",
          "value": 7.32200002670288
         },
         {
          "Country": "Mexico",
          "Date": "2013",
          "ISO": "MEX",
          "WHO_region": "Americas",
          "value": 4.91400003433228
         },
         {
          "Country": "Republic of Moldova",
          "Date": "2013",
          "ISO": "MDA",
          "WHO_region": "European",
          "value": 5.10400009155273
         },
         {
          "Country": "Mongolia",
          "Date": "2013",
          "ISO": "MNG",
          "WHO_region": "Western Pacific",
          "value": 4.23099994659424
         },
         {
          "Country": "Montenegro",
          "Date": "2013",
          "ISO": "MNE",
          "WHO_region": "European",
          "value": 19.496000289917
         },
         {
          "Country": "Morocco",
          "Date": "2013",
          "ISO": "MAR",
          "WHO_region": "Eastern Mediterranean",
          "value": 9.22999954223633
         },
         {
          "Country": "Mozambique",
          "Date": "2013",
          "ISO": "MOZ",
          "WHO_region": "African",
          "value": 3.42199993133545
         },
         {
          "Country": "Myanmar",
          "Date": "2013",
          "ISO": "MMR",
          "WHO_region": "South-East Asia",
          "value": 0.796000003814697
         },
         {
          "Country": "Namibia",
          "Date": "2013",
          "ISO": "NAM",
          "WHO_region": "African",
          "value": 19.0279998779297
         },
         {
          "Country": "Nepal",
          "Date": "2013",
          "ISO": "NPL",
          "WHO_region": "South-East Asia",
          "value": 1.53400003910065
         },
         {
          "Country": "Netherlands",
          "Date": "2013",
          "ISO": "NLD",
          "WHO_region": "European",
          "value": 7.24300003051758
         },
         {
          "Country": "New Caledonia",
          "Date": "2013",
          "ISO": "NCL",
          "WHO_region": "Western Pacific",
          "value": 14.9139995574951
         },
         {
          "Country": "New Zealand",
          "Date": "2013",
          "ISO": "NZL",
          "WHO_region": "Western Pacific",
          "value": 6.2649998664856
         },
         {
          "Country": "Nicaragua",
          "Date": "2013",
          "ISO": "NIC",
          "WHO_region": "Americas",
          "value": 5.28000020980835
         },
         {
          "Country": "Niger",
          "Date": "2013",
          "ISO": "NER",
          "WHO_region": "African",
          "value": 0.458000004291534
         },
         {
          "Country": "Nigeria",
          "Date": "2013",
          "ISO": "NGA",
          "WHO_region": "African",
          "value": 3.70300006866455
         },
         {
          "Country": "North Macedonia",
          "Date": "2013",
          "ISO": "MKD",
          "WHO_region": "European",
          "value": 28.996000289917
         },
         {
          "Country": "Norway",
          "Date": "2013",
          "ISO": "NOR",
          "WHO_region": "European",
          "value": 3.42300009727478
         },
         {
          "Country": "Oman",
          "Date": "2013",
          "ISO": "OMN",
          "WHO_region": "Eastern Mediterranean",
          "value": 4.35799980163574
         },
         {
          "Country": "Pakistan",
          "Date": "2013",
          "ISO": "PAK",
          "WHO_region": "Eastern Mediterranean",
          "value": 2.9539999961853
         },
         {
          "Country": "Panama",
          "Date": "2013",
          "ISO": "PAN",
          "WHO_region": "Americas",
          "value": 2.29999995231628
         },
         {
          "Country": "Papua New Guinea",
          "Date": "2013",
          "ISO": "PNG",
          "WHO_region": "Western Pacific",
          "value": 2.64199995994568
         },
         {
          "Country": "Paraguay",
          "Date": "2013",
          "ISO": "PRY",
          "WHO_region": "Americas",
          "value": 4.38500022888184
         },
         {
          "Country": "Peru",
          "Date": "2013",
          "ISO": "PER",
          "WHO_region": "Americas",
          "value": 3.23699998855591
         },
         {
          "Country": "Philippines",
          "Date": "2013",
          "ISO": "PHL",
          "WHO_region": "Western Pacific",
          "value": 3.49699997901917
         },
         {
          "Country": "Poland",
          "Date": "2013",
          "ISO": "POL",
          "WHO_region": "European",
          "value": 10.326000213623
         },
         {
          "Country": "Portugal",
          "Date": "2013",
          "ISO": "PRT",
          "WHO_region": "European",
          "value": 16.1830005645752
         },
         {
          "Country": "Puerto Rico",
          "Date": "2013",
          "ISO": "PRI",
          "WHO_region": "Americas",
          "value": 14.3000001907349
         },
         {
          "Country": "Qatar",
          "Date": "2013",
          "ISO": "QAT",
          "WHO_region": "Eastern Mediterranean",
          "value": 0.280000001192093
         },
         {
          "Country": "Romania",
          "Date": "2013",
          "ISO": "ROU",
          "WHO_region": "European",
          "value": 7.09600019454956
         },
         {
          "Country": "Russian Federation",
          "Date": "2013",
          "ISO": "RUS",
          "WHO_region": "European",
          "value": 5.45800018310547
         },
         {
          "Country": "Rwanda",
          "Date": "2013",
          "ISO": "RWA",
          "WHO_region": "African",
          "value": 1.17799997329712
         },
         {
          "Country": "Samoa",
          "Date": "2013",
          "ISO": "WSM",
          "WHO_region": "Western Pacific",
          "value": 8.79599952697754
         },
         {
          "Country": "Sao Tome and Principe",
          "Date": "2013",
          "ISO": "STP",
          "WHO_region": "African",
          "value": 13.6160001754761
         },
         {
          "Country": "Saudi Arabia",
          "Date": "2013",
          "ISO": "SAU",
          "WHO_region": "Eastern Mediterranean",
          "value": 5.57000017166138
         },
         {
          "Country": "Senegal",
          "Date": "2013",
          "ISO": "SEN",
          "WHO_region": "African",
          "value": 8.54199981689453
         },
         {
          "Country": "Serbia",
          "Date": "2013",
          "ISO": "SRB",
          "WHO_region": "European",
          "value": 22.1539993286133
         },
         {
          "Country": "Sierra Leone",
          "Date": "2013",
          "ISO": "SLE",
          "WHO_region": "African",
          "value": 4.59700012207031
         },
         {
          "Country": "Singapore",
          "Date": "2013",
          "ISO": "SGP",
          "WHO_region": "Western Pacific",
          "value": 3.85999989509583
         },
         {
          "Country": "Slovakia",
          "Date": "2013",
          "ISO": "SVK",
          "WHO_region": "European",
          "value": 14.2209997177124
         },
         {
          "Country": "Slovenia",
          "Date": "2013",
          "ISO": "SVN",
          "WHO_region": "European",
          "value": 10.1020002365112
         },
         {
          "Country": "Solomon Islands",
          "Date": "2013",
          "ISO": "SLB",
          "WHO_region": "Western Pacific",
          "value": 0.694000005722046
         },
         {
          "Country": "Somalia",
          "Date": "2013",
          "ISO": "SOM",
          "WHO_region": "Eastern Mediterranean",
          "value": 11.7749996185303
         },
         {
          "Country": "South Africa",
          "Date": "2013",
          "ISO": "ZAF",
          "WHO_region": "African",
          "value": 24.5690002441406
         },
         {
          "Country": "South Sudan",
          "Date": "2013",
          "ISO": "SSD",
          "WHO_region": "African",
          "value": 12.7299995422363
         },
         {
          "Country": "Spain",
          "Date": "2013",
          "ISO": "ESP",
          "WHO_region": "European",
          "value": 26.0939998626709
         },
         {
          "Country": "Sri Lanka",
          "Date": "2013",
          "ISO": "LKA",
          "WHO_region": "South-East Asia",
          "value": 4.24100017547607
         },
         {
          "Country": "Saint Lucia",
          "Date": "2013",
          "ISO": "LCA",
          "WHO_region": "Americas",
          "value": 22.2099990844727
         },
         {
          "Country": "Saint Vincent and the Grenadines",
          "Date": "2013",
          "ISO": "VCT",
          "WHO_region": "Americas",
          "value": 19.5069999694824
         },
         {
          "Country": "Sudan",
          "Date": "2013",
          "ISO": "SDN",
          "WHO_region": "Eastern Mediterranean",
          "value": 17.4990005493164
         },
         {
          "Country": "Suriname",
          "Date": "2013",
          "ISO": "SUR",
          "WHO_region": "Americas",
          "value": 6.59999990463257
         },
         {
          "Country": "Sweden",
          "Date": "2013",
          "ISO": "SWE",
          "WHO_region": "European",
          "value": 8.05200004577637
         },
         {
          "Country": "Switzerland",
          "Date": "2013",
          "ISO": "CHE",
          "WHO_region": "European",
          "value": 4.74700021743774
         },
         {
          "Country": "Syrian Arab Republic",
          "Date": "2013",
          "ISO": "SYR",
          "WHO_region": "Eastern Mediterranean",
          "value": 8.65299987792969
         },
         {
          "Country": "Tajikistan",
          "Date": "2013",
          "ISO": "TJK",
          "WHO_region": "European",
          "value": 11.6660003662109
         },
         {
          "Country": "United Republic of Tanzania",
          "Date": "2013",
          "ISO": "TZA",
          "WHO_region": "African",
          "value": 2.9300000667572
         },
         {
          "Country": "Thailand",
          "Date": "2013",
          "ISO": "THA",
          "WHO_region": "South-East Asia",
          "value": 0.488999992609024
         },
         {
          "Country": "Timor-Leste",
          "Date": "2013",
          "ISO": "TLS",
          "WHO_region": "South-East Asia",
          "value": 4.03499984741211
         },
         {
          "Country": "Togo",
          "Date": "2013",
          "ISO": "TGO",
          "WHO_region": "African",
          "value": 2.12700009346008
         },
         {
          "Country": "Tonga",
          "Date": "2013",
          "ISO": "TON",
          "WHO_region": "Western Pacific",
          "value": 1.16199994087219
         },
         {
          "Country": "Trinidad and Tobago",
          "Date": "2013",
          "ISO": "TTO",
          "WHO_region": "Americas",
          "value": 2.46000003814697
         },
         {
          "Country": "Tunisia",
          "Date": "2013",
          "ISO": "TUN",
          "WHO_region": "Eastern Mediterranean",
          "value": 15.9340000152588
         },
         {
          "Country": "Turkey",
          "Date": "2013",
          "ISO": "TUR",
          "WHO_region": "European",
          "value": 8.73200035095215
         },
         {
          "Country": "Turkmenistan",
          "Date": "2013",
          "ISO": "TKM",
          "WHO_region": "European",
          "value": 4.02400016784668
         },
         {
          "Country": "Uganda",
          "Date": "2013",
          "ISO": "UGA",
          "WHO_region": "African",
          "value": 1.9099999666214
         },
         {
          "Country": "Ukraine",
          "Date": "2013",
          "ISO": "UKR",
          "WHO_region": "European",
          "value": 7.17000007629395
         },
         {
          "Country": "United Arab Emirates",
          "Date": "2013",
          "ISO": "ARE",
          "WHO_region": "Eastern Mediterranean",
          "value": 2.57599997520447
         },
         {
          "Country": "The United Kingdom",
          "Date": "2013",
          "ISO": "GBR",
          "WHO_region": "European",
          "value": 7.52500009536743
         },
         {
          "Country": "United States of America",
          "Date": "2013",
          "ISO": "USA",
          "WHO_region": "Americas",
          "value": 7.375
         },
         {
          "Country": "Uruguay",
          "Date": "2013",
          "ISO": "URY",
          "WHO_region": "Americas",
          "value": 6.44399976730347
         },
         {
          "Country": "Uzbekistan",
          "Date": "2013",
          "ISO": "UZB",
          "WHO_region": "European",
          "value": 4.8600001335144
         },
         {
          "Country": "Vanuatu",
          "Date": "2013",
          "ISO": "VUT",
          "WHO_region": "Western Pacific",
          "value": 4.65700006484985
         },
         {
          "Country": "Venezuela (Bolivarian Republic of)",
          "Date": "2013",
          "ISO": "VEN",
          "WHO_region": "Americas",
          "value": 7.53999996185303
         },
         {
          "Country": "Viet Nam",
          "Date": "2013",
          "ISO": "VNM",
          "WHO_region": "Western Pacific",
          "value": 1.97699999809265
         },
         {
          "Country": "United States Virgin Islands",
          "Date": "2013",
          "ISO": "VIR",
          "WHO_region": "Americas",
          "value": 10.2709999084473
         },
         {
          "Country": "occupied Palestinian territory, including east Jerusalem",
          "Date": "2013",
          "ISO": "PSE",
          "WHO_region": "Eastern Mediterranean",
          "value": 19.8939990997314
         },
         {
          "Country": "Yemen",
          "Date": "2013",
          "ISO": "YEM",
          "WHO_region": "Eastern Mediterranean",
          "value": 13.423999786377
         },
         {
          "Country": "Zambia",
          "Date": "2013",
          "ISO": "ZMB",
          "WHO_region": "African",
          "value": 8.61800003051758
         },
         {
          "Country": "Zimbabwe",
          "Date": "2013",
          "ISO": "ZWE",
          "WHO_region": "African",
          "value": 5.39900016784668
         },
         {
          "Country": "Afghanistan",
          "Date": "2014",
          "ISO": "AFG",
          "WHO_region": "Eastern Mediterranean",
          "value": 11.4479999542236
         },
         {
          "Country": "Albania",
          "Date": "2014",
          "ISO": "ALB",
          "WHO_region": "European",
          "value": 17.4899997711182
         },
         {
          "Country": "Algeria",
          "Date": "2014",
          "ISO": "DZA",
          "WHO_region": "African",
          "value": 10.2069997787476
         },
         {
          "Country": "Angola",
          "Date": "2014",
          "ISO": "AGO",
          "WHO_region": "African",
          "value": 7.33099985122681
         },
         {
          "Country": "Argentina",
          "Date": "2014",
          "ISO": "ARG",
          "WHO_region": "Americas",
          "value": 7.26800012588501
         },
         {
          "Country": "Armenia",
          "Date": "2014",
          "ISO": "ARM",
          "WHO_region": "European",
          "value": 17.4979991912842
         },
         {
          "Country": "Australia",
          "Date": "2014",
          "ISO": "AUS",
          "WHO_region": "Western Pacific",
          "value": 6.0770001411438
         },
         {
          "Country": "Austria",
          "Date": "2014",
          "ISO": "AUT",
          "WHO_region": "European",
          "value": 5.61999988555908
         },
         {
          "Country": "Azerbaijan",
          "Date": "2014",
          "ISO": "AZE",
          "WHO_region": "European",
          "value": 4.90999984741211
         },
         {
          "Country": "Bahamas",
          "Date": "2014",
          "ISO": "BHS",
          "WHO_region": "Americas",
          "value": 13.8000001907349
         },
         {
          "Country": "Bahrain",
          "Date": "2014",
          "ISO": "BHR",
          "WHO_region": "Eastern Mediterranean",
          "value": 1.16999995708466
         },
         {
          "Country": "Bangladesh",
          "Date": "2014",
          "ISO": "BGD",
          "WHO_region": "South-East Asia",
          "value": 4.39499998092651
         },
         {
          "Country": "Barbados",
          "Date": "2014",
          "ISO": "BRB",
          "WHO_region": "Americas",
          "value": 12.1700000762939
         },
         {
          "Country": "Belarus",
          "Date": "2014",
          "ISO": "BLR",
          "WHO_region": "European",
          "value": 5.98099994659424
         },
         {
          "Country": "Belgium",
          "Date": "2014",
          "ISO": "BEL",
          "WHO_region": "European",
          "value": 8.52299976348877
         },
         {
          "Country": "Belize",
          "Date": "2014",
          "ISO": "BLZ",
          "WHO_region": "Americas",
          "value": 8.24400043487549
         },
         {
          "Country": "Benin",
          "Date": "2014",
          "ISO": "BEN",
          "WHO_region": "African",
          "value": 2.62100005149841
         },
         {
          "Country": "Bhutan",
          "Date": "2014",
          "ISO": "BTN",
          "WHO_region": "South-East Asia",
          "value": 2.63000011444092
         },
         {
          "Country": "Bolivia (Plurinational State of)",
          "Date": "2014",
          "ISO": "BOL",
          "WHO_region": "Americas",
          "value": 2.00699996948242
         },
         {
          "Country": "Bosnia and Herzegovina",
          "Date": "2014",
          "ISO": "BIH",
          "WHO_region": "European",
          "value": 27.5170001983643
         },
         {
          "Country": "Botswana",
          "Date": "2014",
          "ISO": "BWA",
          "WHO_region": "African",
          "value": 17.8190002441406
         },
         {
          "Country": "Brazil",
          "Date": "2014",
          "ISO": "BRA",
          "WHO_region": "Americas",
          "value": 6.66099977493286
         },
         {
          "Country": "Brunei Darussalam",
          "Date": "2014",
          "ISO": "BRN",
          "WHO_region": "Western Pacific",
          "value": 6.96500015258789
         },
         {
          "Country": "Bulgaria",
          "Date": "2014",
          "ISO": "BGR",
          "WHO_region": "European",
          "value": 11.423999786377
         },
         {
          "Country": "Burkina Faso",
          "Date": "2014",
          "ISO": "BFA",
          "WHO_region": "African",
          "value": 6.47900009155273
         },
         {
          "Country": "Burundi",
          "Date": "2014",
          "ISO": "BDI",
          "WHO_region": "African",
          "value": 1.57200002670288
         },
         {
          "Country": "Cabo Verde",
          "Date": "2014",
          "ISO": "CPV",
          "WHO_region": "African",
          "value": 11.6979999542236
         },
         {
          "Country": "Cambodia",
          "Date": "2014",
          "ISO": "KHM",
          "WHO_region": "Western Pacific",
          "value": 0.691999971866608
         },
         {
          "Country": "Cameroon",
          "Date": "2014",
          "ISO": "CMR",
          "WHO_region": "African",
          "value": 3.53399991989136
         },
         {
          "Country": "Canada",
          "Date": "2014",
          "ISO": "CAN",
          "WHO_region": "Americas",
          "value": 6.91400003433228
         },
         {
          "Country": "Central African Republic",
          "Date": "2014",
          "ISO": "CAF",
          "WHO_region": "African",
          "value": 3.90199995040894
         },
         {
          "Country": "Chad",
          "Date": "2014",
          "ISO": "TCD",
          "WHO_region": "African",
          "value": 1.80099999904633
         },
         {
          "Country": "Channel Islands",
          "Date": "2014",
          "ISO": "CHI",
          "WHO_region": "Other",
          "value": 8.29199981689453
         },
         {
          "Country": "Chile",
          "Date": "2014",
          "ISO": "CHL",
          "WHO_region": "Americas",
          "value": 6.66499996185303
         },
         {
          "Country": "China",
          "Date": "2014",
          "ISO": "CHN",
          "WHO_region": "Western Pacific",
          "value": 4.60900020599365
         },
         {
          "Country": "Colombia",
          "Date": "2014",
          "ISO": "COL",
          "WHO_region": "Americas",
          "value": 8.57199954986572
         },
         {
          "Country": "Comoros",
          "Date": "2014",
          "ISO": "COM",
          "WHO_region": "African",
          "value": 4.52799987792969
         },
         {
          "Country": "Congo",
          "Date": "2014",
          "ISO": "COD",
          "WHO_region": "African",
          "value": 4.44500017166138
         },
         {
          "Country": "Democratic Republic of the Congo",
          "Date": "2014",
          "ISO": "COG",
          "WHO_region": "African",
          "value": 9.95600032806396
         },
         {
          "Country": "Costa Rica",
          "Date": "2014",
          "ISO": "CRI",
          "WHO_region": "Americas",
          "value": 9.05900001525879
         },
         {
          "Country": "Côte d’Ivoire",
          "Date": "2014",
          "ISO": "CIV",
          "WHO_region": "African",
          "value": 3.6470000743866
         },
         {
          "Country": "Croatia",
          "Date": "2014",
          "ISO": "HRV",
          "WHO_region": "European",
          "value": 17.2900009155273
         },
         {
          "Country": "Cuba",
          "Date": "2014",
          "ISO": "CUB",
          "WHO_region": "Americas",
          "value": 2.70000004768372
         },
         {
          "Country": "Cyprus",
          "Date": "2014",
          "ISO": "CYP",
          "WHO_region": "European",
          "value": 16.0879993438721
         },
         {
          "Country": "Czechia",
          "Date": "2014",
          "ISO": "CZE",
          "WHO_region": "European",
          "value": 6.10799980163574
         },
         {
          "Country": "Denmark",
          "Date": "2014",
          "ISO": "DNK",
          "WHO_region": "European",
          "value": 6.58900022506714
         },
         {
          "Country": "Djibouti",
          "Date": "2014",
          "ISO": "DJI",
          "WHO_region": "Eastern Mediterranean",
          "value": 10.6440000534058
         },
         {
          "Country": "Dominican Republic",
          "Date": "2014",
          "ISO": "DOM",
          "WHO_region": "Americas",
          "value": 6.7189998626709
         },
         {
          "Country": "Ecuador",
          "Date": "2014",
          "ISO": "ECU",
          "WHO_region": "Americas",
          "value": 3.48000001907349
         },
         {
          "Country": "Egypt",
          "Date": "2014",
          "ISO": "EGY",
          "WHO_region": "Eastern Mediterranean",
          "value": 13.1049995422363
         },
         {
          "Country": "El Salvador",
          "Date": "2014",
          "ISO": "SLV",
          "WHO_region": "Americas",
          "value": 4.15399980545044
         },
         {
          "Country": "Equatorial Guinea",
          "Date": "2014",
          "ISO": "GNQ",
          "WHO_region": "African",
          "value": 6.69199991226196
         },
         {
          "Country": "Eritrea",
          "Date": "2014",
          "ISO": "ERI",
          "WHO_region": "African",
          "value": 5.38199996948242
         },
         {
          "Country": "Estonia",
          "Date": "2014",
          "ISO": "EST",
          "WHO_region": "European",
          "value": 7.35200023651123
         },
         {
          "Country": "Eswatini",
          "Date": "2014",
          "ISO": "SWZ",
          "WHO_region": "African",
          "value": 24.1870002746582
         },
         {
          "Country": "Ethiopia",
          "Date": "2014",
          "ISO": "ETH",
          "WHO_region": "African",
          "value": 2.21799993515015
         },
         {
          "Country": "Fiji",
          "Date": "2014",
          "ISO": "FJI",
          "WHO_region": "Western Pacific",
          "value": 4.39599990844727
         },
         {
          "Country": "Finland",
          "Date": "2014",
          "ISO": "FIN",
          "WHO_region": "European",
          "value": 8.66300010681152
         },
         {
          "Country": "France",
          "Date": "2014",
          "ISO": "FRA",
          "WHO_region": "European",
          "value": 10.2919998168945
         },
         {
          "Country": "French Polynesia",
          "Date": "2014",
          "ISO": "PYF",
          "WHO_region": "Western Pacific",
          "value": 14.293999671936
         },
         {
          "Country": "Gabon",
          "Date": "2014",
          "ISO": "GAB",
          "WHO_region": "African",
          "value": 20.3430004119873
         },
         {
          "Country": "Gambia",
          "Date": "2014",
          "ISO": "GMB",
          "WHO_region": "African",
          "value": 9.36499977111816
         },
         {
          "Country": "Georgia",
          "Date": "2014",
          "ISO": "GEO",
          "WHO_region": "European",
          "value": 17.4379997253418
         },
         {
          "Country": "Germany",
          "Date": "2014",
          "ISO": "DEU",
          "WHO_region": "European",
          "value": 4.98099994659424
         },
         {
          "Country": "Ghana",
          "Date": "2014",
          "ISO": "GHA",
          "WHO_region": "African",
          "value": 6.52699995040894
         },
         {
          "Country": "Greece",
          "Date": "2014",
          "ISO": "GRC",
          "WHO_region": "European",
          "value": 26.4909992218018
         },
         {
          "Country": "Guam",
          "Date": "2014",
          "ISO": "GUM",
          "WHO_region": "Western Pacific",
          "value": 7.59999990463257
         },
         {
          "Country": "Guatemala",
          "Date": "2014",
          "ISO": "GTM",
          "WHO_region": "Americas",
          "value": 2.71700000762939
         },
         {
          "Country": "Guinea",
          "Date": "2014",
          "ISO": "GIN",
          "WHO_region": "African",
          "value": 4.46799993515015
         },
         {
          "Country": "Guinea-Bissau",
          "Date": "2014",
          "ISO": "GNB",
          "WHO_region": "African",
          "value": 2.63499999046326
         },
         {
          "Country": "Guyana",
          "Date": "2014",
          "ISO": "GUY",
          "WHO_region": "Americas",
          "value": 11.9370002746582
         },
         {
          "Country": "Haiti",
          "Date": "2014",
          "ISO": "HTI",
          "WHO_region": "Americas",
          "value": 14.0329999923706
         },
         {
          "Country": "Honduras",
          "Date": "2014",
          "ISO": "HND",
          "WHO_region": "Americas",
          "value": 5.48799991607666
         },
         {
          "Country": "China HongKong",
          "Date": "2014",
          "ISO": "HKG",
          "WHO_region": "Western Pacific",
          "value": 3.29999995231628
         },
         {
          "Country": "Hungary",
          "Date": "2014",
          "ISO": "HUN",
          "WHO_region": "European",
          "value": 7.72499990463257
         },
         {
          "Country": "Iceland",
          "Date": "2014",
          "ISO": "ISL",
          "WHO_region": "European",
          "value": 4.89699983596802
         },
         {
          "Country": "India",
          "Date": "2014",
          "ISO": "IND",
          "WHO_region": "South-East Asia",
          "value": 5.60799980163574
         },
         {
          "Country": "Indonesia",
          "Date": "2014",
          "ISO": "IDN",
          "WHO_region": "South-East Asia",
          "value": 4.04899978637695
         },
         {
          "Country": "Iran (Islamic Republic of)",
          "Date": "2014",
          "ISO": "IRN",
          "WHO_region": "Eastern Mediterranean",
          "value": 10.5699996948242
         },
         {
          "Country": "Iraq",
          "Date": "2014",
          "ISO": "IRQ",
          "WHO_region": "Eastern Mediterranean",
          "value": 10.5900001525879
         },
         {
          "Country": "Ireland",
          "Date": "2014",
          "ISO": "IRL",
          "WHO_region": "European",
          "value": 11.8570003509521
         },
         {
          "Country": "Israel",
          "Date": "2014",
          "ISO": "ISR",
          "WHO_region": "European",
          "value": 5.8899998664856
         },
         {
          "Country": "Italy",
          "Date": "2014",
          "ISO": "ITA",
          "WHO_region": "European",
          "value": 12.6829996109009
         },
         {
          "Country": "Jamaica",
          "Date": "2014",
          "ISO": "JAM",
          "WHO_region": "Americas",
          "value": 13.7399997711182
         },
         {
          "Country": "Japan",
          "Date": "2014",
          "ISO": "JPN",
          "WHO_region": "Western Pacific",
          "value": 3.59999990463257
         },
         {
          "Country": "Jordan",
          "Date": "2014",
          "ISO": "JOR",
          "WHO_region": "Eastern Mediterranean",
          "value": 11.8999996185303
         },
         {
          "Country": "Kazakhstan",
          "Date": "2014",
          "ISO": "KAZ",
          "WHO_region": "European",
          "value": 5.05999994277954
         },
         {
          "Country": "Kenya",
          "Date": "2014",
          "ISO": "KEN",
          "WHO_region": "African",
          "value": 2.82399988174438
         },
         {
          "Country": "Democratic People's Republic of Korea",
          "Date": "2014",
          "ISO": "PRK",
          "WHO_region": "South-East Asia",
          "value": 2.9210000038147
         },
         {
          "Country": "Republic of Korea",
          "Date": "2014",
          "ISO": "KOR",
          "WHO_region": "Western Pacific",
          "value": 3.5
         },
         {
          "Country": "Kuwait",
          "Date": "2014",
          "ISO": "KWT",
          "WHO_region": "Eastern Mediterranean",
          "value": 2.90000009536743
         },
         {
          "Country": "Kyrgyzstan",
          "Date": "2014",
          "ISO": "KGZ",
          "WHO_region": "European",
          "value": 8.05000019073486
         },
         {
          "Country": "Lao People's Democratic Republic",
          "Date": "2014",
          "ISO": "LAO",
          "WHO_region": "Western Pacific",
          "value": 0.702000021934509
         },
         {
          "Country": "Latvia",
          "Date": "2014",
          "ISO": "LVA",
          "WHO_region": "European",
          "value": 10.8459997177124
         },
         {
          "Country": "Lebanon",
          "Date": "2014",
          "ISO": "LBN",
          "WHO_region": "Eastern Mediterranean",
          "value": 6.39599990844727
         },
         {
          "Country": "Lesotho",
          "Date": "2014",
          "ISO": "LSO",
          "WHO_region": "African",
          "value": 24.4710006713867
         },
         {
          "Country": "Liberia",
          "Date": "2014",
          "ISO": "LBR",
          "WHO_region": "African",
          "value": 2.13199996948242
         },
         {
          "Country": "Libya",
          "Date": "2014",
          "ISO": "LBY",
          "WHO_region": "Eastern Mediterranean",
          "value": 18.9559993743896
         },
         {
          "Country": "Lithuania",
          "Date": "2014",
          "ISO": "LTU",
          "WHO_region": "European",
          "value": 10.6979999542236
         },
         {
          "Country": "Luxembourg",
          "Date": "2014",
          "ISO": "LUX",
          "WHO_region": "European",
          "value": 5.85200023651123
         },
         {
          "Country": "China Macao",
          "Date": "2014",
          "ISO": "MAC",
          "WHO_region": "Western Pacific",
          "value": 1.70000004768372
         },
         {
          "Country": "Madagascar",
          "Date": "2014",
          "ISO": "MDG",
          "WHO_region": "African",
          "value": 1.32700002193451
         },
         {
          "Country": "Malawi",
          "Date": "2014",
          "ISO": "MWI",
          "WHO_region": "African",
          "value": 5.88700008392334
         },
         {
          "Country": "Malaysia",
          "Date": "2014",
          "ISO": "MYS",
          "WHO_region": "Western Pacific",
          "value": 2.88000011444092
         },
         {
          "Country": "Maldives",
          "Date": "2014",
          "ISO": "MDV",
          "WHO_region": "South-East Asia",
          "value": 5.21000003814697
         },
         {
          "Country": "Mali",
          "Date": "2014",
          "ISO": "MLI",
          "WHO_region": "African",
          "value": 6.375
         },
         {
          "Country": "Malta",
          "Date": "2014",
          "ISO": "MLT",
          "WHO_region": "European",
          "value": 5.72499990463257
         },
         {
          "Country": "Mauritania",
          "Date": "2014",
          "ISO": "MRT",
          "WHO_region": "African",
          "value": 9.81099987030029
         },
         {
          "Country": "Mauritius",
          "Date": "2014",
          "ISO": "MUS",
          "WHO_region": "African",
          "value": 7.46700000762939
         },
         {
          "Country": "Mexico",
          "Date": "2014",
          "ISO": "MEX",
          "WHO_region": "Americas",
          "value": 4.80900001525879
         },
         {
          "Country": "Republic of Moldova",
          "Date": "2014",
          "ISO": "MDA",
          "WHO_region": "European",
          "value": 3.85599994659424
         },
         {
          "Country": "Mongolia",
          "Date": "2014",
          "ISO": "MNG",
          "WHO_region": "Western Pacific",
          "value": 4.7979998588562
         },
         {
          "Country": "Montenegro",
          "Date": "2014",
          "ISO": "MNE",
          "WHO_region": "European",
          "value": 17.9969997406006
         },
         {
          "Country": "Morocco",
          "Date": "2014",
          "ISO": "MAR",
          "WHO_region": "Eastern Mediterranean",
          "value": 9.69999980926514
         },
         {
          "Country": "Mozambique",
          "Date": "2014",
          "ISO": "MOZ",
          "WHO_region": "African",
          "value": 3.41700005531311
         },
         {
          "Country": "Myanmar",
          "Date": "2014",
          "ISO": "MMR",
          "WHO_region": "South-East Asia",
          "value": 0.777999997138977
         },
         {
          "Country": "Namibia",
          "Date": "2014",
          "ISO": "NAM",
          "WHO_region": "African",
          "value": 18.5209999084473
         },
         {
          "Country": "Nepal",
          "Date": "2014",
          "ISO": "NPL",
          "WHO_region": "South-East Asia",
          "value": 1.49899995326996
         },
         {
          "Country": "Netherlands",
          "Date": "2014",
          "ISO": "NLD",
          "WHO_region": "European",
          "value": 7.41599988937378
         },
         {
          "Country": "New Caledonia",
          "Date": "2014",
          "ISO": "NCL",
          "WHO_region": "Western Pacific",
          "value": 14.5900001525879
         },
         {
          "Country": "New Zealand",
          "Date": "2014",
          "ISO": "NZL",
          "WHO_region": "Western Pacific",
          "value": 5.7519998550415
         },
         {
          "Country": "Nicaragua",
          "Date": "2014",
          "ISO": "NIC",
          "WHO_region": "Americas",
          "value": 4.51900005340576
         },
         {
          "Country": "Niger",
          "Date": "2014",
          "ISO": "NER",
          "WHO_region": "African",
          "value": 0.523999989032745
         },
         {
          "Country": "Nigeria",
          "Date": "2014",
          "ISO": "NGA",
          "WHO_region": "African",
          "value": 4.56199979782104
         },
         {
          "Country": "North Macedonia",
          "Date": "2014",
          "ISO": "MKD",
          "WHO_region": "European",
          "value": 28.0300006866455
         },
         {
          "Country": "Norway",
          "Date": "2014",
          "ISO": "NOR",
          "WHO_region": "European",
          "value": 3.48399996757507
         },
         {
          "Country": "Oman",
          "Date": "2014",
          "ISO": "OMN",
          "WHO_region": "Eastern Mediterranean",
          "value": 3.8970000743866
         },
         {
          "Country": "Pakistan",
          "Date": "2014",
          "ISO": "PAK",
          "WHO_region": "Eastern Mediterranean",
          "value": 1.82700002193451
         },
         {
          "Country": "Panama",
          "Date": "2014",
          "ISO": "PAN",
          "WHO_region": "Americas",
          "value": 2.72300004959106
         },
         {
          "Country": "Papua New Guinea",
          "Date": "2014",
          "ISO": "PNG",
          "WHO_region": "Western Pacific",
          "value": 2.6010000705719
         },
         {
          "Country": "Paraguay",
          "Date": "2014",
          "ISO": "PRY",
          "WHO_region": "Americas",
          "value": 5.03399991989136
         },
         {
          "Country": "Peru",
          "Date": "2014",
          "ISO": "PER",
          "WHO_region": "Americas",
          "value": 2.96199989318848
         },
         {
          "Country": "Philippines",
          "Date": "2014",
          "ISO": "PHL",
          "WHO_region": "Western Pacific",
          "value": 3.59999990463257
         },
         {
          "Country": "Poland",
          "Date": "2014",
          "ISO": "POL",
          "WHO_region": "European",
          "value": 8.98999977111816
         },
         {
          "Country": "Portugal",
          "Date": "2014",
          "ISO": "PRT",
          "WHO_region": "European",
          "value": 13.8940000534058
         },
         {
          "Country": "Puerto Rico",
          "Date": "2014",
          "ISO": "PRI",
          "WHO_region": "Americas",
          "value": 13.8999996185303
         },
         {
          "Country": "Qatar",
          "Date": "2014",
          "ISO": "QAT",
          "WHO_region": "Eastern Mediterranean",
          "value": 0.200000002980232
         },
         {
          "Country": "Romania",
          "Date": "2014",
          "ISO": "ROU",
          "WHO_region": "European",
          "value": 6.80200004577637
         },
         {
          "Country": "Russian Federation",
          "Date": "2014",
          "ISO": "RUS",
          "WHO_region": "European",
          "value": 5.15999984741211
         },
         {
          "Country": "Rwanda",
          "Date": "2014",
          "ISO": "RWA",
          "WHO_region": "African",
          "value": 1.1690000295639
         },
         {
          "Country": "Samoa",
          "Date": "2014",
          "ISO": "WSM",
          "WHO_region": "Western Pacific",
          "value": 8.72000026702881
         },
         {
          "Country": "Sao Tome and Principe",
          "Date": "2014",
          "ISO": "STP",
          "WHO_region": "African",
          "value": 13.5319995880127
         },
         {
          "Country": "Saudi Arabia",
          "Date": "2014",
          "ISO": "SAU",
          "WHO_region": "Eastern Mediterranean",
          "value": 5.71999979019165
         },
         {
          "Country": "Senegal",
          "Date": "2014",
          "ISO": "SEN",
          "WHO_region": "African",
          "value": 7.61100006103516
         },
         {
          "Country": "Serbia",
          "Date": "2014",
          "ISO": "SRB",
          "WHO_region": "European",
          "value": 19.2229995727539
         },
         {
          "Country": "Sierra Leone",
          "Date": "2014",
          "ISO": "SLE",
          "WHO_region": "African",
          "value": 4.67799997329712
         },
         {
          "Country": "Singapore",
          "Date": "2014",
          "ISO": "SGP",
          "WHO_region": "Western Pacific",
          "value": 3.74000000953674
         },
         {
          "Country": "Slovakia",
          "Date": "2014",
          "ISO": "SVK",
          "WHO_region": "European",
          "value": 13.1840000152588
         },
         {
          "Country": "Slovenia",
          "Date": "2014",
          "ISO": "SVN",
          "WHO_region": "European",
          "value": 9.66800022125244
         },
         {
          "Country": "Solomon Islands",
          "Date": "2014",
          "ISO": "SLB",
          "WHO_region": "Western Pacific",
          "value": 0.679000020027161
         },
         {
          "Country": "Somalia",
          "Date": "2014",
          "ISO": "SOM",
          "WHO_region": "Eastern Mediterranean",
          "value": 11.6850004196167
         },
         {
          "Country": "South Africa",
          "Date": "2014",
          "ISO": "ZAF",
          "WHO_region": "African",
          "value": 24.8980007171631
         },
         {
          "Country": "South Sudan",
          "Date": "2014",
          "ISO": "SSD",
          "WHO_region": "African",
          "value": 12.6379995346069
         },
         {
          "Country": "Spain",
          "Date": "2014",
          "ISO": "ESP",
          "WHO_region": "European",
          "value": 24.4409999847412
         },
         {
          "Country": "Sri Lanka",
          "Date": "2014",
          "ISO": "LKA",
          "WHO_region": "South-East Asia",
          "value": 4.19399976730347
         },
         {
          "Country": "Saint Lucia",
          "Date": "2014",
          "ISO": "LCA",
          "WHO_region": "Americas",
          "value": 23.1240005493164
         },
         {
          "Country": "Saint Vincent and the Grenadines",
          "Date": "2014",
          "ISO": "VCT",
          "WHO_region": "Americas",
          "value": 19.3939990997314
         },
         {
          "Country": "Sudan",
          "Date": "2014",
          "ISO": "SDN",
          "WHO_region": "Eastern Mediterranean",
          "value": 17.3910007476807
         },
         {
          "Country": "Suriname",
          "Date": "2014",
          "ISO": "SUR",
          "WHO_region": "Americas",
          "value": 6.94000005722046
         },
         {
          "Country": "Sweden",
          "Date": "2014",
          "ISO": "SWE",
          "WHO_region": "European",
          "value": 7.95300006866455
         },
         {
          "Country": "Switzerland",
          "Date": "2014",
          "ISO": "CHE",
          "WHO_region": "European",
          "value": 4.82600021362305
         },
         {
          "Country": "Syrian Arab Republic",
          "Date": "2014",
          "ISO": "SYR",
          "WHO_region": "Eastern Mediterranean",
          "value": 8.58100032806396
         },
         {
          "Country": "Tajikistan",
          "Date": "2014",
          "ISO": "TJK",
          "WHO_region": "European",
          "value": 11.5690002441406
         },
         {
          "Country": "United Republic of Tanzania",
          "Date": "2014",
          "ISO": "TZA",
          "WHO_region": "African",
          "value": 2.125
         },
         {
          "Country": "Thailand",
          "Date": "2014",
          "ISO": "THA",
          "WHO_region": "South-East Asia",
          "value": 0.575999975204468
         },
         {
          "Country": "Timor-Leste",
          "Date": "2014",
          "ISO": "TLS",
          "WHO_region": "South-East Asia",
          "value": 4.23299980163574
         },
         {
          "Country": "Togo",
          "Date": "2014",
          "ISO": "TGO",
          "WHO_region": "African",
          "value": 2.16100001335144
         },
         {
          "Country": "Tonga",
          "Date": "2014",
          "ISO": "TON",
          "WHO_region": "Western Pacific",
          "value": 1.14100003242493
         },
         {
          "Country": "Trinidad and Tobago",
          "Date": "2014",
          "ISO": "TTO",
          "WHO_region": "Americas",
          "value": 2.22399997711182
         },
         {
          "Country": "Tunisia",
          "Date": "2014",
          "ISO": "TUN",
          "WHO_region": "Eastern Mediterranean",
          "value": 15.0579996109009
         },
         {
          "Country": "Turkey",
          "Date": "2014",
          "ISO": "TUR",
          "WHO_region": "European",
          "value": 9.88000011444092
         },
         {
          "Country": "Turkmenistan",
          "Date": "2014",
          "ISO": "TKM",
          "WHO_region": "European",
          "value": 3.98300004005432
         },
         {
          "Country": "Uganda",
          "Date": "2014",
          "ISO": "UGA",
          "WHO_region": "African",
          "value": 1.87999999523163
         },
         {
          "Country": "Ukraine",
          "Date": "2014",
          "ISO": "UKR",
          "WHO_region": "European",
          "value": 9.27000045776367
         },
         {
          "Country": "United Arab Emirates",
          "Date": "2014",
          "ISO": "ARE",
          "WHO_region": "Eastern Mediterranean",
          "value": 2.21199989318848
         },
         {
          "Country": "The United Kingdom",
          "Date": "2014",
          "ISO": "GBR",
          "WHO_region": "European",
          "value": 6.1100001335144
         },
         {
          "Country": "United States of America",
          "Date": "2014",
          "ISO": "USA",
          "WHO_region": "Americas",
          "value": 6.16800022125244
         },
         {
          "Country": "Uruguay",
          "Date": "2014",
          "ISO": "URY",
          "WHO_region": "Americas",
          "value": 6.54699993133545
         },
         {
          "Country": "Uzbekistan",
          "Date": "2014",
          "ISO": "UZB",
          "WHO_region": "European",
          "value": 5.09000015258789
         },
         {
          "Country": "Vanuatu",
          "Date": "2014",
          "ISO": "VUT",
          "WHO_region": "Western Pacific",
          "value": 4.60400009155273
         },
         {
          "Country": "Venezuela (Bolivarian Republic of)",
          "Date": "2014",
          "ISO": "VEN",
          "WHO_region": "Americas",
          "value": 7.48099994659424
         },
         {
          "Country": "Viet Nam",
          "Date": "2014",
          "ISO": "VNM",
          "WHO_region": "Western Pacific",
          "value": 1.87300002574921
         },
         {
          "Country": "United States Virgin Islands",
          "Date": "2014",
          "ISO": "VIR",
          "WHO_region": "Americas",
          "value": 9.91399955749512
         },
         {
          "Country": "occupied Palestinian territory, including east Jerusalem",
          "Date": "2014",
          "ISO": "PSE",
          "WHO_region": "Eastern Mediterranean",
          "value": 20.5259990692139
         },
         {
          "Country": "Yemen",
          "Date": "2014",
          "ISO": "YEM",
          "WHO_region": "Eastern Mediterranean",
          "value": 13.4670000076294
         },
         {
          "Country": "Zambia",
          "Date": "2014",
          "ISO": "ZMB",
          "WHO_region": "African",
          "value": 9.34000015258789
         },
         {
          "Country": "Zimbabwe",
          "Date": "2014",
          "ISO": "ZWE",
          "WHO_region": "African",
          "value": 5.34200000762939
         },
         {
          "Country": "Afghanistan",
          "Date": "2015",
          "ISO": "AFG",
          "WHO_region": "Eastern Mediterranean",
          "value": 11.3870000839233
         },
         {
          "Country": "Albania",
          "Date": "2015",
          "ISO": "ALB",
          "WHO_region": "European",
          "value": 17.0799999237061
         },
         {
          "Country": "Algeria",
          "Date": "2015",
          "ISO": "DZA",
          "WHO_region": "African",
          "value": 11.206000328064
         },
         {
          "Country": "Angola",
          "Date": "2015",
          "ISO": "AGO",
          "WHO_region": "African",
          "value": 7.28200006484985
         },
         {
          "Country": "Argentina",
          "Date": "2015",
          "ISO": "ARG",
          "WHO_region": "Americas",
          "value": 7.75
         },
         {
          "Country": "Armenia",
          "Date": "2015",
          "ISO": "ARM",
          "WHO_region": "European",
          "value": 18.2609996795654
         },
         {
          "Country": "Australia",
          "Date": "2015",
          "ISO": "AUS",
          "WHO_region": "Western Pacific",
          "value": 6.05399990081787
         },
         {
          "Country": "Austria",
          "Date": "2015",
          "ISO": "AUT",
          "WHO_region": "European",
          "value": 5.72300004959106
         },
         {
          "Country": "Azerbaijan",
          "Date": "2015",
          "ISO": "AZE",
          "WHO_region": "European",
          "value": 4.96000003814697
         },
         {
          "Country": "Bahamas",
          "Date": "2015",
          "ISO": "BHS",
          "WHO_region": "Americas",
          "value": 12
         },
         {
          "Country": "Bahrain",
          "Date": "2015",
          "ISO": "BHR",
          "WHO_region": "Eastern Mediterranean",
          "value": 1.12999999523163
         },
         {
          "Country": "Bangladesh",
          "Date": "2015",
          "ISO": "BGD",
          "WHO_region": "South-East Asia",
          "value": 4.37799978256226
         },
         {
          "Country": "Barbados",
          "Date": "2015",
          "ISO": "BRB",
          "WHO_region": "Americas",
          "value": 11.3500003814697
         },
         {
          "Country": "Belarus",
          "Date": "2015",
          "ISO": "BLR",
          "WHO_region": "European",
          "value": 5.91400003433228
         },
         {
          "Country": "Belgium",
          "Date": "2015",
          "ISO": "BEL",
          "WHO_region": "European",
          "value": 8.48200035095215
         },
         {
          "Country": "Belize",
          "Date": "2015",
          "ISO": "BLZ",
          "WHO_region": "Americas",
          "value": 7.57800006866455
         },
         {
          "Country": "Benin",
          "Date": "2015",
          "ISO": "BEN",
          "WHO_region": "African",
          "value": 2.58200001716614
         },
         {
          "Country": "Bhutan",
          "Date": "2015",
          "ISO": "BTN",
          "WHO_region": "South-East Asia",
          "value": 2.45000004768372
         },
         {
          "Country": "Bolivia (Plurinational State of)",
          "Date": "2015",
          "ISO": "BOL",
          "WHO_region": "Americas",
          "value": 3.06599998474121
         },
         {
          "Country": "Bosnia and Herzegovina",
          "Date": "2015",
          "ISO": "BIH",
          "WHO_region": "European",
          "value": 27.6940002441406
         },
         {
          "Country": "Botswana",
          "Date": "2015",
          "ISO": "BWA",
          "WHO_region": "African",
          "value": 17.7469997406006
         },
         {
          "Country": "Brazil",
          "Date": "2015",
          "ISO": "BRA",
          "WHO_region": "Americas",
          "value": 8.42700004577637
         },
         {
          "Country": "Brunei Darussalam",
          "Date": "2015",
          "ISO": "BRN",
          "WHO_region": "Western Pacific",
          "value": 7.91400003433228
         },
         {
          "Country": "Bulgaria",
          "Date": "2015",
          "ISO": "BGR",
          "WHO_region": "European",
          "value": 9.14299964904785
         },
         {
          "Country": "Burkina Faso",
          "Date": "2015",
          "ISO": "BFA",
          "WHO_region": "African",
          "value": 6.41800022125244
         },
         {
          "Country": "Burundi",
          "Date": "2015",
          "ISO": "BDI",
          "WHO_region": "African",
          "value": 1.55200004577637
         },
         {
          "Country": "Cabo Verde",
          "Date": "2015",
          "ISO": "CPV",
          "WHO_region": "African",
          "value": 11.9090003967285
         },
         {
          "Country": "Cambodia",
          "Date": "2015",
          "ISO": "KHM",
          "WHO_region": "Western Pacific",
          "value": 0.39300000667572
         },
         {
          "Country": "Cameroon",
          "Date": "2015",
          "ISO": "CMR",
          "WHO_region": "African",
          "value": 3.50600004196167
         },
         {
          "Country": "Canada",
          "Date": "2015",
          "ISO": "CAN",
          "WHO_region": "Americas",
          "value": 6.9060001373291
         },
         {
          "Country": "Central African Republic",
          "Date": "2015",
          "ISO": "CAF",
          "WHO_region": "African",
          "value": 3.86400008201599
         },
         {
          "Country": "Chad",
          "Date": "2015",
          "ISO": "TCD",
          "WHO_region": "African",
          "value": 1.83299994468689
         },
         {
          "Country": "Channel Islands",
          "Date": "2015",
          "ISO": "CHI",
          "WHO_region": "Other",
          "value": 8.08399963378906
         },
         {
          "Country": "Chile",
          "Date": "2015",
          "ISO": "CHL",
          "WHO_region": "Americas",
          "value": 6.50799989700317
         },
         {
          "Country": "China",
          "Date": "2015",
          "ISO": "CHN",
          "WHO_region": "Western Pacific",
          "value": 4.62900018692017
         },
         {
          "Country": "Colombia",
          "Date": "2015",
          "ISO": "COL",
          "WHO_region": "Americas",
          "value": 8.29899978637695
         },
         {
          "Country": "Comoros",
          "Date": "2015",
          "ISO": "COM",
          "WHO_region": "African",
          "value": 4.49300003051758
         },
         {
          "Country": "Congo",
          "Date": "2015",
          "ISO": "COD",
          "WHO_region": "African",
          "value": 4.4060001373291
         },
         {
          "Country": "Democratic Republic of the Congo",
          "Date": "2015",
          "ISO": "COG",
          "WHO_region": "African",
          "value": 9.91199970245361
         },
         {
          "Country": "Costa Rica",
          "Date": "2015",
          "ISO": "CRI",
          "WHO_region": "Americas",
          "value": 8.99899959564209
         },
         {
          "Country": "Côte d’Ivoire",
          "Date": "2015",
          "ISO": "CIV",
          "WHO_region": "African",
          "value": 3.10199999809265
         },
         {
          "Country": "Croatia",
          "Date": "2015",
          "ISO": "HRV",
          "WHO_region": "European",
          "value": 16.1749992370605
         },
         {
          "Country": "Cuba",
          "Date": "2015",
          "ISO": "CUB",
          "WHO_region": "Americas",
          "value": 2.40000009536743
         },
         {
          "Country": "Cyprus",
          "Date": "2015",
          "ISO": "CYP",
          "WHO_region": "European",
          "value": 14.9079999923706
         },
         {
          "Country": "Czechia",
          "Date": "2015",
          "ISO": "CZE",
          "WHO_region": "European",
          "value": 5.0460000038147
         },
         {
          "Country": "Denmark",
          "Date": "2015",
          "ISO": "DNK",
          "WHO_region": "European",
          "value": 6.16800022125244
         },
         {
          "Country": "Djibouti",
          "Date": "2015",
          "ISO": "DJI",
          "WHO_region": "Eastern Mediterranean",
          "value": 10.5839996337891
         },
         {
          "Country": "Dominican Republic",
          "Date": "2015",
          "ISO": "DOM",
          "WHO_region": "Americas",
          "value": 7.60500001907349
         },
         {
          "Country": "Ecuador",
          "Date": "2015",
          "ISO": "ECU",
          "WHO_region": "Americas",
          "value": 3.6159999370575
         },
         {
          "Country": "Egypt",
          "Date": "2015",
          "ISO": "EGY",
          "WHO_region": "Eastern Mediterranean",
          "value": 13.0520000457764
         },
         {
          "Country": "El Salvador",
          "Date": "2015",
          "ISO": "SLV",
          "WHO_region": "Americas",
          "value": 3.99799990653992
         },
         {
          "Country": "Equatorial Guinea",
          "Date": "2015",
          "ISO": "GNQ",
          "WHO_region": "African",
          "value": 6.64400005340576
         },
         {
          "Country": "Eritrea",
          "Date": "2015",
          "ISO": "ERI",
          "WHO_region": "African",
          "value": 5.33799982070923
         },
         {
          "Country": "Estonia",
          "Date": "2015",
          "ISO": "EST",
          "WHO_region": "European",
          "value": 6.18699979782104
         },
         {
          "Country": "Eswatini",
          "Date": "2015",
          "ISO": "SWZ",
          "WHO_region": "African",
          "value": 23.4549999237061
         },
         {
          "Country": "Ethiopia",
          "Date": "2015",
          "ISO": "ETH",
          "WHO_region": "African",
          "value": 2.1949999332428
         },
         {
          "Country": "Fiji",
          "Date": "2015",
          "ISO": "FJI",
          "WHO_region": "Western Pacific",
          "value": 4.36299991607666
         },
         {
          "Country": "Finland",
          "Date": "2015",
          "ISO": "FIN",
          "WHO_region": "European",
          "value": 9.37600040435791
         },
         {
          "Country": "France",
          "Date": "2015",
          "ISO": "FRA",
          "WHO_region": "European",
          "value": 10.3590002059937
         },
         {
          "Country": "French Polynesia",
          "Date": "2015",
          "ISO": "PYF",
          "WHO_region": "Western Pacific",
          "value": 13.7449998855591
         },
         {
          "Country": "Gabon",
          "Date": "2015",
          "ISO": "GAB",
          "WHO_region": "African",
          "value": 20.2600002288818
         },
         {
          "Country": "Gambia",
          "Date": "2015",
          "ISO": "GMB",
          "WHO_region": "African",
          "value": 9.3129997253418
         },
         {
          "Country": "Georgia",
          "Date": "2015",
          "ISO": "GEO",
          "WHO_region": "European",
          "value": 16.5060005187988
         },
         {
          "Country": "Germany",
          "Date": "2015",
          "ISO": "DEU",
          "WHO_region": "European",
          "value": 4.62400007247925
         },
         {
          "Country": "Ghana",
          "Date": "2015",
          "ISO": "GHA",
          "WHO_region": "African",
          "value": 6.80600023269653
         },
         {
          "Country": "Greece",
          "Date": "2015",
          "ISO": "GRC",
          "WHO_region": "European",
          "value": 24.8969993591309
         },
         {
          "Country": "Guam",
          "Date": "2015",
          "ISO": "GUM",
          "WHO_region": "Western Pacific",
          "value": 6.90000009536743
         },
         {
          "Country": "Guatemala",
          "Date": "2015",
          "ISO": "GTM",
          "WHO_region": "Americas",
          "value": 2.50600004196167
         },
         {
          "Country": "Guinea",
          "Date": "2015",
          "ISO": "GIN",
          "WHO_region": "African",
          "value": 4.43400001525879
         },
         {
          "Country": "Guinea-Bissau",
          "Date": "2015",
          "ISO": "GNB",
          "WHO_region": "African",
          "value": 2.60400009155273
         },
         {
          "Country": "Guyana",
          "Date": "2015",
          "ISO": "GUY",
          "WHO_region": "Americas",
          "value": 12.003999710083
         },
         {
          "Country": "Haiti",
          "Date": "2015",
          "ISO": "HTI",
          "WHO_region": "Americas",
          "value": 13.9650001525879
         },
         {
          "Country": "Honduras",
          "Date": "2015",
          "ISO": "HND",
          "WHO_region": "Americas",
          "value": 6.14699983596802
         },
         {
          "Country": "China HongKong",
          "Date": "2015",
          "ISO": "HKG",
          "WHO_region": "Western Pacific",
          "value": 3.3199999332428
         },
         {
          "Country": "Hungary",
          "Date": "2015",
          "ISO": "HUN",
          "WHO_region": "European",
          "value": 6.81300020217896
         },
         {
          "Country": "Iceland",
          "Date": "2015",
          "ISO": "ISL",
          "WHO_region": "European",
          "value": 3.97900009155273
         },
         {
          "Country": "India",
          "Date": "2015",
          "ISO": "IND",
          "WHO_region": "South-East Asia",
          "value": 5.56500005722046
         },
         {
          "Country": "Indonesia",
          "Date": "2015",
          "ISO": "IDN",
          "WHO_region": "South-East Asia",
          "value": 4.51399993896484
         },
         {
          "Country": "Iran (Islamic Republic of)",
          "Date": "2015",
          "ISO": "IRN",
          "WHO_region": "Eastern Mediterranean",
          "value": 11.0600004196167
         },
         {
          "Country": "Iraq",
          "Date": "2015",
          "ISO": "IRQ",
          "WHO_region": "Eastern Mediterranean",
          "value": 10.7130002975464
         },
         {
          "Country": "Ireland",
          "Date": "2015",
          "ISO": "IRL",
          "WHO_region": "European",
          "value": 9.9060001373291
         },
         {
          "Country": "Israel",
          "Date": "2015",
          "ISO": "ISR",
          "WHO_region": "European",
          "value": 5.25099992752075
         },
         {
          "Country": "Italy",
          "Date": "2015",
          "ISO": "ITA",
          "WHO_region": "European",
          "value": 11.8959999084473
         },
         {
          "Country": "Jamaica",
          "Date": "2015",
          "ISO": "JAM",
          "WHO_region": "Americas",
          "value": 13.5109996795654
         },
         {
          "Country": "Japan",
          "Date": "2015",
          "ISO": "JPN",
          "WHO_region": "Western Pacific",
          "value": 3.40000009536743
         },
         {
          "Country": "Jordan",
          "Date": "2015",
          "ISO": "JOR",
          "WHO_region": "Eastern Mediterranean",
          "value": 13.0749998092651
         },
         {
          "Country": "Kazakhstan",
          "Date": "2015",
          "ISO": "KAZ",
          "WHO_region": "European",
          "value": 4.92999982833862
         },
         {
          "Country": "Kenya",
          "Date": "2015",
          "ISO": "KEN",
          "WHO_region": "African",
          "value": 2.79399991035461
         },
         {
          "Country": "Democratic People's Republic of Korea",
          "Date": "2015",
          "ISO": "PRK",
          "WHO_region": "South-East Asia",
          "value": 2.88800001144409
         },
         {
          "Country": "Republic of Korea",
          "Date": "2015",
          "ISO": "KOR",
          "WHO_region": "Western Pacific",
          "value": 3.59999990463257
         },
         {
          "Country": "Kuwait",
          "Date": "2015",
          "ISO": "KWT",
          "WHO_region": "Eastern Mediterranean",
          "value": 2.20000004768372
         },
         {
          "Country": "Kyrgyzstan",
          "Date": "2015",
          "ISO": "KGZ",
          "WHO_region": "European",
          "value": 7.55999994277954
         },
         {
          "Country": "Lao People's Democratic Republic",
          "Date": "2015",
          "ISO": "LAO",
          "WHO_region": "Western Pacific",
          "value": 0.691999971866608
         },
         {
          "Country": "Latvia",
          "Date": "2015",
          "ISO": "LVA",
          "WHO_region": "European",
          "value": 9.8730001449585
         },
         {
          "Country": "Lebanon",
          "Date": "2015",
          "ISO": "LBN",
          "WHO_region": "Eastern Mediterranean",
          "value": 6.35699987411499
         },
         {
          "Country": "Lesotho",
          "Date": "2015",
          "ISO": "LSO",
          "WHO_region": "African",
          "value": 24.3939990997314
         },
         {
          "Country": "Liberia",
          "Date": "2015",
          "ISO": "LBR",
          "WHO_region": "African",
          "value": 2.0789999961853
         },
         {
          "Country": "Libya",
          "Date": "2015",
          "ISO": "LBY",
          "WHO_region": "Eastern Mediterranean",
          "value": 18.8810005187988
         },
         {
          "Country": "Lithuania",
          "Date": "2015",
          "ISO": "LTU",
          "WHO_region": "European",
          "value": 9.11999988555908
         },
         {
          "Country": "Luxembourg",
          "Date": "2015",
          "ISO": "LUX",
          "WHO_region": "European",
          "value": 6.66900014877319
         },
         {
          "Country": "China Macao",
          "Date": "2015",
          "ISO": "MAC",
          "WHO_region": "Western Pacific",
          "value": 1.80999994277954
         },
         {
          "Country": "Madagascar",
          "Date": "2015",
          "ISO": "MDG",
          "WHO_region": "African",
          "value": 1.7849999666214
         },
         {
          "Country": "Malawi",
          "Date": "2015",
          "ISO": "MWI",
          "WHO_region": "African",
          "value": 5.84600019454956
         },
         {
          "Country": "Malaysia",
          "Date": "2015",
          "ISO": "MYS",
          "WHO_region": "Western Pacific",
          "value": 3.09999990463257
         },
         {
          "Country": "Maldives",
          "Date": "2015",
          "ISO": "MDV",
          "WHO_region": "South-East Asia",
          "value": 5.66699981689453
         },
         {
          "Country": "Mali",
          "Date": "2015",
          "ISO": "MLI",
          "WHO_region": "African",
          "value": 7.72900009155273
         },
         {
          "Country": "Malta",
          "Date": "2015",
          "ISO": "MLT",
          "WHO_region": "European",
          "value": 5.37900018692017
         },
         {
          "Country": "Mauritania",
          "Date": "2015",
          "ISO": "MRT",
          "WHO_region": "African",
          "value": 9.75800037384033
         },
         {
          "Country": "Mauritius",
          "Date": "2015",
          "ISO": "MUS",
          "WHO_region": "African",
          "value": 7.40999984741211
         },
         {
          "Country": "Mexico",
          "Date": "2015",
          "ISO": "MEX",
          "WHO_region": "Americas",
          "value": 4.31300020217896
         },
         {
          "Country": "Republic of Moldova",
          "Date": "2015",
          "ISO": "MDA",
          "WHO_region": "European",
          "value": 3.69400000572205
         },
         {
          "Country": "Mongolia",
          "Date": "2015",
          "ISO": "MNG",
          "WHO_region": "Western Pacific",
          "value": 4.86100006103516
         },
         {
          "Country": "Montenegro",
          "Date": "2015",
          "ISO": "MNE",
          "WHO_region": "European",
          "value": 17.5440006256104
         },
         {
          "Country": "Morocco",
          "Date": "2015",
          "ISO": "MAR",
          "WHO_region": "Eastern Mediterranean",
          "value": 9.46000003814697
         },
         {
          "Country": "Mozambique",
          "Date": "2015",
          "ISO": "MOZ",
          "WHO_region": "African",
          "value": 3.42600011825562
         },
         {
          "Country": "Myanmar",
          "Date": "2015",
          "ISO": "MMR",
          "WHO_region": "South-East Asia",
          "value": 0.765999972820282
         },
         {
          "Country": "Namibia",
          "Date": "2015",
          "ISO": "NAM",
          "WHO_region": "African",
          "value": 20.8819999694824
         },
         {
          "Country": "Nepal",
          "Date": "2015",
          "ISO": "NPL",
          "WHO_region": "South-East Asia",
          "value": 1.47500002384186
         },
         {
          "Country": "Netherlands",
          "Date": "2015",
          "ISO": "NLD",
          "WHO_region": "European",
          "value": 6.87200021743774
         },
         {
          "Country": "New Caledonia",
          "Date": "2015",
          "ISO": "NCL",
          "WHO_region": "Western Pacific",
          "value": 14.1269998550415
         },
         {
          "Country": "New Zealand",
          "Date": "2015",
          "ISO": "NZL",
          "WHO_region": "Western Pacific",
          "value": 5.36499977111816
         },
         {
          "Country": "Nicaragua",
          "Date": "2015",
          "ISO": "NIC",
          "WHO_region": "Americas",
          "value": 4.69999980926514
         },
         {
          "Country": "Niger",
          "Date": "2015",
          "ISO": "NER",
          "WHO_region": "African",
          "value": 0.514999985694885
         },
         {
          "Country": "Nigeria",
          "Date": "2015",
          "ISO": "NGA",
          "WHO_region": "African",
          "value": 4.31099987030029
         },
         {
          "Country": "North Macedonia",
          "Date": "2015",
          "ISO": "MKD",
          "WHO_region": "European",
          "value": 26.068000793457
         },
         {
          "Country": "Norway",
          "Date": "2015",
          "ISO": "NOR",
          "WHO_region": "European",
          "value": 4.2960000038147
         },
         {
          "Country": "Oman",
          "Date": "2015",
          "ISO": "OMN",
          "WHO_region": "Eastern Mediterranean",
          "value": 3.63199996948242
         },
         {
          "Country": "Pakistan",
          "Date": "2015",
          "ISO": "PAK",
          "WHO_region": "Eastern Mediterranean",
          "value": 3.56599998474121
         },
         {
          "Country": "Panama",
          "Date": "2015",
          "ISO": "PAN",
          "WHO_region": "Americas",
          "value": 3.00200009346008
         },
         {
          "Country": "Papua New Guinea",
          "Date": "2015",
          "ISO": "PNG",
          "WHO_region": "Western Pacific",
          "value": 2.57299995422363
         },
         {
          "Country": "Paraguay",
          "Date": "2015",
          "ISO": "PRY",
          "WHO_region": "Americas",
          "value": 4.55600023269653
         },
         {
          "Country": "Peru",
          "Date": "2015",
          "ISO": "PER",
          "WHO_region": "Americas",
          "value": 3
         },
         {
          "Country": "Philippines",
          "Date": "2015",
          "ISO": "PHL",
          "WHO_region": "Western Pacific",
          "value": 3.06800007820129
         },
         {
          "Country": "Poland",
          "Date": "2015",
          "ISO": "POL",
          "WHO_region": "European",
          "value": 7.50099992752075
         },
         {
          "Country": "Portugal",
          "Date": "2015",
          "ISO": "PRT",
          "WHO_region": "European",
          "value": 12.4440002441406
         },
         {
          "Country": "Puerto Rico",
          "Date": "2015",
          "ISO": "PRI",
          "WHO_region": "Americas",
          "value": 12
         },
         {
          "Country": "Qatar",
          "Date": "2015",
          "ISO": "QAT",
          "WHO_region": "Eastern Mediterranean",
          "value": 0.170000001788139
         },
         {
          "Country": "Romania",
          "Date": "2015",
          "ISO": "ROU",
          "WHO_region": "European",
          "value": 6.81199979782104
         },
         {
          "Country": "Russian Federation",
          "Date": "2015",
          "ISO": "RUS",
          "WHO_region": "European",
          "value": 5.57100009918213
         },
         {
          "Country": "Rwanda",
          "Date": "2015",
          "ISO": "RWA",
          "WHO_region": "African",
          "value": 1.14300000667572
         },
         {
          "Country": "Samoa",
          "Date": "2015",
          "ISO": "WSM",
          "WHO_region": "Western Pacific",
          "value": 8.6560001373291
         },
         {
          "Country": "Sao Tome and Principe",
          "Date": "2015",
          "ISO": "STP",
          "WHO_region": "African",
          "value": 13.4720001220703
         },
         {
          "Country": "Saudi Arabia",
          "Date": "2015",
          "ISO": "SAU",
          "WHO_region": "Eastern Mediterranean",
          "value": 5.59000015258789
         },
         {
          "Country": "Senegal",
          "Date": "2015",
          "ISO": "SEN",
          "WHO_region": "African",
          "value": 6.75699996948242
         },
         {
          "Country": "Serbia",
          "Date": "2015",
          "ISO": "SRB",
          "WHO_region": "European",
          "value": 17.6599998474121
         },
         {
          "Country": "Sierra Leone",
          "Date": "2015",
          "ISO": "SLE",
          "WHO_region": "African",
          "value": 4.63700008392334
         },
         {
          "Country": "Singapore",
          "Date": "2015",
          "ISO": "SGP",
          "WHO_region": "Western Pacific",
          "value": 3.78999996185303
         },
         {
          "Country": "Slovakia",
          "Date": "2015",
          "ISO": "SVK",
          "WHO_region": "European",
          "value": 11.4809999465942
         },
         {
          "Country": "Slovenia",
          "Date": "2015",
          "ISO": "SVN",
          "WHO_region": "European",
          "value": 8.96199989318848
         },
         {
          "Country": "Solomon Islands",
          "Date": "2015",
          "ISO": "SLB",
          "WHO_region": "Western Pacific",
          "value": 0.669000029563904
         },
         {
          "Country": "Somalia",
          "Date": "2015",
          "ISO": "SOM",
          "WHO_region": "Eastern Mediterranean",
          "value": 11.6230001449585
         },
         {
          "Country": "South Africa",
          "Date": "2015",
          "ISO": "ZAF",
          "WHO_region": "African",
          "value": 25.1560001373291
         },
         {
          "Country": "South Sudan",
          "Date": "2015",
          "ISO": "SSD",
          "WHO_region": "African",
          "value": 12.5749998092651
         },
         {
          "Country": "Spain",
          "Date": "2015",
          "ISO": "ESP",
          "WHO_region": "European",
          "value": 22.056999206543
         },
         {
          "Country": "Sri Lanka",
          "Date": "2015",
          "ISO": "LKA",
          "WHO_region": "South-East Asia",
          "value": 4.51900005340576
         },
         {
          "Country": "Saint Lucia",
          "Date": "2015",
          "ISO": "LCA",
          "WHO_region": "Americas",
          "value": 24.0900001525879
         },
         {
          "Country": "Saint Vincent and the Grenadines",
          "Date": "2015",
          "ISO": "VCT",
          "WHO_region": "Americas",
          "value": 19.3150005340576
         },
         {
          "Country": "Sudan",
          "Date": "2015",
          "ISO": "SDN",
          "WHO_region": "Eastern Mediterranean",
          "value": 17.3159999847412
         },
         {
          "Country": "Suriname",
          "Date": "2015",
          "ISO": "SUR",
          "WHO_region": "Americas",
          "value": 7.21999979019165
         },
         {
          "Country": "Sweden",
          "Date": "2015",
          "ISO": "SWE",
          "WHO_region": "European",
          "value": 7.43200016021729
         },
         {
          "Country": "Switzerland",
          "Date": "2015",
          "ISO": "CHE",
          "WHO_region": "European",
          "value": 4.80100011825562
         },
         {
          "Country": "Syrian Arab Republic",
          "Date": "2015",
          "ISO": "SYR",
          "WHO_region": "Eastern Mediterranean",
          "value": 8.5310001373291
         },
         {
          "Country": "Tajikistan",
          "Date": "2015",
          "ISO": "TJK",
          "WHO_region": "European",
          "value": 11.5010004043579
         },
         {
          "Country": "United Republic of Tanzania",
          "Date": "2015",
          "ISO": "TZA",
          "WHO_region": "African",
          "value": 2.1029999256134
         },
         {
          "Country": "Thailand",
          "Date": "2015",
          "ISO": "THA",
          "WHO_region": "South-East Asia",
          "value": 0.597000002861023
         },
         {
          "Country": "Timor-Leste",
          "Date": "2015",
          "ISO": "TLS",
          "WHO_region": "South-East Asia",
          "value": 4.44899988174438
         },
         {
          "Country": "Togo",
          "Date": "2015",
          "ISO": "TGO",
          "WHO_region": "African",
          "value": 2.2039999961853
         },
         {
          "Country": "Tonga",
          "Date": "2015",
          "ISO": "TON",
          "WHO_region": "Western Pacific",
          "value": 1.12699997425079
         },
         {
          "Country": "Trinidad and Tobago",
          "Date": "2015",
          "ISO": "TTO",
          "WHO_region": "Americas",
          "value": 2.21099996566772
         },
         {
          "Country": "Tunisia",
          "Date": "2015",
          "ISO": "TUN",
          "WHO_region": "Eastern Mediterranean",
          "value": 15.2180004119873
         },
         {
          "Country": "Turkey",
          "Date": "2015",
          "ISO": "TUR",
          "WHO_region": "European",
          "value": 10.2360000610352
         },
         {
          "Country": "Turkmenistan",
          "Date": "2015",
          "ISO": "TKM",
          "WHO_region": "European",
          "value": 3.9539999961853
         },
         {
          "Country": "Uganda",
          "Date": "2015",
          "ISO": "UGA",
          "WHO_region": "African",
          "value": 1.85899996757507
         },
         {
          "Country": "Ukraine",
          "Date": "2015",
          "ISO": "UKR",
          "WHO_region": "European",
          "value": 9.14000034332275
         },
         {
          "Country": "United Arab Emirates",
          "Date": "2015",
          "ISO": "ARE",
          "WHO_region": "Eastern Mediterranean",
          "value": 1.9099999666214
         },
         {
          "Country": "The United Kingdom",
          "Date": "2015",
          "ISO": "GBR",
          "WHO_region": "European",
          "value": 5.30100011825562
         },
         {
          "Country": "United States of America",
          "Date": "2015",
          "ISO": "USA",
          "WHO_region": "Americas",
          "value": 5.28000020980835
         },
         {
          "Country": "Uruguay",
          "Date": "2015",
          "ISO": "URY",
          "WHO_region": "Americas",
          "value": 7.48799991607666
         },
         {
          "Country": "Uzbekistan",
          "Date": "2015",
          "ISO": "UZB",
          "WHO_region": "European",
          "value": 5.15000009536743
         },
         {
          "Country": "Vanuatu",
          "Date": "2015",
          "ISO": "VUT",
          "WHO_region": "Western Pacific",
          "value": 4.56699991226196
         },
         {
          "Country": "Venezuela (Bolivarian Republic of)",
          "Date": "2015",
          "ISO": "VEN",
          "WHO_region": "Americas",
          "value": 7.44000005722046
         },
         {
          "Country": "Viet Nam",
          "Date": "2015",
          "ISO": "VNM",
          "WHO_region": "Western Pacific",
          "value": 2.125
         },
         {
          "Country": "United States Virgin Islands",
          "Date": "2015",
          "ISO": "VIR",
          "WHO_region": "Americas",
          "value": 9.52700042724609
         },
         {
          "Country": "occupied Palestinian territory, including east Jerusalem",
          "Date": "2015",
          "ISO": "PSE",
          "WHO_region": "Eastern Mediterranean",
          "value": 23.0049991607666
         },
         {
          "Country": "Yemen",
          "Date": "2015",
          "ISO": "YEM",
          "WHO_region": "Eastern Mediterranean",
          "value": 13.3950004577637
         },
         {
          "Country": "Zambia",
          "Date": "2015",
          "ISO": "ZMB",
          "WHO_region": "African",
          "value": 10.1049995422363
         },
         {
          "Country": "Zimbabwe",
          "Date": "2015",
          "ISO": "ZWE",
          "WHO_region": "African",
          "value": 5.30200004577637
         },
         {
          "Country": "Afghanistan",
          "Date": "2016",
          "ISO": "AFG",
          "WHO_region": "Eastern Mediterranean",
          "value": 11.3129997253418
         },
         {
          "Country": "Albania",
          "Date": "2016",
          "ISO": "ALB",
          "WHO_region": "European",
          "value": 15.2200002670288
         },
         {
          "Country": "Algeria",
          "Date": "2016",
          "ISO": "DZA",
          "WHO_region": "African",
          "value": 10.2019996643066
         },
         {
          "Country": "Angola",
          "Date": "2016",
          "ISO": "AGO",
          "WHO_region": "African",
          "value": 7.22300004959106
         },
         {
          "Country": "Argentina",
          "Date": "2016",
          "ISO": "ARG",
          "WHO_region": "Americas",
          "value": 7.97700023651123
         },
         {
          "Country": "Armenia",
          "Date": "2016",
          "ISO": "ARM",
          "WHO_region": "European",
          "value": 17.617000579834
         },
         {
          "Country": "Australia",
          "Date": "2016",
          "ISO": "AUS",
          "WHO_region": "Western Pacific",
          "value": 5.71000003814697
         },
         {
          "Country": "Austria",
          "Date": "2016",
          "ISO": "AUT",
          "WHO_region": "European",
          "value": 6.01399993896484
         },
         {
          "Country": "Azerbaijan",
          "Date": "2016",
          "ISO": "AZE",
          "WHO_region": "European",
          "value": 5
         },
         {
          "Country": "Bahamas",
          "Date": "2016",
          "ISO": "BHS",
          "WHO_region": "Americas",
          "value": 12.6999998092651
         },
         {
          "Country": "Bahrain",
          "Date": "2016",
          "ISO": "BHR",
          "WHO_region": "Eastern Mediterranean",
          "value": 0.919000029563904
         },
         {
          "Country": "Bangladesh",
          "Date": "2016",
          "ISO": "BGD",
          "WHO_region": "South-East Asia",
          "value": 4.34999990463257
         },
         {
          "Country": "Barbados",
          "Date": "2016",
          "ISO": "BRB",
          "WHO_region": "Americas",
          "value": 9.72000026702881
         },
         {
          "Country": "Belarus",
          "Date": "2016",
          "ISO": "BLR",
          "WHO_region": "European",
          "value": 5.84000015258789
         },
         {
          "Country": "Belgium",
          "Date": "2016",
          "ISO": "BEL",
          "WHO_region": "European",
          "value": 7.82999992370605
         },
         {
          "Country": "Belize",
          "Date": "2016",
          "ISO": "BLZ",
          "WHO_region": "Americas",
          "value": 7
         },
         {
          "Country": "Benin",
          "Date": "2016",
          "ISO": "BEN",
          "WHO_region": "African",
          "value": 2.53699994087219
         },
         {
          "Country": "Bhutan",
          "Date": "2016",
          "ISO": "BTN",
          "WHO_region": "South-East Asia",
          "value": 2.41599988937378
         },
         {
          "Country": "Bolivia (Plurinational State of)",
          "Date": "2016",
          "ISO": "BOL",
          "WHO_region": "Americas",
          "value": 3.52500009536743
         },
         {
          "Country": "Bosnia and Herzegovina",
          "Date": "2016",
          "ISO": "BIH",
          "WHO_region": "European",
          "value": 25.4080009460449
         },
         {
          "Country": "Botswana",
          "Date": "2016",
          "ISO": "BWA",
          "WHO_region": "African",
          "value": 17.6590003967285
         },
         {
          "Country": "Brazil",
          "Date": "2016",
          "ISO": "BRA",
          "WHO_region": "Americas",
          "value": 11.6000003814697
         },
         {
          "Country": "Brunei Darussalam",
          "Date": "2016",
          "ISO": "BRN",
          "WHO_region": "Western Pacific",
          "value": 8.71100044250488
         },
         {
          "Country": "Bulgaria",
          "Date": "2016",
          "ISO": "BGR",
          "WHO_region": "European",
          "value": 7.57499980926514
         },
         {
          "Country": "Burkina Faso",
          "Date": "2016",
          "ISO": "BFA",
          "WHO_region": "African",
          "value": 6.3439998626709
         },
         {
          "Country": "Burundi",
          "Date": "2016",
          "ISO": "BDI",
          "WHO_region": "African",
          "value": 1.52799999713898
         },
         {
          "Country": "Cabo Verde",
          "Date": "2016",
          "ISO": "CPV",
          "WHO_region": "African",
          "value": 12.1059999465942
         },
         {
          "Country": "Cambodia",
          "Date": "2016",
          "ISO": "KHM",
          "WHO_region": "Western Pacific",
          "value": 0.716000020503998
         },
         {
          "Country": "Cameroon",
          "Date": "2016",
          "ISO": "CMR",
          "WHO_region": "African",
          "value": 3.47199988365173
         },
         {
          "Country": "Canada",
          "Date": "2016",
          "ISO": "CAN",
          "WHO_region": "Americas",
          "value": 6.99900007247925
         },
         {
          "Country": "Central African Republic",
          "Date": "2016",
          "ISO": "CAF",
          "WHO_region": "African",
          "value": 3.81900000572205
         },
         {
          "Country": "Chad",
          "Date": "2016",
          "ISO": "TCD",
          "WHO_region": "African",
          "value": 1.85599994659424
         },
         {
          "Country": "Channel Islands",
          "Date": "2016",
          "ISO": "CHI",
          "WHO_region": "Other",
          "value": 7.85799980163574
         },
         {
          "Country": "Chile",
          "Date": "2016",
          "ISO": "CHL",
          "WHO_region": "Americas",
          "value": 6.73799991607666
         },
         {
          "Country": "China",
          "Date": "2016",
          "ISO": "CHN",
          "WHO_region": "Western Pacific",
          "value": 4.53499984741211
         },
         {
          "Country": "Colombia",
          "Date": "2016",
          "ISO": "COL",
          "WHO_region": "Americas",
          "value": 8.69200038909912
         },
         {
          "Country": "Comoros",
          "Date": "2016",
          "ISO": "COM",
          "WHO_region": "African",
          "value": 4.44999980926514
         },
         {
          "Country": "Congo",
          "Date": "2016",
          "ISO": "COD",
          "WHO_region": "African",
          "value": 4.35699987411499
         },
         {
          "Country": "Democratic Republic of the Congo",
          "Date": "2016",
          "ISO": "COG",
          "WHO_region": "African",
          "value": 9.85799980163574
         },
         {
          "Country": "Costa Rica",
          "Date": "2016",
          "ISO": "CRI",
          "WHO_region": "Americas",
          "value": 8.59799957275391
         },
         {
          "Country": "Côte d’Ivoire",
          "Date": "2016",
          "ISO": "CIV",
          "WHO_region": "African",
          "value": 2.59899997711182
         },
         {
          "Country": "Croatia",
          "Date": "2016",
          "ISO": "HRV",
          "WHO_region": "European",
          "value": 13.1029996871948
         },
         {
          "Country": "Cuba",
          "Date": "2016",
          "ISO": "CUB",
          "WHO_region": "Americas",
          "value": 2
         },
         {
          "Country": "Cyprus",
          "Date": "2016",
          "ISO": "CYP",
          "WHO_region": "European",
          "value": 12.9499998092651
         },
         {
          "Country": "Czechia",
          "Date": "2016",
          "ISO": "CZE",
          "WHO_region": "European",
          "value": 3.95099997520447
         },
         {
          "Country": "Denmark",
          "Date": "2016",
          "ISO": "DNK",
          "WHO_region": "European",
          "value": 6.18100023269653
         },
         {
          "Country": "Djibouti",
          "Date": "2016",
          "ISO": "DJI",
          "WHO_region": "Eastern Mediterranean",
          "value": 10.5100002288818
         },
         {
          "Country": "Dominican Republic",
          "Date": "2016",
          "ISO": "DOM",
          "WHO_region": "Americas",
          "value": 7.28299999237061
         },
         {
          "Country": "Ecuador",
          "Date": "2016",
          "ISO": "ECU",
          "WHO_region": "Americas",
          "value": 4.59700012207031
         },
         {
          "Country": "Egypt",
          "Date": "2016",
          "ISO": "EGY",
          "WHO_region": "Eastern Mediterranean",
          "value": 12.4069995880127
         },
         {
          "Country": "El Salvador",
          "Date": "2016",
          "ISO": "SLV",
          "WHO_region": "Americas",
          "value": 4.41800022125244
         },
         {
          "Country": "Equatorial Guinea",
          "Date": "2016",
          "ISO": "GNQ",
          "WHO_region": "African",
          "value": 6.58500003814697
         },
         {
          "Country": "Eritrea",
          "Date": "2016",
          "ISO": "ERI",
          "WHO_region": "African",
          "value": 5.28499984741211
         },
         {
          "Country": "Estonia",
          "Date": "2016",
          "ISO": "EST",
          "WHO_region": "European",
          "value": 6.76200008392334
         },
         {
          "Country": "Eswatini",
          "Date": "2016",
          "ISO": "SWZ",
          "WHO_region": "African",
          "value": 22.7180004119873
         },
         {
          "Country": "Ethiopia",
          "Date": "2016",
          "ISO": "ETH",
          "WHO_region": "African",
          "value": 2.16799998283386
         },
         {
          "Country": "Fiji",
          "Date": "2016",
          "ISO": "FJI",
          "WHO_region": "Western Pacific",
          "value": 4.31899976730347
         },
         {
          "Country": "Finland",
          "Date": "2016",
          "ISO": "FIN",
          "WHO_region": "European",
          "value": 8.81799983978271
         },
         {
          "Country": "France",
          "Date": "2016",
          "ISO": "FRA",
          "WHO_region": "European",
          "value": 10.0570001602173
         },
         {
          "Country": "French Polynesia",
          "Date": "2016",
          "ISO": "PYF",
          "WHO_region": "Western Pacific",
          "value": 13.2559995651245
         },
         {
          "Country": "Gabon",
          "Date": "2016",
          "ISO": "GAB",
          "WHO_region": "African",
          "value": 20.1590003967285
         },
         {
          "Country": "Gambia",
          "Date": "2016",
          "ISO": "GMB",
          "WHO_region": "African",
          "value": 9.24899959564209
         },
         {
          "Country": "Georgia",
          "Date": "2016",
          "ISO": "GEO",
          "WHO_region": "European",
          "value": 16.6040000915527
         },
         {
          "Country": "Germany",
          "Date": "2016",
          "ISO": "DEU",
          "WHO_region": "European",
          "value": 4.12200021743774
         },
         {
          "Country": "Ghana",
          "Date": "2016",
          "ISO": "GHA",
          "WHO_region": "African",
          "value": 5.44999980926514
         },
         {
          "Country": "Greece",
          "Date": "2016",
          "ISO": "GRC",
          "WHO_region": "European",
          "value": 23.5389995574951
         },
         {
          "Country": "Guam",
          "Date": "2016",
          "ISO": "GUM",
          "WHO_region": "Western Pacific",
          "value": 5.40000009536743
         },
         {
          "Country": "Guatemala",
          "Date": "2016",
          "ISO": "GTM",
          "WHO_region": "Americas",
          "value": 2.58299994468689
         },
         {
          "Country": "Guinea",
          "Date": "2016",
          "ISO": "GIN",
          "WHO_region": "African",
          "value": 4.39200019836426
         },
         {
          "Country": "Guinea-Bissau",
          "Date": "2016",
          "ISO": "GNB",
          "WHO_region": "African",
          "value": 2.56599998474121
         },
         {
          "Country": "Guyana",
          "Date": "2016",
          "ISO": "GUY",
          "WHO_region": "Americas",
          "value": 12.0550003051758
         },
         {
          "Country": "Haiti",
          "Date": "2016",
          "ISO": "HTI",
          "WHO_region": "Americas",
          "value": 13.8809995651245
         },
         {
          "Country": "Honduras",
          "Date": "2016",
          "ISO": "HND",
          "WHO_region": "Americas",
          "value": 6.72700023651123
         },
         {
          "Country": "China HongKong",
          "Date": "2016",
          "ISO": "HKG",
          "WHO_region": "Western Pacific",
          "value": 3.39000010490417
         },
         {
          "Country": "Hungary",
          "Date": "2016",
          "ISO": "HUN",
          "WHO_region": "European",
          "value": 5.11499977111816
         },
         {
          "Country": "Iceland",
          "Date": "2016",
          "ISO": "ISL",
          "WHO_region": "European",
          "value": 2.9779999256134
         },
         {
          "Country": "India",
          "Date": "2016",
          "ISO": "IND",
          "WHO_region": "South-East Asia",
          "value": 5.51100015640259
         },
         {
          "Country": "Indonesia",
          "Date": "2016",
          "ISO": "IDN",
          "WHO_region": "South-East Asia",
          "value": 4.30100011825562
         },
         {
          "Country": "Iran (Islamic Republic of)",
          "Date": "2016",
          "ISO": "IRN",
          "WHO_region": "Eastern Mediterranean",
          "value": 12.4300003051758
         },
         {
          "Country": "Iraq",
          "Date": "2016",
          "ISO": "IRQ",
          "WHO_region": "Eastern Mediterranean",
          "value": 10.8199996948242
         },
         {
          "Country": "Ireland",
          "Date": "2016",
          "ISO": "IRL",
          "WHO_region": "European",
          "value": 8.37399959564209
         },
         {
          "Country": "Israel",
          "Date": "2016",
          "ISO": "ISR",
          "WHO_region": "European",
          "value": 4.7979998588562
         },
         {
          "Country": "Italy",
          "Date": "2016",
          "ISO": "ITA",
          "WHO_region": "European",
          "value": 11.6879997253418
         },
         {
          "Country": "Jamaica",
          "Date": "2016",
          "ISO": "JAM",
          "WHO_region": "Americas",
          "value": 13.1920003890991
         },
         {
          "Country": "Japan",
          "Date": "2016",
          "ISO": "JPN",
          "WHO_region": "Western Pacific",
          "value": 3.09999990463257
         },
         {
          "Country": "Jordan",
          "Date": "2016",
          "ISO": "JOR",
          "WHO_region": "Eastern Mediterranean",
          "value": 15.2749996185303
         },
         {
          "Country": "Kazakhstan",
          "Date": "2016",
          "ISO": "KAZ",
          "WHO_region": "European",
          "value": 4.96000003814697
         },
         {
          "Country": "Kenya",
          "Date": "2016",
          "ISO": "KEN",
          "WHO_region": "African",
          "value": 2.75699996948242
         },
         {
          "Country": "Democratic People's Republic of Korea",
          "Date": "2016",
          "ISO": "PRK",
          "WHO_region": "South-East Asia",
          "value": 2.84800004959106
         },
         {
          "Country": "Republic of Korea",
          "Date": "2016",
          "ISO": "KOR",
          "WHO_region": "Western Pacific",
          "value": 3.70000004768372
         },
         {
          "Country": "Kuwait",
          "Date": "2016",
          "ISO": "KWT",
          "WHO_region": "Eastern Mediterranean",
          "value": 2.16000008583069
         },
         {
          "Country": "Kyrgyzstan",
          "Date": "2016",
          "ISO": "KGZ",
          "WHO_region": "European",
          "value": 7.21000003814697
         },
         {
          "Country": "Lao People's Democratic Republic",
          "Date": "2016",
          "ISO": "LAO",
          "WHO_region": "Western Pacific",
          "value": 0.680000007152557
         },
         {
          "Country": "Latvia",
          "Date": "2016",
          "ISO": "LVA",
          "WHO_region": "European",
          "value": 9.64299964904785
         },
         {
          "Country": "Lebanon",
          "Date": "2016",
          "ISO": "LBN",
          "WHO_region": "Eastern Mediterranean",
          "value": 6.30900001525879
         },
         {
          "Country": "Lesotho",
          "Date": "2016",
          "ISO": "LSO",
          "WHO_region": "African",
          "value": 24.2999992370605
         },
         {
          "Country": "Liberia",
          "Date": "2016",
          "ISO": "LBR",
          "WHO_region": "African",
          "value": 3.08100008964539
         },
         {
          "Country": "Libya",
          "Date": "2016",
          "ISO": "LBY",
          "WHO_region": "Eastern Mediterranean",
          "value": 18.7889995574951
         },
         {
          "Country": "Lithuania",
          "Date": "2016",
          "ISO": "LTU",
          "WHO_region": "European",
          "value": 7.86199998855591
         },
         {
          "Country": "Luxembourg",
          "Date": "2016",
          "ISO": "LUX",
          "WHO_region": "European",
          "value": 6.29099988937378
         },
         {
          "Country": "China Macao",
          "Date": "2016",
          "ISO": "MAC",
          "WHO_region": "Western Pacific",
          "value": 1.89999997615814
         },
         {
          "Country": "Madagascar",
          "Date": "2016",
          "ISO": "MDG",
          "WHO_region": "African",
          "value": 1.76300001144409
         },
         {
          "Country": "Malawi",
          "Date": "2016",
          "ISO": "MWI",
          "WHO_region": "African",
          "value": 5.79500007629395
         },
         {
          "Country": "Malaysia",
          "Date": "2016",
          "ISO": "MYS",
          "WHO_region": "Western Pacific",
          "value": 3.44000005722046
         },
         {
          "Country": "Maldives",
          "Date": "2016",
          "ISO": "MDV",
          "WHO_region": "South-East Asia",
          "value": 6.11999988555908
         },
         {
          "Country": "Mali",
          "Date": "2016",
          "ISO": "MLI",
          "WHO_region": "African",
          "value": 7.55299997329712
         },
         {
          "Country": "Malta",
          "Date": "2016",
          "ISO": "MLT",
          "WHO_region": "European",
          "value": 4.68699979782104
         },
         {
          "Country": "Mauritania",
          "Date": "2016",
          "ISO": "MRT",
          "WHO_region": "African",
          "value": 9.69200038909912
         },
         {
          "Country": "Mauritius",
          "Date": "2016",
          "ISO": "MUS",
          "WHO_region": "African",
          "value": 6.81400012969971
         },
         {
          "Country": "Mexico",
          "Date": "2016",
          "ISO": "MEX",
          "WHO_region": "Americas",
          "value": 3.85899996757507
         },
         {
          "Country": "Republic of Moldova",
          "Date": "2016",
          "ISO": "MDA",
          "WHO_region": "European",
          "value": 4.18499994277954
         },
         {
          "Country": "Mongolia",
          "Date": "2016",
          "ISO": "MNG",
          "WHO_region": "Western Pacific",
          "value": 7.2350001335144
         },
         {
          "Country": "Montenegro",
          "Date": "2016",
          "ISO": "MNE",
          "WHO_region": "European",
          "value": 17.7229995727539
         },
         {
          "Country": "Morocco",
          "Date": "2016",
          "ISO": "MAR",
          "WHO_region": "Eastern Mediterranean",
          "value": 9.30000019073486
         },
         {
          "Country": "Mozambique",
          "Date": "2016",
          "ISO": "MOZ",
          "WHO_region": "African",
          "value": 3.38299989700317
         },
         {
          "Country": "Myanmar",
          "Date": "2016",
          "ISO": "MMR",
          "WHO_region": "South-East Asia",
          "value": 1.14100003242493
         },
         {
          "Country": "Namibia",
          "Date": "2016",
          "ISO": "NAM",
          "WHO_region": "African",
          "value": 23.3519992828369
         },
         {
          "Country": "Nepal",
          "Date": "2016",
          "ISO": "NPL",
          "WHO_region": "South-East Asia",
          "value": 1.44599997997284
         },
         {
          "Country": "Netherlands",
          "Date": "2016",
          "ISO": "NLD",
          "WHO_region": "European",
          "value": 6.00600004196167
         },
         {
          "Country": "New Caledonia",
          "Date": "2016",
          "ISO": "NCL",
          "WHO_region": "Western Pacific",
          "value": 13.6829996109009
         },
         {
          "Country": "New Zealand",
          "Date": "2016",
          "ISO": "NZL",
          "WHO_region": "Western Pacific",
          "value": 5.09999990463257
         },
         {
          "Country": "Nicaragua",
          "Date": "2016",
          "ISO": "NIC",
          "WHO_region": "Americas",
          "value": 3.90000009536743
         },
         {
          "Country": "Niger",
          "Date": "2016",
          "ISO": "NER",
          "WHO_region": "African",
          "value": 0.504999995231628
         },
         {
          "Country": "Nigeria",
          "Date": "2016",
          "ISO": "NGA",
          "WHO_region": "African",
          "value": 7.05999994277954
         },
         {
          "Country": "North Macedonia",
          "Date": "2016",
          "ISO": "MKD",
          "WHO_region": "European",
          "value": 23.7240009307861
         },
         {
          "Country": "Norway",
          "Date": "2016",
          "ISO": "NOR",
          "WHO_region": "European",
          "value": 4.67899990081787
         },
         {
          "Country": "Oman",
          "Date": "2016",
          "ISO": "OMN",
          "WHO_region": "Eastern Mediterranean",
          "value": 3.26999998092651
         },
         {
          "Country": "Pakistan",
          "Date": "2016",
          "ISO": "PAK",
          "WHO_region": "Eastern Mediterranean",
          "value": 3.78900003433228
         },
         {
          "Country": "Panama",
          "Date": "2016",
          "ISO": "PAN",
          "WHO_region": "Americas",
          "value": 3.31500005722046
         },
         {
          "Country": "Papua New Guinea",
          "Date": "2016",
          "ISO": "PNG",
          "WHO_region": "Western Pacific",
          "value": 2.53900003433228
         },
         {
          "Country": "Paraguay",
          "Date": "2016",
          "ISO": "PRY",
          "WHO_region": "Americas",
          "value": 5.25500011444092
         },
         {
          "Country": "Peru",
          "Date": "2016",
          "ISO": "PER",
          "WHO_region": "Americas",
          "value": 3.53500008583069
         },
         {
          "Country": "Philippines",
          "Date": "2016",
          "ISO": "PHL",
          "WHO_region": "Western Pacific",
          "value": 2.70799994468689
         },
         {
          "Country": "Poland",
          "Date": "2016",
          "ISO": "POL",
          "WHO_region": "European",
          "value": 6.16099977493286
         },
         {
          "Country": "Portugal",
          "Date": "2016",
          "ISO": "PRT",
          "WHO_region": "European",
          "value": 11.0659999847412
         },
         {
          "Country": "Puerto Rico",
          "Date": "2016",
          "ISO": "PRI",
          "WHO_region": "Americas",
          "value": 11.8000001907349
         },
         {
          "Country": "Qatar",
          "Date": "2016",
          "ISO": "QAT",
          "WHO_region": "Eastern Mediterranean",
          "value": 0.150000005960464
         },
         {
          "Country": "Romania",
          "Date": "2016",
          "ISO": "ROU",
          "WHO_region": "European",
          "value": 5.90100002288818
         },
         {
          "Country": "Russian Federation",
          "Date": "2016",
          "ISO": "RUS",
          "WHO_region": "European",
          "value": 5.55900001525879
         },
         {
          "Country": "Rwanda",
          "Date": "2016",
          "ISO": "RWA",
          "WHO_region": "African",
          "value": 1.11300003528595
         },
         {
          "Country": "Samoa",
          "Date": "2016",
          "ISO": "WSM",
          "WHO_region": "Western Pacific",
          "value": 8.57800006866455
         },
         {
          "Country": "Sao Tome and Principe",
          "Date": "2016",
          "ISO": "STP",
          "WHO_region": "African",
          "value": 13.3999996185303
         },
         {
          "Country": "Saudi Arabia",
          "Date": "2016",
          "ISO": "SAU",
          "WHO_region": "Eastern Mediterranean",
          "value": 5.65000009536743
         },
         {
          "Country": "Senegal",
          "Date": "2016",
          "ISO": "SEN",
          "WHO_region": "African",
          "value": 6.70599985122681
         },
         {
          "Country": "Serbia",
          "Date": "2016",
          "ISO": "SRB",
          "WHO_region": "European",
          "value": 15.2569999694824
         },
         {
          "Country": "Sierra Leone",
          "Date": "2016",
          "ISO": "SLE",
          "WHO_region": "African",
          "value": 4.58699989318848
         },
         {
          "Country": "Singapore",
          "Date": "2016",
          "ISO": "SGP",
          "WHO_region": "Western Pacific",
          "value": 4.07999992370605
         },
         {
          "Country": "Slovakia",
          "Date": "2016",
          "ISO": "SVK",
          "WHO_region": "European",
          "value": 9.67000007629395
         },
         {
          "Country": "Slovenia",
          "Date": "2016",
          "ISO": "SVN",
          "WHO_region": "European",
          "value": 8
         },
         {
          "Country": "Solomon Islands",
          "Date": "2016",
          "ISO": "SLB",
          "WHO_region": "Western Pacific",
          "value": 0.657999992370605
         },
         {
          "Country": "Somalia",
          "Date": "2016",
          "ISO": "SOM",
          "WHO_region": "Eastern Mediterranean",
          "value": 11.5459995269775
         },
         {
          "Country": "South Africa",
          "Date": "2016",
          "ISO": "ZAF",
          "WHO_region": "African",
          "value": 26.5510005950928
         },
         {
          "Country": "South Sudan",
          "Date": "2016",
          "ISO": "SSD",
          "WHO_region": "African",
          "value": 12.496000289917
         },
         {
          "Country": "Spain",
          "Date": "2016",
          "ISO": "ESP",
          "WHO_region": "European",
          "value": 19.6350002288818
         },
         {
          "Country": "Sri Lanka",
          "Date": "2016",
          "ISO": "LKA",
          "WHO_region": "South-East Asia",
          "value": 4.24200010299683
         },
         {
          "Country": "Saint Lucia",
          "Date": "2016",
          "ISO": "LCA",
          "WHO_region": "Americas",
          "value": 21.2630004882813
         },
         {
          "Country": "Saint Vincent and the Grenadines",
          "Date": "2016",
          "ISO": "VCT",
          "WHO_region": "Americas",
          "value": 19.2169990539551
         },
         {
          "Country": "Sudan",
          "Date": "2016",
          "ISO": "SDN",
          "WHO_region": "Eastern Mediterranean",
          "value": 17.2229995727539
         },
         {
          "Country": "Suriname",
          "Date": "2016",
          "ISO": "SUR",
          "WHO_region": "Americas",
          "value": 7.16900014877319
         },
         {
          "Country": "Sweden",
          "Date": "2016",
          "ISO": "SWE",
          "WHO_region": "European",
          "value": 6.98999977111816
         },
         {
          "Country": "Switzerland",
          "Date": "2016",
          "ISO": "CHE",
          "WHO_region": "European",
          "value": 4.91800022125244
         },
         {
          "Country": "Syrian Arab Republic",
          "Date": "2016",
          "ISO": "SYR",
          "WHO_region": "Eastern Mediterranean",
          "value": 8.4689998626709
         },
         {
          "Country": "Tajikistan",
          "Date": "2016",
          "ISO": "TJK",
          "WHO_region": "European",
          "value": 11.4180002212524
         },
         {
          "Country": "United Republic of Tanzania",
          "Date": "2016",
          "ISO": "TZA",
          "WHO_region": "African",
          "value": 2.07699990272522
         },
         {
          "Country": "Thailand",
          "Date": "2016",
          "ISO": "THA",
          "WHO_region": "South-East Asia",
          "value": 0.688000023365021
         },
         {
          "Country": "Timor-Leste",
          "Date": "2016",
          "ISO": "TLS",
          "WHO_region": "South-East Asia",
          "value": 4.65700006484985
         },
         {
          "Country": "Togo",
          "Date": "2016",
          "ISO": "TGO",
          "WHO_region": "African",
          "value": 2.17499995231628
         },
         {
          "Country": "Tonga",
          "Date": "2016",
          "ISO": "TON",
          "WHO_region": "Western Pacific",
          "value": 1.11000001430511
         },
         {
          "Country": "Trinidad and Tobago",
          "Date": "2016",
          "ISO": "TTO",
          "WHO_region": "Americas",
          "value": 2.97199988365173
         },
         {
          "Country": "Tunisia",
          "Date": "2016",
          "ISO": "TUN",
          "WHO_region": "Eastern Mediterranean",
          "value": 15.5139999389648
         },
         {
          "Country": "Turkey",
          "Date": "2016",
          "ISO": "TUR",
          "WHO_region": "European",
          "value": 10.83899974823
         },
         {
          "Country": "Turkmenistan",
          "Date": "2016",
          "ISO": "TKM",
          "WHO_region": "European",
          "value": 3.92000007629395
         },
         {
          "Country": "Uganda",
          "Date": "2016",
          "ISO": "UGA",
          "WHO_region": "African",
          "value": 1.83299994468689
         },
         {
          "Country": "Ukraine",
          "Date": "2016",
          "ISO": "UKR",
          "WHO_region": "European",
          "value": 9.35000038146973
         },
         {
          "Country": "United Arab Emirates",
          "Date": "2016",
          "ISO": "ARE",
          "WHO_region": "Eastern Mediterranean",
          "value": 1.6360000371933
         },
         {
          "Country": "The United Kingdom",
          "Date": "2016",
          "ISO": "GBR",
          "WHO_region": "European",
          "value": 4.81300020217896
         },
         {
          "Country": "United States of America",
          "Date": "2016",
          "ISO": "USA",
          "WHO_region": "Americas",
          "value": 4.86899995803833
         },
         {
          "Country": "Uruguay",
          "Date": "2016",
          "ISO": "URY",
          "WHO_region": "Americas",
          "value": 7.84100008010864
         },
         {
          "Country": "Uzbekistan",
          "Date": "2016",
          "ISO": "UZB",
          "WHO_region": "European",
          "value": 5.15999984741211
         },
         {
          "Country": "Vanuatu",
          "Date": "2016",
          "ISO": "VUT",
          "WHO_region": "Western Pacific",
          "value": 4.52199983596802
         },
         {
          "Country": "Venezuela (Bolivarian Republic of)",
          "Date": "2016",
          "ISO": "VEN",
          "WHO_region": "Americas",
          "value": 7.3899998664856
         },
         {
          "Country": "Viet Nam",
          "Date": "2016",
          "ISO": "VNM",
          "WHO_region": "Western Pacific",
          "value": 2.08299994468689
         },
         {
          "Country": "United States Virgin Islands",
          "Date": "2016",
          "ISO": "VIR",
          "WHO_region": "Americas",
          "value": 9.16499996185303
         },
         {
          "Country": "occupied Palestinian territory, including east Jerusalem",
          "Date": "2016",
          "ISO": "PSE",
          "WHO_region": "Eastern Mediterranean",
          "value": 23.9389991760254
         },
         {
          "Country": "Yemen",
          "Date": "2016",
          "ISO": "YEM",
          "WHO_region": "Eastern Mediterranean",
          "value": 13.3070001602173
         },
         {
          "Country": "Zambia",
          "Date": "2016",
          "ISO": "ZMB",
          "WHO_region": "African",
          "value": 10.8819999694824
         },
         {
          "Country": "Zimbabwe",
          "Date": "2016",
          "ISO": "ZWE",
          "WHO_region": "African",
          "value": 5.25299978256226
         },
         {
          "Country": "Afghanistan",
          "Date": "2017",
          "ISO": "AFG",
          "WHO_region": "Eastern Mediterranean",
          "value": 11.1840000152588
         },
         {
          "Country": "Albania",
          "Date": "2017",
          "ISO": "ALB",
          "WHO_region": "European",
          "value": 13.75
         },
         {
          "Country": "Algeria",
          "Date": "2017",
          "ISO": "DZA",
          "WHO_region": "African",
          "value": 11.996000289917
         },
         {
          "Country": "Angola",
          "Date": "2017",
          "ISO": "AGO",
          "WHO_region": "African",
          "value": 7.11899995803833
         },
         {
          "Country": "Argentina",
          "Date": "2017",
          "ISO": "ARG",
          "WHO_region": "Americas",
          "value": 8.34700012207031
         },
         {
          "Country": "Armenia",
          "Date": "2017",
          "ISO": "ARM",
          "WHO_region": "European",
          "value": 17.7049999237061
         },
         {
          "Country": "Australia",
          "Date": "2017",
          "ISO": "AUS",
          "WHO_region": "Western Pacific",
          "value": 5.59100008010864
         },
         {
          "Country": "Austria",
          "Date": "2017",
          "ISO": "AUT",
          "WHO_region": "European",
          "value": 5.49900007247925
         },
         {
          "Country": "Azerbaijan",
          "Date": "2017",
          "ISO": "AZE",
          "WHO_region": "European",
          "value": 5
         },
         {
          "Country": "Bahamas",
          "Date": "2017",
          "ISO": "BHS",
          "WHO_region": "Americas",
          "value": 9.80000019073486
         },
         {
          "Country": "Bahrain",
          "Date": "2017",
          "ISO": "BHR",
          "WHO_region": "Eastern Mediterranean",
          "value": 0.700999975204468
         },
         {
          "Country": "Bangladesh",
          "Date": "2017",
          "ISO": "BGD",
          "WHO_region": "South-East Asia",
          "value": 4.37200021743774
         },
         {
          "Country": "Barbados",
          "Date": "2017",
          "ISO": "BRB",
          "WHO_region": "Americas",
          "value": 9.76099967956543
         },
         {
          "Country": "Belarus",
          "Date": "2017",
          "ISO": "BLR",
          "WHO_region": "European",
          "value": 5.65000009536743
         },
         {
          "Country": "Belgium",
          "Date": "2017",
          "ISO": "BEL",
          "WHO_region": "European",
          "value": 7.08599996566772
         },
         {
          "Country": "Belize",
          "Date": "2017",
          "ISO": "BLZ",
          "WHO_region": "Americas",
          "value": 6.59499979019165
         },
         {
          "Country": "Benin",
          "Date": "2017",
          "ISO": "BEN",
          "WHO_region": "African",
          "value": 2.45900011062622
         },
         {
          "Country": "Bhutan",
          "Date": "2017",
          "ISO": "BTN",
          "WHO_region": "South-East Asia",
          "value": 2.35800004005432
         },
         {
          "Country": "Bolivia (Plurinational State of)",
          "Date": "2017",
          "ISO": "BOL",
          "WHO_region": "Americas",
          "value": 3.67000007629395
         },
         {
          "Country": "Bosnia and Herzegovina",
          "Date": "2017",
          "ISO": "BIH",
          "WHO_region": "European",
          "value": 20.5270004272461
         },
         {
          "Country": "Botswana",
          "Date": "2017",
          "ISO": "BWA",
          "WHO_region": "African",
          "value": 17.5049991607666
         },
         {
          "Country": "Brazil",
          "Date": "2017",
          "ISO": "BRA",
          "WHO_region": "Americas",
          "value": 12.8219995498657
         },
         {
          "Country": "Brunei Darussalam",
          "Date": "2017",
          "ISO": "BRN",
          "WHO_region": "Western Pacific",
          "value": 9.31599998474121
         },
         {
          "Country": "Bulgaria",
          "Date": "2017",
          "ISO": "BGR",
          "WHO_region": "European",
          "value": 6.16400003433228
         },
         {
          "Country": "Burkina Faso",
          "Date": "2017",
          "ISO": "BFA",
          "WHO_region": "African",
          "value": 6.21600008010864
         },
         {
          "Country": "Burundi",
          "Date": "2017",
          "ISO": "BDI",
          "WHO_region": "African",
          "value": 1.48699998855591
         },
         {
          "Country": "Cabo Verde",
          "Date": "2017",
          "ISO": "CPV",
          "WHO_region": "African",
          "value": 12.2399997711182
         },
         {
          "Country": "Cambodia",
          "Date": "2017",
          "ISO": "KHM",
          "WHO_region": "Western Pacific",
          "value": 0.683000028133392
         },
         {
          "Country": "Cameroon",
          "Date": "2017",
          "ISO": "CMR",
          "WHO_region": "African",
          "value": 3.41400003433228
         },
         {
          "Country": "Canada",
          "Date": "2017",
          "ISO": "CAN",
          "WHO_region": "Americas",
          "value": 6.34000015258789
         },
         {
          "Country": "Central African Republic",
          "Date": "2017",
          "ISO": "CAF",
          "WHO_region": "African",
          "value": 3.74000000953674
         },
         {
          "Country": "Chad",
          "Date": "2017",
          "ISO": "TCD",
          "WHO_region": "African",
          "value": 1.84800004959106
         },
         {
          "Country": "Channel Islands",
          "Date": "2017",
          "ISO": "CHI",
          "WHO_region": "Other",
          "value": 7.62200021743774
         },
         {
          "Country": "Chile",
          "Date": "2017",
          "ISO": "CHL",
          "WHO_region": "Americas",
          "value": 6.95800018310547
         },
         {
          "Country": "China",
          "Date": "2017",
          "ISO": "CHN",
          "WHO_region": "Western Pacific",
          "value": 4.44099998474121
         },
         {
          "Country": "Colombia",
          "Date": "2017",
          "ISO": "COL",
          "WHO_region": "Americas",
          "value": 8.87199974060059
         },
         {
          "Country": "Comoros",
          "Date": "2017",
          "ISO": "COM",
          "WHO_region": "African",
          "value": 4.375
         },
         {
          "Country": "Congo",
          "Date": "2017",
          "ISO": "COD",
          "WHO_region": "African",
          "value": 4.27299976348877
         },
         {
          "Country": "Democratic Republic of the Congo",
          "Date": "2017",
          "ISO": "COG",
          "WHO_region": "African",
          "value": 9.76299953460693
         },
         {
          "Country": "Costa Rica",
          "Date": "2017",
          "ISO": "CRI",
          "WHO_region": "Americas",
          "value": 8.14200019836426
         },
         {
          "Country": "Côte d’Ivoire",
          "Date": "2017",
          "ISO": "CIV",
          "WHO_region": "African",
          "value": 3.27300000190735
         },
         {
          "Country": "Croatia",
          "Date": "2017",
          "ISO": "HRV",
          "WHO_region": "European",
          "value": 11.2080001831055
         },
         {
          "Country": "Cuba",
          "Date": "2017",
          "ISO": "CUB",
          "WHO_region": "Americas",
          "value": 1.70000004768372
         },
         {
          "Country": "Cyprus",
          "Date": "2017",
          "ISO": "CYP",
          "WHO_region": "European",
          "value": 11.0520000457764
         },
         {
          "Country": "Czechia",
          "Date": "2017",
          "ISO": "CZE",
          "WHO_region": "European",
          "value": 2.89000010490417
         },
         {
          "Country": "Denmark",
          "Date": "2017",
          "ISO": "DNK",
          "WHO_region": "European",
          "value": 5.74300003051758
         },
         {
          "Country": "Djibouti",
          "Date": "2017",
          "ISO": "DJI",
          "WHO_region": "Eastern Mediterranean",
          "value": 10.3819999694824
         },
         {
          "Country": "Dominican Republic",
          "Date": "2017",
          "ISO": "DOM",
          "WHO_region": "Americas",
          "value": 5.83199977874756
         },
         {
          "Country": "Ecuador",
          "Date": "2017",
          "ISO": "ECU",
          "WHO_region": "Americas",
          "value": 3.83599996566772
         },
         {
          "Country": "Egypt",
          "Date": "2017",
          "ISO": "EGY",
          "WHO_region": "Eastern Mediterranean",
          "value": 11.7370004653931
         },
         {
          "Country": "El Salvador",
          "Date": "2017",
          "ISO": "SLV",
          "WHO_region": "Americas",
          "value": 4.38500022888184
         },
         {
          "Country": "Equatorial Guinea",
          "Date": "2017",
          "ISO": "GNQ",
          "WHO_region": "African",
          "value": 6.48299980163574
         },
         {
          "Country": "Eritrea",
          "Date": "2017",
          "ISO": "ERI",
          "WHO_region": "African",
          "value": 5.19299983978271
         },
         {
          "Country": "Estonia",
          "Date": "2017",
          "ISO": "EST",
          "WHO_region": "European",
          "value": 5.76000022888184
         },
         {
          "Country": "Eswatini",
          "Date": "2017",
          "ISO": "SWZ",
          "WHO_region": "African",
          "value": 22.5380001068115
         },
         {
          "Country": "Ethiopia",
          "Date": "2017",
          "ISO": "ETH",
          "WHO_region": "African",
          "value": 2.11999988555908
         },
         {
          "Country": "Fiji",
          "Date": "2017",
          "ISO": "FJI",
          "WHO_region": "Western Pacific",
          "value": 4.23699998855591
         },
         {
          "Country": "Finland",
          "Date": "2017",
          "ISO": "FIN",
          "WHO_region": "European",
          "value": 8.64000034332275
         },
         {
          "Country": "France",
          "Date": "2017",
          "ISO": "FRA",
          "WHO_region": "European",
          "value": 9.39700031280518
         },
         {
          "Country": "French Polynesia",
          "Date": "2017",
          "ISO": "PYF",
          "WHO_region": "Western Pacific",
          "value": 12.7740001678467
         },
         {
          "Country": "Gabon",
          "Date": "2017",
          "ISO": "GAB",
          "WHO_region": "African",
          "value": 19.9820003509521
         },
         {
          "Country": "Gambia",
          "Date": "2017",
          "ISO": "GMB",
          "WHO_region": "African",
          "value": 9.13599967956543
         },
         {
          "Country": "Georgia",
          "Date": "2017",
          "ISO": "GEO",
          "WHO_region": "European",
          "value": 13.9390001296997
         },
         {
          "Country": "Germany",
          "Date": "2017",
          "ISO": "DEU",
          "WHO_region": "European",
          "value": 3.74600005149841
         },
         {
          "Country": "Ghana",
          "Date": "2017",
          "ISO": "GHA",
          "WHO_region": "African",
          "value": 4.22300004959106
         },
         {
          "Country": "Greece",
          "Date": "2017",
          "ISO": "GRC",
          "WHO_region": "European",
          "value": 21.488000869751
         },
         {
          "Country": "Guam",
          "Date": "2017",
          "ISO": "GUM",
          "WHO_region": "Western Pacific",
          "value": 5.15399980545044
         },
         {
          "Country": "Guatemala",
          "Date": "2017",
          "ISO": "GTM",
          "WHO_region": "Americas",
          "value": 2.46199989318848
         },
         {
          "Country": "Guinea",
          "Date": "2017",
          "ISO": "GIN",
          "WHO_region": "African",
          "value": 4.31799983978271
         },
         {
          "Country": "Guinea-Bissau",
          "Date": "2017",
          "ISO": "GNB",
          "WHO_region": "African",
          "value": 2.5
         },
         {
          "Country": "Guyana",
          "Date": "2017",
          "ISO": "GUY",
          "WHO_region": "Americas",
          "value": 12.043999671936
         },
         {
          "Country": "Haiti",
          "Date": "2017",
          "ISO": "HTI",
          "WHO_region": "Americas",
          "value": 13.7349996566772
         },
         {
          "Country": "Honduras",
          "Date": "2017",
          "ISO": "HND",
          "WHO_region": "Americas",
          "value": 5.52799987792969
         },
         {
          "Country": "China HongKong",
          "Date": "2017",
          "ISO": "HKG",
          "WHO_region": "Western Pacific",
          "value": 3.08999991416931
         },
         {
          "Country": "Hungary",
          "Date": "2017",
          "ISO": "HUN",
          "WHO_region": "European",
          "value": 4.1560001373291
         },
         {
          "Country": "Iceland",
          "Date": "2017",
          "ISO": "ISL",
          "WHO_region": "European",
          "value": 2.74200010299683
         },
         {
          "Country": "India",
          "Date": "2017",
          "ISO": "IND",
          "WHO_region": "South-East Asia",
          "value": 5.41900014877319
         },
         {
          "Country": "Indonesia",
          "Date": "2017",
          "ISO": "IDN",
          "WHO_region": "South-East Asia",
          "value": 4.18499994277954
         },
         {
          "Country": "Iran (Islamic Republic of)",
          "Date": "2017",
          "ISO": "IRN",
          "WHO_region": "Eastern Mediterranean",
          "value": 12.1000003814697
         },
         {
          "Country": "Iraq",
          "Date": "2017",
          "ISO": "IRQ",
          "WHO_region": "Eastern Mediterranean",
          "value": 13.0200004577637
         },
         {
          "Country": "Ireland",
          "Date": "2017",
          "ISO": "IRL",
          "WHO_region": "European",
          "value": 6.71199989318848
         },
         {
          "Country": "Israel",
          "Date": "2017",
          "ISO": "ISR",
          "WHO_region": "European",
          "value": 4.21500015258789
         },
         {
          "Country": "Italy",
          "Date": "2017",
          "ISO": "ITA",
          "WHO_region": "European",
          "value": 11.2110004425049
         },
         {
          "Country": "Jamaica",
          "Date": "2017",
          "ISO": "JAM",
          "WHO_region": "Americas",
          "value": 11.6339998245239
         },
         {
          "Country": "Japan",
          "Date": "2017",
          "ISO": "JPN",
          "WHO_region": "Western Pacific",
          "value": 2.79999995231628
         },
         {
          "Country": "Jordan",
          "Date": "2017",
          "ISO": "JOR",
          "WHO_region": "Eastern Mediterranean",
          "value": 15.1149997711182
         },
         {
          "Country": "Kazakhstan",
          "Date": "2017",
          "ISO": "KAZ",
          "WHO_region": "European",
          "value": 4.90000009536743
         },
         {
          "Country": "Kenya",
          "Date": "2017",
          "ISO": "KEN",
          "WHO_region": "African",
          "value": 2.6949999332428
         },
         {
          "Country": "Democratic People's Republic of Korea",
          "Date": "2017",
          "ISO": "PRK",
          "WHO_region": "South-East Asia",
          "value": 2.77900004386902
         },
         {
          "Country": "Republic of Korea",
          "Date": "2017",
          "ISO": "KOR",
          "WHO_region": "Western Pacific",
          "value": 3.70000004768372
         },
         {
          "Country": "Kuwait",
          "Date": "2017",
          "ISO": "KWT",
          "WHO_region": "Eastern Mediterranean",
          "value": 1.79799997806549
         },
         {
          "Country": "Kyrgyzstan",
          "Date": "2017",
          "ISO": "KGZ",
          "WHO_region": "European",
          "value": 6.8899998664856
         },
         {
          "Country": "Lao People's Democratic Republic",
          "Date": "2017",
          "ISO": "LAO",
          "WHO_region": "Western Pacific",
          "value": 0.660000026226044
         },
         {
          "Country": "Latvia",
          "Date": "2017",
          "ISO": "LVA",
          "WHO_region": "European",
          "value": 8.71500015258789
         },
         {
          "Country": "Lebanon",
          "Date": "2017",
          "ISO": "LBN",
          "WHO_region": "Eastern Mediterranean",
          "value": 6.22499990463257
         },
         {
          "Country": "Lesotho",
          "Date": "2017",
          "ISO": "LSO",
          "WHO_region": "African",
          "value": 24.1340007781982
         },
         {
          "Country": "Liberia",
          "Date": "2017",
          "ISO": "LBR",
          "WHO_region": "African",
          "value": 3.00399994850159
         },
         {
          "Country": "Libya",
          "Date": "2017",
          "ISO": "LBY",
          "WHO_region": "Eastern Mediterranean",
          "value": 18.6270008087158
         },
         {
          "Country": "Lithuania",
          "Date": "2017",
          "ISO": "LTU",
          "WHO_region": "European",
          "value": 7.07299995422363
         },
         {
          "Country": "Luxembourg",
          "Date": "2017",
          "ISO": "LUX",
          "WHO_region": "European",
          "value": 5.52199983596802
         },
         {
          "Country": "China Macao",
          "Date": "2017",
          "ISO": "MAC",
          "WHO_region": "Western Pacific",
          "value": 2
         },
         {
          "Country": "Madagascar",
          "Date": "2017",
          "ISO": "MDG",
          "WHO_region": "African",
          "value": 1.72500002384186
         },
         {
          "Country": "Malawi",
          "Date": "2017",
          "ISO": "MWI",
          "WHO_region": "African",
          "value": 5.70699977874756
         },
         {
          "Country": "Malaysia",
          "Date": "2017",
          "ISO": "MYS",
          "WHO_region": "Western Pacific",
          "value": 3.41000008583069
         },
         {
          "Country": "Maldives",
          "Date": "2017",
          "ISO": "MDV",
          "WHO_region": "South-East Asia",
          "value": 5.98099994659424
         },
         {
          "Country": "Mali",
          "Date": "2017",
          "ISO": "MLI",
          "WHO_region": "African",
          "value": 7.32999992370605
         },
         {
          "Country": "Malta",
          "Date": "2017",
          "ISO": "MLT",
          "WHO_region": "European",
          "value": 4.00099992752075
         },
         {
          "Country": "Mauritania",
          "Date": "2017",
          "ISO": "MRT",
          "WHO_region": "African",
          "value": 9.57699966430664
         },
         {
          "Country": "Mauritius",
          "Date": "2017",
          "ISO": "MUS",
          "WHO_region": "African",
          "value": 6.7519998550415
         },
         {
          "Country": "Mexico",
          "Date": "2017",
          "ISO": "MEX",
          "WHO_region": "Americas",
          "value": 3.42000007629395
         },
         {
          "Country": "Republic of Moldova",
          "Date": "2017",
          "ISO": "MDA",
          "WHO_region": "European",
          "value": 4.09800004959106
         },
         {
          "Country": "Mongolia",
          "Date": "2017",
          "ISO": "MNG",
          "WHO_region": "Western Pacific",
          "value": 6.35900020599365
         },
         {
          "Country": "Montenegro",
          "Date": "2017",
          "ISO": "MNE",
          "WHO_region": "European",
          "value": 16.0709991455078
         },
         {
          "Country": "Morocco",
          "Date": "2017",
          "ISO": "MAR",
          "WHO_region": "Eastern Mediterranean",
          "value": 9.1870002746582
         },
         {
          "Country": "Mozambique",
          "Date": "2017",
          "ISO": "MOZ",
          "WHO_region": "African",
          "value": 3.30800008773804
         },
         {
          "Country": "Myanmar",
          "Date": "2017",
          "ISO": "MMR",
          "WHO_region": "South-East Asia",
          "value": 1.55099999904633
         },
         {
          "Country": "Namibia",
          "Date": "2017",
          "ISO": "NAM",
          "WHO_region": "African",
          "value": 21.5739994049072
         },
         {
          "Country": "Nepal",
          "Date": "2017",
          "ISO": "NPL",
          "WHO_region": "South-East Asia",
          "value": 1.39600002765656
         },
         {
          "Country": "Netherlands",
          "Date": "2017",
          "ISO": "NLD",
          "WHO_region": "European",
          "value": 4.83900022506714
         },
         {
          "Country": "New Caledonia",
          "Date": "2017",
          "ISO": "NCL",
          "WHO_region": "Western Pacific",
          "value": 13.2489995956421
         },
         {
          "Country": "New Zealand",
          "Date": "2017",
          "ISO": "NZL",
          "WHO_region": "Western Pacific",
          "value": 4.7020001411438
         },
         {
          "Country": "Nicaragua",
          "Date": "2017",
          "ISO": "NIC",
          "WHO_region": "Americas",
          "value": 3.29999995231628
         },
         {
          "Country": "Niger",
          "Date": "2017",
          "ISO": "NER",
          "WHO_region": "African",
          "value": 0.486999988555908
         },
         {
          "Country": "Nigeria",
          "Date": "2017",
          "ISO": "NGA",
          "WHO_region": "African",
          "value": 8.38899993896484
         },
         {
          "Country": "North Macedonia",
          "Date": "2017",
          "ISO": "MKD",
          "WHO_region": "European",
          "value": 22.3810005187988
         },
         {
          "Country": "Norway",
          "Date": "2017",
          "ISO": "NOR",
          "WHO_region": "European",
          "value": 4.16200017929077
         },
         {
          "Country": "Oman",
          "Date": "2017",
          "ISO": "OMN",
          "WHO_region": "Eastern Mediterranean",
          "value": 3.02300000190735
         },
         {
          "Country": "Pakistan",
          "Date": "2017",
          "ISO": "PAK",
          "WHO_region": "Eastern Mediterranean",
          "value": 3.9449999332428
         },
         {
          "Country": "Panama",
          "Date": "2017",
          "ISO": "PAN",
          "WHO_region": "Americas",
          "value": 3.90000009536743
         },
         {
          "Country": "Papua New Guinea",
          "Date": "2017",
          "ISO": "PNG",
          "WHO_region": "Western Pacific",
          "value": 2.48000001907349
         },
         {
          "Country": "Paraguay",
          "Date": "2017",
          "ISO": "PRY",
          "WHO_region": "Americas",
          "value": 4.61499977111816
         },
         {
          "Country": "Peru",
          "Date": "2017",
          "ISO": "PER",
          "WHO_region": "Americas",
          "value": 3.46000003814697
         },
         {
          "Country": "Philippines",
          "Date": "2017",
          "ISO": "PHL",
          "WHO_region": "Western Pacific",
          "value": 2.55200004577637
         },
         {
          "Country": "Poland",
          "Date": "2017",
          "ISO": "POL",
          "WHO_region": "European",
          "value": 4.88700008392334
         },
         {
          "Country": "Portugal",
          "Date": "2017",
          "ISO": "PRT",
          "WHO_region": "European",
          "value": 8.86699962615967
         },
         {
          "Country": "Puerto Rico",
          "Date": "2017",
          "ISO": "PRI",
          "WHO_region": "Americas",
          "value": 10.8000001907349
         },
         {
          "Country": "Qatar",
          "Date": "2017",
          "ISO": "QAT",
          "WHO_region": "Eastern Mediterranean",
          "value": 0.140000000596046
         },
         {
          "Country": "Romania",
          "Date": "2017",
          "ISO": "ROU",
          "WHO_region": "European",
          "value": 4.92700004577637
         },
         {
          "Country": "Russian Federation",
          "Date": "2017",
          "ISO": "RUS",
          "WHO_region": "European",
          "value": 5.21199989318848
         },
         {
          "Country": "Rwanda",
          "Date": "2017",
          "ISO": "RWA",
          "WHO_region": "African",
          "value": 1.06299996376038
         },
         {
          "Country": "Samoa",
          "Date": "2017",
          "ISO": "WSM",
          "WHO_region": "Western Pacific",
          "value": 8.44299983978271
         },
         {
          "Country": "Sao Tome and Principe",
          "Date": "2017",
          "ISO": "STP",
          "WHO_region": "African",
          "value": 13.2729997634888
         },
         {
          "Country": "Saudi Arabia",
          "Date": "2017",
          "ISO": "SAU",
          "WHO_region": "Eastern Mediterranean",
          "value": 5.8899998664856
         },
         {
          "Country": "Senegal",
          "Date": "2017",
          "ISO": "SEN",
          "WHO_region": "African",
          "value": 6.61499977111816
         },
         {
          "Country": "Serbia",
          "Date": "2017",
          "ISO": "SRB",
          "WHO_region": "European",
          "value": 13.4770002365112
         },
         {
          "Country": "Sierra Leone",
          "Date": "2017",
          "ISO": "SLE",
          "WHO_region": "African",
          "value": 4.5
         },
         {
          "Country": "Singapore",
          "Date": "2017",
          "ISO": "SGP",
          "WHO_region": "Western Pacific",
          "value": 4.19999980926514
         },
         {
          "Country": "Slovakia",
          "Date": "2017",
          "ISO": "SVK",
          "WHO_region": "European",
          "value": 8.13099956512451
         },
         {
          "Country": "Slovenia",
          "Date": "2017",
          "ISO": "SVN",
          "WHO_region": "European",
          "value": 6.56400012969971
         },
         {
          "Country": "Solomon Islands",
          "Date": "2017",
          "ISO": "SLB",
          "WHO_region": "Western Pacific",
          "value": 0.637000024318695
         },
         {
          "Country": "Somalia",
          "Date": "2017",
          "ISO": "SOM",
          "WHO_region": "Eastern Mediterranean",
          "value": 11.41100025177
         },
         {
          "Country": "South Africa",
          "Date": "2017",
          "ISO": "ZAF",
          "WHO_region": "African",
          "value": 27.0709991455078
         },
         {
          "Country": "South Sudan",
          "Date": "2017",
          "ISO": "SSD",
          "WHO_region": "African",
          "value": 12.3590002059937
         },
         {
          "Country": "Spain",
          "Date": "2017",
          "ISO": "ESP",
          "WHO_region": "European",
          "value": 17.2240009307861
         },
         {
          "Country": "Sri Lanka",
          "Date": "2017",
          "ISO": "LKA",
          "WHO_region": "South-East Asia",
          "value": 4.17999982833862
         },
         {
          "Country": "Saint Lucia",
          "Date": "2017",
          "ISO": "LCA",
          "WHO_region": "Americas",
          "value": 21.0690002441406
         },
         {
          "Country": "Saint Vincent and the Grenadines",
          "Date": "2017",
          "ISO": "VCT",
          "WHO_region": "Americas",
          "value": 19.0470008850098
         },
         {
          "Country": "Sudan",
          "Date": "2017",
          "ISO": "SDN",
          "WHO_region": "Eastern Mediterranean",
          "value": 17.0599994659424
         },
         {
          "Country": "Suriname",
          "Date": "2017",
          "ISO": "SUR",
          "WHO_region": "Americas",
          "value": 7.08099985122681
         },
         {
          "Country": "Sweden",
          "Date": "2017",
          "ISO": "SWE",
          "WHO_region": "European",
          "value": 6.71799993515015
         },
         {
          "Country": "Switzerland",
          "Date": "2017",
          "ISO": "CHE",
          "WHO_region": "European",
          "value": 4.79699993133545
         },
         {
          "Country": "Syrian Arab Republic",
          "Date": "2017",
          "ISO": "SYR",
          "WHO_region": "Eastern Mediterranean",
          "value": 8.36200046539307
         },
         {
          "Country": "Tajikistan",
          "Date": "2017",
          "ISO": "TJK",
          "WHO_region": "European",
          "value": 11.2740001678467
         },
         {
          "Country": "United Republic of Tanzania",
          "Date": "2017",
          "ISO": "TZA",
          "WHO_region": "African",
          "value": 2.03299999237061
         },
         {
          "Country": "Thailand",
          "Date": "2017",
          "ISO": "THA",
          "WHO_region": "South-East Asia",
          "value": 0.829999983310699
         },
         {
          "Country": "Timor-Leste",
          "Date": "2017",
          "ISO": "TLS",
          "WHO_region": "South-East Asia",
          "value": 4.56599998474121
         },
         {
          "Country": "Togo",
          "Date": "2017",
          "ISO": "TGO",
          "WHO_region": "African",
          "value": 2.12599992752075
         },
         {
          "Country": "Tonga",
          "Date": "2017",
          "ISO": "TON",
          "WHO_region": "Western Pacific",
          "value": 1.08000004291534
         },
         {
          "Country": "Trinidad and Tobago",
          "Date": "2017",
          "ISO": "TTO",
          "WHO_region": "Americas",
          "value": 2.70600008964539
         },
         {
          "Country": "Tunisia",
          "Date": "2017",
          "ISO": "TUN",
          "WHO_region": "Eastern Mediterranean",
          "value": 15.378999710083
         },
         {
          "Country": "Turkey",
          "Date": "2017",
          "ISO": "TUR",
          "WHO_region": "European",
          "value": 10.8190002441406
         },
         {
          "Country": "Turkmenistan",
          "Date": "2017",
          "ISO": "TKM",
          "WHO_region": "European",
          "value": 3.85899996757507
         },
         {
          "Country": "Uganda",
          "Date": "2017",
          "ISO": "UGA",
          "WHO_region": "African",
          "value": 1.78999996185303
         },
         {
          "Country": "Ukraine",
          "Date": "2017",
          "ISO": "UKR",
          "WHO_region": "European",
          "value": 9.51000022888184
         },
         {
          "Country": "United Arab Emirates",
          "Date": "2017",
          "ISO": "ARE",
          "WHO_region": "Eastern Mediterranean",
          "value": 2.46300005912781
         },
         {
          "Country": "The United Kingdom",
          "Date": "2017",
          "ISO": "GBR",
          "WHO_region": "European",
          "value": 4.33500003814697
         },
         {
          "Country": "United States of America",
          "Date": "2017",
          "ISO": "USA",
          "WHO_region": "Americas",
          "value": 4.35500001907349
         },
         {
          "Country": "Uruguay",
          "Date": "2017",
          "ISO": "URY",
          "WHO_region": "Americas",
          "value": 7.8899998664856
         },
         {
          "Country": "Uzbekistan",
          "Date": "2017",
          "ISO": "UZB",
          "WHO_region": "European",
          "value": 5.82999992370605
         },
         {
          "Country": "Vanuatu",
          "Date": "2017",
          "ISO": "VUT",
          "WHO_region": "Western Pacific",
          "value": 4.44299983978271
         },
         {
          "Country": "Venezuela (Bolivarian Republic of)",
          "Date": "2017",
          "ISO": "VEN",
          "WHO_region": "Americas",
          "value": 7.30200004577637
         },
         {
          "Country": "Viet Nam",
          "Date": "2017",
          "ISO": "VNM",
          "WHO_region": "Western Pacific",
          "value": 2.05299997329712
         },
         {
          "Country": "United States Virgin Islands",
          "Date": "2017",
          "ISO": "VIR",
          "WHO_region": "Americas",
          "value": 8.74600028991699
         },
         {
          "Country": "occupied Palestinian territory, including east Jerusalem",
          "Date": "2017",
          "ISO": "PSE",
          "WHO_region": "Eastern Mediterranean",
          "value": 25.6770000457764
         },
         {
          "Country": "Yemen",
          "Date": "2017",
          "ISO": "YEM",
          "WHO_region": "Eastern Mediterranean",
          "value": 13.1520004272461
         },
         {
          "Country": "Zambia",
          "Date": "2017",
          "ISO": "ZMB",
          "WHO_region": "African",
          "value": 11.6260004043579
         },
         {
          "Country": "Zimbabwe",
          "Date": "2017",
          "ISO": "ZWE",
          "WHO_region": "African",
          "value": 5.16800022125244
         },
         {
          "Country": "Afghanistan",
          "Date": "2018",
          "ISO": "AFG",
          "WHO_region": "Eastern Mediterranean",
          "value": 11.0570001602173
         },
         {
          "Country": "Albania",
          "Date": "2018",
          "ISO": "ALB",
          "WHO_region": "European",
          "value": 12.3400001525879
         },
         {
          "Country": "Algeria",
          "Date": "2018",
          "ISO": "DZA",
          "WHO_region": "African",
          "value": 11.8819999694824
         },
         {
          "Country": "Angola",
          "Date": "2018",
          "ISO": "AGO",
          "WHO_region": "African",
          "value": 7.01900005340576
         },
         {
          "Country": "Argentina",
          "Date": "2018",
          "ISO": "ARG",
          "WHO_region": "Americas",
          "value": 9.22000026702881
         },
         {
          "Country": "Armenia",
          "Date": "2018",
          "ISO": "ARM",
          "WHO_region": "European",
          "value": 17.496000289917
         },
         {
          "Country": "Australia",
          "Date": "2018",
          "ISO": "AUS",
          "WHO_region": "Western Pacific",
          "value": 5.2979998588562
         },
         {
          "Country": "Austria",
          "Date": "2018",
          "ISO": "AUT",
          "WHO_region": "European",
          "value": 4.84800004959106
         },
         {
          "Country": "Azerbaijan",
          "Date": "2018",
          "ISO": "AZE",
          "WHO_region": "European",
          "value": 4.90000009536743
         },
         {
          "Country": "Bahamas",
          "Date": "2018",
          "ISO": "BHS",
          "WHO_region": "Americas",
          "value": 10
         },
         {
          "Country": "Bahrain",
          "Date": "2018",
          "ISO": "BHR",
          "WHO_region": "Eastern Mediterranean",
          "value": 0.649999976158142
         },
         {
          "Country": "Bangladesh",
          "Date": "2018",
          "ISO": "BGD",
          "WHO_region": "South-East Asia",
          "value": 4.2810001373291
         },
         {
          "Country": "Barbados",
          "Date": "2018",
          "ISO": "BRB",
          "WHO_region": "Americas",
          "value": 9.38500022888184
         },
         {
          "Country": "Belarus",
          "Date": "2018",
          "ISO": "BLR",
          "WHO_region": "European",
          "value": 4.76000022888184
         },
         {
          "Country": "Belgium",
          "Date": "2018",
          "ISO": "BEL",
          "WHO_region": "European",
          "value": 5.94799995422363
         },
         {
          "Country": "Belize",
          "Date": "2018",
          "ISO": "BLZ",
          "WHO_region": "Americas",
          "value": 6.51200008392334
         },
         {
          "Country": "Benin",
          "Date": "2018",
          "ISO": "BEN",
          "WHO_region": "African",
          "value": 2.38599991798401
         },
         {
          "Country": "Bhutan",
          "Date": "2018",
          "ISO": "BTN",
          "WHO_region": "South-East Asia",
          "value": 2.30299997329712
         },
         {
          "Country": "Bolivia (Plurinational State of)",
          "Date": "2018",
          "ISO": "BOL",
          "WHO_region": "Americas",
          "value": 3.53399991989136
         },
         {
          "Country": "Bosnia and Herzegovina",
          "Date": "2018",
          "ISO": "BIH",
          "WHO_region": "European",
          "value": 18.3999996185303
         },
         {
          "Country": "Botswana",
          "Date": "2018",
          "ISO": "BWA",
          "WHO_region": "African",
          "value": 17.3530006408691
         },
         {
          "Country": "Brazil",
          "Date": "2018",
          "ISO": "BRA",
          "WHO_region": "Americas",
          "value": 12.3339996337891
         },
         {
          "Country": "Brunei Darussalam",
          "Date": "2018",
          "ISO": "BRN",
          "WHO_region": "Western Pacific",
          "value": 8.86200046539307
         },
         {
          "Country": "Bulgaria",
          "Date": "2018",
          "ISO": "BGR",
          "WHO_region": "European",
          "value": 5.21099996566772
         },
         {
          "Country": "Burkina Faso",
          "Date": "2018",
          "ISO": "BFA",
          "WHO_region": "African",
          "value": 6.0939998626709
         },
         {
          "Country": "Burundi",
          "Date": "2018",
          "ISO": "BDI",
          "WHO_region": "African",
          "value": 1.44799995422363
         },
         {
          "Country": "Cabo Verde",
          "Date": "2018",
          "ISO": "CPV",
          "WHO_region": "African",
          "value": 12.1700000762939
         },
         {
          "Country": "Cambodia",
          "Date": "2018",
          "ISO": "KHM",
          "WHO_region": "Western Pacific",
          "value": 0.65200001001358
         },
         {
          "Country": "Cameroon",
          "Date": "2018",
          "ISO": "CMR",
          "WHO_region": "African",
          "value": 3.35700011253357
         },
         {
          "Country": "Canada",
          "Date": "2018",
          "ISO": "CAN",
          "WHO_region": "Americas",
          "value": 5.83099985122681
         },
         {
          "Country": "Central African Republic",
          "Date": "2018",
          "ISO": "CAF",
          "WHO_region": "African",
          "value": 3.66400003433228
         },
         {
          "Country": "Chad",
          "Date": "2018",
          "ISO": "TCD",
          "WHO_region": "African",
          "value": 1.83800005912781
         },
         {
          "Country": "Channel Islands",
          "Date": "2018",
          "ISO": "CHI",
          "WHO_region": "Other",
          "value": 7.40999984741211
         },
         {
          "Country": "Chile",
          "Date": "2018",
          "ISO": "CHL",
          "WHO_region": "Americas",
          "value": 7.23299980163574
         },
         {
          "Country": "China",
          "Date": "2018",
          "ISO": "CHN",
          "WHO_region": "Western Pacific",
          "value": 4.27600002288818
         },
         {
          "Country": "Colombia",
          "Date": "2018",
          "ISO": "COL",
          "WHO_region": "Americas",
          "value": 9.11100006103516
         },
         {
          "Country": "Comoros",
          "Date": "2018",
          "ISO": "COM",
          "WHO_region": "African",
          "value": 4.30200004577637
         },
         {
          "Country": "Congo",
          "Date": "2018",
          "ISO": "COD",
          "WHO_region": "African",
          "value": 4.19299983978271
         },
         {
          "Country": "Democratic Republic of the Congo",
          "Date": "2018",
          "ISO": "COG",
          "WHO_region": "African",
          "value": 9.67000007629395
         },
         {
          "Country": "Costa Rica",
          "Date": "2018",
          "ISO": "CRI",
          "WHO_region": "Americas",
          "value": 9.63199996948242
         },
         {
          "Country": "Côte d’Ivoire",
          "Date": "2018",
          "ISO": "CIV",
          "WHO_region": "African",
          "value": 3.21000003814697
         },
         {
          "Country": "Croatia",
          "Date": "2018",
          "ISO": "HRV",
          "WHO_region": "European",
          "value": 8.43200016021729
         },
         {
          "Country": "Cuba",
          "Date": "2018",
          "ISO": "CUB",
          "WHO_region": "Americas",
          "value": 1.70000004768372
         },
         {
          "Country": "Cyprus",
          "Date": "2018",
          "ISO": "CYP",
          "WHO_region": "European",
          "value": 8.36999988555908
         },
         {
          "Country": "Czechia",
          "Date": "2018",
          "ISO": "CZE",
          "WHO_region": "European",
          "value": 2.24300003051758
         },
         {
          "Country": "Denmark",
          "Date": "2018",
          "ISO": "DNK",
          "WHO_region": "European",
          "value": 4.97499990463257
         },
         {
          "Country": "Djibouti",
          "Date": "2018",
          "ISO": "DJI",
          "WHO_region": "Eastern Mediterranean",
          "value": 10.2569999694824
         },
         {
          "Country": "Dominican Republic",
          "Date": "2018",
          "ISO": "DOM",
          "WHO_region": "Americas",
          "value": 5.73899984359741
         },
         {
          "Country": "Ecuador",
          "Date": "2018",
          "ISO": "ECU",
          "WHO_region": "Americas",
          "value": 3.52999997138977
         },
         {
          "Country": "Egypt",
          "Date": "2018",
          "ISO": "EGY",
          "WHO_region": "Eastern Mediterranean",
          "value": 11.5920000076294
         },
         {
          "Country": "El Salvador",
          "Date": "2018",
          "ISO": "SLV",
          "WHO_region": "Americas",
          "value": 4.00600004196167
         },
         {
          "Country": "Equatorial Guinea",
          "Date": "2018",
          "ISO": "GNQ",
          "WHO_region": "African",
          "value": 6.38299989700317
         },
         {
          "Country": "Eritrea",
          "Date": "2018",
          "ISO": "ERI",
          "WHO_region": "African",
          "value": 5.10400009155273
         },
         {
          "Country": "Estonia",
          "Date": "2018",
          "ISO": "EST",
          "WHO_region": "European",
          "value": 5.36600017547607
         },
         {
          "Country": "Eswatini",
          "Date": "2018",
          "ISO": "SWZ",
          "WHO_region": "African",
          "value": 22.3610000610352
         },
         {
          "Country": "Ethiopia",
          "Date": "2018",
          "ISO": "ETH",
          "WHO_region": "African",
          "value": 2.07500004768372
         },
         {
          "Country": "Fiji",
          "Date": "2018",
          "ISO": "FJI",
          "WHO_region": "Western Pacific",
          "value": 4.15799999237061
         },
         {
          "Country": "Finland",
          "Date": "2018",
          "ISO": "FIN",
          "WHO_region": "European",
          "value": 7.36100006103516
         },
         {
          "Country": "France",
          "Date": "2018",
          "ISO": "FRA",
          "WHO_region": "European",
          "value": 9.05900001525879
         },
         {
          "Country": "French Polynesia",
          "Date": "2018",
          "ISO": "PYF",
          "WHO_region": "Western Pacific",
          "value": 12.3140001296997
         },
         {
          "Country": "Gabon",
          "Date": "2018",
          "ISO": "GAB",
          "WHO_region": "African",
          "value": 19.806999206543
         },
         {
          "Country": "Gambia",
          "Date": "2018",
          "ISO": "GMB",
          "WHO_region": "African",
          "value": 9.02700042724609
         },
         {
          "Country": "Georgia",
          "Date": "2018",
          "ISO": "GEO",
          "WHO_region": "European",
          "value": 13.7849998474121
         },
         {
          "Country": "Germany",
          "Date": "2018",
          "ISO": "DEU",
          "WHO_region": "European",
          "value": 3.3840000629425
         },
         {
          "Country": "Ghana",
          "Date": "2018",
          "ISO": "GHA",
          "WHO_region": "African",
          "value": 4.15700006484985
         },
         {
          "Country": "Greece",
          "Date": "2018",
          "ISO": "GRC",
          "WHO_region": "European",
          "value": 19.2919998168945
         },
         {
          "Country": "Guam",
          "Date": "2018",
          "ISO": "GUM",
          "WHO_region": "Western Pacific",
          "value": 4.92899990081787
         },
         {
          "Country": "Guatemala",
          "Date": "2018",
          "ISO": "GTM",
          "WHO_region": "Americas",
          "value": 2.40199995040894
         },
         {
          "Country": "Guinea",
          "Date": "2018",
          "ISO": "GIN",
          "WHO_region": "African",
          "value": 4.24700021743774
         },
         {
          "Country": "Guinea-Bissau",
          "Date": "2018",
          "ISO": "GNB",
          "WHO_region": "African",
          "value": 2.43799996376038
         },
         {
          "Country": "Guyana",
          "Date": "2018",
          "ISO": "GUY",
          "WHO_region": "Americas",
          "value": 11.9060001373291
         },
         {
          "Country": "Haiti",
          "Date": "2018",
          "ISO": "HTI",
          "WHO_region": "Americas",
          "value": 13.5920000076294
         },
         {
          "Country": "Honduras",
          "Date": "2018",
          "ISO": "HND",
          "WHO_region": "Americas",
          "value": 5.64799976348877
         },
         {
          "Country": "China HongKong",
          "Date": "2018",
          "ISO": "HKG",
          "WHO_region": "Western Pacific",
          "value": 2.90300011634827
         },
         {
          "Country": "Hungary",
          "Date": "2018",
          "ISO": "HUN",
          "WHO_region": "European",
          "value": 3.70799994468689
         },
         {
          "Country": "Iceland",
          "Date": "2018",
          "ISO": "ISL",
          "WHO_region": "European",
          "value": 2.7039999961853
         },
         {
          "Country": "India",
          "Date": "2018",
          "ISO": "IND",
          "WHO_region": "South-East Asia",
          "value": 5.32999992370605
         },
         {
          "Country": "Indonesia",
          "Date": "2018",
          "ISO": "IDN",
          "WHO_region": "South-East Asia",
          "value": 4.51100015640259
         },
         {
          "Country": "Iran (Islamic Republic of)",
          "Date": "2018",
          "ISO": "IRN",
          "WHO_region": "Eastern Mediterranean",
          "value": 12.039999961853
         },
         {
          "Country": "Iraq",
          "Date": "2018",
          "ISO": "IRQ",
          "WHO_region": "Eastern Mediterranean",
          "value": 12.8620004653931
         },
         {
          "Country": "Ireland",
          "Date": "2018",
          "ISO": "IRL",
          "WHO_region": "European",
          "value": 5.73999977111816
         },
         {
          "Country": "Israel",
          "Date": "2018",
          "ISO": "ISR",
          "WHO_region": "European",
          "value": 3.99799990653992
         },
         {
          "Country": "Italy",
          "Date": "2018",
          "ISO": "ITA",
          "WHO_region": "European",
          "value": 10.6099996566772
         },
         {
          "Country": "Jamaica",
          "Date": "2018",
          "ISO": "JAM",
          "WHO_region": "Americas",
          "value": 9.10400009155273
         },
         {
          "Country": "Japan",
          "Date": "2018",
          "ISO": "JPN",
          "WHO_region": "Western Pacific",
          "value": 2.40000009536743
         },
         {
          "Country": "Jordan",
          "Date": "2018",
          "ISO": "JOR",
          "WHO_region": "Eastern Mediterranean",
          "value": 14.9589996337891
         },
         {
          "Country": "Kazakhstan",
          "Date": "2018",
          "ISO": "KAZ",
          "WHO_region": "European",
          "value": 4.82499980926514
         },
         {
          "Country": "Kenya",
          "Date": "2018",
          "ISO": "KEN",
          "WHO_region": "African",
          "value": 2.63499999046326
         },
         {
          "Country": "Democratic People's Republic of Korea",
          "Date": "2018",
          "ISO": "PRK",
          "WHO_region": "South-East Asia",
          "value": 2.71300005912781
         },
         {
          "Country": "Republic of Korea",
          "Date": "2018",
          "ISO": "KOR",
          "WHO_region": "Western Pacific",
          "value": 3.84800004959106
         },
         {
          "Country": "Kuwait",
          "Date": "2018",
          "ISO": "KWT",
          "WHO_region": "Eastern Mediterranean",
          "value": 2.07599997520447
         },
         {
          "Country": "Kyrgyzstan",
          "Date": "2018",
          "ISO": "KGZ",
          "WHO_region": "European",
          "value": 5.96000003814697
         },
         {
          "Country": "Lao People's Democratic Republic",
          "Date": "2018",
          "ISO": "LAO",
          "WHO_region": "Western Pacific",
          "value": 0.640999972820282
         },
         {
          "Country": "Latvia",
          "Date": "2018",
          "ISO": "LVA",
          "WHO_region": "European",
          "value": 7.41200017929077
         },
         {
          "Country": "Lebanon",
          "Date": "2018",
          "ISO": "LBN",
          "WHO_region": "Eastern Mediterranean",
          "value": 6.14300012588501
         },
         {
          "Country": "Lesotho",
          "Date": "2018",
          "ISO": "LSO",
          "WHO_region": "African",
          "value": 23.9710006713867
         },
         {
          "Country": "Liberia",
          "Date": "2018",
          "ISO": "LBR",
          "WHO_region": "African",
          "value": 2.93199992179871
         },
         {
          "Country": "Libya",
          "Date": "2018",
          "ISO": "LBY",
          "WHO_region": "Eastern Mediterranean",
          "value": 18.4680004119873
         },
         {
          "Country": "Lithuania",
          "Date": "2018",
          "ISO": "LTU",
          "WHO_region": "European",
          "value": 6.14699983596802
         },
         {
          "Country": "Luxembourg",
          "Date": "2018",
          "ISO": "LUX",
          "WHO_region": "European",
          "value": 5.58500003814697
         },
         {
          "Country": "China Macao",
          "Date": "2018",
          "ISO": "MAC",
          "WHO_region": "Western Pacific",
          "value": 1.96599996089935
         },
         {
          "Country": "Madagascar",
          "Date": "2018",
          "ISO": "MDG",
          "WHO_region": "African",
          "value": 1.68900001049042
         },
         {
          "Country": "Malawi",
          "Date": "2018",
          "ISO": "MWI",
          "WHO_region": "African",
          "value": 5.62200021743774
         },
         {
          "Country": "Malaysia",
          "Date": "2018",
          "ISO": "MYS",
          "WHO_region": "Western Pacific",
          "value": 3.34999990463257
         },
         {
          "Country": "Maldives",
          "Date": "2018",
          "ISO": "MDV",
          "WHO_region": "South-East Asia",
          "value": 5.84899997711182
         },
         {
          "Country": "Mali",
          "Date": "2018",
          "ISO": "MLI",
          "WHO_region": "African",
          "value": 7.1100001335144
         },
         {
          "Country": "Malta",
          "Date": "2018",
          "ISO": "MLT",
          "WHO_region": "European",
          "value": 3.71600008010864
         },
         {
          "Country": "Mauritania",
          "Date": "2018",
          "ISO": "MRT",
          "WHO_region": "African",
          "value": 9.46399974822998
         },
         {
          "Country": "Mauritius",
          "Date": "2018",
          "ISO": "MUS",
          "WHO_region": "African",
          "value": 6.65700006484985
         },
         {
          "Country": "Mexico",
          "Date": "2018",
          "ISO": "MEX",
          "WHO_region": "Americas",
          "value": 3.28299999237061
         },
         {
          "Country": "Republic of Moldova",
          "Date": "2018",
          "ISO": "MDA",
          "WHO_region": "European",
          "value": 2.9779999256134
         },
         {
          "Country": "Mongolia",
          "Date": "2018",
          "ISO": "MNG",
          "WHO_region": "Western Pacific",
          "value": 6.25400018692017
         },
         {
          "Country": "Montenegro",
          "Date": "2018",
          "ISO": "MNE",
          "WHO_region": "European",
          "value": 15.1750001907349
         },
         {
          "Country": "Morocco",
          "Date": "2018",
          "ISO": "MAR",
          "WHO_region": "Eastern Mediterranean",
          "value": 9.07800006866455
         },
         {
          "Country": "Mozambique",
          "Date": "2018",
          "ISO": "MOZ",
          "WHO_region": "African",
          "value": 3.23699998855591
         },
         {
          "Country": "Myanmar",
          "Date": "2018",
          "ISO": "MMR",
          "WHO_region": "South-East Asia",
          "value": 1.49399995803833
         },
         {
          "Country": "Namibia",
          "Date": "2018",
          "ISO": "NAM",
          "WHO_region": "African",
          "value": 19.8770008087158
         },
         {
          "Country": "Nepal",
          "Date": "2018",
          "ISO": "NPL",
          "WHO_region": "South-East Asia",
          "value": 1.35000002384186
         },
         {
          "Country": "Netherlands",
          "Date": "2018",
          "ISO": "NLD",
          "WHO_region": "European",
          "value": 3.82999992370605
         },
         {
          "Country": "New Caledonia",
          "Date": "2018",
          "ISO": "NCL",
          "WHO_region": "Western Pacific",
          "value": 12.8470001220703
         },
         {
          "Country": "New Zealand",
          "Date": "2018",
          "ISO": "NZL",
          "WHO_region": "Western Pacific",
          "value": 4.2979998588562
         },
         {
          "Country": "Nicaragua",
          "Date": "2018",
          "ISO": "NIC",
          "WHO_region": "Americas",
          "value": 5.19999980926514
         },
         {
          "Country": "Niger",
          "Date": "2018",
          "ISO": "NER",
          "WHO_region": "African",
          "value": 0.470999985933304
         },
         {
          "Country": "Nigeria",
          "Date": "2018",
          "ISO": "NGA",
          "WHO_region": "African",
          "value": 8.24300003051758
         },
         {
          "Country": "North Macedonia",
          "Date": "2018",
          "ISO": "MKD",
          "WHO_region": "European",
          "value": 20.7360000610352
         },
         {
          "Country": "Norway",
          "Date": "2018",
          "ISO": "NOR",
          "WHO_region": "European",
          "value": 3.79999995231628
         },
         {
          "Country": "Oman",
          "Date": "2018",
          "ISO": "OMN",
          "WHO_region": "Eastern Mediterranean",
          "value": 2.86400008201599
         },
         {
          "Country": "Pakistan",
          "Date": "2018",
          "ISO": "PAK",
          "WHO_region": "Eastern Mediterranean",
          "value": 4.08300018310547
         },
         {
          "Country": "Panama",
          "Date": "2018",
          "ISO": "PAN",
          "WHO_region": "Americas",
          "value": 3.89400005340576
         },
         {
          "Country": "Papua New Guinea",
          "Date": "2018",
          "ISO": "PNG",
          "WHO_region": "Western Pacific",
          "value": 2.42300009727478
         },
         {
          "Country": "Paraguay",
          "Date": "2018",
          "ISO": "PRY",
          "WHO_region": "Americas",
          "value": 4.53399991989136
         },
         {
          "Country": "Peru",
          "Date": "2018",
          "ISO": "PER",
          "WHO_region": "Americas",
          "value": 3.39000010490417
         },
         {
          "Country": "Philippines",
          "Date": "2018",
          "ISO": "PHL",
          "WHO_region": "Western Pacific",
          "value": 2.33800005912781
         },
         {
          "Country": "Poland",
          "Date": "2018",
          "ISO": "POL",
          "WHO_region": "European",
          "value": 3.84500002861023
         },
         {
          "Country": "Portugal",
          "Date": "2018",
          "ISO": "PRT",
          "WHO_region": "European",
          "value": 6.99300003051758
         },
         {
          "Country": "Puerto Rico",
          "Date": "2018",
          "ISO": "PRI",
          "WHO_region": "Americas",
          "value": 9.19999980926514
         },
         {
          "Country": "Qatar",
          "Date": "2018",
          "ISO": "QAT",
          "WHO_region": "Eastern Mediterranean",
          "value": 0.109999999403954
         },
         {
          "Country": "Romania",
          "Date": "2018",
          "ISO": "ROU",
          "WHO_region": "European",
          "value": 4.18699979782104
         },
         {
          "Country": "Russian Federation",
          "Date": "2018",
          "ISO": "RUS",
          "WHO_region": "European",
          "value": 4.84600019454956
         },
         {
          "Country": "Rwanda",
          "Date": "2018",
          "ISO": "RWA",
          "WHO_region": "African",
          "value": 1.01699995994568
         },
         {
          "Country": "Samoa",
          "Date": "2018",
          "ISO": "WSM",
          "WHO_region": "Western Pacific",
          "value": 8.3120002746582
         },
         {
          "Country": "Sao Tome and Principe",
          "Date": "2018",
          "ISO": "STP",
          "WHO_region": "African",
          "value": 13.1479997634888
         },
         {
          "Country": "Saudi Arabia",
          "Date": "2018",
          "ISO": "SAU",
          "WHO_region": "Eastern Mediterranean",
          "value": 6.03999996185303
         },
         {
          "Country": "Senegal",
          "Date": "2018",
          "ISO": "SEN",
          "WHO_region": "African",
          "value": 6.52699995040894
         },
         {
          "Country": "Serbia",
          "Date": "2018",
          "ISO": "SRB",
          "WHO_region": "European",
          "value": 12.7329998016357
         },
         {
          "Country": "Sierra Leone",
          "Date": "2018",
          "ISO": "SLE",
          "WHO_region": "African",
          "value": 4.41699981689453
         },
         {
          "Country": "Singapore",
          "Date": "2018",
          "ISO": "SGP",
          "WHO_region": "Western Pacific",
          "value": 4.01900005340576
         },
         {
          "Country": "Slovakia",
          "Date": "2018",
          "ISO": "SVK",
          "WHO_region": "European",
          "value": 6.53599977493286
         },
         {
          "Country": "Slovenia",
          "Date": "2018",
          "ISO": "SVN",
          "WHO_region": "European",
          "value": 5.10799980163574
         },
         {
          "Country": "Solomon Islands",
          "Date": "2018",
          "ISO": "SLB",
          "WHO_region": "Western Pacific",
          "value": 0.617999970912933
         },
         {
          "Country": "Somalia",
          "Date": "2018",
          "ISO": "SOM",
          "WHO_region": "Eastern Mediterranean",
          "value": 11.2799997329712
         },
         {
          "Country": "South Africa",
          "Date": "2018",
          "ISO": "ZAF",
          "WHO_region": "African",
          "value": 26.9200000762939
         },
         {
          "Country": "South Sudan",
          "Date": "2018",
          "ISO": "SSD",
          "WHO_region": "African",
          "value": 12.2250003814697
         },
         {
          "Country": "Spain",
          "Date": "2018",
          "ISO": "ESP",
          "WHO_region": "European",
          "value": 15.2550001144409
         },
         {
          "Country": "Sri Lanka",
          "Date": "2018",
          "ISO": "LKA",
          "WHO_region": "South-East Asia",
          "value": 4.11899995803833
         },
         {
          "Country": "Saint Lucia",
          "Date": "2018",
          "ISO": "LCA",
          "WHO_region": "Americas",
          "value": 20.878999710083
         },
         {
          "Country": "Saint Vincent and the Grenadines",
          "Date": "2018",
          "ISO": "VCT",
          "WHO_region": "Americas",
          "value": 18.878999710083
         },
         {
          "Country": "Sudan",
          "Date": "2018",
          "ISO": "SDN",
          "WHO_region": "Eastern Mediterranean",
          "value": 16.8999996185303
         },
         {
          "Country": "Suriname",
          "Date": "2018",
          "ISO": "SUR",
          "WHO_region": "Americas",
          "value": 6.99399995803833
         },
         {
          "Country": "Sweden",
          "Date": "2018",
          "ISO": "SWE",
          "WHO_region": "European",
          "value": 6.34600019454956
         },
         {
          "Country": "Switzerland",
          "Date": "2018",
          "ISO": "CHE",
          "WHO_region": "European",
          "value": 4.71299982070923
         },
         {
          "Country": "Syrian Arab Republic",
          "Date": "2018",
          "ISO": "SYR",
          "WHO_region": "Eastern Mediterranean",
          "value": 8.25699996948242
         },
         {
          "Country": "Tajikistan",
          "Date": "2018",
          "ISO": "TJK",
          "WHO_region": "European",
          "value": 11.1330003738403
         },
         {
          "Country": "United Republic of Tanzania",
          "Date": "2018",
          "ISO": "TZA",
          "WHO_region": "African",
          "value": 1.99000000953674
         },
         {
          "Country": "Thailand",
          "Date": "2018",
          "ISO": "THA",
          "WHO_region": "South-East Asia",
          "value": 0.765999972820282
         },
         {
          "Country": "Timor-Leste",
          "Date": "2018",
          "ISO": "TLS",
          "WHO_region": "South-East Asia",
          "value": 4.47900009155273
         },
         {
          "Country": "Togo",
          "Date": "2018",
          "ISO": "TGO",
          "WHO_region": "African",
          "value": 2.0789999961853
         },
         {
          "Country": "Tonga",
          "Date": "2018",
          "ISO": "TON",
          "WHO_region": "Western Pacific",
          "value": 1.05200004577637
         },
         {
          "Country": "Trinidad and Tobago",
          "Date": "2018",
          "ISO": "TTO",
          "WHO_region": "Americas",
          "value": 2.5
         },
         {
          "Country": "Tunisia",
          "Date": "2018",
          "ISO": "TUN",
          "WHO_region": "Eastern Mediterranean",
          "value": 15.4589996337891
         },
         {
          "Country": "Turkey",
          "Date": "2018",
          "ISO": "TUR",
          "WHO_region": "European",
          "value": 10.8900003433228
         },
         {
          "Country": "Turkmenistan",
          "Date": "2018",
          "ISO": "TKM",
          "WHO_region": "European",
          "value": 3.79999995231628
         },
         {
          "Country": "Uganda",
          "Date": "2018",
          "ISO": "UGA",
          "WHO_region": "African",
          "value": 1.74899995326996
         },
         {
          "Country": "Ukraine",
          "Date": "2018",
          "ISO": "UKR",
          "WHO_region": "European",
          "value": 8.79899978637695
         },
         {
          "Country": "United Arab Emirates",
          "Date": "2018",
          "ISO": "ARE",
          "WHO_region": "Eastern Mediterranean",
          "value": 2.22900009155273
         },
         {
          "Country": "The United Kingdom",
          "Date": "2018",
          "ISO": "GBR",
          "WHO_region": "European",
          "value": 3.99600005149841
         },
         {
          "Country": "United States of America",
          "Date": "2018",
          "ISO": "USA",
          "WHO_region": "Americas",
          "value": 3.89599990844727
         },
         {
          "Country": "Uruguay",
          "Date": "2018",
          "ISO": "URY",
          "WHO_region": "Americas",
          "value": 8.33600044250488
         },
         {
          "Country": "Uzbekistan",
          "Date": "2018",
          "ISO": "UZB",
          "WHO_region": "European",
          "value": 5.73600006103516
         },
         {
          "Country": "Vanuatu",
          "Date": "2018",
          "ISO": "VUT",
          "WHO_region": "Western Pacific",
          "value": 4.36800003051758
         },
         {
          "Country": "Venezuela (Bolivarian Republic of)",
          "Date": "2018",
          "ISO": "VEN",
          "WHO_region": "Americas",
          "value": 7.21700000762939
         },
         {
          "Country": "Viet Nam",
          "Date": "2018",
          "ISO": "VNM",
          "WHO_region": "Western Pacific",
          "value": 1.99300003051758
         },
         {
          "Country": "United States Virgin Islands",
          "Date": "2018",
          "ISO": "VIR",
          "WHO_region": "Americas",
          "value": 8.39799976348877
         },
         {
          "Country": "occupied Palestinian territory, including east Jerusalem",
          "Date": "2018",
          "ISO": "PSE",
          "WHO_region": "Eastern Mediterranean",
          "value": 26.2560005187988
         },
         {
          "Country": "Yemen",
          "Date": "2018",
          "ISO": "YEM",
          "WHO_region": "Eastern Mediterranean",
          "value": 13.0019998550415
         },
         {
          "Country": "Zambia",
          "Date": "2018",
          "ISO": "ZMB",
          "WHO_region": "African",
          "value": 11.5
         },
         {
          "Country": "Zimbabwe",
          "Date": "2018",
          "ISO": "ZWE",
          "WHO_region": "African",
          "value": 5.08699989318848
         },
         {
          "Country": "Afghanistan",
          "Date": "2019",
          "ISO": "AFG",
          "WHO_region": "Eastern Mediterranean",
          "value": 11.1180000305176
         },
         {
          "Country": "Albania",
          "Date": "2019",
          "ISO": "ALB",
          "WHO_region": "European",
          "value": 12.331000328064
         },
         {
          "Country": "Algeria",
          "Date": "2019",
          "ISO": "DZA",
          "WHO_region": "African",
          "value": 11.7040004730225
         },
         {
          "Country": "Angola",
          "Date": "2019",
          "ISO": "AGO",
          "WHO_region": "African",
          "value": 6.88600015640259
         },
         {
          "Country": "Argentina",
          "Date": "2019",
          "ISO": "ARG",
          "WHO_region": "Americas",
          "value": 9.78899955749512
         },
         {
          "Country": "Armenia",
          "Date": "2019",
          "ISO": "ARM",
          "WHO_region": "European",
          "value": 16.9899997711182
         },
         {
          "Country": "Australia",
          "Date": "2019",
          "ISO": "AUS",
          "WHO_region": "Western Pacific",
          "value": 5.26800012588501
         },
         {
          "Country": "Austria",
          "Date": "2019",
          "ISO": "AUT",
          "WHO_region": "European",
          "value": 4.67399978637695
         },
         {
          "Country": "Azerbaijan",
          "Date": "2019",
          "ISO": "AZE",
          "WHO_region": "European",
          "value": 5.50899982452393
         },
         {
          "Country": "Bahamas",
          "Date": "2019",
          "ISO": "BHS",
          "WHO_region": "Americas",
          "value": 10.3599996566772
         },
         {
          "Country": "Bahrain",
          "Date": "2019",
          "ISO": "BHR",
          "WHO_region": "Eastern Mediterranean",
          "value": 0.71399998664856
         },
         {
          "Country": "Bangladesh",
          "Date": "2019",
          "ISO": "BGD",
          "WHO_region": "South-East Asia",
          "value": 4.19000005722046
         },
         {
          "Country": "Barbados",
          "Date": "2019",
          "ISO": "BRB",
          "WHO_region": "Americas",
          "value": 10.331000328064
         },
         {
          "Country": "Belarus",
          "Date": "2019",
          "ISO": "BLR",
          "WHO_region": "European",
          "value": 4.59499979019165
         },
         {
          "Country": "Belgium",
          "Date": "2019",
          "ISO": "BEL",
          "WHO_region": "European",
          "value": 5.58900022506714
         },
         {
          "Country": "Belize",
          "Date": "2019",
          "ISO": "BLZ",
          "WHO_region": "Americas",
          "value": 6.41300010681152
         },
         {
          "Country": "Benin",
          "Date": "2019",
          "ISO": "BEN",
          "WHO_region": "African",
          "value": 2.23200011253357
         },
         {
          "Country": "Bhutan",
          "Date": "2019",
          "ISO": "BTN",
          "WHO_region": "South-East Asia",
          "value": 2.34200000762939
         },
         {
          "Country": "Bolivia (Plurinational State of)",
          "Date": "2019",
          "ISO": "BOL",
          "WHO_region": "Americas",
          "value": 3.49799990653992
         },
         {
          "Country": "Bosnia and Herzegovina",
          "Date": "2019",
          "ISO": "BIH",
          "WHO_region": "European",
          "value": 18.4249992370605
         },
         {
          "Country": "Botswana",
          "Date": "2019",
          "ISO": "BWA",
          "WHO_region": "African",
          "value": 18.193000793457
         },
         {
          "Country": "Brazil",
          "Date": "2019",
          "ISO": "BRA",
          "WHO_region": "Americas",
          "value": 12.0830001831055
         },
         {
          "Country": "Brunei Darussalam",
          "Date": "2019",
          "ISO": "BRN",
          "WHO_region": "Western Pacific",
          "value": 9.11699962615967
         },
         {
          "Country": "Bulgaria",
          "Date": "2019",
          "ISO": "BGR",
          "WHO_region": "European",
          "value": 4.34000015258789
         },
         {
          "Country": "Burkina Faso",
          "Date": "2019",
          "ISO": "BFA",
          "WHO_region": "African",
          "value": 6.26399993896484
         },
         {
          "Country": "Burundi",
          "Date": "2019",
          "ISO": "BDI",
          "WHO_region": "African",
          "value": 1.42700004577637
         },
         {
          "Country": "Cabo Verde",
          "Date": "2019",
          "ISO": "CPV",
          "WHO_region": "African",
          "value": 12.2489995956421
         },
         {
          "Country": "Cambodia",
          "Date": "2019",
          "ISO": "KHM",
          "WHO_region": "Western Pacific",
          "value": 0.676999986171722
         },
         {
          "Country": "Cameroon",
          "Date": "2019",
          "ISO": "CMR",
          "WHO_region": "African",
          "value": 3.38000011444092
         },
         {
          "Country": "Canada",
          "Date": "2019",
          "ISO": "CAN",
          "WHO_region": "Americas",
          "value": 5.56400012969971
         },
         {
          "Country": "Central African Republic",
          "Date": "2019",
          "ISO": "CAF",
          "WHO_region": "African",
          "value": 3.6800000667572
         },
         {
          "Country": "Chad",
          "Date": "2019",
          "ISO": "TCD",
          "WHO_region": "African",
          "value": 1.89100003242493
         },
         {
          "Country": "Channel Islands",
          "Date": "2019",
          "ISO": "CHI",
          "WHO_region": "Other",
          "value": 7.48699998855591
         },
         {
          "Country": "Chile",
          "Date": "2019",
          "ISO": "CHL",
          "WHO_region": "Americas",
          "value": 7.09000015258789
         },
         {
          "Country": "China",
          "Date": "2019",
          "ISO": "CHN",
          "WHO_region": "Western Pacific",
          "value": 4.32000017166138
         },
         {
          "Country": "Colombia",
          "Date": "2019",
          "ISO": "COL",
          "WHO_region": "Americas",
          "value": 9.70699977874756
         },
         {
          "Country": "Comoros",
          "Date": "2019",
          "ISO": "COM",
          "WHO_region": "African",
          "value": 4.33599996566772
         },
         {
          "Country": "Congo",
          "Date": "2019",
          "ISO": "COD",
          "WHO_region": "African",
          "value": 4.23600006103516
         },
         {
          "Country": "Democratic Republic of the Congo",
          "Date": "2019",
          "ISO": "COG",
          "WHO_region": "African",
          "value": 9.47200012207031
         },
         {
          "Country": "Costa Rica",
          "Date": "2019",
          "ISO": "CRI",
          "WHO_region": "Americas",
          "value": 11.8540000915527
         },
         {
          "Country": "Côte d’Ivoire",
          "Date": "2019",
          "ISO": "CIV",
          "WHO_region": "African",
          "value": 3.31699991226196
         },
         {
          "Country": "Croatia",
          "Date": "2019",
          "ISO": "HRV",
          "WHO_region": "European",
          "value": 6.93499994277954
         },
         {
          "Country": "Cuba",
          "Date": "2019",
          "ISO": "CUB",
          "WHO_region": "Americas",
          "value": 1.63800001144409
         },
         {
          "Country": "Cyprus",
          "Date": "2019",
          "ISO": "CYP",
          "WHO_region": "European",
          "value": 7.27400016784668
         },
         {
          "Country": "Czechia",
          "Date": "2019",
          "ISO": "CZE",
          "WHO_region": "European",
          "value": 1.93299996852875
         },
         {
          "Country": "Denmark",
          "Date": "2019",
          "ISO": "DNK",
          "WHO_region": "European",
          "value": 4.91300010681152
         },
         {
          "Country": "Djibouti",
          "Date": "2019",
          "ISO": "DJI",
          "WHO_region": "Eastern Mediterranean",
          "value": 10.2950000762939
         },
         {
          "Country": "Dominican Republic",
          "Date": "2019",
          "ISO": "DOM",
          "WHO_region": "Americas",
          "value": 5.84499979019165
         },
         {
          "Country": "Ecuador",
          "Date": "2019",
          "ISO": "ECU",
          "WHO_region": "Americas",
          "value": 3.96799993515015
         },
         {
          "Country": "Egypt",
          "Date": "2019",
          "ISO": "EGY",
          "WHO_region": "Eastern Mediterranean",
          "value": 10.7600002288818
         },
         {
          "Country": "El Salvador",
          "Date": "2019",
          "ISO": "SLV",
          "WHO_region": "Americas",
          "value": 4.1100001335144
         },
         {
          "Country": "Equatorial Guinea",
          "Date": "2019",
          "ISO": "GNQ",
          "WHO_region": "African",
          "value": 6.43300008773804
         },
         {
          "Country": "Eritrea",
          "Date": "2019",
          "ISO": "ERI",
          "WHO_region": "African",
          "value": 5.14400005340576
         },
         {
          "Country": "Estonia",
          "Date": "2019",
          "ISO": "EST",
          "WHO_region": "European",
          "value": 5.11499977111816
         },
         {
          "Country": "Eswatini",
          "Date": "2019",
          "ISO": "SWZ",
          "WHO_region": "African",
          "value": 22.0830001831055
         },
         {
          "Country": "Ethiopia",
          "Date": "2019",
          "ISO": "ETH",
          "WHO_region": "African",
          "value": 2.08100008964539
         },
         {
          "Country": "Fiji",
          "Date": "2019",
          "ISO": "FJI",
          "WHO_region": "Western Pacific",
          "value": 4.10099983215332
         },
         {
          "Country": "Finland",
          "Date": "2019",
          "ISO": "FIN",
          "WHO_region": "European",
          "value": 6.59499979019165
         },
         {
          "Country": "France",
          "Date": "2019",
          "ISO": "FRA",
          "WHO_region": "European",
          "value": 8.42700004577637
         },
         {
          "Country": "French Polynesia",
          "Date": "2019",
          "ISO": "PYF",
          "WHO_region": "Western Pacific",
          "value": 12.0959997177124
         },
         {
          "Country": "Gabon",
          "Date": "2019",
          "ISO": "GAB",
          "WHO_region": "African",
          "value": 20.003999710083
         },
         {
          "Country": "Gambia",
          "Date": "2019",
          "ISO": "GMB",
          "WHO_region": "African",
          "value": 9.05599975585938
         },
         {
          "Country": "Georgia",
          "Date": "2019",
          "ISO": "GEO",
          "WHO_region": "European",
          "value": 14.3979997634888
         },
         {
          "Country": "Germany",
          "Date": "2019",
          "ISO": "DEU",
          "WHO_region": "European",
          "value": 3.04299998283386
         },
         {
          "Country": "Ghana",
          "Date": "2019",
          "ISO": "GHA",
          "WHO_region": "African",
          "value": 4.33099985122681
         },
         {
          "Country": "Greece",
          "Date": "2019",
          "ISO": "GRC",
          "WHO_region": "European",
          "value": 17.238000869751
         },
         {
          "Country": "Guam",
          "Date": "2019",
          "ISO": "GUM",
          "WHO_region": "Western Pacific",
          "value": 5.31099987030029
         },
         {
          "Country": "Guatemala",
          "Date": "2019",
          "ISO": "GTM",
          "WHO_region": "Americas",
          "value": 2.45900011062622
         },
         {
          "Country": "Guinea",
          "Date": "2019",
          "ISO": "GIN",
          "WHO_region": "African",
          "value": 4.2960000038147
         },
         {
          "Country": "Guinea-Bissau",
          "Date": "2019",
          "ISO": "GNB",
          "WHO_region": "African",
          "value": 2.46600008010864
         },
         {
          "Country": "Guyana",
          "Date": "2019",
          "ISO": "GUY",
          "WHO_region": "Americas",
          "value": 11.8520002365112
         },
         {
          "Country": "Haiti",
          "Date": "2019",
          "ISO": "HTI",
          "WHO_region": "Americas",
          "value": 13.7810001373291
         },
         {
          "Country": "Honduras",
          "Date": "2019",
          "ISO": "HND",
          "WHO_region": "Americas",
          "value": 5.38600015640259
         },
         {
          "Country": "China HongKong",
          "Date": "2019",
          "ISO": "HKG",
          "WHO_region": "Western Pacific",
          "value": 3.62899994850159
         },
         {
          "Country": "Hungary",
          "Date": "2019",
          "ISO": "HUN",
          "WHO_region": "European",
          "value": 3.3989999294281
         },
         {
          "Country": "Iceland",
          "Date": "2019",
          "ISO": "ISL",
          "WHO_region": "European",
          "value": 2.84200000762939
         },
         {
          "Country": "India",
          "Date": "2019",
          "ISO": "IND",
          "WHO_region": "South-East Asia",
          "value": 5.35500001907349
         },
         {
          "Country": "Indonesia",
          "Date": "2019",
          "ISO": "IDN",
          "WHO_region": "South-East Asia",
          "value": 4.68699979782104
         },
         {
          "Country": "Iran (Islamic Republic of)",
          "Date": "2019",
          "ISO": "IRN",
          "WHO_region": "Eastern Mediterranean",
          "value": 11.3819999694824
         },
         {
          "Country": "Iraq",
          "Date": "2019",
          "ISO": "IRQ",
          "WHO_region": "Eastern Mediterranean",
          "value": 12.8219995498657
         },
         {
          "Country": "Ireland",
          "Date": "2019",
          "ISO": "IRL",
          "WHO_region": "European",
          "value": 4.92799997329712
         },
         {
          "Country": "Israel",
          "Date": "2019",
          "ISO": "ISR",
          "WHO_region": "European",
          "value": 3.86100006103516
         },
         {
          "Country": "Italy",
          "Date": "2019",
          "ISO": "ITA",
          "WHO_region": "European",
          "value": 9.88700008392334
         },
         {
          "Country": "Jamaica",
          "Date": "2019",
          "ISO": "JAM",
          "WHO_region": "Americas",
          "value": 8.0019998550415
         },
         {
          "Country": "Japan",
          "Date": "2019",
          "ISO": "JPN",
          "WHO_region": "Western Pacific",
          "value": 2.29099988937378
         },
         {
          "Country": "Jordan",
          "Date": "2019",
          "ISO": "JOR",
          "WHO_region": "Eastern Mediterranean",
          "value": 14.7150001525879
         },
         {
          "Country": "Kazakhstan",
          "Date": "2019",
          "ISO": "KAZ",
          "WHO_region": "European",
          "value": 4.59000015258789
         },
         {
          "Country": "Kenya",
          "Date": "2019",
          "ISO": "KEN",
          "WHO_region": "African",
          "value": 2.64199995994568
         },
         {
          "Country": "Democratic People's Republic of Korea",
          "Date": "2019",
          "ISO": "PRK",
          "WHO_region": "South-East Asia",
          "value": 2.74000000953674
         },
         {
          "Country": "Republic of Korea",
          "Date": "2019",
          "ISO": "KOR",
          "WHO_region": "Western Pacific",
          "value": 4.14799976348877
         },
         {
          "Country": "Kuwait",
          "Date": "2019",
          "ISO": "KWT",
          "WHO_region": "Eastern Mediterranean",
          "value": 2.18199992179871
         },
         {
          "Country": "Kyrgyzstan",
          "Date": "2019",
          "ISO": "KGZ",
          "WHO_region": "European",
          "value": 6.32999992370605
         },
         {
          "Country": "Lao People's Democratic Republic",
          "Date": "2019",
          "ISO": "LAO",
          "WHO_region": "Western Pacific",
          "value": 0.625999987125397
         },
         {
          "Country": "Latvia",
          "Date": "2019",
          "ISO": "LVA",
          "WHO_region": "European",
          "value": 6.51999998092651
         },
         {
          "Country": "Lebanon",
          "Date": "2019",
          "ISO": "LBN",
          "WHO_region": "Eastern Mediterranean",
          "value": 6.22900009155273
         },
         {
          "Country": "Lesotho",
          "Date": "2019",
          "ISO": "LSO",
          "WHO_region": "African",
          "value": 23.4050006866455
         },
         {
          "Country": "Liberia",
          "Date": "2019",
          "ISO": "LBR",
          "WHO_region": "African",
          "value": 2.81399989128113
         },
         {
          "Country": "Libya",
          "Date": "2019",
          "ISO": "LBY",
          "WHO_region": "Eastern Mediterranean",
          "value": 18.5629997253418
         },
         {
          "Country": "Lithuania",
          "Date": "2019",
          "ISO": "LTU",
          "WHO_region": "European",
          "value": 6.35200023651123
         },
         {
          "Country": "Luxembourg",
          "Date": "2019",
          "ISO": "LUX",
          "WHO_region": "European",
          "value": 5.36299991607666
         },
         {
          "Country": "China Macao",
          "Date": "2019",
          "ISO": "MAC",
          "WHO_region": "Western Pacific",
          "value": 2.23699998855591
         },
         {
          "Country": "Madagascar",
          "Date": "2019",
          "ISO": "MDG",
          "WHO_region": "African",
          "value": 1.75800001621246
         },
         {
          "Country": "Malawi",
          "Date": "2019",
          "ISO": "MWI",
          "WHO_region": "African",
          "value": 5.65299987792969
         },
         {
          "Country": "Malaysia",
          "Date": "2019",
          "ISO": "MYS",
          "WHO_region": "Western Pacific",
          "value": 3.32399988174438
         },
         {
          "Country": "Maldives",
          "Date": "2019",
          "ISO": "MDV",
          "WHO_region": "South-East Asia",
          "value": 6.13800001144409
         },
         {
          "Country": "Mali",
          "Date": "2019",
          "ISO": "MLI",
          "WHO_region": "African",
          "value": 7.22399997711182
         },
         {
          "Country": "Malta",
          "Date": "2019",
          "ISO": "MLT",
          "WHO_region": "European",
          "value": 3.47300004959106
         },
         {
          "Country": "Mauritania",
          "Date": "2019",
          "ISO": "MRT",
          "WHO_region": "African",
          "value": 9.54800033569336
         },
         {
          "Country": "Mauritius",
          "Date": "2019",
          "ISO": "MUS",
          "WHO_region": "African",
          "value": 6.67399978637695
         },
         {
          "Country": "Mexico",
          "Date": "2019",
          "ISO": "MEX",
          "WHO_region": "Americas",
          "value": 3.42499995231628
         },
         {
          "Country": "Republic of Moldova",
          "Date": "2019",
          "ISO": "MDA",
          "WHO_region": "European",
          "value": 5.47300004959106
         },
         {
          "Country": "Mongolia",
          "Date": "2019",
          "ISO": "MNG",
          "WHO_region": "Western Pacific",
          "value": 6.01100015640259
         },
         {
          "Country": "Montenegro",
          "Date": "2019",
          "ISO": "MNE",
          "WHO_region": "European",
          "value": 14.8830003738403
         },
         {
          "Country": "Morocco",
          "Date": "2019",
          "ISO": "MAR",
          "WHO_region": "Eastern Mediterranean",
          "value": 9.01900005340576
         },
         {
          "Country": "Mozambique",
          "Date": "2019",
          "ISO": "MOZ",
          "WHO_region": "African",
          "value": 3.2409999370575
         },
         {
          "Country": "Myanmar",
          "Date": "2019",
          "ISO": "MMR",
          "WHO_region": "South-East Asia",
          "value": 1.57700002193451
         },
         {
          "Country": "Namibia",
          "Date": "2019",
          "ISO": "NAM",
          "WHO_region": "African",
          "value": 20.2730007171631
         },
         {
          "Country": "Nepal",
          "Date": "2019",
          "ISO": "NPL",
          "WHO_region": "South-East Asia",
          "value": 1.40699994564056
         },
         {
          "Country": "Netherlands",
          "Date": "2019",
          "ISO": "NLD",
          "WHO_region": "European",
          "value": 3.19600009918213
         },
         {
          "Country": "New Caledonia",
          "Date": "2019",
          "ISO": "NCL",
          "WHO_region": "Western Pacific",
          "value": 12.8000001907349
         },
         {
          "Country": "New Zealand",
          "Date": "2019",
          "ISO": "NZL",
          "WHO_region": "Western Pacific",
          "value": 4.06899976730347
         },
         {
          "Country": "Nicaragua",
          "Date": "2019",
          "ISO": "NIC",
          "WHO_region": "Americas",
          "value": 6.83699989318848
         },
         {
          "Country": "Niger",
          "Date": "2019",
          "ISO": "NER",
          "WHO_region": "African",
          "value": 0.474999994039536
         },
         {
          "Country": "Nigeria",
          "Date": "2019",
          "ISO": "NGA",
          "WHO_region": "African",
          "value": 8.0959997177124
         },
         {
          "Country": "North Macedonia",
          "Date": "2019",
          "ISO": "MKD",
          "WHO_region": "European",
          "value": 17.7590007781982
         },
         {
          "Country": "Norway",
          "Date": "2019",
          "ISO": "NOR",
          "WHO_region": "European",
          "value": 3.34599995613098
         },
         {
          "Country": "Oman",
          "Date": "2019",
          "ISO": "OMN",
          "WHO_region": "Eastern Mediterranean",
          "value": 2.6710000038147
         },
         {
          "Country": "Pakistan",
          "Date": "2019",
          "ISO": "PAK",
          "WHO_region": "Eastern Mediterranean",
          "value": 4.45300006866455
         },
         {
          "Country": "Panama",
          "Date": "2019",
          "ISO": "PAN",
          "WHO_region": "Americas",
          "value": 3.90199995040894
         },
         {
          "Country": "Papua New Guinea",
          "Date": "2019",
          "ISO": "PNG",
          "WHO_region": "Western Pacific",
          "value": 2.45900011062622
         },
         {
          "Country": "Paraguay",
          "Date": "2019",
          "ISO": "PRY",
          "WHO_region": "Americas",
          "value": 4.80900001525879
         },
         {
          "Country": "Peru",
          "Date": "2019",
          "ISO": "PER",
          "WHO_region": "Americas",
          "value": 3.30999994277954
         },
         {
          "Country": "Philippines",
          "Date": "2019",
          "ISO": "PHL",
          "WHO_region": "Western Pacific",
          "value": 2.15000009536743
         },
         {
          "Country": "Poland",
          "Date": "2019",
          "ISO": "POL",
          "WHO_region": "European",
          "value": 3.47399997711182
         },
         {
          "Country": "Portugal",
          "Date": "2019",
          "ISO": "PRT",
          "WHO_region": "European",
          "value": 6.33400011062622
         },
         {
          "Country": "Puerto Rico",
          "Date": "2019",
          "ISO": "PRI",
          "WHO_region": "Americas",
          "value": 8.1870002746582
         },
         {
          "Country": "Qatar",
          "Date": "2019",
          "ISO": "QAT",
          "WHO_region": "Eastern Mediterranean",
          "value": 0.090999998152256
         },
         {
          "Country": "Romania",
          "Date": "2019",
          "ISO": "ROU",
          "WHO_region": "European",
          "value": 3.9760000705719
         },
         {
          "Country": "Russian Federation",
          "Date": "2019",
          "ISO": "RUS",
          "WHO_region": "European",
          "value": 4.58500003814697
         },
         {
          "Country": "Rwanda",
          "Date": "2019",
          "ISO": "RWA",
          "WHO_region": "African",
          "value": 1.02999997138977
         },
         {
          "Country": "Samoa",
          "Date": "2019",
          "ISO": "WSM",
          "WHO_region": "Western Pacific",
          "value": 8.35900020599365
         },
         {
          "Country": "Sao Tome and Principe",
          "Date": "2019",
          "ISO": "STP",
          "WHO_region": "African",
          "value": 13.3690004348755
         },
         {
          "Country": "Saudi Arabia",
          "Date": "2019",
          "ISO": "SAU",
          "WHO_region": "Eastern Mediterranean",
          "value": 5.92700004577637
         },
         {
          "Country": "Senegal",
          "Date": "2019",
          "ISO": "SEN",
          "WHO_region": "African",
          "value": 6.60400009155273
         },
         {
          "Country": "Serbia",
          "Date": "2019",
          "ISO": "SRB",
          "WHO_region": "European",
          "value": 12.6859998703003
         },
         {
          "Country": "Sierra Leone",
          "Date": "2019",
          "ISO": "SLE",
          "WHO_region": "African",
          "value": 4.42799997329712
         },
         {
          "Country": "Singapore",
          "Date": "2019",
          "ISO": "SGP",
          "WHO_region": "Western Pacific",
          "value": 4.10900020599365
         },
         {
          "Country": "Slovakia",
          "Date": "2019",
          "ISO": "SVK",
          "WHO_region": "European",
          "value": 5.56099987030029
         },
         {
          "Country": "Slovenia",
          "Date": "2019",
          "ISO": "SVN",
          "WHO_region": "European",
          "value": 4.19500017166138
         },
         {
          "Country": "Solomon Islands",
          "Date": "2019",
          "ISO": "SLB",
          "WHO_region": "Western Pacific",
          "value": 0.575999975204468
         },
         {
          "Country": "Somalia",
          "Date": "2019",
          "ISO": "SOM",
          "WHO_region": "Eastern Mediterranean",
          "value": 11.3509998321533
         },
         {
          "Country": "South Africa",
          "Date": "2019",
          "ISO": "ZAF",
          "WHO_region": "African",
          "value": 28.1809997558594
         },
         {
          "Country": "South Sudan",
          "Date": "2019",
          "ISO": "SSD",
          "WHO_region": "African",
          "value": 12.2440004348755
         },
         {
          "Country": "Spain",
          "Date": "2019",
          "ISO": "ESP",
          "WHO_region": "European",
          "value": 13.9589996337891
         },
         {
          "Country": "Sri Lanka",
          "Date": "2019",
          "ISO": "LKA",
          "WHO_region": "South-East Asia",
          "value": 4.19799995422363
         },
         {
          "Country": "Saint Lucia",
          "Date": "2019",
          "ISO": "LCA",
          "WHO_region": "Americas",
          "value": 20.7059993743896
         },
         {
          "Country": "Saint Vincent and the Grenadines",
          "Date": "2019",
          "ISO": "VCT",
          "WHO_region": "Americas",
          "value": 18.8810005187988
         },
         {
          "Country": "Sudan",
          "Date": "2019",
          "ISO": "SDN",
          "WHO_region": "Eastern Mediterranean",
          "value": 16.5349998474121
         },
         {
          "Country": "Suriname",
          "Date": "2019",
          "ISO": "SUR",
          "WHO_region": "Americas",
          "value": 7.33400011062622
         },
         {
          "Country": "Sweden",
          "Date": "2019",
          "ISO": "SWE",
          "WHO_region": "European",
          "value": 6.47599983215332
         },
         {
          "Country": "Switzerland",
          "Date": "2019",
          "ISO": "CHE",
          "WHO_region": "European",
          "value": 4.58099985122681
         },
         {
          "Country": "Syrian Arab Republic",
          "Date": "2019",
          "ISO": "SYR",
          "WHO_region": "Eastern Mediterranean",
          "value": 8.36999988555908
         },
         {
          "Country": "Tajikistan",
          "Date": "2019",
          "ISO": "TJK",
          "WHO_region": "European",
          "value": 11.0170001983643
         },
         {
          "Country": "United Republic of Tanzania",
          "Date": "2019",
          "ISO": "TZA",
          "WHO_region": "African",
          "value": 1.98000001907349
         },
         {
          "Country": "Thailand",
          "Date": "2019",
          "ISO": "THA",
          "WHO_region": "South-East Asia",
          "value": 0.754000008106232
         },
         {
          "Country": "Timor-Leste",
          "Date": "2019",
          "ISO": "TLS",
          "WHO_region": "South-East Asia",
          "value": 4.5479998588562
         },
         {
          "Country": "Togo",
          "Date": "2019",
          "ISO": "TGO",
          "WHO_region": "African",
          "value": 2.03800010681152
         },
         {
          "Country": "Tonga",
          "Date": "2019",
          "ISO": "TON",
          "WHO_region": "Western Pacific",
          "value": 1.11699998378754
         },
         {
          "Country": "Trinidad and Tobago",
          "Date": "2019",
          "ISO": "TTO",
          "WHO_region": "Americas",
          "value": 2.68600010871887
         },
         {
          "Country": "Tunisia",
          "Date": "2019",
          "ISO": "TUN",
          "WHO_region": "Eastern Mediterranean",
          "value": 16.0219993591309
         },
         {
          "Country": "Turkey",
          "Date": "2019",
          "ISO": "TUR",
          "WHO_region": "European",
          "value": 13.4899997711182
         },
         {
          "Country": "Turkmenistan",
          "Date": "2019",
          "ISO": "TKM",
          "WHO_region": "European",
          "value": 3.91300010681152
         },
         {
          "Country": "Uganda",
          "Date": "2019",
          "ISO": "UGA",
          "WHO_region": "African",
          "value": 1.84300005435944
         },
         {
          "Country": "Ukraine",
          "Date": "2019",
          "ISO": "UKR",
          "WHO_region": "European",
          "value": 8.88199996948242
         },
         {
          "Country": "United Arab Emirates",
          "Date": "2019",
          "ISO": "ARE",
          "WHO_region": "Eastern Mediterranean",
          "value": 2.34800004959106
         },
         {
          "Country": "The United Kingdom",
          "Date": "2019",
          "ISO": "GBR",
          "WHO_region": "European",
          "value": 3.8510000705719
         },
         {
          "Country": "United States of America",
          "Date": "2019",
          "ISO": "USA",
          "WHO_region": "Americas",
          "value": 3.68199992179871
         },
         {
          "Country": "Uruguay",
          "Date": "2019",
          "ISO": "URY",
          "WHO_region": "Americas",
          "value": 8.73099994659424
         },
         {
          "Country": "Uzbekistan",
          "Date": "2019",
          "ISO": "UZB",
          "WHO_region": "European",
          "value": 5.91699981689453
         },
         {
          "Country": "Vanuatu",
          "Date": "2019",
          "ISO": "VUT",
          "WHO_region": "Western Pacific",
          "value": 4.38500022888184
         },
         {
          "Country": "Venezuela (Bolivarian Republic of)",
          "Date": "2019",
          "ISO": "VEN",
          "WHO_region": "Americas",
          "value": 8.80099964141846
         },
         {
          "Country": "Viet Nam",
          "Date": "2019",
          "ISO": "VNM",
          "WHO_region": "Western Pacific",
          "value": 2.01300001144409
         },
         {
          "Country": "United States Virgin Islands",
          "Date": "2019",
          "ISO": "VIR",
          "WHO_region": "Americas",
          "value": 8.66199970245361
         },
         {
          "Country": "occupied Palestinian territory, including east Jerusalem",
          "Date": "2019",
          "ISO": "PSE",
          "WHO_region": "Eastern Mediterranean",
          "value": 26.1690006256104
         },
         {
          "Country": "Yemen",
          "Date": "2019",
          "ISO": "YEM",
          "WHO_region": "Eastern Mediterranean",
          "value": 12.9099998474121
         },
         {
          "Country": "Zambia",
          "Date": "2019",
          "ISO": "ZMB",
          "WHO_region": "African",
          "value": 11.4250001907349
         },
         {
          "Country": "Zimbabwe",
          "Date": "2019",
          "ISO": "ZWE",
          "WHO_region": "African",
          "value": 4.9539999961853
         },
         {
          "Country": "Afghanistan",
          "Date": "2020",
          "ISO": "AFG",
          "WHO_region": "Eastern Mediterranean",
          "value": 11.1639995574951
         },
         {
          "Country": "Albania",
          "Date": "2020",
          "ISO": "ALB",
          "WHO_region": "European",
          "value": 12.8129997253418
         },
         {
          "Country": "Algeria",
          "Date": "2020",
          "ISO": "DZA",
          "WHO_region": "African",
          "value": 11.5249996185303
         },
         {
          "Country": "Angola",
          "Date": "2020",
          "ISO": "AGO",
          "WHO_region": "African",
          "value": 6.77400016784668
         },
         {
          "Country": "Argentina",
          "Date": "2020",
          "ISO": "ARG",
          "WHO_region": "Americas",
          "value": 10.4359998703003
         },
         {
          "Country": "Armenia",
          "Date": "2020",
          "ISO": "ARM",
          "WHO_region": "European",
          "value": 16.625
         },
         {
          "Country": "Australia",
          "Date": "2020",
          "ISO": "AUS",
          "WHO_region": "Western Pacific",
          "value": 5.32800006866455
         },
         {
          "Country": "Austria",
          "Date": "2020",
          "ISO": "AUT",
          "WHO_region": "European",
          "value": 4.77899980545044
         },
         {
          "Country": "Azerbaijan",
          "Date": "2020",
          "ISO": "AZE",
          "WHO_region": "European",
          "value": 5.96000003814697
         },
         {
          "Country": "Bahamas",
          "Date": "2020",
          "ISO": "BHS",
          "WHO_region": "Americas",
          "value": 11.2700004577637
         },
         {
          "Country": "Bahrain",
          "Date": "2020",
          "ISO": "BHR",
          "WHO_region": "Eastern Mediterranean",
          "value": 0.763000011444092
         },
         {
          "Country": "Bangladesh",
          "Date": "2020",
          "ISO": "BGD",
          "WHO_region": "South-East Asia",
          "value": 4.15100002288818
         },
         {
          "Country": "Barbados",
          "Date": "2020",
          "ISO": "BRB",
          "WHO_region": "Americas",
          "value": 10.9379997253418
         },
         {
          "Country": "Belarus",
          "Date": "2020",
          "ISO": "BLR",
          "WHO_region": "European",
          "value": 4.625
         },
         {
          "Country": "Belgium",
          "Date": "2020",
          "ISO": "BEL",
          "WHO_region": "European",
          "value": 5.69199991226196
         },
         {
          "Country": "Belize",
          "Date": "2020",
          "ISO": "BLZ",
          "WHO_region": "Americas",
          "value": 6.35699987411499
         },
         {
          "Country": "Benin",
          "Date": "2020",
          "ISO": "BEN",
          "WHO_region": "African",
          "value": 2.02300000190735
         },
         {
          "Country": "Bhutan",
          "Date": "2020",
          "ISO": "BTN",
          "WHO_region": "South-East Asia",
          "value": 2.39000010490417
         },
         {
          "Country": "Bolivia (Plurinational State of)",
          "Date": "2020",
          "ISO": "BOL",
          "WHO_region": "Americas",
          "value": 3.45000004768372
         },
         {
          "Country": "Bosnia and Herzegovina",
          "Date": "2020",
          "ISO": "BIH",
          "WHO_region": "European",
          "value": 18.4379997253418
         },
         {
          "Country": "Botswana",
          "Date": "2020",
          "ISO": "BWA",
          "WHO_region": "African",
          "value": 18.7210006713867
         },
         {
          "Country": "Brazil",
          "Date": "2020",
          "ISO": "BRA",
          "WHO_region": "Americas",
          "value": 11.9659996032715
         },
         {
          "Country": "Brunei Darussalam",
          "Date": "2020",
          "ISO": "BRN",
          "WHO_region": "Western Pacific",
          "value": 9.04399967193604
         },
         {
          "Country": "Bulgaria",
          "Date": "2020",
          "ISO": "BGR",
          "WHO_region": "European",
          "value": 3.84999990463257
         },
         {
          "Country": "Burkina Faso",
          "Date": "2020",
          "ISO": "BFA",
          "WHO_region": "African",
          "value": 6.41400003433228
         },
         {
          "Country": "Burundi",
          "Date": "2020",
          "ISO": "BDI",
          "WHO_region": "African",
          "value": 1.40799999237061
         },
         {
          "Country": "Cabo Verde",
          "Date": "2020",
          "ISO": "CPV",
          "WHO_region": "African",
          "value": 12.3179998397827
         },
         {
          "Country": "Cambodia",
          "Date": "2020",
          "ISO": "KHM",
          "WHO_region": "Western Pacific",
          "value": 0.695999979972839
         },
         {
          "Country": "Cameroon",
          "Date": "2020",
          "ISO": "CMR",
          "WHO_region": "African",
          "value": 3.42799997329712
         },
         {
          "Country": "Canada",
          "Date": "2020",
          "ISO": "CAN",
          "WHO_region": "Americas",
          "value": 5.41200017929077
         },
         {
          "Country": "Central African Republic",
          "Date": "2020",
          "ISO": "CAF",
          "WHO_region": "African",
          "value": 3.69600009918213
         },
         {
          "Country": "Chad",
          "Date": "2020",
          "ISO": "TCD",
          "WHO_region": "African",
          "value": 1.942999958992
         },
         {
          "Country": "Channel Islands",
          "Date": "2020",
          "ISO": "CHI",
          "WHO_region": "Other",
          "value": 7.53499984741211
         },
         {
          "Country": "Chile",
          "Date": "2020",
          "ISO": "CHL",
          "WHO_region": "Americas",
          "value": 7.09600019454956
         },
         {
          "Country": "China",
          "Date": "2020",
          "ISO": "CHN",
          "WHO_region": "Western Pacific",
          "value": 4.36999988555908
         },
         {
          "Country": "Colombia",
          "Date": "2020",
          "ISO": "COL",
          "WHO_region": "Americas",
          "value": 9.74400043487549
         },
         {
          "Country": "Comoros",
          "Date": "2020",
          "ISO": "COM",
          "WHO_region": "African",
          "value": 4.36600017547607
         },
         {
          "Country": "Congo",
          "Date": "2020",
          "ISO": "COD",
          "WHO_region": "African",
          "value": 4.25
         },
         {
          "Country": "Democratic Republic of the Congo",
          "Date": "2020",
          "ISO": "COG",
          "WHO_region": "African",
          "value": 9.2819995880127
         },
         {
          "Country": "Costa Rica",
          "Date": "2020",
          "ISO": "CRI",
          "WHO_region": "Americas",
          "value": 12.7340002059937
         },
         {
          "Country": "Côte d’Ivoire",
          "Date": "2020",
          "ISO": "CIV",
          "WHO_region": "African",
          "value": 3.42300009727478
         },
         {
          "Country": "Croatia",
          "Date": "2020",
          "ISO": "HRV",
          "WHO_region": "European",
          "value": 7.11399984359741
         },
         {
          "Country": "Cuba",
          "Date": "2020",
          "ISO": "CUB",
          "WHO_region": "Americas",
          "value": 1.5900000333786
         },
         {
          "Country": "Cyprus",
          "Date": "2020",
          "ISO": "CYP",
          "WHO_region": "European",
          "value": 7.23400020599365
         },
         {
          "Country": "Czechia",
          "Date": "2020",
          "ISO": "CZE",
          "WHO_region": "European",
          "value": 1.9099999666214
         },
         {
          "Country": "Denmark",
          "Date": "2020",
          "ISO": "DNK",
          "WHO_region": "European",
          "value": 4.84600019454956
         },
         {
          "Country": "Djibouti",
          "Date": "2020",
          "ISO": "DJI",
          "WHO_region": "Eastern Mediterranean",
          "value": 10.3229999542236
         },
         {
          "Country": "Dominican Republic",
          "Date": "2020",
          "ISO": "DOM",
          "WHO_region": "Americas",
          "value": 5.91900014877319
         },
         {
          "Country": "Ecuador",
          "Date": "2020",
          "ISO": "ECU",
          "WHO_region": "Americas",
          "value": 4.23799991607666
         },
         {
          "Country": "Egypt",
          "Date": "2020",
          "ISO": "EGY",
          "WHO_region": "Eastern Mediterranean",
          "value": 10.1280002593994
         },
         {
          "Country": "El Salvador",
          "Date": "2020",
          "ISO": "SLV",
          "WHO_region": "Americas",
          "value": 4.19600009918213
         },
         {
          "Country": "Equatorial Guinea",
          "Date": "2020",
          "ISO": "GNQ",
          "WHO_region": "African",
          "value": 6.46999979019165
         },
         {
          "Country": "Eritrea",
          "Date": "2020",
          "ISO": "ERI",
          "WHO_region": "African",
          "value": 5.17199993133545
         },
         {
          "Country": "Estonia",
          "Date": "2020",
          "ISO": "EST",
          "WHO_region": "European",
          "value": 5.37900018692017
         },
         {
          "Country": "Eswatini",
          "Date": "2020",
          "ISO": "SWZ",
          "WHO_region": "African",
          "value": 21.9710006713867
         },
         {
          "Country": "Ethiopia",
          "Date": "2020",
          "ISO": "ETH",
          "WHO_region": "African",
          "value": 2.08200001716614
         },
         {
          "Country": "Fiji",
          "Date": "2020",
          "ISO": "FJI",
          "WHO_region": "Western Pacific",
          "value": 4.07999992370605
         },
         {
          "Country": "Finland",
          "Date": "2020",
          "ISO": "FIN",
          "WHO_region": "European",
          "value": 6.65899991989136
         },
         {
          "Country": "France",
          "Date": "2020",
          "ISO": "FRA",
          "WHO_region": "European",
          "value": 8.33800029754639
         },
         {
          "Country": "French Polynesia",
          "Date": "2020",
          "ISO": "PYF",
          "WHO_region": "Western Pacific",
          "value": 11.9340000152588
         },
         {
          "Country": "Gabon",
          "Date": "2020",
          "ISO": "GAB",
          "WHO_region": "African",
          "value": 20.1450004577637
         },
         {
          "Country": "Gambia",
          "Date": "2020",
          "ISO": "GMB",
          "WHO_region": "African",
          "value": 9.10700035095215
         },
         {
          "Country": "Georgia",
          "Date": "2020",
          "ISO": "GEO",
          "WHO_region": "European",
          "value": 14.7419996261597
         },
         {
          "Country": "Germany",
          "Date": "2020",
          "ISO": "DEU",
          "WHO_region": "European",
          "value": 3.02500009536743
         },
         {
          "Country": "Ghana",
          "Date": "2020",
          "ISO": "GHA",
          "WHO_region": "African",
          "value": 4.50899982452393
         },
         {
          "Country": "Greece",
          "Date": "2020",
          "ISO": "GRC",
          "WHO_region": "European",
          "value": 15.4739999771118
         },
         {
          "Country": "Guam",
          "Date": "2020",
          "ISO": "GUM",
          "WHO_region": "Western Pacific",
          "value": 5.67500019073486
         },
         {
          "Country": "Guatemala",
          "Date": "2020",
          "ISO": "GTM",
          "WHO_region": "Americas",
          "value": 2.50699996948242
         },
         {
          "Country": "Guinea",
          "Date": "2020",
          "ISO": "GIN",
          "WHO_region": "African",
          "value": 4.32999992370605
         },
         {
          "Country": "Guinea-Bissau",
          "Date": "2020",
          "ISO": "GNB",
          "WHO_region": "African",
          "value": 2.48699998855591
         },
         {
          "Country": "Guyana",
          "Date": "2020",
          "ISO": "GUY",
          "WHO_region": "Americas",
          "value": 11.8129997253418
         },
         {
          "Country": "Haiti",
          "Date": "2020",
          "ISO": "HTI",
          "WHO_region": "Americas",
          "value": 13.914999961853
         },
         {
          "Country": "Honduras",
          "Date": "2020",
          "ISO": "HND",
          "WHO_region": "Americas",
          "value": 5.22900009155273
         },
         {
          "Country": "China HongKong",
          "Date": "2020",
          "ISO": "HKG",
          "WHO_region": "Western Pacific",
          "value": 4.2649998664856
         },
         {
          "Country": "Hungary",
          "Date": "2020",
          "ISO": "HUN",
          "WHO_region": "European",
          "value": 3.46000003814697
         },
         {
          "Country": "Iceland",
          "Date": "2020",
          "ISO": "ISL",
          "WHO_region": "European",
          "value": 3.22199988365173
         },
         {
          "Country": "India",
          "Date": "2020",
          "ISO": "IND",
          "WHO_region": "South-East Asia",
          "value": 5.39900016784668
         },
         {
          "Country": "Indonesia",
          "Date": "2020",
          "ISO": "IDN",
          "WHO_region": "South-East Asia",
          "value": 4.83500003814697
         },
         {
          "Country": "Iran (Islamic Republic of)",
          "Date": "2020",
          "ISO": "IRN",
          "WHO_region": "Eastern Mediterranean",
          "value": 11.1809997558594
         },
         {
          "Country": "Iraq",
          "Date": "2020",
          "ISO": "IRQ",
          "WHO_region": "Eastern Mediterranean",
          "value": 12.8249998092651
         },
         {
          "Country": "Ireland",
          "Date": "2020",
          "ISO": "IRL",
          "WHO_region": "European",
          "value": 5.15799999237061
         },
         {
          "Country": "Israel",
          "Date": "2020",
          "ISO": "ISR",
          "WHO_region": "European",
          "value": 3.77900004386902
         },
         {
          "Country": "Italy",
          "Date": "2020",
          "ISO": "ITA",
          "WHO_region": "European",
          "value": 9.83600044250488
         },
         {
          "Country": "Jamaica",
          "Date": "2020",
          "ISO": "JAM",
          "WHO_region": "Americas",
          "value": 7.94999980926514
         },
         {
          "Country": "Japan",
          "Date": "2020",
          "ISO": "JPN",
          "WHO_region": "Western Pacific",
          "value": 2.33899998664856
         },
         {
          "Country": "Jordan",
          "Date": "2020",
          "ISO": "JOR",
          "WHO_region": "Eastern Mediterranean",
          "value": 14.6129999160767
         },
         {
          "Country": "Kazakhstan",
          "Date": "2020",
          "ISO": "KAZ",
          "WHO_region": "European",
          "value": 4.55100011825562
         },
         {
          "Country": "Kenya",
          "Date": "2020",
          "ISO": "KEN",
          "WHO_region": "African",
          "value": 2.64599990844727
         },
         {
          "Country": "Democratic People's Republic of Korea",
          "Date": "2020",
          "ISO": "PRK",
          "WHO_region": "South-East Asia",
          "value": 2.76399993896484
         },
         {
          "Country": "Republic of Korea",
          "Date": "2020",
          "ISO": "KOR",
          "WHO_region": "Western Pacific",
          "value": 4.59700012207031
         },
         {
          "Country": "Kuwait",
          "Date": "2020",
          "ISO": "KWT",
          "WHO_region": "Eastern Mediterranean",
          "value": 2.30299997329712
         },
         {
          "Country": "Kyrgyzstan",
          "Date": "2020",
          "ISO": "KGZ",
          "WHO_region": "European",
          "value": 6.64300012588501
         },
         {
          "Country": "Lao People's Democratic Republic",
          "Date": "2020",
          "ISO": "LAO",
          "WHO_region": "Western Pacific",
          "value": 0.601999998092651
         },
         {
          "Country": "Latvia",
          "Date": "2020",
          "ISO": "LVA",
          "WHO_region": "European",
          "value": 6.53299999237061
         },
         {
          "Country": "Lebanon",
          "Date": "2020",
          "ISO": "LBN",
          "WHO_region": "Eastern Mediterranean",
          "value": 6.27600002288818
         },
         {
          "Country": "Lesotho",
          "Date": "2020",
          "ISO": "LSO",
          "WHO_region": "African",
          "value": 22.8309993743896
         },
         {
          "Country": "Liberia",
          "Date": "2020",
          "ISO": "LBR",
          "WHO_region": "African",
          "value": 2.72499990463257
         },
         {
          "Country": "Libya",
          "Date": "2020",
          "ISO": "LBY",
          "WHO_region": "Eastern Mediterranean",
          "value": 18.6259994506836
         },
         {
          "Country": "Lithuania",
          "Date": "2020",
          "ISO": "LTU",
          "WHO_region": "European",
          "value": 6.26100015640259
         },
         {
          "Country": "Luxembourg",
          "Date": "2020",
          "ISO": "LUX",
          "WHO_region": "European",
          "value": 5.24399995803833
         },
         {
          "Country": "China Macao",
          "Date": "2020",
          "ISO": "MAC",
          "WHO_region": "Western Pacific",
          "value": 2.50500011444092
         },
         {
          "Country": "Madagascar",
          "Date": "2020",
          "ISO": "MDG",
          "WHO_region": "African",
          "value": 1.83299994468689
         },
         {
          "Country": "Malawi",
          "Date": "2020",
          "ISO": "MWI",
          "WHO_region": "African",
          "value": 5.67399978637695
         },
         {
          "Country": "Malaysia",
          "Date": "2020",
          "ISO": "MYS",
          "WHO_region": "Western Pacific",
          "value": 3.37800002098084
         },
         {
          "Country": "Maldives",
          "Date": "2020",
          "ISO": "MDV",
          "WHO_region": "South-East Asia",
          "value": 6.43400001525879
         },
         {
          "Country": "Mali",
          "Date": "2020",
          "ISO": "MLI",
          "WHO_region": "African",
          "value": 7.34100008010864
         },
         {
          "Country": "Malta",
          "Date": "2020",
          "ISO": "MLT",
          "WHO_region": "European",
          "value": 3.36700010299683
         },
         {
          "Country": "Mauritania",
          "Date": "2020",
          "ISO": "MRT",
          "WHO_region": "African",
          "value": 9.61400032043457
         },
         {
          "Country": "Mauritius",
          "Date": "2020",
          "ISO": "MUS",
          "WHO_region": "African",
          "value": 6.68900012969971
         },
         {
          "Country": "Mexico",
          "Date": "2020",
          "ISO": "MEX",
          "WHO_region": "Americas",
          "value": 3.65400004386902
         },
         {
          "Country": "Republic of Moldova",
          "Date": "2020",
          "ISO": "MDA",
          "WHO_region": "European",
          "value": 5.36499977111816
         },
         {
          "Country": "Mongolia",
          "Date": "2020",
          "ISO": "MNG",
          "WHO_region": "Western Pacific",
          "value": 5.94600009918213
         },
         {
          "Country": "Montenegro",
          "Date": "2020",
          "ISO": "MNE",
          "WHO_region": "European",
          "value": 14.7559995651245
         },
         {
          "Country": "Morocco",
          "Date": "2020",
          "ISO": "MAR",
          "WHO_region": "Eastern Mediterranean",
          "value": 8.95499992370605
         },
         {
          "Country": "Mozambique",
          "Date": "2020",
          "ISO": "MOZ",
          "WHO_region": "African",
          "value": 3.24200010299683
         },
         {
          "Country": "Myanmar",
          "Date": "2020",
          "ISO": "MMR",
          "WHO_region": "South-East Asia",
          "value": 1.71099996566772
         },
         {
          "Country": "Namibia",
          "Date": "2020",
          "ISO": "NAM",
          "WHO_region": "African",
          "value": 20.5869998931885
         },
         {
          "Country": "Nepal",
          "Date": "2020",
          "ISO": "NPL",
          "WHO_region": "South-East Asia",
          "value": 1.46599996089935
         },
         {
          "Country": "Netherlands",
          "Date": "2020",
          "ISO": "NLD",
          "WHO_region": "European",
          "value": 2.97499990463257
         },
         {
          "Country": "New Caledonia",
          "Date": "2020",
          "ISO": "NCL",
          "WHO_region": "Western Pacific",
          "value": 12.7810001373291
         },
         {
          "Country": "New Zealand",
          "Date": "2020",
          "ISO": "NZL",
          "WHO_region": "Western Pacific",
          "value": 4.01300001144409
         },
         {
          "Country": "Nicaragua",
          "Date": "2020",
          "ISO": "NIC",
          "WHO_region": "Americas",
          "value": 7.35500001907349
         },
         {
          "Country": "Niger",
          "Date": "2020",
          "ISO": "NER",
          "WHO_region": "African",
          "value": 0.485000014305115
         },
         {
          "Country": "Nigeria",
          "Date": "2020",
          "ISO": "NGA",
          "WHO_region": "African",
          "value": 7.96000003814697
         },
         {
          "Country": "North Macedonia",
          "Date": "2020",
          "ISO": "MKD",
          "WHO_region": "European",
          "value": 16.4389991760254
         },
         {
          "Country": "Norway",
          "Date": "2020",
          "ISO": "NOR",
          "WHO_region": "European",
          "value": 3.30999994277954
         },
         {
          "Country": "Oman",
          "Date": "2020",
          "ISO": "OMN",
          "WHO_region": "Eastern Mediterranean",
          "value": 2.5460000038147
         },
         {
          "Country": "Pakistan",
          "Date": "2020",
          "ISO": "PAK",
          "WHO_region": "Eastern Mediterranean",
          "value": 4.44500017166138
         },
         {
          "Country": "Panama",
          "Date": "2020",
          "ISO": "PAN",
          "WHO_region": "Americas",
          "value": 3.82500004768372
         },
         {
          "Country": "Papua New Guinea",
          "Date": "2020",
          "ISO": "PNG",
          "WHO_region": "Western Pacific",
          "value": 2.48699998855591
         },
         {
          "Country": "Paraguay",
          "Date": "2020",
          "ISO": "PRY",
          "WHO_region": "Americas",
          "value": 4.83599996566772
         },
         {
          "Country": "Peru",
          "Date": "2020",
          "ISO": "PER",
          "WHO_region": "Americas",
          "value": 3.19600009918213
         },
         {
          "Country": "Philippines",
          "Date": "2020",
          "ISO": "PHL",
          "WHO_region": "Western Pacific",
          "value": 2.16400003433228
         },
         {
          "Country": "Poland",
          "Date": "2020",
          "ISO": "POL",
          "WHO_region": "European",
          "value": 3.03999996185303
         },
         {
          "Country": "Portugal",
          "Date": "2020",
          "ISO": "PRT",
          "WHO_region": "European",
          "value": 5.93300008773804
         },
         {
          "Country": "Puerto Rico",
          "Date": "2020",
          "ISO": "PRI",
          "WHO_region": "Americas",
          "value": 8.41399955749512
         },
         {
          "Country": "Qatar",
          "Date": "2020",
          "ISO": "QAT",
          "WHO_region": "Eastern Mediterranean",
          "value": 0.0820000022649765
         },
         {
          "Country": "Romania",
          "Date": "2020",
          "ISO": "ROU",
          "WHO_region": "European",
          "value": 3.92199993133545
         },
         {
          "Country": "Russian Federation",
          "Date": "2020",
          "ISO": "RUS",
          "WHO_region": "European",
          "value": 4.42500019073486
         },
         {
          "Country": "Rwanda",
          "Date": "2020",
          "ISO": "RWA",
          "WHO_region": "African",
          "value": 1.04100000858307
         },
         {
          "Country": "Samoa",
          "Date": "2020",
          "ISO": "WSM",
          "WHO_region": "Western Pacific",
          "value": 8.35499954223633
         },
         {
          "Country": "Sao Tome and Principe",
          "Date": "2020",
          "ISO": "STP",
          "WHO_region": "African",
          "value": 13.6709995269775
         },
         {
          "Country": "Saudi Arabia",
          "Date": "2020",
          "ISO": "SAU",
          "WHO_region": "Eastern Mediterranean",
          "value": 5.85799980163574
         },
         {
          "Country": "Senegal",
          "Date": "2020",
          "ISO": "SEN",
          "WHO_region": "African",
          "value": 6.67600011825562
         },
         {
          "Country": "Serbia",
          "Date": "2020",
          "ISO": "SRB",
          "WHO_region": "European",
          "value": 12.7220001220703
         },
         {
          "Country": "Sierra Leone",
          "Date": "2020",
          "ISO": "SLE",
          "WHO_region": "African",
          "value": 4.44099998474121
         },
         {
          "Country": "Singapore",
          "Date": "2020",
          "ISO": "SGP",
          "WHO_region": "Western Pacific",
          "value": 4.38000011444092
         },
         {
          "Country": "Slovakia",
          "Date": "2020",
          "ISO": "SVK",
          "WHO_region": "European",
          "value": 5.10400009155273
         },
         {
          "Country": "Slovenia",
          "Date": "2020",
          "ISO": "SVN",
          "WHO_region": "European",
          "value": 3.80200004577637
         },
         {
          "Country": "Solomon Islands",
          "Date": "2020",
          "ISO": "SLB",
          "WHO_region": "Western Pacific",
          "value": 0.541999995708466
         },
         {
          "Country": "Somalia",
          "Date": "2020",
          "ISO": "SOM",
          "WHO_region": "Eastern Mediterranean",
          "value": 11.3999996185303
         },
         {
          "Country": "South Africa",
          "Date": "2020",
          "ISO": "ZAF",
          "WHO_region": "African",
          "value": 28.4769992828369
         },
         {
          "Country": "South Sudan",
          "Date": "2020",
          "ISO": "SSD",
          "WHO_region": "African",
          "value": 12.2569999694824
         },
         {
          "Country": "Spain",
          "Date": "2020",
          "ISO": "ESP",
          "WHO_region": "European",
          "value": 13.0150003433228
         },
         {
          "Country": "Sri Lanka",
          "Date": "2020",
          "ISO": "LKA",
          "WHO_region": "South-East Asia",
          "value": 4.17799997329712
         },
         {
          "Country": "Saint Lucia",
          "Date": "2020",
          "ISO": "LCA",
          "WHO_region": "Americas",
          "value": 20.1499996185303
         },
         {
          "Country": "Saint Vincent and the Grenadines",
          "Date": "2020",
          "ISO": "VCT",
          "WHO_region": "Americas",
          "value": 18.8700008392334
         },
         {
          "Country": "Sudan",
          "Date": "2020",
          "ISO": "SDN",
          "WHO_region": "Eastern Mediterranean",
          "value": 16.6180000305176
         },
         {
          "Country": "Suriname",
          "Date": "2020",
          "ISO": "SUR",
          "WHO_region": "Americas",
          "value": 7.47200012207031
         },
         {
          "Country": "Sweden",
          "Date": "2020",
          "ISO": "SWE",
          "WHO_region": "European",
          "value": 6.67399978637695
         },
         {
          "Country": "Switzerland",
          "Date": "2020",
          "ISO": "CHE",
          "WHO_region": "European",
          "value": 4.84899997711182
         },
         {
          "Country": "Syrian Arab Republic",
          "Date": "2020",
          "ISO": "SYR",
          "WHO_region": "Eastern Mediterranean",
          "value": 8.44799995422363
         },
         {
          "Country": "Tajikistan",
          "Date": "2020",
          "ISO": "TJK",
          "WHO_region": "European",
          "value": 10.9890003204346
         },
         {
          "Country": "United Republic of Tanzania",
          "Date": "2020",
          "ISO": "TZA",
          "WHO_region": "African",
          "value": 1.98099994659424
         },
         {
          "Country": "Thailand",
          "Date": "2020",
          "ISO": "THA",
          "WHO_region": "South-East Asia",
          "value": 0.802999973297119
         },
         {
          "Country": "Timor-Leste",
          "Date": "2020",
          "ISO": "TLS",
          "WHO_region": "South-East Asia",
          "value": 4.60300016403198
         },
         {
          "Country": "Togo",
          "Date": "2020",
          "ISO": "TGO",
          "WHO_region": "African",
          "value": 2.00500011444092
         },
         {
          "Country": "Tonga",
          "Date": "2020",
          "ISO": "TON",
          "WHO_region": "Western Pacific",
          "value": 1.15699994564056
         },
         {
          "Country": "Trinidad and Tobago",
          "Date": "2020",
          "ISO": "TTO",
          "WHO_region": "Americas",
          "value": 2.79500007629395
         },
         {
          "Country": "Tunisia",
          "Date": "2020",
          "ISO": "TUN",
          "WHO_region": "Eastern Mediterranean",
          "value": 16.1539993286133
         },
         {
          "Country": "Turkey",
          "Date": "2020",
          "ISO": "TUR",
          "WHO_region": "European",
          "value": 12.9409999847412
         },
         {
          "Country": "Turkmenistan",
          "Date": "2020",
          "ISO": "TKM",
          "WHO_region": "European",
          "value": 4.07100009918213
         },
         {
          "Country": "Uganda",
          "Date": "2020",
          "ISO": "UGA",
          "WHO_region": "African",
          "value": 1.9190000295639
         },
         {
          "Country": "Ukraine",
          "Date": "2020",
          "ISO": "UKR",
          "WHO_region": "European",
          "value": 8.93400001525879
         },
         {
          "Country": "United Arab Emirates",
          "Date": "2020",
          "ISO": "ARE",
          "WHO_region": "Eastern Mediterranean",
          "value": 2.44700002670288
         },
         {
          "Country": "The United Kingdom",
          "Date": "2020",
          "ISO": "GBR",
          "WHO_region": "European",
          "value": 4.11499977111816
         },
         {
          "Country": "United States of America",
          "Date": "2020",
          "ISO": "USA",
          "WHO_region": "Americas",
          "value": 3.86199998855591
         },
         {
          "Country": "Uruguay",
          "Date": "2020",
          "ISO": "URY",
          "WHO_region": "Americas",
          "value": 8.77700042724609
         },
         {
          "Country": "Uzbekistan",
          "Date": "2020",
          "ISO": "UZB",
          "WHO_region": "European",
          "value": 6.08199977874756
         },
         {
          "Country": "Vanuatu",
          "Date": "2020",
          "ISO": "VUT",
          "WHO_region": "Western Pacific",
          "value": 4.40799999237061
         },
         {
          "Country": "Venezuela (Bolivarian Republic of)",
          "Date": "2020",
          "ISO": "VEN",
          "WHO_region": "Americas",
          "value": 9.38099956512451
         },
         {
          "Country": "Viet Nam",
          "Date": "2020",
          "ISO": "VNM",
          "WHO_region": "Western Pacific",
          "value": 2.0220000743866
         },
         {
          "Country": "United States Virgin Islands",
          "Date": "2020",
          "ISO": "VIR",
          "WHO_region": "Americas",
          "value": 8.75899982452393
         },
         {
          "Country": "occupied Palestinian territory, including east Jerusalem",
          "Date": "2020",
          "ISO": "PSE",
          "WHO_region": "Eastern Mediterranean",
          "value": 26.0979995727539
         },
         {
          "Country": "Yemen",
          "Date": "2020",
          "ISO": "YEM",
          "WHO_region": "Eastern Mediterranean",
          "value": 12.8299999237061
         },
         {
          "Country": "Zambia",
          "Date": "2020",
          "ISO": "ZMB",
          "WHO_region": "African",
          "value": 11.4119997024536
         },
         {
          "Country": "Zimbabwe",
          "Date": "2020",
          "ISO": "ZWE",
          "WHO_region": "African",
          "value": 4.99100017547607
         }
        ]
       },
       "encoding": {
        "color": {
         "field": "WHO_region",
         "type": "nominal"
        },
        "x": {
         "axis": {
          "title": "Year"
         },
         "field": "Date",
         "type": "ordinal"
        },
        "y": {
         "axis": {
          "title": "The average unemployment rate (% labour force)"
         },
         "field": "mean_value",
         "type": "quantitative"
        }
       },
       "height": 300,
       "mark": {
        "point": true,
        "type": "line"
       },
       "title": "Unemployment Rate in WHO Regions Change by Years",
       "transform": [
        {
         "aggregate": [
          {
           "as": "mean_value",
           "field": "value",
           "op": "mean"
          }
         ],
         "groupby": [
          "WHO_region",
          "Date"
         ]
        }
       ],
       "width": 400
      },
      "image/png": "[encoded data removed]",
      "image/svg+xml": [
       "<?xml version=\"1.0\" encoding=\"utf-8\"?>\n",
       "<!DOCTYPE svg PUBLIC \"-//W3C//DTD SVG 1.1//EN\" \"http://www.w3.org/Graphics/SVG/1.1/DTD/svg11.dtd\">\n",
       "<svg class=\"marks\" width=\"584\" height=\"378\" viewBox=\"0 0 584 378\" version=\"1.1\" xmlns=\"http://www.w3.org/2000/svg\" xmlns:xlink=\"http://www.w3.org/1999/xlink\"><rect width=\"584\" height=\"378\" fill=\"white\"></rect><g fill=\"none\" stroke-miterlimit=\"10\" transform=\"translate(39,27)\"><g class=\"mark-group role-frame root\" role=\"graphics-object\" aria-roledescription=\"group mark container\"><g transform=\"translate(0,0)\"><path class=\"background\" aria-hidden=\"true\" d=\"M0.5,0.5h400v300h-400Z\" stroke=\"#ddd\"></path><g><g class=\"mark-group role-axis\" aria-hidden=\"true\"><g transform=\"translate(0.5,0.5)\"><path class=\"background\" aria-hidden=\"true\" d=\"M0,0h0v0h0Z\" pointer-events=\"none\"></path><g><g class=\"mark-rule role-axis-grid\" pointer-events=\"none\"><line transform=\"translate(0,300)\" x2=\"400\" y2=\"0\" stroke=\"#ddd\" stroke-width=\"1\" opacity=\"1\"></line><line transform=\"translate(0,250)\" x2=\"400\" y2=\"0\" stroke=\"#ddd\" stroke-width=\"1\" opacity=\"1\"></line><line transform=\"translate(0,200)\" x2=\"400\" y2=\"0\" stroke=\"#ddd\" stroke-width=\"1\" opacity=\"1\"></line><line transform=\"translate(0,150)\" x2=\"400\" y2=\"0\" stroke=\"#ddd\" stroke-width=\"1\" opacity=\"1\"></line><line transform=\"translate(0,100)\" x2=\"400\" y2=\"0\" stroke=\"#ddd\" stroke-width=\"1\" opacity=\"1\"></line><line transform=\"translate(0,50)\" x2=\"400\" y2=\"0\" stroke=\"#ddd\" stroke-width=\"1\" opacity=\"1\"></line><line transform=\"translate(0,0)\" x2=\"400\" y2=\"0\" stroke=\"#ddd\" stroke-width=\"1\" opacity=\"1\"></line></g></g><path class=\"foreground\" aria-hidden=\"true\" d=\"\" pointer-events=\"none\" display=\"none\"></path></g></g><g class=\"mark-group role-axis\" role=\"graphics-symbol\" aria-roledescription=\"axis\" aria-label=\"X-axis titled 'Year' for a discrete scale with 10 values: 2011, 2012, 2013, 2014, 2015, ending with 2020\"><g transform=\"translate(0.5,300.5)\"><path class=\"background\" aria-hidden=\"true\" d=\"M0,0h0v0h0Z\" pointer-events=\"none\"></path><g><g class=\"mark-rule role-axis-tick\" pointer-events=\"none\"><line transform=\"translate(20,0)\" x2=\"0\" y2=\"5\" stroke=\"#888\" stroke-width=\"1\" opacity=\"1\"></line><line transform=\"translate(60,0)\" x2=\"0\" y2=\"5\" stroke=\"#888\" stroke-width=\"1\" opacity=\"1\"></line><line transform=\"translate(100,0)\" x2=\"0\" y2=\"5\" stroke=\"#888\" stroke-width=\"1\" opacity=\"1\"></line><line transform=\"translate(140,0)\" x2=\"0\" y2=\"5\" stroke=\"#888\" stroke-width=\"1\" opacity=\"1\"></line><line transform=\"translate(180,0)\" x2=\"0\" y2=\"5\" stroke=\"#888\" stroke-width=\"1\" opacity=\"1\"></line><line transform=\"translate(220,0)\" x2=\"0\" y2=\"5\" stroke=\"#888\" stroke-width=\"1\" opacity=\"1\"></line><line transform=\"translate(260,0)\" x2=\"0\" y2=\"5\" stroke=\"#888\" stroke-width=\"1\" opacity=\"1\"></line><line transform=\"translate(300,0)\" x2=\"0\" y2=\"5\" stroke=\"#888\" stroke-width=\"1\" opacity=\"1\"></line><line transform=\"translate(340,0)\" x2=\"0\" y2=\"5\" stroke=\"#888\" stroke-width=\"1\" opacity=\"1\"></line><line transform=\"translate(380,0)\" x2=\"0\" y2=\"5\" stroke=\"#888\" stroke-width=\"1\" opacity=\"1\"></line></g><g class=\"mark-text role-axis-label\" pointer-events=\"none\"><text text-anchor=\"end\" transform=\"translate(20,7) rotate(270) translate(0,3)\" font-family=\"sans-serif\" font-size=\"10px\" fill=\"#000\" opacity=\"1\">2011</text><text text-anchor=\"end\" transform=\"translate(60,7) rotate(270) translate(0,3)\" font-family=\"sans-serif\" font-size=\"10px\" fill=\"#000\" opacity=\"1\">2012</text><text text-anchor=\"end\" transform=\"translate(100,7) rotate(270) translate(0,3)\" font-family=\"sans-serif\" font-size=\"10px\" fill=\"#000\" opacity=\"1\">2013</text><text text-anchor=\"end\" transform=\"translate(140,7) rotate(270) translate(0,3)\" font-family=\"sans-serif\" font-size=\"10px\" fill=\"#000\" opacity=\"1\">2014</text><text text-anchor=\"end\" transform=\"translate(180,7) rotate(270) translate(0,3)\" font-family=\"sans-serif\" font-size=\"10px\" fill=\"#000\" opacity=\"1\">2015</text><text text-anchor=\"end\" transform=\"translate(220,7) rotate(270) translate(0,3)\" font-family=\"sans-serif\" font-size=\"10px\" fill=\"#000\" opacity=\"1\">2016</text><text text-anchor=\"end\" transform=\"translate(260,7) rotate(270) translate(0,3)\" font-family=\"sans-serif\" font-size=\"10px\" fill=\"#000\" opacity=\"1\">2017</text><text text-anchor=\"end\" transform=\"translate(300,7) rotate(270) translate(0,3)\" font-family=\"sans-serif\" font-size=\"10px\" fill=\"#000\" opacity=\"1\">2018</text><text text-anchor=\"end\" transform=\"translate(340,7) rotate(270) translate(0,3)\" font-family=\"sans-serif\" font-size=\"10px\" fill=\"#000\" opacity=\"1\">2019</text><text text-anchor=\"end\" transform=\"translate(380,7) rotate(270) translate(0,3)\" font-family=\"sans-serif\" font-size=\"10px\" fill=\"#000\" opacity=\"1\">2020</text></g><g class=\"mark-rule role-axis-domain\" pointer-events=\"none\"><line transform=\"translate(0,0)\" x2=\"400\" y2=\"0\" stroke=\"#888\" stroke-width=\"1\" opacity=\"1\"></line></g><g class=\"mark-text role-axis-title\" pointer-events=\"none\"><text text-anchor=\"middle\" transform=\"translate(200,44)\" font-family=\"sans-serif\" font-size=\"11px\" font-weight=\"bold\" fill=\"#000\" opacity=\"1\">Year</text></g></g><path class=\"foreground\" aria-hidden=\"true\" d=\"\" pointer-events=\"none\" display=\"none\"></path></g></g><g class=\"mark-group role-axis\" role=\"graphics-symbol\" aria-roledescription=\"axis\" aria-label=\"Y-axis titled 'The average unemployment rate (% labour force)' for a linear scale with values from 0 to 12\"><g transform=\"translate(0.5,0.5)\"><path class=\"background\" aria-hidden=\"true\" d=\"M0,0h0v0h0Z\" pointer-events=\"none\"></path><g><g class=\"mark-rule role-axis-tick\" pointer-events=\"none\"><line transform=\"translate(0,300)\" x2=\"-5\" y2=\"0\" stroke=\"#888\" stroke-width=\"1\" opacity=\"1\"></line><line transform=\"translate(0,250)\" x2=\"-5\" y2=\"0\" stroke=\"#888\" stroke-width=\"1\" opacity=\"1\"></line><line transform=\"translate(0,200)\" x2=\"-5\" y2=\"0\" stroke=\"#888\" stroke-width=\"1\" opacity=\"1\"></line><line transform=\"translate(0,150)\" x2=\"-5\" y2=\"0\" stroke=\"#888\" stroke-width=\"1\" opacity=\"1\"></line><line transform=\"translate(0,100)\" x2=\"-5\" y2=\"0\" stroke=\"#888\" stroke-width=\"1\" opacity=\"1\"></line><line transform=\"translate(0,50)\" x2=\"-5\" y2=\"0\" stroke=\"#888\" stroke-width=\"1\" opacity=\"1\"></line><line transform=\"translate(0,0)\" x2=\"-5\" y2=\"0\" stroke=\"#888\" stroke-width=\"1\" opacity=\"1\"></line></g><g class=\"mark-text role-axis-label\" pointer-events=\"none\"><text text-anchor=\"end\" transform=\"translate(-7,303)\" font-family=\"sans-serif\" font-size=\"10px\" fill=\"#000\" opacity=\"1\">0</text><text text-anchor=\"end\" transform=\"translate(-7,253)\" font-family=\"sans-serif\" font-size=\"10px\" fill=\"#000\" opacity=\"1\">2</text><text text-anchor=\"end\" transform=\"translate(-7,203.00000000000003)\" font-family=\"sans-serif\" font-size=\"10px\" fill=\"#000\" opacity=\"1\">4</text><text text-anchor=\"end\" transform=\"translate(-7,153)\" font-family=\"sans-serif\" font-size=\"10px\" fill=\"#000\" opacity=\"1\">6</text><text text-anchor=\"end\" transform=\"translate(-7,103.00000000000001)\" font-family=\"sans-serif\" font-size=\"10px\" fill=\"#000\" opacity=\"1\">8</text><text text-anchor=\"end\" transform=\"translate(-7,52.999999999999986)\" font-family=\"sans-serif\" font-size=\"10px\" fill=\"#000\" opacity=\"1\">10</text><text text-anchor=\"end\" transform=\"translate(-7,3)\" font-family=\"sans-serif\" font-size=\"10px\" fill=\"#000\" opacity=\"1\">12</text></g><g class=\"mark-rule role-axis-domain\" pointer-events=\"none\"><line transform=\"translate(0,300)\" x2=\"0\" y2=\"-300\" stroke=\"#888\" stroke-width=\"1\" opacity=\"1\"></line></g><g class=\"mark-text role-axis-title\" pointer-events=\"none\"><text text-anchor=\"middle\" transform=\"translate(-23,150) rotate(-90) translate(0,-2)\" font-family=\"sans-serif\" font-size=\"11px\" font-weight=\"bold\" fill=\"#000\" opacity=\"1\">The average unemployment rate (% labour force)</text></g></g><path class=\"foreground\" aria-hidden=\"true\" d=\"\" pointer-events=\"none\" display=\"none\"></path></g></g><g class=\"mark-group role-scope layer_0_pathgroup\" role=\"graphics-object\" aria-roledescription=\"group mark container\"><g transform=\"translate(0,0)\"><path class=\"background\" aria-hidden=\"true\" d=\"M0,0h400v300h-400Z\"></path><g><g class=\"mark-line role-mark layer_0_marks\" role=\"graphics-object\" aria-roledescription=\"line mark container\"><path aria-label=\"Year: 2011; The average unemployment rate (% labour force): 9.38163632425; WHO_region: Eastern Mediterranean\" role=\"graphics-symbol\" aria-roledescription=\"line mark\" d=\"M20,65.4590918936513L60,63.023863631216045L100,61.770455911755604L140,63.70113849301231L180,59.25568052652207L220,55.9943211010912L260,53.88863383030342L300,54.92954499680879L340,56.084091648120804L380,56.723866967315004\" stroke=\"#e45756\" stroke-width=\"2\"></path></g></g><path class=\"foreground\" aria-hidden=\"true\" d=\"\" display=\"none\"></path></g><g transform=\"translate(0,0)\"><path class=\"background\" aria-hidden=\"true\" d=\"M0,0h400v300h-400Z\"></path><g><g class=\"mark-line role-mark layer_0_marks\" role=\"graphics-object\" aria-roledescription=\"line mark container\"><path aria-label=\"Year: 2011; The average unemployment rate (% labour force): 10.6660999918; WHO_region: European\" role=\"graphics-symbol\" aria-roledescription=\"line mark\" d=\"M20,33.34750020503993L60,25.81499779224408L100,23.701998591423077L140,34.81800079345702L180,49.32199895381933L220,67.41449975967427L260,90.31849777698517L300,110.99500012397766L340,118.28849977254863L380,120.49000042676924\" stroke=\"#72b7b2\" stroke-width=\"2\"></path></g></g><path class=\"foreground\" aria-hidden=\"true\" d=\"\" display=\"none\"></path></g><g transform=\"translate(0,0)\"><path class=\"background\" aria-hidden=\"true\" d=\"M0,0h400v300h-400Z\"></path><g><g class=\"mark-line role-mark layer_0_marks\" role=\"graphics-object\" aria-roledescription=\"line mark container\"><path aria-label=\"Year: 2011; The average unemployment rate (% labour force): 7.78152174989; WHO_region: African\" role=\"graphics-symbol\" aria-roledescription=\"line mark\" d=\"M20,105.46195625287031L60,109.90434758689095L100,111.67336990651876L140,113.0168473914914L180,111.3570653226066L220,109.94021834238725L260,110.59402337540752L300,113.7217380268419L340,112.46738960237597L380,111.7706524289173\" stroke=\"#4c78a8\" stroke-width=\"2\"></path></g></g><path class=\"foreground\" aria-hidden=\"true\" d=\"\" display=\"none\"></path></g><g transform=\"translate(0,0)\"><path class=\"background\" aria-hidden=\"true\" d=\"M0,0h400v300h-400Z\"></path><g><g class=\"mark-line role-mark layer_0_marks\" role=\"graphics-object\" aria-roledescription=\"line mark container\"><path aria-label=\"Year: 2011; The average unemployment rate (% labour force): 8.12315150463; WHO_region: Americas\" role=\"graphics-symbol\" aria-roledescription=\"line mark\" d=\"M20,96.92121238419499L60,100.84090810833551L100,98.26666658574874L140,101.4643949089628L180,102.44166616237524L220,101.64015040253149L260,110.4893939061599L300,112.86439480203575L340,107.81590938568124L380,104.46515110406001\" stroke=\"#f58518\" stroke-width=\"2\"></path></g></g><path class=\"foreground\" aria-hidden=\"true\" d=\"\" display=\"none\"></path></g><g transform=\"translate(0,0)\"><path class=\"background\" aria-hidden=\"true\" d=\"M0,0h400v300h-400Z\"></path><g><g class=\"mark-line role-mark layer_0_marks\" role=\"graphics-object\" aria-roledescription=\"line mark container\"><path aria-label=\"Year: 2011; The average unemployment rate (% labour force): 4.87158332268; WHO_region: Western Pacific\" role=\"graphics-symbol\" aria-roledescription=\"line mark\" d=\"M20,178.21041693290076L60,177.62916677941882L100,177.70104268565768L140,182.90312470247346L180,184.53333384046948L220,184.21562574803832L260,187.44375041375557L300,191.54270707319182L340,190.42395862440262L380,188.47083356231445\" stroke=\"#b279a2\" stroke-width=\"2\"></path></g></g><path class=\"foreground\" aria-hidden=\"true\" d=\"\" display=\"none\"></path></g><g transform=\"translate(0,0)\"><path class=\"background\" aria-hidden=\"true\" d=\"M0,0h400v300h-400Z\"></path><g><g class=\"mark-line role-mark layer_0_marks\" role=\"graphics-object\" aria-roledescription=\"line mark container\"><path aria-label=\"Year: 2011; The average unemployment rate (% labour force): 3.24454543265; WHO_region: South-East Asia\" role=\"graphics-symbol\" aria-roledescription=\"line mark\" d=\"M20,218.88636418364263L60,221.7613637447357L100,217.35909140922809L140,217.9704563184218L180,215.30000093308362L220,214.27272680130872L260,214.50681781226936L300,215.4659085653045L340,213.7818188829856L380,211.96818107908427\" stroke=\"#eeca3b\" stroke-width=\"2\"></path></g></g><path class=\"foreground\" aria-hidden=\"true\" d=\"\" display=\"none\"></path></g><g transform=\"translate(0,0)\"><path class=\"background\" aria-hidden=\"true\" d=\"M0,0h400v300h-400Z\"></path><g><g class=\"mark-line role-mark layer_0_marks\" role=\"graphics-object\" aria-roledescription=\"line mark container\"><path aria-label=\"Year: 2011; The average unemployment rate (% labour force): 8.3780002594; WHO_region: Other\" role=\"graphics-symbol\" aria-roledescription=\"line mark\" d=\"M20,90.54999351501473L60,88.40000629425047L100,86.97500228881829L140,92.70000457763675L180,97.90000915527348L220,103.55000495910647L260,109.44999456405651L300,114.75000381469724L340,112.82500028610224L380,111.62500381469725\" stroke=\"#54a24b\" stroke-width=\"2\"></path></g></g><path class=\"foreground\" aria-hidden=\"true\" d=\"\" display=\"none\"></path></g></g><g class=\"mark-symbol role-mark layer_1_marks\" role=\"graphics-object\" aria-roledescription=\"symbol mark container\"><path aria-label=\"Year: 2011; The average unemployment rate (% labour force): 9.38163632425; WHO_region: Eastern Mediterranean\" role=\"graphics-symbol\" aria-roledescription=\"point\" transform=\"translate(20,65.4590918936513)\" d=\"M2.7386127875258306,0A2.7386127875258306,2.7386127875258306,0,1,1,-2.7386127875258306,0A2.7386127875258306,2.7386127875258306,0,1,1,2.7386127875258306,0\" fill=\"#e45756\" stroke-width=\"2\" opacity=\"1\"></path><path aria-label=\"Year: 2011; The average unemployment rate (% labour force): 10.6660999918; WHO_region: European\" role=\"graphics-symbol\" aria-roledescription=\"point\" transform=\"translate(20,33.34750020503993)\" d=\"M2.7386127875258306,0A2.7386127875258306,2.7386127875258306,0,1,1,-2.7386127875258306,0A2.7386127875258306,2.7386127875258306,0,1,1,2.7386127875258306,0\" fill=\"#72b7b2\" stroke-width=\"2\" opacity=\"1\"></path><path aria-label=\"Year: 2011; The average unemployment rate (% labour force): 7.78152174989; WHO_region: African\" role=\"graphics-symbol\" aria-roledescription=\"point\" transform=\"translate(20,105.46195625287031)\" d=\"M2.7386127875258306,0A2.7386127875258306,2.7386127875258306,0,1,1,-2.7386127875258306,0A2.7386127875258306,2.7386127875258306,0,1,1,2.7386127875258306,0\" fill=\"#4c78a8\" stroke-width=\"2\" opacity=\"1\"></path><path aria-label=\"Year: 2011; The average unemployment rate (% labour force): 8.12315150463; WHO_region: Americas\" role=\"graphics-symbol\" aria-roledescription=\"point\" transform=\"translate(20,96.92121238419499)\" d=\"M2.7386127875258306,0A2.7386127875258306,2.7386127875258306,0,1,1,-2.7386127875258306,0A2.7386127875258306,2.7386127875258306,0,1,1,2.7386127875258306,0\" fill=\"#f58518\" stroke-width=\"2\" opacity=\"1\"></path><path aria-label=\"Year: 2011; The average unemployment rate (% labour force): 4.87158332268; WHO_region: Western Pacific\" role=\"graphics-symbol\" aria-roledescription=\"point\" transform=\"translate(20,178.21041693290076)\" d=\"M2.7386127875258306,0A2.7386127875258306,2.7386127875258306,0,1,1,-2.7386127875258306,0A2.7386127875258306,2.7386127875258306,0,1,1,2.7386127875258306,0\" fill=\"#b279a2\" stroke-width=\"2\" opacity=\"1\"></path><path aria-label=\"Year: 2011; The average unemployment rate (% labour force): 3.24454543265; WHO_region: South-East Asia\" role=\"graphics-symbol\" aria-roledescription=\"point\" transform=\"translate(20,218.88636418364263)\" d=\"M2.7386127875258306,0A2.7386127875258306,2.7386127875258306,0,1,1,-2.7386127875258306,0A2.7386127875258306,2.7386127875258306,0,1,1,2.7386127875258306,0\" fill=\"#eeca3b\" stroke-width=\"2\" opacity=\"1\"></path><path aria-label=\"Year: 2011; The average unemployment rate (% labour force): 8.3780002594; WHO_region: Other\" role=\"graphics-symbol\" aria-roledescription=\"point\" transform=\"translate(20,90.54999351501473)\" d=\"M2.7386127875258306,0A2.7386127875258306,2.7386127875258306,0,1,1,-2.7386127875258306,0A2.7386127875258306,2.7386127875258306,0,1,1,2.7386127875258306,0\" fill=\"#54a24b\" stroke-width=\"2\" opacity=\"1\"></path><path aria-label=\"Year: 2012; The average unemployment rate (% labour force): 9.47904545475; WHO_region: Eastern Mediterranean\" role=\"graphics-symbol\" aria-roledescription=\"point\" transform=\"translate(60,63.023863631216045)\" d=\"M2.7386127875258306,0A2.7386127875258306,2.7386127875258306,0,1,1,-2.7386127875258306,0A2.7386127875258306,2.7386127875258306,0,1,1,2.7386127875258306,0\" fill=\"#e45756\" stroke-width=\"2\" opacity=\"1\"></path><path aria-label=\"Year: 2012; The average unemployment rate (% labour force): 10.9674000883; WHO_region: European\" role=\"graphics-symbol\" aria-roledescription=\"point\" transform=\"translate(60,25.81499779224408)\" d=\"M2.7386127875258306,0A2.7386127875258306,2.7386127875258306,0,1,1,-2.7386127875258306,0A2.7386127875258306,2.7386127875258306,0,1,1,2.7386127875258306,0\" fill=\"#72b7b2\" stroke-width=\"2\" opacity=\"1\"></path><path aria-label=\"Year: 2012; The average unemployment rate (% labour force): 7.60382609652; WHO_region: African\" role=\"graphics-symbol\" aria-roledescription=\"point\" transform=\"translate(60,109.90434758689095)\" d=\"M2.7386127875258306,0A2.7386127875258306,2.7386127875258306,0,1,1,-2.7386127875258306,0A2.7386127875258306,2.7386127875258306,0,1,1,2.7386127875258306,0\" fill=\"#4c78a8\" stroke-width=\"2\" opacity=\"1\"></path><path aria-label=\"Year: 2012; The average unemployment rate (% labour force): 7.96636367567; WHO_region: Americas\" role=\"graphics-symbol\" aria-roledescription=\"point\" transform=\"translate(60,100.84090810833551)\" d=\"M2.7386127875258306,0A2.7386127875258306,2.7386127875258306,0,1,1,-2.7386127875258306,0A2.7386127875258306,2.7386127875258306,0,1,1,2.7386127875258306,0\" fill=\"#f58518\" stroke-width=\"2\" opacity=\"1\"></path><path aria-label=\"Year: 2012; The average unemployment rate (% labour force): 4.89483332882; WHO_region: Western Pacific\" role=\"graphics-symbol\" aria-roledescription=\"point\" transform=\"translate(60,177.62916677941882)\" d=\"M2.7386127875258306,0A2.7386127875258306,2.7386127875258306,0,1,1,-2.7386127875258306,0A2.7386127875258306,2.7386127875258306,0,1,1,2.7386127875258306,0\" fill=\"#b279a2\" stroke-width=\"2\" opacity=\"1\"></path><path aria-label=\"Year: 2012; The average unemployment rate (% labour force): 3.12954545021; WHO_region: South-East Asia\" role=\"graphics-symbol\" aria-roledescription=\"point\" transform=\"translate(60,221.7613637447357)\" d=\"M2.7386127875258306,0A2.7386127875258306,2.7386127875258306,0,1,1,-2.7386127875258306,0A2.7386127875258306,2.7386127875258306,0,1,1,2.7386127875258306,0\" fill=\"#eeca3b\" stroke-width=\"2\" opacity=\"1\"></path><path aria-label=\"Year: 2012; The average unemployment rate (% labour force): 8.46399974823; WHO_region: Other\" role=\"graphics-symbol\" aria-roledescription=\"point\" transform=\"translate(60,88.40000629425047)\" d=\"M2.7386127875258306,0A2.7386127875258306,2.7386127875258306,0,1,1,-2.7386127875258306,0A2.7386127875258306,2.7386127875258306,0,1,1,2.7386127875258306,0\" fill=\"#54a24b\" stroke-width=\"2\" opacity=\"1\"></path><path aria-label=\"Year: 2013; The average unemployment rate (% labour force): 9.52918176353; WHO_region: Eastern Mediterranean\" role=\"graphics-symbol\" aria-roledescription=\"point\" transform=\"translate(100,61.770455911755604)\" d=\"M2.7386127875258306,0A2.7386127875258306,2.7386127875258306,0,1,1,-2.7386127875258306,0A2.7386127875258306,2.7386127875258306,0,1,1,2.7386127875258306,0\" fill=\"#e45756\" stroke-width=\"2\" opacity=\"1\"></path><path aria-label=\"Year: 2013; The average unemployment rate (% labour force): 11.0519200563; WHO_region: European\" role=\"graphics-symbol\" aria-roledescription=\"point\" transform=\"translate(100,23.701998591423077)\" d=\"M2.7386127875258306,0A2.7386127875258306,2.7386127875258306,0,1,1,-2.7386127875258306,0A2.7386127875258306,2.7386127875258306,0,1,1,2.7386127875258306,0\" fill=\"#72b7b2\" stroke-width=\"2\" opacity=\"1\"></path><path aria-label=\"Year: 2013; The average unemployment rate (% labour force): 7.53306520374; WHO_region: African\" role=\"graphics-symbol\" aria-roledescription=\"point\" transform=\"translate(100,111.67336990651876)\" d=\"M2.7386127875258306,0A2.7386127875258306,2.7386127875258306,0,1,1,-2.7386127875258306,0A2.7386127875258306,2.7386127875258306,0,1,1,2.7386127875258306,0\" fill=\"#4c78a8\" stroke-width=\"2\" opacity=\"1\"></path><path aria-label=\"Year: 2013; The average unemployment rate (% labour force): 8.06933333657; WHO_region: Americas\" role=\"graphics-symbol\" aria-roledescription=\"point\" transform=\"translate(100,98.26666658574874)\" d=\"M2.7386127875258306,0A2.7386127875258306,2.7386127875258306,0,1,1,-2.7386127875258306,0A2.7386127875258306,2.7386127875258306,0,1,1,2.7386127875258306,0\" fill=\"#f58518\" stroke-width=\"2\" opacity=\"1\"></path><path aria-label=\"Year: 2013; The average unemployment rate (% labour force): 4.89195829257; WHO_region: Western Pacific\" role=\"graphics-symbol\" aria-roledescription=\"point\" transform=\"translate(100,177.70104268565768)\" d=\"M2.7386127875258306,0A2.7386127875258306,2.7386127875258306,0,1,1,-2.7386127875258306,0A2.7386127875258306,2.7386127875258306,0,1,1,2.7386127875258306,0\" fill=\"#b279a2\" stroke-width=\"2\" opacity=\"1\"></path><path aria-label=\"Year: 2013; The average unemployment rate (% labour force): 3.30563634363; WHO_region: South-East Asia\" role=\"graphics-symbol\" aria-roledescription=\"point\" transform=\"translate(100,217.35909140922809)\" d=\"M2.7386127875258306,0A2.7386127875258306,2.7386127875258306,0,1,1,-2.7386127875258306,0A2.7386127875258306,2.7386127875258306,0,1,1,2.7386127875258306,0\" fill=\"#eeca3b\" stroke-width=\"2\" opacity=\"1\"></path><path aria-label=\"Year: 2013; The average unemployment rate (% labour force): 8.52099990845; WHO_region: Other\" role=\"graphics-symbol\" aria-roledescription=\"point\" transform=\"translate(100,86.97500228881829)\" d=\"M2.7386127875258306,0A2.7386127875258306,2.7386127875258306,0,1,1,-2.7386127875258306,0A2.7386127875258306,2.7386127875258306,0,1,1,2.7386127875258306,0\" fill=\"#54a24b\" stroke-width=\"2\" opacity=\"1\"></path><path aria-label=\"Year: 2014; The average unemployment rate (% labour force): 9.45195446028; WHO_region: Eastern Mediterranean\" role=\"graphics-symbol\" aria-roledescription=\"point\" transform=\"translate(140,63.70113849301231)\" d=\"M2.7386127875258306,0A2.7386127875258306,2.7386127875258306,0,1,1,-2.7386127875258306,0A2.7386127875258306,2.7386127875258306,0,1,1,2.7386127875258306,0\" fill=\"#e45756\" stroke-width=\"2\" opacity=\"1\"></path><path aria-label=\"Year: 2014; The average unemployment rate (% labour force): 10.6072799683; WHO_region: European\" role=\"graphics-symbol\" aria-roledescription=\"point\" transform=\"translate(140,34.81800079345702)\" d=\"M2.7386127875258306,0A2.7386127875258306,2.7386127875258306,0,1,1,-2.7386127875258306,0A2.7386127875258306,2.7386127875258306,0,1,1,2.7386127875258306,0\" fill=\"#72b7b2\" stroke-width=\"2\" opacity=\"1\"></path><path aria-label=\"Year: 2014; The average unemployment rate (% labour force): 7.47932610434; WHO_region: African\" role=\"graphics-symbol\" aria-roledescription=\"point\" transform=\"translate(140,113.0168473914914)\" d=\"M2.7386127875258306,0A2.7386127875258306,2.7386127875258306,0,1,1,-2.7386127875258306,0A2.7386127875258306,2.7386127875258306,0,1,1,2.7386127875258306,0\" fill=\"#4c78a8\" stroke-width=\"2\" opacity=\"1\"></path><path aria-label=\"Year: 2014; The average unemployment rate (% labour force): 7.94142420364; WHO_region: Americas\" role=\"graphics-symbol\" aria-roledescription=\"point\" transform=\"translate(140,101.4643949089628)\" d=\"M2.7386127875258306,0A2.7386127875258306,2.7386127875258306,0,1,1,-2.7386127875258306,0A2.7386127875258306,2.7386127875258306,0,1,1,2.7386127875258306,0\" fill=\"#f58518\" stroke-width=\"2\" opacity=\"1\"></path><path aria-label=\"Year: 2014; The average unemployment rate (% labour force): 4.6838750119; WHO_region: Western Pacific\" role=\"graphics-symbol\" aria-roledescription=\"point\" transform=\"translate(140,182.90312470247346)\" d=\"M2.7386127875258306,0A2.7386127875258306,2.7386127875258306,0,1,1,-2.7386127875258306,0A2.7386127875258306,2.7386127875258306,0,1,1,2.7386127875258306,0\" fill=\"#b279a2\" stroke-width=\"2\" opacity=\"1\"></path><path aria-label=\"Year: 2014; The average unemployment rate (% labour force): 3.28118174726; WHO_region: South-East Asia\" role=\"graphics-symbol\" aria-roledescription=\"point\" transform=\"translate(140,217.9704563184218)\" d=\"M2.7386127875258306,0A2.7386127875258306,2.7386127875258306,0,1,1,-2.7386127875258306,0A2.7386127875258306,2.7386127875258306,0,1,1,2.7386127875258306,0\" fill=\"#eeca3b\" stroke-width=\"2\" opacity=\"1\"></path><path aria-label=\"Year: 2014; The average unemployment rate (% labour force): 8.29199981689; WHO_region: Other\" role=\"graphics-symbol\" aria-roledescription=\"point\" transform=\"translate(140,92.70000457763675)\" d=\"M2.7386127875258306,0A2.7386127875258306,2.7386127875258306,0,1,1,-2.7386127875258306,0A2.7386127875258306,2.7386127875258306,0,1,1,2.7386127875258306,0\" fill=\"#54a24b\" stroke-width=\"2\" opacity=\"1\"></path><path aria-label=\"Year: 2015; The average unemployment rate (% labour force): 9.62977277894; WHO_region: Eastern Mediterranean\" role=\"graphics-symbol\" aria-roledescription=\"point\" transform=\"translate(180,59.25568052652207)\" d=\"M2.7386127875258306,0A2.7386127875258306,2.7386127875258306,0,1,1,-2.7386127875258306,0A2.7386127875258306,2.7386127875258306,0,1,1,2.7386127875258306,0\" fill=\"#e45756\" stroke-width=\"2\" opacity=\"1\"></path><path aria-label=\"Year: 2015; The average unemployment rate (% labour force): 10.0271200418; WHO_region: European\" role=\"graphics-symbol\" aria-roledescription=\"point\" transform=\"translate(180,49.32199895381933)\" d=\"M2.7386127875258306,0A2.7386127875258306,2.7386127875258306,0,1,1,-2.7386127875258306,0A2.7386127875258306,2.7386127875258306,0,1,1,2.7386127875258306,0\" fill=\"#72b7b2\" stroke-width=\"2\" opacity=\"1\"></path><path aria-label=\"Year: 2015; The average unemployment rate (% labour force): 7.5457173871; WHO_region: African\" role=\"graphics-symbol\" aria-roledescription=\"point\" transform=\"translate(180,111.3570653226066)\" d=\"M2.7386127875258306,0A2.7386127875258306,2.7386127875258306,0,1,1,-2.7386127875258306,0A2.7386127875258306,2.7386127875258306,0,1,1,2.7386127875258306,0\" fill=\"#4c78a8\" stroke-width=\"2\" opacity=\"1\"></path><path aria-label=\"Year: 2015; The average unemployment rate (% labour force): 7.9023333535; WHO_region: Americas\" role=\"graphics-symbol\" aria-roledescription=\"point\" transform=\"translate(180,102.44166616237524)\" d=\"M2.7386127875258306,0A2.7386127875258306,2.7386127875258306,0,1,1,-2.7386127875258306,0A2.7386127875258306,2.7386127875258306,0,1,1,2.7386127875258306,0\" fill=\"#f58518\" stroke-width=\"2\" opacity=\"1\"></path><path aria-label=\"Year: 2015; The average unemployment rate (% labour force): 4.61866664638; WHO_region: Western Pacific\" role=\"graphics-symbol\" aria-roledescription=\"point\" transform=\"translate(180,184.53333384046948)\" d=\"M2.7386127875258306,0A2.7386127875258306,2.7386127875258306,0,1,1,-2.7386127875258306,0A2.7386127875258306,2.7386127875258306,0,1,1,2.7386127875258306,0\" fill=\"#b279a2\" stroke-width=\"2\" opacity=\"1\"></path><path aria-label=\"Year: 2015; The average unemployment rate (% labour force): 3.38799996268; WHO_region: South-East Asia\" role=\"graphics-symbol\" aria-roledescription=\"point\" transform=\"translate(180,215.30000093308362)\" d=\"M2.7386127875258306,0A2.7386127875258306,2.7386127875258306,0,1,1,-2.7386127875258306,0A2.7386127875258306,2.7386127875258306,0,1,1,2.7386127875258306,0\" fill=\"#eeca3b\" stroke-width=\"2\" opacity=\"1\"></path><path aria-label=\"Year: 2015; The average unemployment rate (% labour force): 8.08399963379; WHO_region: Other\" role=\"graphics-symbol\" aria-roledescription=\"point\" transform=\"translate(180,97.90000915527348)\" d=\"M2.7386127875258306,0A2.7386127875258306,2.7386127875258306,0,1,1,-2.7386127875258306,0A2.7386127875258306,2.7386127875258306,0,1,1,2.7386127875258306,0\" fill=\"#54a24b\" stroke-width=\"2\" opacity=\"1\"></path><path aria-label=\"Year: 2016; The average unemployment rate (% labour force): 9.76022715596; WHO_region: Eastern Mediterranean\" role=\"graphics-symbol\" aria-roledescription=\"point\" transform=\"translate(220,55.9943211010912)\" d=\"M2.7386127875258306,0A2.7386127875258306,2.7386127875258306,0,1,1,-2.7386127875258306,0A2.7386127875258306,2.7386127875258306,0,1,1,2.7386127875258306,0\" fill=\"#e45756\" stroke-width=\"2\" opacity=\"1\"></path><path aria-label=\"Year: 2016; The average unemployment rate (% labour force): 9.30342000961; WHO_region: European\" role=\"graphics-symbol\" aria-roledescription=\"point\" transform=\"translate(220,67.41449975967427)\" d=\"M2.7386127875258306,0A2.7386127875258306,2.7386127875258306,0,1,1,-2.7386127875258306,0A2.7386127875258306,2.7386127875258306,0,1,1,2.7386127875258306,0\" fill=\"#72b7b2\" stroke-width=\"2\" opacity=\"1\"></path><path aria-label=\"Year: 2016; The average unemployment rate (% labour force): 7.6023912663; WHO_region: African\" role=\"graphics-symbol\" aria-roledescription=\"point\" transform=\"translate(220,109.94021834238725)\" d=\"M2.7386127875258306,0A2.7386127875258306,2.7386127875258306,0,1,1,-2.7386127875258306,0A2.7386127875258306,2.7386127875258306,0,1,1,2.7386127875258306,0\" fill=\"#4c78a8\" stroke-width=\"2\" opacity=\"1\"></path><path aria-label=\"Year: 2016; The average unemployment rate (% labour force): 7.9343939839; WHO_region: Americas\" role=\"graphics-symbol\" aria-roledescription=\"point\" transform=\"translate(220,101.64015040253149)\" d=\"M2.7386127875258306,0A2.7386127875258306,2.7386127875258306,0,1,1,-2.7386127875258306,0A2.7386127875258306,2.7386127875258306,0,1,1,2.7386127875258306,0\" fill=\"#f58518\" stroke-width=\"2\" opacity=\"1\"></path><path aria-label=\"Year: 2016; The average unemployment rate (% labour force): 4.63137497008; WHO_region: Western Pacific\" role=\"graphics-symbol\" aria-roledescription=\"point\" transform=\"translate(220,184.21562574803832)\" d=\"M2.7386127875258306,0A2.7386127875258306,2.7386127875258306,0,1,1,-2.7386127875258306,0A2.7386127875258306,2.7386127875258306,0,1,1,2.7386127875258306,0\" fill=\"#b279a2\" stroke-width=\"2\" opacity=\"1\"></path><path aria-label=\"Year: 2016; The average unemployment rate (% labour force): 3.42909092795; WHO_region: South-East Asia\" role=\"graphics-symbol\" aria-roledescription=\"point\" transform=\"translate(220,214.27272680130872)\" d=\"M2.7386127875258306,0A2.7386127875258306,2.7386127875258306,0,1,1,-2.7386127875258306,0A2.7386127875258306,2.7386127875258306,0,1,1,2.7386127875258306,0\" fill=\"#eeca3b\" stroke-width=\"2\" opacity=\"1\"></path><path aria-label=\"Year: 2016; The average unemployment rate (% labour force): 7.85799980164; WHO_region: Other\" role=\"graphics-symbol\" aria-roledescription=\"point\" transform=\"translate(220,103.55000495910647)\" d=\"M2.7386127875258306,0A2.7386127875258306,2.7386127875258306,0,1,1,-2.7386127875258306,0A2.7386127875258306,2.7386127875258306,0,1,1,2.7386127875258306,0\" fill=\"#54a24b\" stroke-width=\"2\" opacity=\"1\"></path><path aria-label=\"Year: 2017; The average unemployment rate (% labour force): 9.84445464679; WHO_region: Eastern Mediterranean\" role=\"graphics-symbol\" aria-roledescription=\"point\" transform=\"translate(260,53.88863383030342)\" d=\"M2.7386127875258306,0A2.7386127875258306,2.7386127875258306,0,1,1,-2.7386127875258306,0A2.7386127875258306,2.7386127875258306,0,1,1,2.7386127875258306,0\" fill=\"#e45756\" stroke-width=\"2\" opacity=\"1\"></path><path aria-label=\"Year: 2017; The average unemployment rate (% labour force): 8.38726008892; WHO_region: European\" role=\"graphics-symbol\" aria-roledescription=\"point\" transform=\"translate(260,90.31849777698517)\" d=\"M2.7386127875258306,0A2.7386127875258306,2.7386127875258306,0,1,1,-2.7386127875258306,0A2.7386127875258306,2.7386127875258306,0,1,1,2.7386127875258306,0\" fill=\"#72b7b2\" stroke-width=\"2\" opacity=\"1\"></path><path aria-label=\"Year: 2017; The average unemployment rate (% labour force): 7.57623906498; WHO_region: African\" role=\"graphics-symbol\" aria-roledescription=\"point\" transform=\"translate(260,110.59402337540752)\" d=\"M2.7386127875258306,0A2.7386127875258306,2.7386127875258306,0,1,1,-2.7386127875258306,0A2.7386127875258306,2.7386127875258306,0,1,1,2.7386127875258306,0\" fill=\"#4c78a8\" stroke-width=\"2\" opacity=\"1\"></path><path aria-label=\"Year: 2017; The average unemployment rate (% labour force): 7.58042424375; WHO_region: Americas\" role=\"graphics-symbol\" aria-roledescription=\"point\" transform=\"translate(260,110.4893939061599)\" d=\"M2.7386127875258306,0A2.7386127875258306,2.7386127875258306,0,1,1,-2.7386127875258306,0A2.7386127875258306,2.7386127875258306,0,1,1,2.7386127875258306,0\" fill=\"#f58518\" stroke-width=\"2\" opacity=\"1\"></path><path aria-label=\"Year: 2017; The average unemployment rate (% labour force): 4.50224998345; WHO_region: Western Pacific\" role=\"graphics-symbol\" aria-roledescription=\"point\" transform=\"translate(260,187.44375041375557)\" d=\"M2.7386127875258306,0A2.7386127875258306,2.7386127875258306,0,1,1,-2.7386127875258306,0A2.7386127875258306,2.7386127875258306,0,1,1,2.7386127875258306,0\" fill=\"#b279a2\" stroke-width=\"2\" opacity=\"1\"></path><path aria-label=\"Year: 2017; The average unemployment rate (% labour force): 3.41972728751; WHO_region: South-East Asia\" role=\"graphics-symbol\" aria-roledescription=\"point\" transform=\"translate(260,214.50681781226936)\" d=\"M2.7386127875258306,0A2.7386127875258306,2.7386127875258306,0,1,1,-2.7386127875258306,0A2.7386127875258306,2.7386127875258306,0,1,1,2.7386127875258306,0\" fill=\"#eeca3b\" stroke-width=\"2\" opacity=\"1\"></path><path aria-label=\"Year: 2017; The average unemployment rate (% labour force): 7.62200021744; WHO_region: Other\" role=\"graphics-symbol\" aria-roledescription=\"point\" transform=\"translate(260,109.44999456405651)\" d=\"M2.7386127875258306,0A2.7386127875258306,2.7386127875258306,0,1,1,-2.7386127875258306,0A2.7386127875258306,2.7386127875258306,0,1,1,2.7386127875258306,0\" fill=\"#54a24b\" stroke-width=\"2\" opacity=\"1\"></path><path aria-label=\"Year: 2018; The average unemployment rate (% labour force): 9.80281820013; WHO_region: Eastern Mediterranean\" role=\"graphics-symbol\" aria-roledescription=\"point\" transform=\"translate(300,54.92954499680879)\" d=\"M2.7386127875258306,0A2.7386127875258306,2.7386127875258306,0,1,1,-2.7386127875258306,0A2.7386127875258306,2.7386127875258306,0,1,1,2.7386127875258306,0\" fill=\"#e45756\" stroke-width=\"2\" opacity=\"1\"></path><path aria-label=\"Year: 2018; The average unemployment rate (% labour force): 7.56019999504; WHO_region: European\" role=\"graphics-symbol\" aria-roledescription=\"point\" transform=\"translate(300,110.99500012397766)\" d=\"M2.7386127875258306,0A2.7386127875258306,2.7386127875258306,0,1,1,-2.7386127875258306,0A2.7386127875258306,2.7386127875258306,0,1,1,2.7386127875258306,0\" fill=\"#72b7b2\" stroke-width=\"2\" opacity=\"1\"></path><path aria-label=\"Year: 2018; The average unemployment rate (% labour force): 7.45113047893; WHO_region: African\" role=\"graphics-symbol\" aria-roledescription=\"point\" transform=\"translate(300,113.7217380268419)\" d=\"M2.7386127875258306,0A2.7386127875258306,2.7386127875258306,0,1,1,-2.7386127875258306,0A2.7386127875258306,2.7386127875258306,0,1,1,2.7386127875258306,0\" fill=\"#4c78a8\" stroke-width=\"2\" opacity=\"1\"></path><path aria-label=\"Year: 2018; The average unemployment rate (% labour force): 7.48542420792; WHO_region: Americas\" role=\"graphics-symbol\" aria-roledescription=\"point\" transform=\"translate(300,112.86439480203575)\" d=\"M2.7386127875258306,0A2.7386127875258306,2.7386127875258306,0,1,1,-2.7386127875258306,0A2.7386127875258306,2.7386127875258306,0,1,1,2.7386127875258306,0\" fill=\"#f58518\" stroke-width=\"2\" opacity=\"1\"></path><path aria-label=\"Year: 2018; The average unemployment rate (% labour force): 4.33829171707; WHO_region: Western Pacific\" role=\"graphics-symbol\" aria-roledescription=\"point\" transform=\"translate(300,191.54270707319182)\" d=\"M2.7386127875258306,0A2.7386127875258306,2.7386127875258306,0,1,1,-2.7386127875258306,0A2.7386127875258306,2.7386127875258306,0,1,1,2.7386127875258306,0\" fill=\"#b279a2\" stroke-width=\"2\" opacity=\"1\"></path><path aria-label=\"Year: 2018; The average unemployment rate (% labour force): 3.38136365739; WHO_region: South-East Asia\" role=\"graphics-symbol\" aria-roledescription=\"point\" transform=\"translate(300,215.4659085653045)\" d=\"M2.7386127875258306,0A2.7386127875258306,2.7386127875258306,0,1,1,-2.7386127875258306,0A2.7386127875258306,2.7386127875258306,0,1,1,2.7386127875258306,0\" fill=\"#eeca3b\" stroke-width=\"2\" opacity=\"1\"></path><path aria-label=\"Year: 2018; The average unemployment rate (% labour force): 7.40999984741; WHO_region: Other\" role=\"graphics-symbol\" aria-roledescription=\"point\" transform=\"translate(300,114.75000381469724)\" d=\"M2.7386127875258306,0A2.7386127875258306,2.7386127875258306,0,1,1,-2.7386127875258306,0A2.7386127875258306,2.7386127875258306,0,1,1,2.7386127875258306,0\" fill=\"#54a24b\" stroke-width=\"2\" opacity=\"1\"></path><path aria-label=\"Year: 2019; The average unemployment rate (% labour force): 9.75663633408; WHO_region: Eastern Mediterranean\" role=\"graphics-symbol\" aria-roledescription=\"point\" transform=\"translate(340,56.084091648120804)\" d=\"M2.7386127875258306,0A2.7386127875258306,2.7386127875258306,0,1,1,-2.7386127875258306,0A2.7386127875258306,2.7386127875258306,0,1,1,2.7386127875258306,0\" fill=\"#e45756\" stroke-width=\"2\" opacity=\"1\"></path><path aria-label=\"Year: 2019; The average unemployment rate (% labour force): 7.2684600091; WHO_region: European\" role=\"graphics-symbol\" aria-roledescription=\"point\" transform=\"translate(340,118.28849977254863)\" d=\"M2.7386127875258306,0A2.7386127875258306,2.7386127875258306,0,1,1,-2.7386127875258306,0A2.7386127875258306,2.7386127875258306,0,1,1,2.7386127875258306,0\" fill=\"#72b7b2\" stroke-width=\"2\" opacity=\"1\"></path><path aria-label=\"Year: 2019; The average unemployment rate (% labour force): 7.5013044159; WHO_region: African\" role=\"graphics-symbol\" aria-roledescription=\"point\" transform=\"translate(340,112.46738960237597)\" d=\"M2.7386127875258306,0A2.7386127875258306,2.7386127875258306,0,1,1,-2.7386127875258306,0A2.7386127875258306,2.7386127875258306,0,1,1,2.7386127875258306,0\" fill=\"#4c78a8\" stroke-width=\"2\" opacity=\"1\"></path><path aria-label=\"Year: 2019; The average unemployment rate (% labour force): 7.68736362457; WHO_region: Americas\" role=\"graphics-symbol\" aria-roledescription=\"point\" transform=\"translate(340,107.81590938568124)\" d=\"M2.7386127875258306,0A2.7386127875258306,2.7386127875258306,0,1,1,-2.7386127875258306,0A2.7386127875258306,2.7386127875258306,0,1,1,2.7386127875258306,0\" fill=\"#f58518\" stroke-width=\"2\" opacity=\"1\"></path><path aria-label=\"Year: 2019; The average unemployment rate (% labour force): 4.38304165502; WHO_region: Western Pacific\" role=\"graphics-symbol\" aria-roledescription=\"point\" transform=\"translate(340,190.42395862440262)\" d=\"M2.7386127875258306,0A2.7386127875258306,2.7386127875258306,0,1,1,-2.7386127875258306,0A2.7386127875258306,2.7386127875258306,0,1,1,2.7386127875258306,0\" fill=\"#b279a2\" stroke-width=\"2\" opacity=\"1\"></path><path aria-label=\"Year: 2019; The average unemployment rate (% labour force): 3.44872724468; WHO_region: South-East Asia\" role=\"graphics-symbol\" aria-roledescription=\"point\" transform=\"translate(340,213.7818188829856)\" d=\"M2.7386127875258306,0A2.7386127875258306,2.7386127875258306,0,1,1,-2.7386127875258306,0A2.7386127875258306,2.7386127875258306,0,1,1,2.7386127875258306,0\" fill=\"#eeca3b\" stroke-width=\"2\" opacity=\"1\"></path><path aria-label=\"Year: 2019; The average unemployment rate (% labour force): 7.48699998856; WHO_region: Other\" role=\"graphics-symbol\" aria-roledescription=\"point\" transform=\"translate(340,112.82500028610224)\" d=\"M2.7386127875258306,0A2.7386127875258306,2.7386127875258306,0,1,1,-2.7386127875258306,0A2.7386127875258306,2.7386127875258306,0,1,1,2.7386127875258306,0\" fill=\"#54a24b\" stroke-width=\"2\" opacity=\"1\"></path><path aria-label=\"Year: 2020; The average unemployment rate (% labour force): 9.73104532131; WHO_region: Eastern Mediterranean\" role=\"graphics-symbol\" aria-roledescription=\"point\" transform=\"translate(380,56.723866967315004)\" d=\"M2.7386127875258306,0A2.7386127875258306,2.7386127875258306,0,1,1,-2.7386127875258306,0A2.7386127875258306,2.7386127875258306,0,1,1,2.7386127875258306,0\" fill=\"#e45756\" stroke-width=\"2\" opacity=\"1\"></path><path aria-label=\"Year: 2020; The average unemployment rate (% labour force): 7.18039998293; WHO_region: European\" role=\"graphics-symbol\" aria-roledescription=\"point\" transform=\"translate(380,120.49000042676924)\" d=\"M2.7386127875258306,0A2.7386127875258306,2.7386127875258306,0,1,1,-2.7386127875258306,0A2.7386127875258306,2.7386127875258306,0,1,1,2.7386127875258306,0\" fill=\"#72b7b2\" stroke-width=\"2\" opacity=\"1\"></path><path aria-label=\"Year: 2020; The average unemployment rate (% labour force): 7.52917390284; WHO_region: African\" role=\"graphics-symbol\" aria-roledescription=\"point\" transform=\"translate(380,111.7706524289173)\" d=\"M2.7386127875258306,0A2.7386127875258306,2.7386127875258306,0,1,1,-2.7386127875258306,0A2.7386127875258306,2.7386127875258306,0,1,1,2.7386127875258306,0\" fill=\"#4c78a8\" stroke-width=\"2\" opacity=\"1\"></path><path aria-label=\"Year: 2020; The average unemployment rate (% labour force): 7.82139395584; WHO_region: Americas\" role=\"graphics-symbol\" aria-roledescription=\"point\" transform=\"translate(380,104.46515110406001)\" d=\"M2.7386127875258306,0A2.7386127875258306,2.7386127875258306,0,1,1,-2.7386127875258306,0A2.7386127875258306,2.7386127875258306,0,1,1,2.7386127875258306,0\" fill=\"#f58518\" stroke-width=\"2\" opacity=\"1\"></path><path aria-label=\"Year: 2020; The average unemployment rate (% labour force): 4.46116665751; WHO_region: Western Pacific\" role=\"graphics-symbol\" aria-roledescription=\"point\" transform=\"translate(380,188.47083356231445)\" d=\"M2.7386127875258306,0A2.7386127875258306,2.7386127875258306,0,1,1,-2.7386127875258306,0A2.7386127875258306,2.7386127875258306,0,1,1,2.7386127875258306,0\" fill=\"#b279a2\" stroke-width=\"2\" opacity=\"1\"></path><path aria-label=\"Year: 2020; The average unemployment rate (% labour force): 3.52127275684; WHO_region: South-East Asia\" role=\"graphics-symbol\" aria-roledescription=\"point\" transform=\"translate(380,211.96818107908427)\" d=\"M2.7386127875258306,0A2.7386127875258306,2.7386127875258306,0,1,1,-2.7386127875258306,0A2.7386127875258306,2.7386127875258306,0,1,1,2.7386127875258306,0\" fill=\"#eeca3b\" stroke-width=\"2\" opacity=\"1\"></path><path aria-label=\"Year: 2020; The average unemployment rate (% labour force): 7.53499984741; WHO_region: Other\" role=\"graphics-symbol\" aria-roledescription=\"point\" transform=\"translate(380,111.62500381469725)\" d=\"M2.7386127875258306,0A2.7386127875258306,2.7386127875258306,0,1,1,-2.7386127875258306,0A2.7386127875258306,2.7386127875258306,0,1,1,2.7386127875258306,0\" fill=\"#54a24b\" stroke-width=\"2\" opacity=\"1\"></path></g><g class=\"mark-group role-legend\" role=\"graphics-symbol\" aria-roledescription=\"legend\" aria-label=\"Symbol legend titled 'WHO_region' for fill color and stroke color with 7 values: African, Americas, Eastern Mediterranean, European, Other, South-East Asia, Western Pacific\"><g transform=\"translate(418,0)\"><path class=\"background\" aria-hidden=\"true\" d=\"M0,0h122v125h-122Z\" pointer-events=\"none\"></path><g><g class=\"mark-group role-legend-entry\"><g transform=\"translate(0,16)\"><path class=\"background\" aria-hidden=\"true\" d=\"M0,0h0v0h0Z\" pointer-events=\"none\"></path><g><g class=\"mark-group role-scope\" role=\"graphics-object\" aria-roledescription=\"group mark container\"><g transform=\"translate(0,0)\"><path class=\"background\" aria-hidden=\"true\" d=\"M0,0h122v12.5h-122Z\" pointer-events=\"none\" opacity=\"1\"></path><g><g class=\"mark-symbol role-legend-symbol\" pointer-events=\"none\"><path transform=\"translate(6,6)\" d=\"M5,0A5,5,0,1,1,-5,0A5,5,0,1,1,5,0\" fill=\"#4c78a8\" stroke=\"#4c78a8\" stroke-width=\"1.5\" opacity=\"1\"></path></g><g class=\"mark-text role-legend-label\" pointer-events=\"none\"><text text-anchor=\"start\" transform=\"translate(16,9)\" font-family=\"sans-serif\" font-size=\"10px\" fill=\"#000\" opacity=\"1\">African</text></g></g><path class=\"foreground\" aria-hidden=\"true\" d=\"\" pointer-events=\"none\" display=\"none\"></path></g><g transform=\"translate(0,16)\"><path class=\"background\" aria-hidden=\"true\" d=\"M0,0h122v12.5h-122Z\" pointer-events=\"none\" opacity=\"1\"></path><g><g class=\"mark-symbol role-legend-symbol\" pointer-events=\"none\"><path transform=\"translate(6,6)\" d=\"M5,0A5,5,0,1,1,-5,0A5,5,0,1,1,5,0\" fill=\"#f58518\" stroke=\"#f58518\" stroke-width=\"1.5\" opacity=\"1\"></path></g><g class=\"mark-text role-legend-label\" pointer-events=\"none\"><text text-anchor=\"start\" transform=\"translate(16,9)\" font-family=\"sans-serif\" font-size=\"10px\" fill=\"#000\" opacity=\"1\">Americas</text></g></g><path class=\"foreground\" aria-hidden=\"true\" d=\"\" pointer-events=\"none\" display=\"none\"></path></g><g transform=\"translate(0,32)\"><path class=\"background\" aria-hidden=\"true\" d=\"M0,0h122v12.5h-122Z\" pointer-events=\"none\" opacity=\"1\"></path><g><g class=\"mark-symbol role-legend-symbol\" pointer-events=\"none\"><path transform=\"translate(6,6)\" d=\"M5,0A5,5,0,1,1,-5,0A5,5,0,1,1,5,0\" fill=\"#e45756\" stroke=\"#e45756\" stroke-width=\"1.5\" opacity=\"1\"></path></g><g class=\"mark-text role-legend-label\" pointer-events=\"none\"><text text-anchor=\"start\" transform=\"translate(16,9)\" font-family=\"sans-serif\" font-size=\"10px\" fill=\"#000\" opacity=\"1\">Eastern Mediterranean</text></g></g><path class=\"foreground\" aria-hidden=\"true\" d=\"\" pointer-events=\"none\" display=\"none\"></path></g><g transform=\"translate(0,48)\"><path class=\"background\" aria-hidden=\"true\" d=\"M0,0h122v12.5h-122Z\" pointer-events=\"none\" opacity=\"1\"></path><g><g class=\"mark-symbol role-legend-symbol\" pointer-events=\"none\"><path transform=\"translate(6,6)\" d=\"M5,0A5,5,0,1,1,-5,0A5,5,0,1,1,5,0\" fill=\"#72b7b2\" stroke=\"#72b7b2\" stroke-width=\"1.5\" opacity=\"1\"></path></g><g class=\"mark-text role-legend-label\" pointer-events=\"none\"><text text-anchor=\"start\" transform=\"translate(16,9)\" font-family=\"sans-serif\" font-size=\"10px\" fill=\"#000\" opacity=\"1\">European</text></g></g><path class=\"foreground\" aria-hidden=\"true\" d=\"\" pointer-events=\"none\" display=\"none\"></path></g><g transform=\"translate(0,64)\"><path class=\"background\" aria-hidden=\"true\" d=\"M0,0h122v12.5h-122Z\" pointer-events=\"none\" opacity=\"1\"></path><g><g class=\"mark-symbol role-legend-symbol\" pointer-events=\"none\"><path transform=\"translate(6,6)\" d=\"M5,0A5,5,0,1,1,-5,0A5,5,0,1,1,5,0\" fill=\"#54a24b\" stroke=\"#54a24b\" stroke-width=\"1.5\" opacity=\"1\"></path></g><g class=\"mark-text role-legend-label\" pointer-events=\"none\"><text text-anchor=\"start\" transform=\"translate(16,9)\" font-family=\"sans-serif\" font-size=\"10px\" fill=\"#000\" opacity=\"1\">Other</text></g></g><path class=\"foreground\" aria-hidden=\"true\" d=\"\" pointer-events=\"none\" display=\"none\"></path></g><g transform=\"translate(0,80)\"><path class=\"background\" aria-hidden=\"true\" d=\"M0,0h122v12.5h-122Z\" pointer-events=\"none\" opacity=\"1\"></path><g><g class=\"mark-symbol role-legend-symbol\" pointer-events=\"none\"><path transform=\"translate(6,6)\" d=\"M5,0A5,5,0,1,1,-5,0A5,5,0,1,1,5,0\" fill=\"#eeca3b\" stroke=\"#eeca3b\" stroke-width=\"1.5\" opacity=\"1\"></path></g><g class=\"mark-text role-legend-label\" pointer-events=\"none\"><text text-anchor=\"start\" transform=\"translate(16,9)\" font-family=\"sans-serif\" font-size=\"10px\" fill=\"#000\" opacity=\"1\">South-East Asia</text></g></g><path class=\"foreground\" aria-hidden=\"true\" d=\"\" pointer-events=\"none\" display=\"none\"></path></g><g transform=\"translate(0,96)\"><path class=\"background\" aria-hidden=\"true\" d=\"M0,0h122v12.5h-122Z\" pointer-events=\"none\" opacity=\"1\"></path><g><g class=\"mark-symbol role-legend-symbol\" pointer-events=\"none\"><path transform=\"translate(6,6)\" d=\"M5,0A5,5,0,1,1,-5,0A5,5,0,1,1,5,0\" fill=\"#b279a2\" stroke=\"#b279a2\" stroke-width=\"1.5\" opacity=\"1\"></path></g><g class=\"mark-text role-legend-label\" pointer-events=\"none\"><text text-anchor=\"start\" transform=\"translate(16,9)\" font-family=\"sans-serif\" font-size=\"10px\" fill=\"#000\" opacity=\"1\">Western Pacific</text></g></g><path class=\"foreground\" aria-hidden=\"true\" d=\"\" pointer-events=\"none\" display=\"none\"></path></g></g></g><path class=\"foreground\" aria-hidden=\"true\" d=\"\" pointer-events=\"none\" display=\"none\"></path></g></g><g class=\"mark-text role-legend-title\" pointer-events=\"none\"><text text-anchor=\"start\" transform=\"translate(0,9)\" font-family=\"sans-serif\" font-size=\"11px\" font-weight=\"bold\" fill=\"#000\" opacity=\"1\">WHO_region</text></g></g><path class=\"foreground\" aria-hidden=\"true\" d=\"\" pointer-events=\"none\" display=\"none\"></path></g></g><g class=\"mark-group role-title\"><g transform=\"translate(200,-22)\"><path class=\"background\" aria-hidden=\"true\" d=\"M0,0h0v0h0Z\" pointer-events=\"none\"></path><g><g class=\"mark-text role-title-text\" role=\"graphics-symbol\" aria-roledescription=\"title\" aria-label=\"Title text 'Unemployment Rate in WHO Regions Change by Years'\" pointer-events=\"none\"><text text-anchor=\"middle\" transform=\"translate(0,10)\" font-family=\"sans-serif\" font-size=\"13px\" font-weight=\"bold\" fill=\"#000\" opacity=\"1\">Unemployment Rate in WHO Regions Change by Years</text></g></g><path class=\"foreground\" aria-hidden=\"true\" d=\"\" pointer-events=\"none\" display=\"none\"></path></g></g></g><path class=\"foreground\" aria-hidden=\"true\" d=\"\" display=\"none\"></path></g></g></g></svg>\n"
      ],
      "text/plain": [
       "@vlplot(\n",
       "    transform=[\n",
       "        {\n",
       "            aggregate=[\n",
       "                {\n",
       "                    op=\"mean\",\n",
       "                    field=\"value\",\n",
       "                    as=\"mean_value\"\n",
       "                }\n",
       "            ],\n",
       "            groupby=[\n",
       "                \"WHO_region\",\n",
       "                \"Date\"\n",
       "            ]\n",
       "        }\n",
       "    ],\n",
       "    mark={\n",
       "        point=true,\n",
       "        type=\"line\"\n",
       "    },\n",
       "    title=\"Unemployment Rate in WHO Regions Change by Years\",\n",
       "    width=400,\n",
       "    height=300,\n",
       "    encoding={\n",
       "        x={\n",
       "            axis={\n",
       "                title=\"Year\"\n",
       "            },\n",
       "            field=\"Date\",\n",
       "            type=\"ordinal\"\n",
       "        },\n",
       "        y={\n",
       "            axis={\n",
       "                title=\"The average unemployment rate (% labour force)\"\n",
       "            },\n",
       "            field=\"mean_value\",\n",
       "            type=\"quantitative\"\n",
       "        },\n",
       "        color={\n",
       "            field=\"WHO_region\"\n",
       "        }\n",
       "    },\n",
       "    data={\n",
       "        values=...\n",
       "    }\n",
       ")"
      ]
     },
     "execution_count": 31,
     "metadata": {},
     "output_type": "execute_result"
    }
   ],
   "source": [
    "# plot unemployment rate in different WHO region in each year\n",
    "unemployment_long |>\n",
    "    @vlplot(transform=[{aggregate=[{op=:mean, field=:value, as=:mean_value}], groupby=[:WHO_region, :Date]}],\n",
    "            mark={:line, point=true},\n",
    "            x={\"Date:o\", axis={title=\"Year\"}},\n",
    "            y={\"mean_value:q\", axis={title=\"The average unemployment rate (% labour force)\"}},\n",
    "            title=\"Unemployment Rate in WHO Regions Change by Years\",\n",
    "            color=:WHO_region,            \n",
    "            width=400,\n",
    "            height=300\n",
    "            )"
   ]
  },
  {
   "cell_type": "markdown",
   "metadata": {},
   "source": [
    "European region used to have the highest unemployment rate before 2015, it was keep droping since 2013, the dropping slowed down since 2018, and keep drop in year 2020. Eastern Mediterranean took over the highest unemployment rate from early 2015, but it has a slightly decreasing slope since 2017 till now. South-East Asia has a comparatively constant low unemployment rate, and it seems increasing till now, which is the same as the other 4 regions hasn't been mentioned."
   ]
  },
  {
   "cell_type": "code",
   "execution_count": 32,
   "metadata": {},
   "outputs": [
    {
     "data": {
      "text/plain": [
       "187-element Array{Float64,1}:\n",
       "  0.04599952697749998\n",
       "  0.48199939727780006\n",
       " -0.17900085449219993\n",
       " -0.11199998855590998\n",
       "  0.6470003128051793\n",
       " -0.3649997711181996\n",
       "  0.05999994277954013\n",
       "  0.10500001907349077\n",
       "  0.45100021362303977\n",
       "  0.9100008010865004\n",
       "  0.049000024795532005\n",
       " -0.03900003433227983\n",
       "  0.6069993972778001\n",
       "  ⋮\n",
       "  0.26399970054625976\n",
       "  0.18000006675719993\n",
       "  0.04600048065185014\n",
       "  0.16499996185303\n",
       "  0.02299976348876953\n",
       "  0.5799999237060494\n",
       "  0.009000062942509768\n",
       "  0.0970001220703196\n",
       " -0.07100105285650216\n",
       " -0.07999992370599962\n",
       " -0.013000488281299738\n",
       "  0.03700017929076971"
      ]
     },
     "execution_count": 32,
     "metadata": {},
     "output_type": "execute_result"
    }
   ],
   "source": [
    "# create a new column to calculate the unemployment rate change from year 2019 to 2020\n",
    "unemployment_df.\"19-20Diff\" = unemployment_df.\"2020\" - unemployment_df.\"2019\""
   ]
  },
  {
   "cell_type": "code",
   "execution_count": 33,
   "metadata": {},
   "outputs": [
    {
     "data": {
      "text/html": [
       "<table class=\"data-frame\"><thead><tr><th></th><th>variable</th><th>mean</th><th>min</th><th>median</th><th>max</th></tr><tr><th></th><th>Symbol</th><th>Union…</th><th>Any</th><th>Union…</th><th>Any</th></tr></thead><tbody><p>14 rows × 8 columns (omitted printing of 3 columns)</p><tr><th>1</th><td>Country</td><td></td><td>Afghanistan</td><td></td><td>occupied Palestinian territory, including east Jerusalem</td></tr><tr><th>2</th><td>ISO</td><td></td><td>AFG</td><td></td><td>ZWE</td></tr><tr><th>3</th><td>2011</td><td>8.16418</td><td>0.317</td><td>6.694</td><td>31.377</td></tr><tr><th>4</th><td>2012</td><td>8.1815</td><td>0.384</td><td>6.722</td><td>31.016</td></tr><tr><th>5</th><td>2013</td><td>8.22105</td><td>0.28</td><td>6.452</td><td>28.996</td></tr><tr><th>6</th><td>2014</td><td>8.02792</td><td>0.2</td><td>6.396</td><td>28.03</td></tr><tr><th>7</th><td>2015</td><td>7.89995</td><td>0.17</td><td>6.357</td><td>27.694</td></tr><tr><th>8</th><td>2016</td><td>7.74424</td><td>0.15</td><td>6.161</td><td>26.551</td></tr><tr><th>9</th><td>2017</td><td>7.4219</td><td>0.14</td><td>5.743</td><td>27.071</td></tr><tr><th>10</th><td>2018</td><td>7.12389</td><td>0.11</td><td>5.366</td><td>26.92</td></tr><tr><th>11</th><td>2019</td><td>7.09855</td><td>0.091</td><td>5.386</td><td>28.181</td></tr><tr><th>12</th><td>2020</td><td>7.11705</td><td>0.082</td><td>5.379</td><td>28.477</td></tr><tr><th>13</th><td>WHO_region</td><td></td><td>African</td><td></td><td>Western Pacific</td></tr><tr><th>14</th><td>19-20Diff</td><td>0.0185026</td><td>-1.764</td><td>0.0239999</td><td>0.910001</td></tr></tbody></table>"
      ],
      "text/latex": [
       "\\begin{tabular}{r|cccccc}\n",
       "\t& variable & mean & min & median & max & \\\\\n",
       "\t\\hline\n",
       "\t& Symbol & Union… & Any & Union… & Any & \\\\\n",
       "\t\\hline\n",
       "\t1 & Country &  & Afghanistan &  & occupied Palestinian territory, including east Jerusalem & $\\dots$ \\\\\n",
       "\t2 & ISO &  & AFG &  & ZWE & $\\dots$ \\\\\n",
       "\t3 & 2011 & 8.16418 & 0.317 & 6.694 & 31.377 & $\\dots$ \\\\\n",
       "\t4 & 2012 & 8.1815 & 0.384 & 6.722 & 31.016 & $\\dots$ \\\\\n",
       "\t5 & 2013 & 8.22105 & 0.28 & 6.452 & 28.996 & $\\dots$ \\\\\n",
       "\t6 & 2014 & 8.02792 & 0.2 & 6.396 & 28.03 & $\\dots$ \\\\\n",
       "\t7 & 2015 & 7.89995 & 0.17 & 6.357 & 27.694 & $\\dots$ \\\\\n",
       "\t8 & 2016 & 7.74424 & 0.15 & 6.161 & 26.551 & $\\dots$ \\\\\n",
       "\t9 & 2017 & 7.4219 & 0.14 & 5.743 & 27.071 & $\\dots$ \\\\\n",
       "\t10 & 2018 & 7.12389 & 0.11 & 5.366 & 26.92 & $\\dots$ \\\\\n",
       "\t11 & 2019 & 7.09855 & 0.091 & 5.386 & 28.181 & $\\dots$ \\\\\n",
       "\t12 & 2020 & 7.11705 & 0.082 & 5.379 & 28.477 & $\\dots$ \\\\\n",
       "\t13 & WHO\\_region &  & African &  & Western Pacific & $\\dots$ \\\\\n",
       "\t14 & 19-20Diff & 0.0185026 & -1.764 & 0.0239999 & 0.910001 & $\\dots$ \\\\\n",
       "\\end{tabular}\n"
      ],
      "text/plain": [
       "14×8 DataFrame. Omitted printing of 4 columns\n",
       "│ Row │ variable   │ mean      │ min         │ median    │\n",
       "│     │ \u001b[90mSymbol\u001b[39m     │ \u001b[90mUnion…\u001b[39m    │ \u001b[90mAny\u001b[39m         │ \u001b[90mUnion…\u001b[39m    │\n",
       "├─────┼────────────┼───────────┼─────────────┼───────────┤\n",
       "│ 1   │ Country    │           │ Afghanistan │           │\n",
       "│ 2   │ ISO        │           │ AFG         │           │\n",
       "│ 3   │ 2011       │ 8.16418   │ 0.317       │ 6.694     │\n",
       "│ 4   │ 2012       │ 8.1815    │ 0.384       │ 6.722     │\n",
       "│ 5   │ 2013       │ 8.22105   │ 0.28        │ 6.452     │\n",
       "│ 6   │ 2014       │ 8.02792   │ 0.2         │ 6.396     │\n",
       "│ 7   │ 2015       │ 7.89995   │ 0.17        │ 6.357     │\n",
       "│ 8   │ 2016       │ 7.74424   │ 0.15        │ 6.161     │\n",
       "│ 9   │ 2017       │ 7.4219    │ 0.14        │ 5.743     │\n",
       "│ 10  │ 2018       │ 7.12389   │ 0.11        │ 5.366     │\n",
       "│ 11  │ 2019       │ 7.09855   │ 0.091       │ 5.386     │\n",
       "│ 12  │ 2020       │ 7.11705   │ 0.082       │ 5.379     │\n",
       "│ 13  │ WHO_region │           │ African     │           │\n",
       "│ 14  │ 19-20Diff  │ 0.0185026 │ -1.764      │ 0.0239999 │"
      ]
     },
     "execution_count": 33,
     "metadata": {},
     "output_type": "execute_result"
    }
   ],
   "source": [
    "# overview the dataframe\n",
    "describe(unemployment_df)"
   ]
  },
  {
   "cell_type": "code",
   "execution_count": 34,
   "metadata": {},
   "outputs": [
    {
     "data": {
      "text/html": [
       "<table class=\"data-frame\"><thead><tr><th></th><th>Country</th><th>ISO</th><th>WHO_region</th><th>2011</th><th>2012</th></tr><tr><th></th><th>String</th><th>String</th><th>String?</th><th>Float64?</th><th>Float64?</th></tr></thead><tbody><p>187 rows × 14 columns (omitted printing of 9 columns)</p><tr><th>1</th><td>Afghanistan</td><td>AFG</td><td>Eastern Mediterranean</td><td>11.488</td><td>11.508</td></tr><tr><th>2</th><td>Albania</td><td>ALB</td><td>European</td><td>13.481</td><td>13.376</td></tr><tr><th>3</th><td>Algeria</td><td>DZA</td><td>African</td><td>9.96</td><td>10.97</td></tr><tr><th>4</th><td>Angola</td><td>AGO</td><td>African</td><td>7.362</td><td>7.379</td></tr><tr><th>5</th><td>Argentina</td><td>ARG</td><td>Americas</td><td>7.18</td><td>7.217</td></tr><tr><th>6</th><td>Armenia</td><td>ARM</td><td>European</td><td>18.443</td><td>17.301</td></tr><tr><th>7</th><td>Australia</td><td>AUS</td><td>Western Pacific</td><td>5.081</td><td>5.224</td></tr><tr><th>8</th><td>Austria</td><td>AUT</td><td>European</td><td>4.564</td><td>4.865</td></tr><tr><th>9</th><td>Azerbaijan</td><td>AZE</td><td>European</td><td>5.42</td><td>5.19</td></tr><tr><th>10</th><td>Bahamas</td><td>BHS</td><td>Americas</td><td>14.52</td><td>14.02</td></tr><tr><th>11</th><td>Bahrain</td><td>BHR</td><td>Eastern Mediterranean</td><td>1.274</td><td>1.2</td></tr><tr><th>12</th><td>Bangladesh</td><td>BGD</td><td>South-East Asia</td><td>3.705</td><td>4.055</td></tr><tr><th>13</th><td>Barbados</td><td>BRB</td><td>Americas</td><td>11.19</td><td>11.59</td></tr><tr><th>14</th><td>Belarus</td><td>BLR</td><td>European</td><td>6.098</td><td>6.078</td></tr><tr><th>15</th><td>Belgium</td><td>BEL</td><td>European</td><td>7.14</td><td>7.542</td></tr><tr><th>16</th><td>Belize</td><td>BLZ</td><td>Americas</td><td>8.426</td><td>8.385</td></tr><tr><th>17</th><td>Benin</td><td>BEN</td><td>African</td><td>2.646</td><td>2.66</td></tr><tr><th>18</th><td>Bhutan</td><td>BTN</td><td>South-East Asia</td><td>3.23</td><td>2.05</td></tr><tr><th>19</th><td>Bolivia (Plurinational State of)</td><td>BOL</td><td>Americas</td><td>2.219</td><td>2.048</td></tr><tr><th>20</th><td>Bosnia and Herzegovina</td><td>BIH</td><td>European</td><td>27.582</td><td>28.01</td></tr><tr><th>21</th><td>Botswana</td><td>BWA</td><td>African</td><td>17.865</td><td>17.889</td></tr><tr><th>22</th><td>Brazil</td><td>BRA</td><td>Americas</td><td>6.917</td><td>7.186</td></tr><tr><th>23</th><td>Brunei Darussalam</td><td>BRN</td><td>Western Pacific</td><td>6.694</td><td>6.905</td></tr><tr><th>24</th><td>Bulgaria</td><td>BGR</td><td>European</td><td>11.26</td><td>12.27</td></tr><tr><th>25</th><td>Burkina Faso</td><td>BFA</td><td>African</td><td>5.143</td><td>5.601</td></tr><tr><th>26</th><td>Burundi</td><td>BDI</td><td>African</td><td>1.715</td><td>1.678</td></tr><tr><th>27</th><td>Cabo Verde</td><td>CPV</td><td>African</td><td>10.935</td><td>11.218</td></tr><tr><th>28</th><td>Cambodia</td><td>KHM</td><td>Western Pacific</td><td>0.577</td><td>0.505</td></tr><tr><th>29</th><td>Cameroon</td><td>CMR</td><td>African</td><td>3.969</td><td>3.837</td></tr><tr><th>30</th><td>Canada</td><td>CAN</td><td>Americas</td><td>7.511</td><td>7.292</td></tr><tr><th>&vellip;</th><td>&vellip;</td><td>&vellip;</td><td>&vellip;</td><td>&vellip;</td><td>&vellip;</td></tr></tbody></table>"
      ],
      "text/latex": [
       "\\begin{tabular}{r|cccccc}\n",
       "\t& Country & ISO & WHO\\_region & 2011 & 2012 & \\\\\n",
       "\t\\hline\n",
       "\t& String & String & String? & Float64? & Float64? & \\\\\n",
       "\t\\hline\n",
       "\t1 & Afghanistan & AFG & Eastern Mediterranean & 11.488 & 11.508 & $\\dots$ \\\\\n",
       "\t2 & Albania & ALB & European & 13.481 & 13.376 & $\\dots$ \\\\\n",
       "\t3 & Algeria & DZA & African & 9.96 & 10.97 & $\\dots$ \\\\\n",
       "\t4 & Angola & AGO & African & 7.362 & 7.379 & $\\dots$ \\\\\n",
       "\t5 & Argentina & ARG & Americas & 7.18 & 7.217 & $\\dots$ \\\\\n",
       "\t6 & Armenia & ARM & European & 18.443 & 17.301 & $\\dots$ \\\\\n",
       "\t7 & Australia & AUS & Western Pacific & 5.081 & 5.224 & $\\dots$ \\\\\n",
       "\t8 & Austria & AUT & European & 4.564 & 4.865 & $\\dots$ \\\\\n",
       "\t9 & Azerbaijan & AZE & European & 5.42 & 5.19 & $\\dots$ \\\\\n",
       "\t10 & Bahamas & BHS & Americas & 14.52 & 14.02 & $\\dots$ \\\\\n",
       "\t11 & Bahrain & BHR & Eastern Mediterranean & 1.274 & 1.2 & $\\dots$ \\\\\n",
       "\t12 & Bangladesh & BGD & South-East Asia & 3.705 & 4.055 & $\\dots$ \\\\\n",
       "\t13 & Barbados & BRB & Americas & 11.19 & 11.59 & $\\dots$ \\\\\n",
       "\t14 & Belarus & BLR & European & 6.098 & 6.078 & $\\dots$ \\\\\n",
       "\t15 & Belgium & BEL & European & 7.14 & 7.542 & $\\dots$ \\\\\n",
       "\t16 & Belize & BLZ & Americas & 8.426 & 8.385 & $\\dots$ \\\\\n",
       "\t17 & Benin & BEN & African & 2.646 & 2.66 & $\\dots$ \\\\\n",
       "\t18 & Bhutan & BTN & South-East Asia & 3.23 & 2.05 & $\\dots$ \\\\\n",
       "\t19 & Bolivia (Plurinational State of) & BOL & Americas & 2.219 & 2.048 & $\\dots$ \\\\\n",
       "\t20 & Bosnia and Herzegovina & BIH & European & 27.582 & 28.01 & $\\dots$ \\\\\n",
       "\t21 & Botswana & BWA & African & 17.865 & 17.889 & $\\dots$ \\\\\n",
       "\t22 & Brazil & BRA & Americas & 6.917 & 7.186 & $\\dots$ \\\\\n",
       "\t23 & Brunei Darussalam & BRN & Western Pacific & 6.694 & 6.905 & $\\dots$ \\\\\n",
       "\t24 & Bulgaria & BGR & European & 11.26 & 12.27 & $\\dots$ \\\\\n",
       "\t25 & Burkina Faso & BFA & African & 5.143 & 5.601 & $\\dots$ \\\\\n",
       "\t26 & Burundi & BDI & African & 1.715 & 1.678 & $\\dots$ \\\\\n",
       "\t27 & Cabo Verde & CPV & African & 10.935 & 11.218 & $\\dots$ \\\\\n",
       "\t28 & Cambodia & KHM & Western Pacific & 0.577 & 0.505 & $\\dots$ \\\\\n",
       "\t29 & Cameroon & CMR & African & 3.969 & 3.837 & $\\dots$ \\\\\n",
       "\t30 & Canada & CAN & Americas & 7.511 & 7.292 & $\\dots$ \\\\\n",
       "\t$\\dots$ & $\\dots$ & $\\dots$ & $\\dots$ & $\\dots$ & $\\dots$ &  \\\\\n",
       "\\end{tabular}\n"
      ],
      "text/plain": [
       "187×14 DataFrame. Omitted printing of 12 columns\n",
       "│ Row │ Country                                                  │ ISO    │\n",
       "│     │ \u001b[90mString\u001b[39m                                                   │ \u001b[90mString\u001b[39m │\n",
       "├─────┼──────────────────────────────────────────────────────────┼────────┤\n",
       "│ 1   │ Afghanistan                                              │ AFG    │\n",
       "│ 2   │ Albania                                                  │ ALB    │\n",
       "│ 3   │ Algeria                                                  │ DZA    │\n",
       "│ 4   │ Angola                                                   │ AGO    │\n",
       "│ 5   │ Argentina                                                │ ARG    │\n",
       "│ 6   │ Armenia                                                  │ ARM    │\n",
       "│ 7   │ Australia                                                │ AUS    │\n",
       "│ 8   │ Austria                                                  │ AUT    │\n",
       "│ 9   │ Azerbaijan                                               │ AZE    │\n",
       "│ 10  │ Bahamas                                                  │ BHS    │\n",
       "⋮\n",
       "│ 177 │ United States of America                                 │ USA    │\n",
       "│ 178 │ Uruguay                                                  │ URY    │\n",
       "│ 179 │ Uzbekistan                                               │ UZB    │\n",
       "│ 180 │ Vanuatu                                                  │ VUT    │\n",
       "│ 181 │ Venezuela (Bolivarian Republic of)                       │ VEN    │\n",
       "│ 182 │ Viet Nam                                                 │ VNM    │\n",
       "│ 183 │ United States Virgin Islands                             │ VIR    │\n",
       "│ 184 │ occupied Palestinian territory, including east Jerusalem │ PSE    │\n",
       "│ 185 │ Yemen                                                    │ YEM    │\n",
       "│ 186 │ Zambia                                                   │ ZMB    │\n",
       "│ 187 │ Zimbabwe                                                 │ ZWE    │"
      ]
     },
     "execution_count": 34,
     "metadata": {},
     "output_type": "execute_result"
    }
   ],
   "source": [
    "# rearrange the columns order\n",
    "unemployment_df = unemployment_df[[1, 2, 13, 3, 4, 5, 6, 7, 8, 9, 10, 11, 12, 14]]"
   ]
  },
  {
   "cell_type": "code",
   "execution_count": 35,
   "metadata": {},
   "outputs": [
    {
     "data": {
      "text/plain": [
       "187-element Array{Float64,1}:\n",
       " 11.1639995574951\n",
       " 12.8129997253418\n",
       " 11.5249996185303\n",
       "  6.77400016784668\n",
       " 10.4359998703003\n",
       " 16.625\n",
       "  5.32800006866455\n",
       "  4.77899980545044\n",
       "  5.96000003814697\n",
       " 11.2700004577637\n",
       "  0.763000011444092\n",
       "  4.15100002288818\n",
       " 10.9379997253418\n",
       "  ⋮\n",
       "  4.11499977111816\n",
       "  3.86199998855591\n",
       "  8.77700042724609\n",
       "  6.08199977874756\n",
       "  4.40799999237061\n",
       "  9.38099956512451\n",
       "  2.0220000743866\n",
       "  8.75899982452393\n",
       " 26.0979995727539\n",
       " 12.8299999237061\n",
       " 11.4119997024536\n",
       "  4.99100017547607"
      ]
     },
     "execution_count": 35,
     "metadata": {},
     "output_type": "execute_result"
    }
   ],
   "source": [
    "# convert all columns to correct data type\n",
    "unemployment_df.WHO_region = convert(Array{String}, unemployment_df.WHO_region)\n",
    "unemployment_df.\"2011\" = convert(Array{Float64}, unemployment_df.\"2011\")\n",
    "unemployment_df.\"2012\" = convert(Array{Float64}, unemployment_df.\"2012\")\n",
    "unemployment_df.\"2013\" = convert(Array{Float64}, unemployment_df.\"2013\")\n",
    "unemployment_df.\"2014\" = convert(Array{Float64}, unemployment_df.\"2014\")\n",
    "unemployment_df.\"2015\" = convert(Array{Float64}, unemployment_df.\"2015\")\n",
    "unemployment_df.\"2016\" = convert(Array{Float64}, unemployment_df.\"2016\")\n",
    "unemployment_df.\"2017\" = convert(Array{Float64}, unemployment_df.\"2017\")\n",
    "unemployment_df.\"2018\" = convert(Array{Float64}, unemployment_df.\"2018\")\n",
    "unemployment_df.\"2019\" = convert(Array{Float64}, unemployment_df.\"2019\")\n",
    "unemployment_df.\"2020\" = convert(Array{Float64}, unemployment_df.\"2020\")"
   ]
  },
  {
   "cell_type": "code",
   "execution_count": 36,
   "metadata": {},
   "outputs": [
    {
     "data": {
      "text/html": [
       "<table class=\"data-frame\"><thead><tr><th></th><th>variable</th><th>mean</th><th>min</th><th>median</th><th>max</th></tr><tr><th></th><th>Symbol</th><th>Union…</th><th>Any</th><th>Union…</th><th>Any</th></tr></thead><tbody><p>14 rows × 8 columns (omitted printing of 3 columns)</p><tr><th>1</th><td>Country</td><td></td><td>Afghanistan</td><td></td><td>occupied Palestinian territory, including east Jerusalem</td></tr><tr><th>2</th><td>ISO</td><td></td><td>AFG</td><td></td><td>ZWE</td></tr><tr><th>3</th><td>WHO_region</td><td></td><td>African</td><td></td><td>Western Pacific</td></tr><tr><th>4</th><td>2011</td><td>8.16418</td><td>0.317</td><td>6.694</td><td>31.377</td></tr><tr><th>5</th><td>2012</td><td>8.1815</td><td>0.384</td><td>6.722</td><td>31.016</td></tr><tr><th>6</th><td>2013</td><td>8.22105</td><td>0.28</td><td>6.452</td><td>28.996</td></tr><tr><th>7</th><td>2014</td><td>8.02792</td><td>0.2</td><td>6.396</td><td>28.03</td></tr><tr><th>8</th><td>2015</td><td>7.89995</td><td>0.17</td><td>6.357</td><td>27.694</td></tr><tr><th>9</th><td>2016</td><td>7.74424</td><td>0.15</td><td>6.161</td><td>26.551</td></tr><tr><th>10</th><td>2017</td><td>7.4219</td><td>0.14</td><td>5.743</td><td>27.071</td></tr><tr><th>11</th><td>2018</td><td>7.12389</td><td>0.11</td><td>5.366</td><td>26.92</td></tr><tr><th>12</th><td>2019</td><td>7.09855</td><td>0.091</td><td>5.386</td><td>28.181</td></tr><tr><th>13</th><td>2020</td><td>7.11705</td><td>0.082</td><td>5.379</td><td>28.477</td></tr><tr><th>14</th><td>19-20Diff</td><td>0.0185026</td><td>-1.764</td><td>0.0239999</td><td>0.910001</td></tr></tbody></table>"
      ],
      "text/latex": [
       "\\begin{tabular}{r|cccccc}\n",
       "\t& variable & mean & min & median & max & \\\\\n",
       "\t\\hline\n",
       "\t& Symbol & Union… & Any & Union… & Any & \\\\\n",
       "\t\\hline\n",
       "\t1 & Country &  & Afghanistan &  & occupied Palestinian territory, including east Jerusalem & $\\dots$ \\\\\n",
       "\t2 & ISO &  & AFG &  & ZWE & $\\dots$ \\\\\n",
       "\t3 & WHO\\_region &  & African &  & Western Pacific & $\\dots$ \\\\\n",
       "\t4 & 2011 & 8.16418 & 0.317 & 6.694 & 31.377 & $\\dots$ \\\\\n",
       "\t5 & 2012 & 8.1815 & 0.384 & 6.722 & 31.016 & $\\dots$ \\\\\n",
       "\t6 & 2013 & 8.22105 & 0.28 & 6.452 & 28.996 & $\\dots$ \\\\\n",
       "\t7 & 2014 & 8.02792 & 0.2 & 6.396 & 28.03 & $\\dots$ \\\\\n",
       "\t8 & 2015 & 7.89995 & 0.17 & 6.357 & 27.694 & $\\dots$ \\\\\n",
       "\t9 & 2016 & 7.74424 & 0.15 & 6.161 & 26.551 & $\\dots$ \\\\\n",
       "\t10 & 2017 & 7.4219 & 0.14 & 5.743 & 27.071 & $\\dots$ \\\\\n",
       "\t11 & 2018 & 7.12389 & 0.11 & 5.366 & 26.92 & $\\dots$ \\\\\n",
       "\t12 & 2019 & 7.09855 & 0.091 & 5.386 & 28.181 & $\\dots$ \\\\\n",
       "\t13 & 2020 & 7.11705 & 0.082 & 5.379 & 28.477 & $\\dots$ \\\\\n",
       "\t14 & 19-20Diff & 0.0185026 & -1.764 & 0.0239999 & 0.910001 & $\\dots$ \\\\\n",
       "\\end{tabular}\n"
      ],
      "text/plain": [
       "14×8 DataFrame. Omitted printing of 4 columns\n",
       "│ Row │ variable   │ mean      │ min         │ median    │\n",
       "│     │ \u001b[90mSymbol\u001b[39m     │ \u001b[90mUnion…\u001b[39m    │ \u001b[90mAny\u001b[39m         │ \u001b[90mUnion…\u001b[39m    │\n",
       "├─────┼────────────┼───────────┼─────────────┼───────────┤\n",
       "│ 1   │ Country    │           │ Afghanistan │           │\n",
       "│ 2   │ ISO        │           │ AFG         │           │\n",
       "│ 3   │ WHO_region │           │ African     │           │\n",
       "│ 4   │ 2011       │ 8.16418   │ 0.317       │ 6.694     │\n",
       "│ 5   │ 2012       │ 8.1815    │ 0.384       │ 6.722     │\n",
       "│ 6   │ 2013       │ 8.22105   │ 0.28        │ 6.452     │\n",
       "│ 7   │ 2014       │ 8.02792   │ 0.2         │ 6.396     │\n",
       "│ 8   │ 2015       │ 7.89995   │ 0.17        │ 6.357     │\n",
       "│ 9   │ 2016       │ 7.74424   │ 0.15        │ 6.161     │\n",
       "│ 10  │ 2017       │ 7.4219    │ 0.14        │ 5.743     │\n",
       "│ 11  │ 2018       │ 7.12389   │ 0.11        │ 5.366     │\n",
       "│ 12  │ 2019       │ 7.09855   │ 0.091       │ 5.386     │\n",
       "│ 13  │ 2020       │ 7.11705   │ 0.082       │ 5.379     │\n",
       "│ 14  │ 19-20Diff  │ 0.0185026 │ -1.764      │ 0.0239999 │"
      ]
     },
     "execution_count": 36,
     "metadata": {},
     "output_type": "execute_result"
    }
   ],
   "source": [
    "describe(unemployment_df)"
   ]
  },
  {
   "cell_type": "code",
   "execution_count": 37,
   "metadata": {},
   "outputs": [
    {
     "data": {
      "text/plain": [
       "\"Unemployment.csv\""
      ]
     },
     "execution_count": 37,
     "metadata": {},
     "output_type": "execute_result"
    }
   ],
   "source": [
    "CSV.write(\"Unemployment.csv\", unemployment_df)"
   ]
  },
  {
   "cell_type": "code",
   "execution_count": 38,
   "metadata": {},
   "outputs": [
    {
     "data": {
      "text/html": [
       "<table class=\"data-frame\"><thead><tr><th></th><th>Country</th><th>ISO</th><th>WHO_region</th><th>2011</th><th>2012</th><th>2013</th></tr><tr><th></th><th>String</th><th>String</th><th>String</th><th>Float64</th><th>Float64</th><th>Float64</th></tr></thead><tbody><p>10 rows × 14 columns (omitted printing of 8 columns)</p><tr><th>1</th><td>Bahamas</td><td>BHS</td><td>Americas</td><td>14.52</td><td>14.02</td><td>16.18</td></tr><tr><th>2</th><td>Costa Rica</td><td>CRI</td><td>Americas</td><td>10.139</td><td>9.784</td><td>8.768</td></tr><tr><th>3</th><td>Argentina</td><td>ARG</td><td>Americas</td><td>7.18</td><td>7.217</td><td>7.1</td></tr><tr><th>4</th><td>China HongKong</td><td>HKG</td><td>Western Pacific</td><td>3.42</td><td>3.29</td><td>3.4</td></tr><tr><th>5</th><td>Barbados</td><td>BRB</td><td>Americas</td><td>11.19</td><td>11.59</td><td>11.55</td></tr><tr><th>6</th><td>Venezuela (Bolivarian Republic of)</td><td>VEN</td><td>Americas</td><td>6.902</td><td>6.601</td><td>7.54</td></tr><tr><th>7</th><td>Botswana</td><td>BWA</td><td>African</td><td>17.865</td><td>17.889</td><td>17.921</td></tr><tr><th>8</th><td>Nicaragua</td><td>NIC</td><td>Americas</td><td>6.447</td><td>5.208</td><td>5.28</td></tr><tr><th>9</th><td>Albania</td><td>ALB</td><td>European</td><td>13.481</td><td>13.376</td><td>15.866</td></tr><tr><th>10</th><td>Azerbaijan</td><td>AZE</td><td>European</td><td>5.42</td><td>5.19</td><td>4.97</td></tr></tbody></table>"
      ],
      "text/latex": [
       "\\begin{tabular}{r|ccccccc}\n",
       "\t& Country & ISO & WHO\\_region & 2011 & 2012 & 2013 & \\\\\n",
       "\t\\hline\n",
       "\t& String & String & String & Float64 & Float64 & Float64 & \\\\\n",
       "\t\\hline\n",
       "\t1 & Bahamas & BHS & Americas & 14.52 & 14.02 & 16.18 & $\\dots$ \\\\\n",
       "\t2 & Costa Rica & CRI & Americas & 10.139 & 9.784 & 8.768 & $\\dots$ \\\\\n",
       "\t3 & Argentina & ARG & Americas & 7.18 & 7.217 & 7.1 & $\\dots$ \\\\\n",
       "\t4 & China HongKong & HKG & Western Pacific & 3.42 & 3.29 & 3.4 & $\\dots$ \\\\\n",
       "\t5 & Barbados & BRB & Americas & 11.19 & 11.59 & 11.55 & $\\dots$ \\\\\n",
       "\t6 & Venezuela (Bolivarian Republic of) & VEN & Americas & 6.902 & 6.601 & 7.54 & $\\dots$ \\\\\n",
       "\t7 & Botswana & BWA & African & 17.865 & 17.889 & 17.921 & $\\dots$ \\\\\n",
       "\t8 & Nicaragua & NIC & Americas & 6.447 & 5.208 & 5.28 & $\\dots$ \\\\\n",
       "\t9 & Albania & ALB & European & 13.481 & 13.376 & 15.866 & $\\dots$ \\\\\n",
       "\t10 & Azerbaijan & AZE & European & 5.42 & 5.19 & 4.97 & $\\dots$ \\\\\n",
       "\\end{tabular}\n"
      ],
      "text/plain": [
       "10×14 DataFrame. Omitted printing of 11 columns\n",
       "│ Row │ Country                            │ ISO    │ WHO_region      │\n",
       "│     │ \u001b[90mString\u001b[39m                             │ \u001b[90mString\u001b[39m │ \u001b[90mString\u001b[39m          │\n",
       "├─────┼────────────────────────────────────┼────────┼─────────────────┤\n",
       "│ 1   │ Bahamas                            │ BHS    │ Americas        │\n",
       "│ 2   │ Costa Rica                         │ CRI    │ Americas        │\n",
       "│ 3   │ Argentina                          │ ARG    │ Americas        │\n",
       "│ 4   │ China HongKong                     │ HKG    │ Western Pacific │\n",
       "│ 5   │ Barbados                           │ BRB    │ Americas        │\n",
       "│ 6   │ Venezuela (Bolivarian Republic of) │ VEN    │ Americas        │\n",
       "│ 7   │ Botswana                           │ BWA    │ African         │\n",
       "│ 8   │ Nicaragua                          │ NIC    │ Americas        │\n",
       "│ 9   │ Albania                            │ ALB    │ European        │\n",
       "│ 10  │ Azerbaijan                         │ AZE    │ European        │"
      ]
     },
     "execution_count": 38,
     "metadata": {},
     "output_type": "execute_result"
    }
   ],
   "source": [
    "# filter out the dataframe with top 10 umemployment rate increased from 2019 to 2020\n",
    "unemployment_topTen = sort(unemployment_df, :\"19-20Diff\", rev = true)[1:10,:]"
   ]
  },
  {
   "cell_type": "code",
   "execution_count": 39,
   "metadata": {},
   "outputs": [
    {
     "data": {
      "text/html": [
       "<table class=\"data-frame\"><thead><tr><th></th><th>Country</th><th>ISO</th><th>WHO_region</th><th>19-20Diff</th><th>variable</th></tr><tr><th></th><th>String</th><th>String</th><th>String</th><th>Float64</th><th>Cat…</th></tr></thead><tbody><p>100 rows × 6 columns (omitted printing of 1 columns)</p><tr><th>1</th><td>Bahamas</td><td>BHS</td><td>Americas</td><td>0.910001</td><td>2011</td></tr><tr><th>2</th><td>Costa Rica</td><td>CRI</td><td>Americas</td><td>0.88</td><td>2011</td></tr><tr><th>3</th><td>Argentina</td><td>ARG</td><td>Americas</td><td>0.647</td><td>2011</td></tr><tr><th>4</th><td>China HongKong</td><td>HKG</td><td>Western Pacific</td><td>0.636</td><td>2011</td></tr><tr><th>5</th><td>Barbados</td><td>BRB</td><td>Americas</td><td>0.606999</td><td>2011</td></tr><tr><th>6</th><td>Venezuela (Bolivarian Republic of)</td><td>VEN</td><td>Americas</td><td>0.58</td><td>2011</td></tr><tr><th>7</th><td>Botswana</td><td>BWA</td><td>African</td><td>0.528</td><td>2011</td></tr><tr><th>8</th><td>Nicaragua</td><td>NIC</td><td>Americas</td><td>0.518</td><td>2011</td></tr><tr><th>9</th><td>Albania</td><td>ALB</td><td>European</td><td>0.481999</td><td>2011</td></tr><tr><th>10</th><td>Azerbaijan</td><td>AZE</td><td>European</td><td>0.451</td><td>2011</td></tr><tr><th>11</th><td>Bahamas</td><td>BHS</td><td>Americas</td><td>0.910001</td><td>2012</td></tr><tr><th>12</th><td>Costa Rica</td><td>CRI</td><td>Americas</td><td>0.88</td><td>2012</td></tr><tr><th>13</th><td>Argentina</td><td>ARG</td><td>Americas</td><td>0.647</td><td>2012</td></tr><tr><th>14</th><td>China HongKong</td><td>HKG</td><td>Western Pacific</td><td>0.636</td><td>2012</td></tr><tr><th>15</th><td>Barbados</td><td>BRB</td><td>Americas</td><td>0.606999</td><td>2012</td></tr><tr><th>16</th><td>Venezuela (Bolivarian Republic of)</td><td>VEN</td><td>Americas</td><td>0.58</td><td>2012</td></tr><tr><th>17</th><td>Botswana</td><td>BWA</td><td>African</td><td>0.528</td><td>2012</td></tr><tr><th>18</th><td>Nicaragua</td><td>NIC</td><td>Americas</td><td>0.518</td><td>2012</td></tr><tr><th>19</th><td>Albania</td><td>ALB</td><td>European</td><td>0.481999</td><td>2012</td></tr><tr><th>20</th><td>Azerbaijan</td><td>AZE</td><td>European</td><td>0.451</td><td>2012</td></tr><tr><th>21</th><td>Bahamas</td><td>BHS</td><td>Americas</td><td>0.910001</td><td>2013</td></tr><tr><th>22</th><td>Costa Rica</td><td>CRI</td><td>Americas</td><td>0.88</td><td>2013</td></tr><tr><th>23</th><td>Argentina</td><td>ARG</td><td>Americas</td><td>0.647</td><td>2013</td></tr><tr><th>24</th><td>China HongKong</td><td>HKG</td><td>Western Pacific</td><td>0.636</td><td>2013</td></tr><tr><th>25</th><td>Barbados</td><td>BRB</td><td>Americas</td><td>0.606999</td><td>2013</td></tr><tr><th>26</th><td>Venezuela (Bolivarian Republic of)</td><td>VEN</td><td>Americas</td><td>0.58</td><td>2013</td></tr><tr><th>27</th><td>Botswana</td><td>BWA</td><td>African</td><td>0.528</td><td>2013</td></tr><tr><th>28</th><td>Nicaragua</td><td>NIC</td><td>Americas</td><td>0.518</td><td>2013</td></tr><tr><th>29</th><td>Albania</td><td>ALB</td><td>European</td><td>0.481999</td><td>2013</td></tr><tr><th>30</th><td>Azerbaijan</td><td>AZE</td><td>European</td><td>0.451</td><td>2013</td></tr><tr><th>&vellip;</th><td>&vellip;</td><td>&vellip;</td><td>&vellip;</td><td>&vellip;</td><td>&vellip;</td></tr></tbody></table>"
      ],
      "text/latex": [
       "\\begin{tabular}{r|cccccc}\n",
       "\t& Country & ISO & WHO\\_region & 19-20Diff & variable & \\\\\n",
       "\t\\hline\n",
       "\t& String & String & String & Float64 & Cat… & \\\\\n",
       "\t\\hline\n",
       "\t1 & Bahamas & BHS & Americas & 0.910001 & 2011 & $\\dots$ \\\\\n",
       "\t2 & Costa Rica & CRI & Americas & 0.88 & 2011 & $\\dots$ \\\\\n",
       "\t3 & Argentina & ARG & Americas & 0.647 & 2011 & $\\dots$ \\\\\n",
       "\t4 & China HongKong & HKG & Western Pacific & 0.636 & 2011 & $\\dots$ \\\\\n",
       "\t5 & Barbados & BRB & Americas & 0.606999 & 2011 & $\\dots$ \\\\\n",
       "\t6 & Venezuela (Bolivarian Republic of) & VEN & Americas & 0.58 & 2011 & $\\dots$ \\\\\n",
       "\t7 & Botswana & BWA & African & 0.528 & 2011 & $\\dots$ \\\\\n",
       "\t8 & Nicaragua & NIC & Americas & 0.518 & 2011 & $\\dots$ \\\\\n",
       "\t9 & Albania & ALB & European & 0.481999 & 2011 & $\\dots$ \\\\\n",
       "\t10 & Azerbaijan & AZE & European & 0.451 & 2011 & $\\dots$ \\\\\n",
       "\t11 & Bahamas & BHS & Americas & 0.910001 & 2012 & $\\dots$ \\\\\n",
       "\t12 & Costa Rica & CRI & Americas & 0.88 & 2012 & $\\dots$ \\\\\n",
       "\t13 & Argentina & ARG & Americas & 0.647 & 2012 & $\\dots$ \\\\\n",
       "\t14 & China HongKong & HKG & Western Pacific & 0.636 & 2012 & $\\dots$ \\\\\n",
       "\t15 & Barbados & BRB & Americas & 0.606999 & 2012 & $\\dots$ \\\\\n",
       "\t16 & Venezuela (Bolivarian Republic of) & VEN & Americas & 0.58 & 2012 & $\\dots$ \\\\\n",
       "\t17 & Botswana & BWA & African & 0.528 & 2012 & $\\dots$ \\\\\n",
       "\t18 & Nicaragua & NIC & Americas & 0.518 & 2012 & $\\dots$ \\\\\n",
       "\t19 & Albania & ALB & European & 0.481999 & 2012 & $\\dots$ \\\\\n",
       "\t20 & Azerbaijan & AZE & European & 0.451 & 2012 & $\\dots$ \\\\\n",
       "\t21 & Bahamas & BHS & Americas & 0.910001 & 2013 & $\\dots$ \\\\\n",
       "\t22 & Costa Rica & CRI & Americas & 0.88 & 2013 & $\\dots$ \\\\\n",
       "\t23 & Argentina & ARG & Americas & 0.647 & 2013 & $\\dots$ \\\\\n",
       "\t24 & China HongKong & HKG & Western Pacific & 0.636 & 2013 & $\\dots$ \\\\\n",
       "\t25 & Barbados & BRB & Americas & 0.606999 & 2013 & $\\dots$ \\\\\n",
       "\t26 & Venezuela (Bolivarian Republic of) & VEN & Americas & 0.58 & 2013 & $\\dots$ \\\\\n",
       "\t27 & Botswana & BWA & African & 0.528 & 2013 & $\\dots$ \\\\\n",
       "\t28 & Nicaragua & NIC & Americas & 0.518 & 2013 & $\\dots$ \\\\\n",
       "\t29 & Albania & ALB & European & 0.481999 & 2013 & $\\dots$ \\\\\n",
       "\t30 & Azerbaijan & AZE & European & 0.451 & 2013 & $\\dots$ \\\\\n",
       "\t$\\dots$ & $\\dots$ & $\\dots$ & $\\dots$ & $\\dots$ & $\\dots$ &  \\\\\n",
       "\\end{tabular}\n"
      ],
      "text/plain": [
       "100×6 DataFrame. Omitted printing of 3 columns\n",
       "│ Row │ Country                            │ ISO    │ WHO_region      │\n",
       "│     │ \u001b[90mString\u001b[39m                             │ \u001b[90mString\u001b[39m │ \u001b[90mString\u001b[39m          │\n",
       "├─────┼────────────────────────────────────┼────────┼─────────────────┤\n",
       "│ 1   │ Bahamas                            │ BHS    │ Americas        │\n",
       "│ 2   │ Costa Rica                         │ CRI    │ Americas        │\n",
       "│ 3   │ Argentina                          │ ARG    │ Americas        │\n",
       "│ 4   │ China HongKong                     │ HKG    │ Western Pacific │\n",
       "│ 5   │ Barbados                           │ BRB    │ Americas        │\n",
       "│ 6   │ Venezuela (Bolivarian Republic of) │ VEN    │ Americas        │\n",
       "│ 7   │ Botswana                           │ BWA    │ African         │\n",
       "│ 8   │ Nicaragua                          │ NIC    │ Americas        │\n",
       "│ 9   │ Albania                            │ ALB    │ European        │\n",
       "│ 10  │ Azerbaijan                         │ AZE    │ European        │\n",
       "⋮\n",
       "│ 90  │ Azerbaijan                         │ AZE    │ European        │\n",
       "│ 91  │ Bahamas                            │ BHS    │ Americas        │\n",
       "│ 92  │ Costa Rica                         │ CRI    │ Americas        │\n",
       "│ 93  │ Argentina                          │ ARG    │ Americas        │\n",
       "│ 94  │ China HongKong                     │ HKG    │ Western Pacific │\n",
       "│ 95  │ Barbados                           │ BRB    │ Americas        │\n",
       "│ 96  │ Venezuela (Bolivarian Republic of) │ VEN    │ Americas        │\n",
       "│ 97  │ Botswana                           │ BWA    │ African         │\n",
       "│ 98  │ Nicaragua                          │ NIC    │ Americas        │\n",
       "│ 99  │ Albania                            │ ALB    │ European        │\n",
       "│ 100 │ Azerbaijan                         │ AZE    │ European        │"
      ]
     },
     "execution_count": 39,
     "metadata": {},
     "output_type": "execute_result"
    }
   ],
   "source": [
    "# reshape the dataframe to a long dataframe\n",
    "unemployment_topTen_long = stack(unemployment_topTen, [\"20$i\" for i in 11:20])"
   ]
  },
  {
   "cell_type": "code",
   "execution_count": 40,
   "metadata": {},
   "outputs": [
    {
     "data": {
      "text/html": [
       "<table class=\"data-frame\"><thead><tr><th></th><th>Country</th><th>ISO</th><th>WHO_region</th><th>19-20Diff</th><th>Date</th><th>value</th></tr><tr><th></th><th>String</th><th>String</th><th>String</th><th>Float64</th><th>Cat…</th><th>Float64</th></tr></thead><tbody><p>100 rows × 6 columns</p><tr><th>1</th><td>Bahamas</td><td>BHS</td><td>Americas</td><td>0.910001</td><td>2011</td><td>14.52</td></tr><tr><th>2</th><td>Costa Rica</td><td>CRI</td><td>Americas</td><td>0.88</td><td>2011</td><td>10.139</td></tr><tr><th>3</th><td>Argentina</td><td>ARG</td><td>Americas</td><td>0.647</td><td>2011</td><td>7.18</td></tr><tr><th>4</th><td>China HongKong</td><td>HKG</td><td>Western Pacific</td><td>0.636</td><td>2011</td><td>3.42</td></tr><tr><th>5</th><td>Barbados</td><td>BRB</td><td>Americas</td><td>0.606999</td><td>2011</td><td>11.19</td></tr><tr><th>6</th><td>Venezuela (Bolivarian Republic of)</td><td>VEN</td><td>Americas</td><td>0.58</td><td>2011</td><td>6.902</td></tr><tr><th>7</th><td>Botswana</td><td>BWA</td><td>African</td><td>0.528</td><td>2011</td><td>17.865</td></tr><tr><th>8</th><td>Nicaragua</td><td>NIC</td><td>Americas</td><td>0.518</td><td>2011</td><td>6.447</td></tr><tr><th>9</th><td>Albania</td><td>ALB</td><td>European</td><td>0.481999</td><td>2011</td><td>13.481</td></tr><tr><th>10</th><td>Azerbaijan</td><td>AZE</td><td>European</td><td>0.451</td><td>2011</td><td>5.42</td></tr><tr><th>11</th><td>Bahamas</td><td>BHS</td><td>Americas</td><td>0.910001</td><td>2012</td><td>14.02</td></tr><tr><th>12</th><td>Costa Rica</td><td>CRI</td><td>Americas</td><td>0.88</td><td>2012</td><td>9.784</td></tr><tr><th>13</th><td>Argentina</td><td>ARG</td><td>Americas</td><td>0.647</td><td>2012</td><td>7.217</td></tr><tr><th>14</th><td>China HongKong</td><td>HKG</td><td>Western Pacific</td><td>0.636</td><td>2012</td><td>3.29</td></tr><tr><th>15</th><td>Barbados</td><td>BRB</td><td>Americas</td><td>0.606999</td><td>2012</td><td>11.59</td></tr><tr><th>16</th><td>Venezuela (Bolivarian Republic of)</td><td>VEN</td><td>Americas</td><td>0.58</td><td>2012</td><td>6.601</td></tr><tr><th>17</th><td>Botswana</td><td>BWA</td><td>African</td><td>0.528</td><td>2012</td><td>17.889</td></tr><tr><th>18</th><td>Nicaragua</td><td>NIC</td><td>Americas</td><td>0.518</td><td>2012</td><td>5.208</td></tr><tr><th>19</th><td>Albania</td><td>ALB</td><td>European</td><td>0.481999</td><td>2012</td><td>13.376</td></tr><tr><th>20</th><td>Azerbaijan</td><td>AZE</td><td>European</td><td>0.451</td><td>2012</td><td>5.19</td></tr><tr><th>21</th><td>Bahamas</td><td>BHS</td><td>Americas</td><td>0.910001</td><td>2013</td><td>16.18</td></tr><tr><th>22</th><td>Costa Rica</td><td>CRI</td><td>Americas</td><td>0.88</td><td>2013</td><td>8.768</td></tr><tr><th>23</th><td>Argentina</td><td>ARG</td><td>Americas</td><td>0.647</td><td>2013</td><td>7.1</td></tr><tr><th>24</th><td>China HongKong</td><td>HKG</td><td>Western Pacific</td><td>0.636</td><td>2013</td><td>3.4</td></tr><tr><th>25</th><td>Barbados</td><td>BRB</td><td>Americas</td><td>0.606999</td><td>2013</td><td>11.55</td></tr><tr><th>26</th><td>Venezuela (Bolivarian Republic of)</td><td>VEN</td><td>Americas</td><td>0.58</td><td>2013</td><td>7.54</td></tr><tr><th>27</th><td>Botswana</td><td>BWA</td><td>African</td><td>0.528</td><td>2013</td><td>17.921</td></tr><tr><th>28</th><td>Nicaragua</td><td>NIC</td><td>Americas</td><td>0.518</td><td>2013</td><td>5.28</td></tr><tr><th>29</th><td>Albania</td><td>ALB</td><td>European</td><td>0.481999</td><td>2013</td><td>15.866</td></tr><tr><th>30</th><td>Azerbaijan</td><td>AZE</td><td>European</td><td>0.451</td><td>2013</td><td>4.97</td></tr><tr><th>&vellip;</th><td>&vellip;</td><td>&vellip;</td><td>&vellip;</td><td>&vellip;</td><td>&vellip;</td><td>&vellip;</td></tr></tbody></table>"
      ],
      "text/latex": [
       "\\begin{tabular}{r|cccccc}\n",
       "\t& Country & ISO & WHO\\_region & 19-20Diff & Date & value\\\\\n",
       "\t\\hline\n",
       "\t& String & String & String & Float64 & Cat… & Float64\\\\\n",
       "\t\\hline\n",
       "\t1 & Bahamas & BHS & Americas & 0.910001 & 2011 & 14.52 \\\\\n",
       "\t2 & Costa Rica & CRI & Americas & 0.88 & 2011 & 10.139 \\\\\n",
       "\t3 & Argentina & ARG & Americas & 0.647 & 2011 & 7.18 \\\\\n",
       "\t4 & China HongKong & HKG & Western Pacific & 0.636 & 2011 & 3.42 \\\\\n",
       "\t5 & Barbados & BRB & Americas & 0.606999 & 2011 & 11.19 \\\\\n",
       "\t6 & Venezuela (Bolivarian Republic of) & VEN & Americas & 0.58 & 2011 & 6.902 \\\\\n",
       "\t7 & Botswana & BWA & African & 0.528 & 2011 & 17.865 \\\\\n",
       "\t8 & Nicaragua & NIC & Americas & 0.518 & 2011 & 6.447 \\\\\n",
       "\t9 & Albania & ALB & European & 0.481999 & 2011 & 13.481 \\\\\n",
       "\t10 & Azerbaijan & AZE & European & 0.451 & 2011 & 5.42 \\\\\n",
       "\t11 & Bahamas & BHS & Americas & 0.910001 & 2012 & 14.02 \\\\\n",
       "\t12 & Costa Rica & CRI & Americas & 0.88 & 2012 & 9.784 \\\\\n",
       "\t13 & Argentina & ARG & Americas & 0.647 & 2012 & 7.217 \\\\\n",
       "\t14 & China HongKong & HKG & Western Pacific & 0.636 & 2012 & 3.29 \\\\\n",
       "\t15 & Barbados & BRB & Americas & 0.606999 & 2012 & 11.59 \\\\\n",
       "\t16 & Venezuela (Bolivarian Republic of) & VEN & Americas & 0.58 & 2012 & 6.601 \\\\\n",
       "\t17 & Botswana & BWA & African & 0.528 & 2012 & 17.889 \\\\\n",
       "\t18 & Nicaragua & NIC & Americas & 0.518 & 2012 & 5.208 \\\\\n",
       "\t19 & Albania & ALB & European & 0.481999 & 2012 & 13.376 \\\\\n",
       "\t20 & Azerbaijan & AZE & European & 0.451 & 2012 & 5.19 \\\\\n",
       "\t21 & Bahamas & BHS & Americas & 0.910001 & 2013 & 16.18 \\\\\n",
       "\t22 & Costa Rica & CRI & Americas & 0.88 & 2013 & 8.768 \\\\\n",
       "\t23 & Argentina & ARG & Americas & 0.647 & 2013 & 7.1 \\\\\n",
       "\t24 & China HongKong & HKG & Western Pacific & 0.636 & 2013 & 3.4 \\\\\n",
       "\t25 & Barbados & BRB & Americas & 0.606999 & 2013 & 11.55 \\\\\n",
       "\t26 & Venezuela (Bolivarian Republic of) & VEN & Americas & 0.58 & 2013 & 7.54 \\\\\n",
       "\t27 & Botswana & BWA & African & 0.528 & 2013 & 17.921 \\\\\n",
       "\t28 & Nicaragua & NIC & Americas & 0.518 & 2013 & 5.28 \\\\\n",
       "\t29 & Albania & ALB & European & 0.481999 & 2013 & 15.866 \\\\\n",
       "\t30 & Azerbaijan & AZE & European & 0.451 & 2013 & 4.97 \\\\\n",
       "\t$\\dots$ & $\\dots$ & $\\dots$ & $\\dots$ & $\\dots$ & $\\dots$ & $\\dots$ \\\\\n",
       "\\end{tabular}\n"
      ],
      "text/plain": [
       "100×6 DataFrame. Omitted printing of 3 columns\n",
       "│ Row │ Country                            │ ISO    │ WHO_region      │\n",
       "│     │ \u001b[90mString\u001b[39m                             │ \u001b[90mString\u001b[39m │ \u001b[90mString\u001b[39m          │\n",
       "├─────┼────────────────────────────────────┼────────┼─────────────────┤\n",
       "│ 1   │ Bahamas                            │ BHS    │ Americas        │\n",
       "│ 2   │ Costa Rica                         │ CRI    │ Americas        │\n",
       "│ 3   │ Argentina                          │ ARG    │ Americas        │\n",
       "│ 4   │ China HongKong                     │ HKG    │ Western Pacific │\n",
       "│ 5   │ Barbados                           │ BRB    │ Americas        │\n",
       "│ 6   │ Venezuela (Bolivarian Republic of) │ VEN    │ Americas        │\n",
       "│ 7   │ Botswana                           │ BWA    │ African         │\n",
       "│ 8   │ Nicaragua                          │ NIC    │ Americas        │\n",
       "│ 9   │ Albania                            │ ALB    │ European        │\n",
       "│ 10  │ Azerbaijan                         │ AZE    │ European        │\n",
       "⋮\n",
       "│ 90  │ Azerbaijan                         │ AZE    │ European        │\n",
       "│ 91  │ Bahamas                            │ BHS    │ Americas        │\n",
       "│ 92  │ Costa Rica                         │ CRI    │ Americas        │\n",
       "│ 93  │ Argentina                          │ ARG    │ Americas        │\n",
       "│ 94  │ China HongKong                     │ HKG    │ Western Pacific │\n",
       "│ 95  │ Barbados                           │ BRB    │ Americas        │\n",
       "│ 96  │ Venezuela (Bolivarian Republic of) │ VEN    │ Americas        │\n",
       "│ 97  │ Botswana                           │ BWA    │ African         │\n",
       "│ 98  │ Nicaragua                          │ NIC    │ Americas        │\n",
       "│ 99  │ Albania                            │ ALB    │ European        │\n",
       "│ 100 │ Azerbaijan                         │ AZE    │ European        │"
      ]
     },
     "execution_count": 40,
     "metadata": {},
     "output_type": "execute_result"
    }
   ],
   "source": [
    "# rename the column with a more suitable name\n",
    "rename!(unemployment_topTen_long, Symbol(\"variable\")=>Symbol(\"Date\"))"
   ]
  },
  {
   "cell_type": "code",
   "execution_count": 41,
   "metadata": {},
   "outputs": [
    {
     "data": {
      "text/plain": [
       "100-element Array{String,1}:\n",
       " \"2011\"\n",
       " \"2011\"\n",
       " \"2011\"\n",
       " \"2011\"\n",
       " \"2011\"\n",
       " \"2011\"\n",
       " \"2011\"\n",
       " \"2011\"\n",
       " \"2011\"\n",
       " \"2011\"\n",
       " \"2012\"\n",
       " \"2012\"\n",
       " \"2012\"\n",
       " ⋮\n",
       " \"2019\"\n",
       " \"2019\"\n",
       " \"2020\"\n",
       " \"2020\"\n",
       " \"2020\"\n",
       " \"2020\"\n",
       " \"2020\"\n",
       " \"2020\"\n",
       " \"2020\"\n",
       " \"2020\"\n",
       " \"2020\"\n",
       " \"2020\""
      ]
     },
     "execution_count": 41,
     "metadata": {},
     "output_type": "execute_result"
    }
   ],
   "source": [
    "# convert the correct data type for Date column\n",
    "unemployment_topTen_long.Date = convert(Array{String}, unemployment_topTen_long.Date)"
   ]
  },
  {
   "cell_type": "code",
   "execution_count": 42,
   "metadata": {},
   "outputs": [
    {
     "data": {
      "application/vnd.vegalite.v4+json": {
       "data": {
        "values": [
         {
          "19-20Diff": 0.9100008010865004,
          "Country": "Bahamas",
          "Date": "2011",
          "ISO": "BHS",
          "WHO_region": "Americas",
          "value": 14.5200004577637
         },
         {
          "19-20Diff": 0.8800001144409997,
          "Country": "Costa Rica",
          "Date": "2011",
          "ISO": "CRI",
          "WHO_region": "Americas",
          "value": 10.1389999389648
         },
         {
          "19-20Diff": 0.6470003128051793,
          "Country": "Argentina",
          "Date": "2011",
          "ISO": "ARG",
          "WHO_region": "Americas",
          "value": 7.17999982833862
         },
         {
          "19-20Diff": 0.6359999179840101,
          "Country": "China HongKong",
          "Date": "2011",
          "ISO": "HKG",
          "WHO_region": "Western Pacific",
          "value": 3.42000007629395
         },
         {
          "19-20Diff": 0.6069993972778001,
          "Country": "Barbados",
          "Date": "2011",
          "ISO": "BRB",
          "WHO_region": "Americas",
          "value": 11.1899995803833
         },
         {
          "19-20Diff": 0.5799999237060494,
          "Country": "Venezuela (Bolivarian Republic of)",
          "Date": "2011",
          "ISO": "VEN",
          "WHO_region": "Americas",
          "value": 6.90199995040894
         },
         {
          "19-20Diff": 0.5279998779297017,
          "Country": "Botswana",
          "Date": "2011",
          "ISO": "BWA",
          "WHO_region": "African",
          "value": 17.8649997711182
         },
         {
          "19-20Diff": 0.5180001258850098,
          "Country": "Nicaragua",
          "Date": "2011",
          "ISO": "NIC",
          "WHO_region": "Americas",
          "value": 6.44700002670288
         },
         {
          "19-20Diff": 0.48199939727780006,
          "Country": "Albania",
          "Date": "2011",
          "ISO": "ALB",
          "WHO_region": "European",
          "value": 13.4809999465942
         },
         {
          "19-20Diff": 0.45100021362303977,
          "Country": "Azerbaijan",
          "Date": "2011",
          "ISO": "AZE",
          "WHO_region": "European",
          "value": 5.42000007629395
         },
         {
          "19-20Diff": 0.9100008010865004,
          "Country": "Bahamas",
          "Date": "2012",
          "ISO": "BHS",
          "WHO_region": "Americas",
          "value": 14.0200004577637
         },
         {
          "19-20Diff": 0.8800001144409997,
          "Country": "Costa Rica",
          "Date": "2012",
          "ISO": "CRI",
          "WHO_region": "Americas",
          "value": 9.78400039672852
         },
         {
          "19-20Diff": 0.6470003128051793,
          "Country": "Argentina",
          "Date": "2012",
          "ISO": "ARG",
          "WHO_region": "Americas",
          "value": 7.21700000762939
         },
         {
          "19-20Diff": 0.6359999179840101,
          "Country": "China HongKong",
          "Date": "2012",
          "ISO": "HKG",
          "WHO_region": "Western Pacific",
          "value": 3.28999996185303
         },
         {
          "19-20Diff": 0.6069993972778001,
          "Country": "Barbados",
          "Date": "2012",
          "ISO": "BRB",
          "WHO_region": "Americas",
          "value": 11.5900001525879
         },
         {
          "19-20Diff": 0.5799999237060494,
          "Country": "Venezuela (Bolivarian Republic of)",
          "Date": "2012",
          "ISO": "VEN",
          "WHO_region": "Americas",
          "value": 6.60099983215332
         },
         {
          "19-20Diff": 0.5279998779297017,
          "Country": "Botswana",
          "Date": "2012",
          "ISO": "BWA",
          "WHO_region": "African",
          "value": 17.8889999389648
         },
         {
          "19-20Diff": 0.5180001258850098,
          "Country": "Nicaragua",
          "Date": "2012",
          "ISO": "NIC",
          "WHO_region": "Americas",
          "value": 5.20800018310547
         },
         {
          "19-20Diff": 0.48199939727780006,
          "Country": "Albania",
          "Date": "2012",
          "ISO": "ALB",
          "WHO_region": "European",
          "value": 13.3760004043579
         },
         {
          "19-20Diff": 0.45100021362303977,
          "Country": "Azerbaijan",
          "Date": "2012",
          "ISO": "AZE",
          "WHO_region": "European",
          "value": 5.19000005722046
         },
         {
          "19-20Diff": 0.9100008010865004,
          "Country": "Bahamas",
          "Date": "2013",
          "ISO": "BHS",
          "WHO_region": "Americas",
          "value": 16.1800003051758
         },
         {
          "19-20Diff": 0.8800001144409997,
          "Country": "Costa Rica",
          "Date": "2013",
          "ISO": "CRI",
          "WHO_region": "Americas",
          "value": 8.76799964904785
         },
         {
          "19-20Diff": 0.6470003128051793,
          "Country": "Argentina",
          "Date": "2013",
          "ISO": "ARG",
          "WHO_region": "Americas",
          "value": 7.09999990463257
         },
         {
          "19-20Diff": 0.6359999179840101,
          "Country": "China HongKong",
          "Date": "2013",
          "ISO": "HKG",
          "WHO_region": "Western Pacific",
          "value": 3.40000009536743
         },
         {
          "19-20Diff": 0.6069993972778001,
          "Country": "Barbados",
          "Date": "2013",
          "ISO": "BRB",
          "WHO_region": "Americas",
          "value": 11.5500001907349
         },
         {
          "19-20Diff": 0.5799999237060494,
          "Country": "Venezuela (Bolivarian Republic of)",
          "Date": "2013",
          "ISO": "VEN",
          "WHO_region": "Americas",
          "value": 7.53999996185303
         },
         {
          "19-20Diff": 0.5279998779297017,
          "Country": "Botswana",
          "Date": "2013",
          "ISO": "BWA",
          "WHO_region": "African",
          "value": 17.9209995269775
         },
         {
          "19-20Diff": 0.5180001258850098,
          "Country": "Nicaragua",
          "Date": "2013",
          "ISO": "NIC",
          "WHO_region": "Americas",
          "value": 5.28000020980835
         },
         {
          "19-20Diff": 0.48199939727780006,
          "Country": "Albania",
          "Date": "2013",
          "ISO": "ALB",
          "WHO_region": "European",
          "value": 15.8660001754761
         },
         {
          "19-20Diff": 0.45100021362303977,
          "Country": "Azerbaijan",
          "Date": "2013",
          "ISO": "AZE",
          "WHO_region": "European",
          "value": 4.96999979019165
         },
         {
          "19-20Diff": 0.9100008010865004,
          "Country": "Bahamas",
          "Date": "2014",
          "ISO": "BHS",
          "WHO_region": "Americas",
          "value": 13.8000001907349
         },
         {
          "19-20Diff": 0.8800001144409997,
          "Country": "Costa Rica",
          "Date": "2014",
          "ISO": "CRI",
          "WHO_region": "Americas",
          "value": 9.05900001525879
         },
         {
          "19-20Diff": 0.6470003128051793,
          "Country": "Argentina",
          "Date": "2014",
          "ISO": "ARG",
          "WHO_region": "Americas",
          "value": 7.26800012588501
         },
         {
          "19-20Diff": 0.6359999179840101,
          "Country": "China HongKong",
          "Date": "2014",
          "ISO": "HKG",
          "WHO_region": "Western Pacific",
          "value": 3.29999995231628
         },
         {
          "19-20Diff": 0.6069993972778001,
          "Country": "Barbados",
          "Date": "2014",
          "ISO": "BRB",
          "WHO_region": "Americas",
          "value": 12.1700000762939
         },
         {
          "19-20Diff": 0.5799999237060494,
          "Country": "Venezuela (Bolivarian Republic of)",
          "Date": "2014",
          "ISO": "VEN",
          "WHO_region": "Americas",
          "value": 7.48099994659424
         },
         {
          "19-20Diff": 0.5279998779297017,
          "Country": "Botswana",
          "Date": "2014",
          "ISO": "BWA",
          "WHO_region": "African",
          "value": 17.8190002441406
         },
         {
          "19-20Diff": 0.5180001258850098,
          "Country": "Nicaragua",
          "Date": "2014",
          "ISO": "NIC",
          "WHO_region": "Americas",
          "value": 4.51900005340576
         },
         {
          "19-20Diff": 0.48199939727780006,
          "Country": "Albania",
          "Date": "2014",
          "ISO": "ALB",
          "WHO_region": "European",
          "value": 17.4899997711182
         },
         {
          "19-20Diff": 0.45100021362303977,
          "Country": "Azerbaijan",
          "Date": "2014",
          "ISO": "AZE",
          "WHO_region": "European",
          "value": 4.90999984741211
         },
         {
          "19-20Diff": 0.9100008010865004,
          "Country": "Bahamas",
          "Date": "2015",
          "ISO": "BHS",
          "WHO_region": "Americas",
          "value": 12
         },
         {
          "19-20Diff": 0.8800001144409997,
          "Country": "Costa Rica",
          "Date": "2015",
          "ISO": "CRI",
          "WHO_region": "Americas",
          "value": 8.99899959564209
         },
         {
          "19-20Diff": 0.6470003128051793,
          "Country": "Argentina",
          "Date": "2015",
          "ISO": "ARG",
          "WHO_region": "Americas",
          "value": 7.75
         },
         {
          "19-20Diff": 0.6359999179840101,
          "Country": "China HongKong",
          "Date": "2015",
          "ISO": "HKG",
          "WHO_region": "Western Pacific",
          "value": 3.3199999332428
         },
         {
          "19-20Diff": 0.6069993972778001,
          "Country": "Barbados",
          "Date": "2015",
          "ISO": "BRB",
          "WHO_region": "Americas",
          "value": 11.3500003814697
         },
         {
          "19-20Diff": 0.5799999237060494,
          "Country": "Venezuela (Bolivarian Republic of)",
          "Date": "2015",
          "ISO": "VEN",
          "WHO_region": "Americas",
          "value": 7.44000005722046
         },
         {
          "19-20Diff": 0.5279998779297017,
          "Country": "Botswana",
          "Date": "2015",
          "ISO": "BWA",
          "WHO_region": "African",
          "value": 17.7469997406006
         },
         {
          "19-20Diff": 0.5180001258850098,
          "Country": "Nicaragua",
          "Date": "2015",
          "ISO": "NIC",
          "WHO_region": "Americas",
          "value": 4.69999980926514
         },
         {
          "19-20Diff": 0.48199939727780006,
          "Country": "Albania",
          "Date": "2015",
          "ISO": "ALB",
          "WHO_region": "European",
          "value": 17.0799999237061
         },
         {
          "19-20Diff": 0.45100021362303977,
          "Country": "Azerbaijan",
          "Date": "2015",
          "ISO": "AZE",
          "WHO_region": "European",
          "value": 4.96000003814697
         },
         {
          "19-20Diff": 0.9100008010865004,
          "Country": "Bahamas",
          "Date": "2016",
          "ISO": "BHS",
          "WHO_region": "Americas",
          "value": 12.6999998092651
         },
         {
          "19-20Diff": 0.8800001144409997,
          "Country": "Costa Rica",
          "Date": "2016",
          "ISO": "CRI",
          "WHO_region": "Americas",
          "value": 8.59799957275391
         },
         {
          "19-20Diff": 0.6470003128051793,
          "Country": "Argentina",
          "Date": "2016",
          "ISO": "ARG",
          "WHO_region": "Americas",
          "value": 7.97700023651123
         },
         {
          "19-20Diff": 0.6359999179840101,
          "Country": "China HongKong",
          "Date": "2016",
          "ISO": "HKG",
          "WHO_region": "Western Pacific",
          "value": 3.39000010490417
         },
         {
          "19-20Diff": 0.6069993972778001,
          "Country": "Barbados",
          "Date": "2016",
          "ISO": "BRB",
          "WHO_region": "Americas",
          "value": 9.72000026702881
         },
         {
          "19-20Diff": 0.5799999237060494,
          "Country": "Venezuela (Bolivarian Republic of)",
          "Date": "2016",
          "ISO": "VEN",
          "WHO_region": "Americas",
          "value": 7.3899998664856
         },
         {
          "19-20Diff": 0.5279998779297017,
          "Country": "Botswana",
          "Date": "2016",
          "ISO": "BWA",
          "WHO_region": "African",
          "value": 17.6590003967285
         },
         {
          "19-20Diff": 0.5180001258850098,
          "Country": "Nicaragua",
          "Date": "2016",
          "ISO": "NIC",
          "WHO_region": "Americas",
          "value": 3.90000009536743
         },
         {
          "19-20Diff": 0.48199939727780006,
          "Country": "Albania",
          "Date": "2016",
          "ISO": "ALB",
          "WHO_region": "European",
          "value": 15.2200002670288
         },
         {
          "19-20Diff": 0.45100021362303977,
          "Country": "Azerbaijan",
          "Date": "2016",
          "ISO": "AZE",
          "WHO_region": "European",
          "value": 5
         },
         {
          "19-20Diff": 0.9100008010865004,
          "Country": "Bahamas",
          "Date": "2017",
          "ISO": "BHS",
          "WHO_region": "Americas",
          "value": 9.80000019073486
         },
         {
          "19-20Diff": 0.8800001144409997,
          "Country": "Costa Rica",
          "Date": "2017",
          "ISO": "CRI",
          "WHO_region": "Americas",
          "value": 8.14200019836426
         },
         {
          "19-20Diff": 0.6470003128051793,
          "Country": "Argentina",
          "Date": "2017",
          "ISO": "ARG",
          "WHO_region": "Americas",
          "value": 8.34700012207031
         },
         {
          "19-20Diff": 0.6359999179840101,
          "Country": "China HongKong",
          "Date": "2017",
          "ISO": "HKG",
          "WHO_region": "Western Pacific",
          "value": 3.08999991416931
         },
         {
          "19-20Diff": 0.6069993972778001,
          "Country": "Barbados",
          "Date": "2017",
          "ISO": "BRB",
          "WHO_region": "Americas",
          "value": 9.76099967956543
         },
         {
          "19-20Diff": 0.5799999237060494,
          "Country": "Venezuela (Bolivarian Republic of)",
          "Date": "2017",
          "ISO": "VEN",
          "WHO_region": "Americas",
          "value": 7.30200004577637
         },
         {
          "19-20Diff": 0.5279998779297017,
          "Country": "Botswana",
          "Date": "2017",
          "ISO": "BWA",
          "WHO_region": "African",
          "value": 17.5049991607666
         },
         {
          "19-20Diff": 0.5180001258850098,
          "Country": "Nicaragua",
          "Date": "2017",
          "ISO": "NIC",
          "WHO_region": "Americas",
          "value": 3.29999995231628
         },
         {
          "19-20Diff": 0.48199939727780006,
          "Country": "Albania",
          "Date": "2017",
          "ISO": "ALB",
          "WHO_region": "European",
          "value": 13.75
         },
         {
          "19-20Diff": 0.45100021362303977,
          "Country": "Azerbaijan",
          "Date": "2017",
          "ISO": "AZE",
          "WHO_region": "European",
          "value": 5
         },
         {
          "19-20Diff": 0.9100008010865004,
          "Country": "Bahamas",
          "Date": "2018",
          "ISO": "BHS",
          "WHO_region": "Americas",
          "value": 10
         },
         {
          "19-20Diff": 0.8800001144409997,
          "Country": "Costa Rica",
          "Date": "2018",
          "ISO": "CRI",
          "WHO_region": "Americas",
          "value": 9.63199996948242
         },
         {
          "19-20Diff": 0.6470003128051793,
          "Country": "Argentina",
          "Date": "2018",
          "ISO": "ARG",
          "WHO_region": "Americas",
          "value": 9.22000026702881
         },
         {
          "19-20Diff": 0.6359999179840101,
          "Country": "China HongKong",
          "Date": "2018",
          "ISO": "HKG",
          "WHO_region": "Western Pacific",
          "value": 2.90300011634827
         },
         {
          "19-20Diff": 0.6069993972778001,
          "Country": "Barbados",
          "Date": "2018",
          "ISO": "BRB",
          "WHO_region": "Americas",
          "value": 9.38500022888184
         },
         {
          "19-20Diff": 0.5799999237060494,
          "Country": "Venezuela (Bolivarian Republic of)",
          "Date": "2018",
          "ISO": "VEN",
          "WHO_region": "Americas",
          "value": 7.21700000762939
         },
         {
          "19-20Diff": 0.5279998779297017,
          "Country": "Botswana",
          "Date": "2018",
          "ISO": "BWA",
          "WHO_region": "African",
          "value": 17.3530006408691
         },
         {
          "19-20Diff": 0.5180001258850098,
          "Country": "Nicaragua",
          "Date": "2018",
          "ISO": "NIC",
          "WHO_region": "Americas",
          "value": 5.19999980926514
         },
         {
          "19-20Diff": 0.48199939727780006,
          "Country": "Albania",
          "Date": "2018",
          "ISO": "ALB",
          "WHO_region": "European",
          "value": 12.3400001525879
         },
         {
          "19-20Diff": 0.45100021362303977,
          "Country": "Azerbaijan",
          "Date": "2018",
          "ISO": "AZE",
          "WHO_region": "European",
          "value": 4.90000009536743
         },
         {
          "19-20Diff": 0.9100008010865004,
          "Country": "Bahamas",
          "Date": "2019",
          "ISO": "BHS",
          "WHO_region": "Americas",
          "value": 10.3599996566772
         },
         {
          "19-20Diff": 0.8800001144409997,
          "Country": "Costa Rica",
          "Date": "2019",
          "ISO": "CRI",
          "WHO_region": "Americas",
          "value": 11.8540000915527
         },
         {
          "19-20Diff": 0.6470003128051793,
          "Country": "Argentina",
          "Date": "2019",
          "ISO": "ARG",
          "WHO_region": "Americas",
          "value": 9.78899955749512
         },
         {
          "19-20Diff": 0.6359999179840101,
          "Country": "China HongKong",
          "Date": "2019",
          "ISO": "HKG",
          "WHO_region": "Western Pacific",
          "value": 3.62899994850159
         },
         {
          "19-20Diff": 0.6069993972778001,
          "Country": "Barbados",
          "Date": "2019",
          "ISO": "BRB",
          "WHO_region": "Americas",
          "value": 10.331000328064
         },
         {
          "19-20Diff": 0.5799999237060494,
          "Country": "Venezuela (Bolivarian Republic of)",
          "Date": "2019",
          "ISO": "VEN",
          "WHO_region": "Americas",
          "value": 8.80099964141846
         },
         {
          "19-20Diff": 0.5279998779297017,
          "Country": "Botswana",
          "Date": "2019",
          "ISO": "BWA",
          "WHO_region": "African",
          "value": 18.193000793457
         },
         {
          "19-20Diff": 0.5180001258850098,
          "Country": "Nicaragua",
          "Date": "2019",
          "ISO": "NIC",
          "WHO_region": "Americas",
          "value": 6.83699989318848
         },
         {
          "19-20Diff": 0.48199939727780006,
          "Country": "Albania",
          "Date": "2019",
          "ISO": "ALB",
          "WHO_region": "European",
          "value": 12.331000328064
         },
         {
          "19-20Diff": 0.45100021362303977,
          "Country": "Azerbaijan",
          "Date": "2019",
          "ISO": "AZE",
          "WHO_region": "European",
          "value": 5.50899982452393
         },
         {
          "19-20Diff": 0.9100008010865004,
          "Country": "Bahamas",
          "Date": "2020",
          "ISO": "BHS",
          "WHO_region": "Americas",
          "value": 11.2700004577637
         },
         {
          "19-20Diff": 0.8800001144409997,
          "Country": "Costa Rica",
          "Date": "2020",
          "ISO": "CRI",
          "WHO_region": "Americas",
          "value": 12.7340002059937
         },
         {
          "19-20Diff": 0.6470003128051793,
          "Country": "Argentina",
          "Date": "2020",
          "ISO": "ARG",
          "WHO_region": "Americas",
          "value": 10.4359998703003
         },
         {
          "19-20Diff": 0.6359999179840101,
          "Country": "China HongKong",
          "Date": "2020",
          "ISO": "HKG",
          "WHO_region": "Western Pacific",
          "value": 4.2649998664856
         },
         {
          "19-20Diff": 0.6069993972778001,
          "Country": "Barbados",
          "Date": "2020",
          "ISO": "BRB",
          "WHO_region": "Americas",
          "value": 10.9379997253418
         },
         {
          "19-20Diff": 0.5799999237060494,
          "Country": "Venezuela (Bolivarian Republic of)",
          "Date": "2020",
          "ISO": "VEN",
          "WHO_region": "Americas",
          "value": 9.38099956512451
         },
         {
          "19-20Diff": 0.5279998779297017,
          "Country": "Botswana",
          "Date": "2020",
          "ISO": "BWA",
          "WHO_region": "African",
          "value": 18.7210006713867
         },
         {
          "19-20Diff": 0.5180001258850098,
          "Country": "Nicaragua",
          "Date": "2020",
          "ISO": "NIC",
          "WHO_region": "Americas",
          "value": 7.35500001907349
         },
         {
          "19-20Diff": 0.48199939727780006,
          "Country": "Albania",
          "Date": "2020",
          "ISO": "ALB",
          "WHO_region": "European",
          "value": 12.8129997253418
         },
         {
          "19-20Diff": 0.45100021362303977,
          "Country": "Azerbaijan",
          "Date": "2020",
          "ISO": "AZE",
          "WHO_region": "European",
          "value": 5.96000003814697
         }
        ]
       },
       "encoding": {
        "color": {
         "field": "Country",
         "type": "nominal"
        },
        "x": {
         "axis": {
          "title": "Year"
         },
         "field": "Date",
         "type": "ordinal"
        },
        "y": {
         "axis": {
          "title": "Average unemployment rate (% labour force)"
         },
         "field": "mean_value",
         "type": "quantitative"
        }
       },
       "height": 300,
       "mark": {
        "point": true,
        "type": "line"
       },
       "title": "Unemployment Rate in Top 10 Increased since 2019 Countries over Years",
       "transform": [
        {
         "aggregate": [
          {
           "as": "mean_value",
           "field": "value",
           "op": "mean"
          }
         ],
         "groupby": [
          "Country",
          "Date"
         ]
        }
       ],
       "width": 400
      },
      "image/png": "[encoded data removed]",
      "image/svg+xml": [
       "<?xml version=\"1.0\" encoding=\"utf-8\"?>\n",
       "<!DOCTYPE svg PUBLIC \"-//W3C//DTD SVG 1.1//EN\" \"http://www.w3.org/Graphics/SVG/1.1/DTD/svg11.dtd\">\n",
       "<svg class=\"marks\" width=\"635\" height=\"378\" viewBox=\"0 0 635 378\" version=\"1.1\" xmlns=\"http://www.w3.org/2000/svg\" xmlns:xlink=\"http://www.w3.org/1999/xlink\"><rect width=\"635\" height=\"378\" fill=\"white\"></rect><g fill=\"none\" stroke-miterlimit=\"10\" transform=\"translate(39,27)\"><g class=\"mark-group role-frame root\" role=\"graphics-object\" aria-roledescription=\"group mark container\"><g transform=\"translate(0,0)\"><path class=\"background\" aria-hidden=\"true\" d=\"M0.5,0.5h400v300h-400Z\" stroke=\"#ddd\"></path><g><g class=\"mark-group role-axis\" aria-hidden=\"true\"><g transform=\"translate(0.5,0.5)\"><path class=\"background\" aria-hidden=\"true\" d=\"M0,0h0v0h0Z\" pointer-events=\"none\"></path><g><g class=\"mark-rule role-axis-grid\" pointer-events=\"none\"><line transform=\"translate(0,300)\" x2=\"400\" y2=\"0\" stroke=\"#ddd\" stroke-width=\"1\" opacity=\"1\"></line><line transform=\"translate(0,270)\" x2=\"400\" y2=\"0\" stroke=\"#ddd\" stroke-width=\"1\" opacity=\"1\"></line><line transform=\"translate(0,240)\" x2=\"400\" y2=\"0\" stroke=\"#ddd\" stroke-width=\"1\" opacity=\"1\"></line><line transform=\"translate(0,210)\" x2=\"400\" y2=\"0\" stroke=\"#ddd\" stroke-width=\"1\" opacity=\"1\"></line><line transform=\"translate(0,180)\" x2=\"400\" y2=\"0\" stroke=\"#ddd\" stroke-width=\"1\" opacity=\"1\"></line><line transform=\"translate(0,150)\" x2=\"400\" y2=\"0\" stroke=\"#ddd\" stroke-width=\"1\" opacity=\"1\"></line><line transform=\"translate(0,120)\" x2=\"400\" y2=\"0\" stroke=\"#ddd\" stroke-width=\"1\" opacity=\"1\"></line><line transform=\"translate(0,90)\" x2=\"400\" y2=\"0\" stroke=\"#ddd\" stroke-width=\"1\" opacity=\"1\"></line><line transform=\"translate(0,60)\" x2=\"400\" y2=\"0\" stroke=\"#ddd\" stroke-width=\"1\" opacity=\"1\"></line><line transform=\"translate(0,30)\" x2=\"400\" y2=\"0\" stroke=\"#ddd\" stroke-width=\"1\" opacity=\"1\"></line><line transform=\"translate(0,0)\" x2=\"400\" y2=\"0\" stroke=\"#ddd\" stroke-width=\"1\" opacity=\"1\"></line></g></g><path class=\"foreground\" aria-hidden=\"true\" d=\"\" pointer-events=\"none\" display=\"none\"></path></g></g><g class=\"mark-group role-axis\" role=\"graphics-symbol\" aria-roledescription=\"axis\" aria-label=\"X-axis titled 'Year' for a discrete scale with 10 values: 2011, 2012, 2013, 2014, 2015, ending with 2020\"><g transform=\"translate(0.5,300.5)\"><path class=\"background\" aria-hidden=\"true\" d=\"M0,0h0v0h0Z\" pointer-events=\"none\"></path><g><g class=\"mark-rule role-axis-tick\" pointer-events=\"none\"><line transform=\"translate(20,0)\" x2=\"0\" y2=\"5\" stroke=\"#888\" stroke-width=\"1\" opacity=\"1\"></line><line transform=\"translate(60,0)\" x2=\"0\" y2=\"5\" stroke=\"#888\" stroke-width=\"1\" opacity=\"1\"></line><line transform=\"translate(100,0)\" x2=\"0\" y2=\"5\" stroke=\"#888\" stroke-width=\"1\" opacity=\"1\"></line><line transform=\"translate(140,0)\" x2=\"0\" y2=\"5\" stroke=\"#888\" stroke-width=\"1\" opacity=\"1\"></line><line transform=\"translate(180,0)\" x2=\"0\" y2=\"5\" stroke=\"#888\" stroke-width=\"1\" opacity=\"1\"></line><line transform=\"translate(220,0)\" x2=\"0\" y2=\"5\" stroke=\"#888\" stroke-width=\"1\" opacity=\"1\"></line><line transform=\"translate(260,0)\" x2=\"0\" y2=\"5\" stroke=\"#888\" stroke-width=\"1\" opacity=\"1\"></line><line transform=\"translate(300,0)\" x2=\"0\" y2=\"5\" stroke=\"#888\" stroke-width=\"1\" opacity=\"1\"></line><line transform=\"translate(340,0)\" x2=\"0\" y2=\"5\" stroke=\"#888\" stroke-width=\"1\" opacity=\"1\"></line><line transform=\"translate(380,0)\" x2=\"0\" y2=\"5\" stroke=\"#888\" stroke-width=\"1\" opacity=\"1\"></line></g><g class=\"mark-text role-axis-label\" pointer-events=\"none\"><text text-anchor=\"end\" transform=\"translate(20,7) rotate(270) translate(0,3)\" font-family=\"sans-serif\" font-size=\"10px\" fill=\"#000\" opacity=\"1\">2011</text><text text-anchor=\"end\" transform=\"translate(60,7) rotate(270) translate(0,3)\" font-family=\"sans-serif\" font-size=\"10px\" fill=\"#000\" opacity=\"1\">2012</text><text text-anchor=\"end\" transform=\"translate(100,7) rotate(270) translate(0,3)\" font-family=\"sans-serif\" font-size=\"10px\" fill=\"#000\" opacity=\"1\">2013</text><text text-anchor=\"end\" transform=\"translate(140,7) rotate(270) translate(0,3)\" font-family=\"sans-serif\" font-size=\"10px\" fill=\"#000\" opacity=\"1\">2014</text><text text-anchor=\"end\" transform=\"translate(180,7) rotate(270) translate(0,3)\" font-family=\"sans-serif\" font-size=\"10px\" fill=\"#000\" opacity=\"1\">2015</text><text text-anchor=\"end\" transform=\"translate(220,7) rotate(270) translate(0,3)\" font-family=\"sans-serif\" font-size=\"10px\" fill=\"#000\" opacity=\"1\">2016</text><text text-anchor=\"end\" transform=\"translate(260,7) rotate(270) translate(0,3)\" font-family=\"sans-serif\" font-size=\"10px\" fill=\"#000\" opacity=\"1\">2017</text><text text-anchor=\"end\" transform=\"translate(300,7) rotate(270) translate(0,3)\" font-family=\"sans-serif\" font-size=\"10px\" fill=\"#000\" opacity=\"1\">2018</text><text text-anchor=\"end\" transform=\"translate(340,7) rotate(270) translate(0,3)\" font-family=\"sans-serif\" font-size=\"10px\" fill=\"#000\" opacity=\"1\">2019</text><text text-anchor=\"end\" transform=\"translate(380,7) rotate(270) translate(0,3)\" font-family=\"sans-serif\" font-size=\"10px\" fill=\"#000\" opacity=\"1\">2020</text></g><g class=\"mark-rule role-axis-domain\" pointer-events=\"none\"><line transform=\"translate(0,0)\" x2=\"400\" y2=\"0\" stroke=\"#888\" stroke-width=\"1\" opacity=\"1\"></line></g><g class=\"mark-text role-axis-title\" pointer-events=\"none\"><text text-anchor=\"middle\" transform=\"translate(200,44)\" font-family=\"sans-serif\" font-size=\"11px\" font-weight=\"bold\" fill=\"#000\" opacity=\"1\">Year</text></g></g><path class=\"foreground\" aria-hidden=\"true\" d=\"\" pointer-events=\"none\" display=\"none\"></path></g></g><g class=\"mark-group role-axis\" role=\"graphics-symbol\" aria-roledescription=\"axis\" aria-label=\"Y-axis titled 'Average unemployment rate (% labour force)' for a linear scale with values from 0 to 20\"><g transform=\"translate(0.5,0.5)\"><path class=\"background\" aria-hidden=\"true\" d=\"M0,0h0v0h0Z\" pointer-events=\"none\"></path><g><g class=\"mark-rule role-axis-tick\" pointer-events=\"none\"><line transform=\"translate(0,300)\" x2=\"-5\" y2=\"0\" stroke=\"#888\" stroke-width=\"1\" opacity=\"1\"></line><line transform=\"translate(0,270)\" x2=\"-5\" y2=\"0\" stroke=\"#888\" stroke-width=\"1\" opacity=\"1\"></line><line transform=\"translate(0,240)\" x2=\"-5\" y2=\"0\" stroke=\"#888\" stroke-width=\"1\" opacity=\"1\"></line><line transform=\"translate(0,210)\" x2=\"-5\" y2=\"0\" stroke=\"#888\" stroke-width=\"1\" opacity=\"1\"></line><line transform=\"translate(0,180)\" x2=\"-5\" y2=\"0\" stroke=\"#888\" stroke-width=\"1\" opacity=\"1\"></line><line transform=\"translate(0,150)\" x2=\"-5\" y2=\"0\" stroke=\"#888\" stroke-width=\"1\" opacity=\"1\"></line><line transform=\"translate(0,120)\" x2=\"-5\" y2=\"0\" stroke=\"#888\" stroke-width=\"1\" opacity=\"1\"></line><line transform=\"translate(0,90)\" x2=\"-5\" y2=\"0\" stroke=\"#888\" stroke-width=\"1\" opacity=\"1\"></line><line transform=\"translate(0,60)\" x2=\"-5\" y2=\"0\" stroke=\"#888\" stroke-width=\"1\" opacity=\"1\"></line><line transform=\"translate(0,30)\" x2=\"-5\" y2=\"0\" stroke=\"#888\" stroke-width=\"1\" opacity=\"1\"></line><line transform=\"translate(0,0)\" x2=\"-5\" y2=\"0\" stroke=\"#888\" stroke-width=\"1\" opacity=\"1\"></line></g><g class=\"mark-text role-axis-label\" pointer-events=\"none\"><text text-anchor=\"end\" transform=\"translate(-7,303)\" font-family=\"sans-serif\" font-size=\"10px\" fill=\"#000\" opacity=\"1\">0</text><text text-anchor=\"end\" transform=\"translate(-7,273)\" font-family=\"sans-serif\" font-size=\"10px\" fill=\"#000\" opacity=\"1\">2</text><text text-anchor=\"end\" transform=\"translate(-7,243)\" font-family=\"sans-serif\" font-size=\"10px\" fill=\"#000\" opacity=\"1\">4</text><text text-anchor=\"end\" transform=\"translate(-7,213)\" font-family=\"sans-serif\" font-size=\"10px\" fill=\"#000\" opacity=\"1\">6</text><text text-anchor=\"end\" transform=\"translate(-7,183)\" font-family=\"sans-serif\" font-size=\"10px\" fill=\"#000\" opacity=\"1\">8</text><text text-anchor=\"end\" transform=\"translate(-7,153)\" font-family=\"sans-serif\" font-size=\"10px\" fill=\"#000\" opacity=\"1\">10</text><text text-anchor=\"end\" transform=\"translate(-7,123)\" font-family=\"sans-serif\" font-size=\"10px\" fill=\"#000\" opacity=\"1\">12</text><text text-anchor=\"end\" transform=\"translate(-7,93.00000000000001)\" font-family=\"sans-serif\" font-size=\"10px\" fill=\"#000\" opacity=\"1\">14</text><text text-anchor=\"end\" transform=\"translate(-7,62.999999999999986)\" font-family=\"sans-serif\" font-size=\"10px\" fill=\"#000\" opacity=\"1\">16</text><text text-anchor=\"end\" transform=\"translate(-7,32.99999999999999)\" font-family=\"sans-serif\" font-size=\"10px\" fill=\"#000\" opacity=\"1\">18</text><text text-anchor=\"end\" transform=\"translate(-7,3)\" font-family=\"sans-serif\" font-size=\"10px\" fill=\"#000\" opacity=\"1\">20</text></g><g class=\"mark-rule role-axis-domain\" pointer-events=\"none\"><line transform=\"translate(0,300)\" x2=\"0\" y2=\"-300\" stroke=\"#888\" stroke-width=\"1\" opacity=\"1\"></line></g><g class=\"mark-text role-axis-title\" pointer-events=\"none\"><text text-anchor=\"middle\" transform=\"translate(-23,150) rotate(-90) translate(0,-2)\" font-family=\"sans-serif\" font-size=\"11px\" font-weight=\"bold\" fill=\"#000\" opacity=\"1\">Average unemployment rate (% labour force)</text></g></g><path class=\"foreground\" aria-hidden=\"true\" d=\"\" pointer-events=\"none\" display=\"none\"></path></g></g><g class=\"mark-group role-scope layer_0_pathgroup\" role=\"graphics-object\" aria-roledescription=\"group mark container\"><g transform=\"translate(0,0)\"><path class=\"background\" aria-hidden=\"true\" d=\"M0,0h400v300h-400Z\"></path><g><g class=\"mark-line role-mark layer_0_marks\" role=\"graphics-object\" aria-roledescription=\"line mark container\"><path aria-label=\"Year: 2011; Average unemployment rate (% labour force): 14.5200004578; Country: Bahamas\" role=\"graphics-symbol\" aria-roledescription=\"line mark\" d=\"M20,82.1999931335445L60,89.69999313354451L100,57.29999542236301L140,92.9999971389765L180,120L220,109.50000286102352L260,152.9999971389771L300,150L340,144.60000514984202L380,130.9499931335445\" stroke=\"#72b7b2\" stroke-width=\"2\"></path></g></g><path class=\"foreground\" aria-hidden=\"true\" d=\"\" display=\"none\"></path></g><g transform=\"translate(0,0)\"><path class=\"background\" aria-hidden=\"true\" d=\"M0,0h400v300h-400Z\"></path><g><g class=\"mark-line role-mark layer_0_marks\" role=\"graphics-object\" aria-roledescription=\"line mark container\"><path aria-label=\"Year: 2011; Average unemployment rate (% labour force): 10.138999939; Country: Costa Rica\" role=\"graphics-symbol\" aria-roledescription=\"line mark\" d=\"M20,147.91500091552803L60,153.23999404907224L100,168.48000526428223L140,164.11499977111814L180,165.01500606536865L220,171.03000640869135L260,177.86999702453613L300,155.52000045776367L340,122.18999862670948L380,108.98999691009449\" stroke=\"#ff9da6\" stroke-width=\"2\"></path></g></g><path class=\"foreground\" aria-hidden=\"true\" d=\"\" display=\"none\"></path></g><g transform=\"translate(0,0)\"><path class=\"background\" aria-hidden=\"true\" d=\"M0,0h400v300h-400Z\"></path><g><g class=\"mark-line role-mark layer_0_marks\" role=\"graphics-object\" aria-roledescription=\"line mark container\"><path aria-label=\"Year: 2011; Average unemployment rate (% labour force): 7.17999982834; Country: Argentina\" role=\"graphics-symbol\" aria-roledescription=\"line mark\" d=\"M20,192.30000257492068L60,191.74499988555914L100,193.50000143051145L140,190.97999811172485L180,183.75L220,180.34499645233157L260,174.7949981689453L300,161.69999599456787L340,153.16500663757319L380,143.4600019454955\" stroke=\"#f58518\" stroke-width=\"2\"></path></g></g><path class=\"foreground\" aria-hidden=\"true\" d=\"\" display=\"none\"></path></g><g transform=\"translate(0,0)\"><path class=\"background\" aria-hidden=\"true\" d=\"M0,0h400v300h-400Z\"></path><g><g class=\"mark-line role-mark layer_0_marks\" role=\"graphics-object\" aria-roledescription=\"line mark container\"><path aria-label=\"Year: 2011; Average unemployment rate (% labour force): 3.42000007629; Country: China HongKong\" role=\"graphics-symbol\" aria-roledescription=\"line mark\" d=\"M20,248.69999885559076L60,250.65000057220456L100,248.99999856948855L140,250.50000071525577L180,250.20000100135803L220,249.14999842643746L260,253.65000128746036L300,256.45499825477594L340,245.56500077247614L380,236.025002002716\" stroke=\"#b279a2\" stroke-width=\"2\"></path></g></g><path class=\"foreground\" aria-hidden=\"true\" d=\"\" display=\"none\"></path></g><g transform=\"translate(0,0)\"><path class=\"background\" aria-hidden=\"true\" d=\"M0,0h400v300h-400Z\"></path><g><g class=\"mark-line role-mark layer_0_marks\" role=\"graphics-object\" aria-roledescription=\"line mark container\"><path aria-label=\"Year: 2011; Average unemployment rate (% labour force): 11.1899995804; Country: Barbados\" role=\"graphics-symbol\" aria-roledescription=\"line mark\" d=\"M20,132.1500062942505L60,126.1499977111815L100,126.74999713897648L140,117.44999885559152L180,129.7499942779545L220,154.19999599456784L260,153.58500480651855L300,159.2249965667724L340,145.03499507904002L380,135.930004119873\" stroke=\"#54a24b\" stroke-width=\"2\"></path></g></g><path class=\"foreground\" aria-hidden=\"true\" d=\"\" display=\"none\"></path></g><g transform=\"translate(0,0)\"><path class=\"background\" aria-hidden=\"true\" d=\"M0,0h400v300h-400Z\"></path><g><g class=\"mark-line role-mark layer_0_marks\" role=\"graphics-object\" aria-roledescription=\"line mark container\"><path aria-label=\"Year: 2011; Average unemployment rate (% labour force): 6.90199995041; Country: Venezuela (Bolivarian Republic of)\" role=\"graphics-symbol\" aria-roledescription=\"line mark\" d=\"M20,196.4700007438659L60,200.9850025177002L100,186.90000057220456L140,187.7850008010864L180,188.39999914169312L220,189.150002002716L260,190.46999931335446L300,191.74499988555914L340,167.9850053787231L380,159.28500652313235\" stroke=\"#bab0ac\" stroke-width=\"2\"></path></g></g><path class=\"foreground\" aria-hidden=\"true\" d=\"\" display=\"none\"></path></g><g transform=\"translate(0,0)\"><path class=\"background\" aria-hidden=\"true\" d=\"M0,0h400v300h-400Z\"></path><g><g class=\"mark-line role-mark layer_0_marks\" role=\"graphics-object\" aria-roledescription=\"line mark container\"><path aria-label=\"Year: 2011; Average unemployment rate (% labour force): 17.8649997711; Country: Botswana\" role=\"graphics-symbol\" aria-roledescription=\"line mark\" d=\"M20,32.025003433227006L60,31.665000915527997L100,31.185007095337514L140,32.71499633789101L180,33.795003890991005L220,35.11499404907248L260,37.425012588500984L300,39.70499038696349L340,27.10498809814501L380,19.184989929199492\" stroke=\"#eeca3b\" stroke-width=\"2\"></path></g></g><path class=\"foreground\" aria-hidden=\"true\" d=\"\" display=\"none\"></path></g><g transform=\"translate(0,0)\"><path class=\"background\" aria-hidden=\"true\" d=\"M0,0h400v300h-400Z\"></path><g><g class=\"mark-line role-mark layer_0_marks\" role=\"graphics-object\" aria-roledescription=\"line mark container\"><path aria-label=\"Year: 2011; Average unemployment rate (% labour force): 6.4470000267; Country: Nicaragua\" role=\"graphics-symbol\" aria-roledescription=\"line mark\" d=\"M20,203.2949995994568L60,221.87999725341794L100,220.79999685287476L140,232.2149991989136L180,229.5000028610229L220,241.49999856948853L260,250.50000071525577L300,222.0000028610229L340,197.4450016021728L380,189.67499971389765\" stroke=\"#9d755d\" stroke-width=\"2\"></path></g></g><path class=\"foreground\" aria-hidden=\"true\" d=\"\" display=\"none\"></path></g><g transform=\"translate(0,0)\"><path class=\"background\" aria-hidden=\"true\" d=\"M0,0h400v300h-400Z\"></path><g><g class=\"mark-line role-mark layer_0_marks\" role=\"graphics-object\" aria-roledescription=\"line mark container\"><path aria-label=\"Year: 2011; Average unemployment rate (% labour force): 13.4809999466; Country: Albania\" role=\"graphics-symbol\" aria-roledescription=\"line mark\" d=\"M20,97.78500080108702L60,99.3599939346315L100,62.009997367858496L140,37.65000343322702L180,43.800001144408476L220,71.69999599456801L260,93.75L300,114.8999977111815L340,115.03499507903999L380,107.80500411987299\" stroke=\"#4c78a8\" stroke-width=\"2\"></path></g></g><path class=\"foreground\" aria-hidden=\"true\" d=\"\" display=\"none\"></path></g><g transform=\"translate(0,0)\"><path class=\"background\" aria-hidden=\"true\" d=\"M0,0h400v300h-400Z\"></path><g><g class=\"mark-line role-mark layer_0_marks\" role=\"graphics-object\" aria-roledescription=\"line mark container\"><path aria-label=\"Year: 2011; Average unemployment rate (% labour force): 5.42000007629; Country: Azerbaijan\" role=\"graphics-symbol\" aria-roledescription=\"line mark\" d=\"M20,218.69999885559076L60,222.1499991416931L100,225.45000314712524L140,226.35000228881836L180,225.59999942779544L220,225L260,225L300,226.49999856948855L340,217.36500263214106L380,210.59999942779544\" stroke=\"#e45756\" stroke-width=\"2\"></path></g></g><path class=\"foreground\" aria-hidden=\"true\" d=\"\" display=\"none\"></path></g></g><g class=\"mark-symbol role-mark layer_1_marks\" role=\"graphics-object\" aria-roledescription=\"symbol mark container\"><path aria-label=\"Year: 2011; Average unemployment rate (% labour force): 14.5200004578; Country: Bahamas\" role=\"graphics-symbol\" aria-roledescription=\"point\" transform=\"translate(20,82.1999931335445)\" d=\"M2.7386127875258306,0A2.7386127875258306,2.7386127875258306,0,1,1,-2.7386127875258306,0A2.7386127875258306,2.7386127875258306,0,1,1,2.7386127875258306,0\" fill=\"#72b7b2\" stroke-width=\"2\" opacity=\"1\"></path><path aria-label=\"Year: 2011; Average unemployment rate (% labour force): 10.138999939; Country: Costa Rica\" role=\"graphics-symbol\" aria-roledescription=\"point\" transform=\"translate(20,147.91500091552803)\" d=\"M2.7386127875258306,0A2.7386127875258306,2.7386127875258306,0,1,1,-2.7386127875258306,0A2.7386127875258306,2.7386127875258306,0,1,1,2.7386127875258306,0\" fill=\"#ff9da6\" stroke-width=\"2\" opacity=\"1\"></path><path aria-label=\"Year: 2011; Average unemployment rate (% labour force): 7.17999982834; Country: Argentina\" role=\"graphics-symbol\" aria-roledescription=\"point\" transform=\"translate(20,192.30000257492068)\" d=\"M2.7386127875258306,0A2.7386127875258306,2.7386127875258306,0,1,1,-2.7386127875258306,0A2.7386127875258306,2.7386127875258306,0,1,1,2.7386127875258306,0\" fill=\"#f58518\" stroke-width=\"2\" opacity=\"1\"></path><path aria-label=\"Year: 2011; Average unemployment rate (% labour force): 3.42000007629; Country: China HongKong\" role=\"graphics-symbol\" aria-roledescription=\"point\" transform=\"translate(20,248.69999885559076)\" d=\"M2.7386127875258306,0A2.7386127875258306,2.7386127875258306,0,1,1,-2.7386127875258306,0A2.7386127875258306,2.7386127875258306,0,1,1,2.7386127875258306,0\" fill=\"#b279a2\" stroke-width=\"2\" opacity=\"1\"></path><path aria-label=\"Year: 2011; Average unemployment rate (% labour force): 11.1899995804; Country: Barbados\" role=\"graphics-symbol\" aria-roledescription=\"point\" transform=\"translate(20,132.1500062942505)\" d=\"M2.7386127875258306,0A2.7386127875258306,2.7386127875258306,0,1,1,-2.7386127875258306,0A2.7386127875258306,2.7386127875258306,0,1,1,2.7386127875258306,0\" fill=\"#54a24b\" stroke-width=\"2\" opacity=\"1\"></path><path aria-label=\"Year: 2011; Average unemployment rate (% labour force): 6.90199995041; Country: Venezuela (Bolivarian Republic of)\" role=\"graphics-symbol\" aria-roledescription=\"point\" transform=\"translate(20,196.4700007438659)\" d=\"M2.7386127875258306,0A2.7386127875258306,2.7386127875258306,0,1,1,-2.7386127875258306,0A2.7386127875258306,2.7386127875258306,0,1,1,2.7386127875258306,0\" fill=\"#bab0ac\" stroke-width=\"2\" opacity=\"1\"></path><path aria-label=\"Year: 2011; Average unemployment rate (% labour force): 17.8649997711; Country: Botswana\" role=\"graphics-symbol\" aria-roledescription=\"point\" transform=\"translate(20,32.025003433227006)\" d=\"M2.7386127875258306,0A2.7386127875258306,2.7386127875258306,0,1,1,-2.7386127875258306,0A2.7386127875258306,2.7386127875258306,0,1,1,2.7386127875258306,0\" fill=\"#eeca3b\" stroke-width=\"2\" opacity=\"1\"></path><path aria-label=\"Year: 2011; Average unemployment rate (% labour force): 6.4470000267; Country: Nicaragua\" role=\"graphics-symbol\" aria-roledescription=\"point\" transform=\"translate(20,203.2949995994568)\" d=\"M2.7386127875258306,0A2.7386127875258306,2.7386127875258306,0,1,1,-2.7386127875258306,0A2.7386127875258306,2.7386127875258306,0,1,1,2.7386127875258306,0\" fill=\"#9d755d\" stroke-width=\"2\" opacity=\"1\"></path><path aria-label=\"Year: 2011; Average unemployment rate (% labour force): 13.4809999466; Country: Albania\" role=\"graphics-symbol\" aria-roledescription=\"point\" transform=\"translate(20,97.78500080108702)\" d=\"M2.7386127875258306,0A2.7386127875258306,2.7386127875258306,0,1,1,-2.7386127875258306,0A2.7386127875258306,2.7386127875258306,0,1,1,2.7386127875258306,0\" fill=\"#4c78a8\" stroke-width=\"2\" opacity=\"1\"></path><path aria-label=\"Year: 2011; Average unemployment rate (% labour force): 5.42000007629; Country: Azerbaijan\" role=\"graphics-symbol\" aria-roledescription=\"point\" transform=\"translate(20,218.69999885559076)\" d=\"M2.7386127875258306,0A2.7386127875258306,2.7386127875258306,0,1,1,-2.7386127875258306,0A2.7386127875258306,2.7386127875258306,0,1,1,2.7386127875258306,0\" fill=\"#e45756\" stroke-width=\"2\" opacity=\"1\"></path><path aria-label=\"Year: 2012; Average unemployment rate (% labour force): 14.0200004578; Country: Bahamas\" role=\"graphics-symbol\" aria-roledescription=\"point\" transform=\"translate(60,89.69999313354451)\" d=\"M2.7386127875258306,0A2.7386127875258306,2.7386127875258306,0,1,1,-2.7386127875258306,0A2.7386127875258306,2.7386127875258306,0,1,1,2.7386127875258306,0\" fill=\"#72b7b2\" stroke-width=\"2\" opacity=\"1\"></path><path aria-label=\"Year: 2012; Average unemployment rate (% labour force): 9.78400039673; Country: Costa Rica\" role=\"graphics-symbol\" aria-roledescription=\"point\" transform=\"translate(60,153.23999404907224)\" d=\"M2.7386127875258306,0A2.7386127875258306,2.7386127875258306,0,1,1,-2.7386127875258306,0A2.7386127875258306,2.7386127875258306,0,1,1,2.7386127875258306,0\" fill=\"#ff9da6\" stroke-width=\"2\" opacity=\"1\"></path><path aria-label=\"Year: 2012; Average unemployment rate (% labour force): 7.21700000763; Country: Argentina\" role=\"graphics-symbol\" aria-roledescription=\"point\" transform=\"translate(60,191.74499988555914)\" d=\"M2.7386127875258306,0A2.7386127875258306,2.7386127875258306,0,1,1,-2.7386127875258306,0A2.7386127875258306,2.7386127875258306,0,1,1,2.7386127875258306,0\" fill=\"#f58518\" stroke-width=\"2\" opacity=\"1\"></path><path aria-label=\"Year: 2012; Average unemployment rate (% labour force): 3.28999996185; Country: China HongKong\" role=\"graphics-symbol\" aria-roledescription=\"point\" transform=\"translate(60,250.65000057220456)\" d=\"M2.7386127875258306,0A2.7386127875258306,2.7386127875258306,0,1,1,-2.7386127875258306,0A2.7386127875258306,2.7386127875258306,0,1,1,2.7386127875258306,0\" fill=\"#b279a2\" stroke-width=\"2\" opacity=\"1\"></path><path aria-label=\"Year: 2012; Average unemployment rate (% labour force): 11.5900001526; Country: Barbados\" role=\"graphics-symbol\" aria-roledescription=\"point\" transform=\"translate(60,126.1499977111815)\" d=\"M2.7386127875258306,0A2.7386127875258306,2.7386127875258306,0,1,1,-2.7386127875258306,0A2.7386127875258306,2.7386127875258306,0,1,1,2.7386127875258306,0\" fill=\"#54a24b\" stroke-width=\"2\" opacity=\"1\"></path><path aria-label=\"Year: 2012; Average unemployment rate (% labour force): 6.60099983215; Country: Venezuela (Bolivarian Republic of)\" role=\"graphics-symbol\" aria-roledescription=\"point\" transform=\"translate(60,200.9850025177002)\" d=\"M2.7386127875258306,0A2.7386127875258306,2.7386127875258306,0,1,1,-2.7386127875258306,0A2.7386127875258306,2.7386127875258306,0,1,1,2.7386127875258306,0\" fill=\"#bab0ac\" stroke-width=\"2\" opacity=\"1\"></path><path aria-label=\"Year: 2012; Average unemployment rate (% labour force): 17.888999939; Country: Botswana\" role=\"graphics-symbol\" aria-roledescription=\"point\" transform=\"translate(60,31.665000915527997)\" d=\"M2.7386127875258306,0A2.7386127875258306,2.7386127875258306,0,1,1,-2.7386127875258306,0A2.7386127875258306,2.7386127875258306,0,1,1,2.7386127875258306,0\" fill=\"#eeca3b\" stroke-width=\"2\" opacity=\"1\"></path><path aria-label=\"Year: 2012; Average unemployment rate (% labour force): 5.20800018311; Country: Nicaragua\" role=\"graphics-symbol\" aria-roledescription=\"point\" transform=\"translate(60,221.87999725341794)\" d=\"M2.7386127875258306,0A2.7386127875258306,2.7386127875258306,0,1,1,-2.7386127875258306,0A2.7386127875258306,2.7386127875258306,0,1,1,2.7386127875258306,0\" fill=\"#9d755d\" stroke-width=\"2\" opacity=\"1\"></path><path aria-label=\"Year: 2012; Average unemployment rate (% labour force): 13.3760004044; Country: Albania\" role=\"graphics-symbol\" aria-roledescription=\"point\" transform=\"translate(60,99.3599939346315)\" d=\"M2.7386127875258306,0A2.7386127875258306,2.7386127875258306,0,1,1,-2.7386127875258306,0A2.7386127875258306,2.7386127875258306,0,1,1,2.7386127875258306,0\" fill=\"#4c78a8\" stroke-width=\"2\" opacity=\"1\"></path><path aria-label=\"Year: 2012; Average unemployment rate (% labour force): 5.19000005722; Country: Azerbaijan\" role=\"graphics-symbol\" aria-roledescription=\"point\" transform=\"translate(60,222.1499991416931)\" d=\"M2.7386127875258306,0A2.7386127875258306,2.7386127875258306,0,1,1,-2.7386127875258306,0A2.7386127875258306,2.7386127875258306,0,1,1,2.7386127875258306,0\" fill=\"#e45756\" stroke-width=\"2\" opacity=\"1\"></path><path aria-label=\"Year: 2013; Average unemployment rate (% labour force): 16.1800003052; Country: Bahamas\" role=\"graphics-symbol\" aria-roledescription=\"point\" transform=\"translate(100,57.29999542236301)\" d=\"M2.7386127875258306,0A2.7386127875258306,2.7386127875258306,0,1,1,-2.7386127875258306,0A2.7386127875258306,2.7386127875258306,0,1,1,2.7386127875258306,0\" fill=\"#72b7b2\" stroke-width=\"2\" opacity=\"1\"></path><path aria-label=\"Year: 2013; Average unemployment rate (% labour force): 8.76799964905; Country: Costa Rica\" role=\"graphics-symbol\" aria-roledescription=\"point\" transform=\"translate(100,168.48000526428223)\" d=\"M2.7386127875258306,0A2.7386127875258306,2.7386127875258306,0,1,1,-2.7386127875258306,0A2.7386127875258306,2.7386127875258306,0,1,1,2.7386127875258306,0\" fill=\"#ff9da6\" stroke-width=\"2\" opacity=\"1\"></path><path aria-label=\"Year: 2013; Average unemployment rate (% labour force): 7.09999990463; Country: Argentina\" role=\"graphics-symbol\" aria-roledescription=\"point\" transform=\"translate(100,193.50000143051145)\" d=\"M2.7386127875258306,0A2.7386127875258306,2.7386127875258306,0,1,1,-2.7386127875258306,0A2.7386127875258306,2.7386127875258306,0,1,1,2.7386127875258306,0\" fill=\"#f58518\" stroke-width=\"2\" opacity=\"1\"></path><path aria-label=\"Year: 2013; Average unemployment rate (% labour force): 3.40000009537; Country: China HongKong\" role=\"graphics-symbol\" aria-roledescription=\"point\" transform=\"translate(100,248.99999856948855)\" d=\"M2.7386127875258306,0A2.7386127875258306,2.7386127875258306,0,1,1,-2.7386127875258306,0A2.7386127875258306,2.7386127875258306,0,1,1,2.7386127875258306,0\" fill=\"#b279a2\" stroke-width=\"2\" opacity=\"1\"></path><path aria-label=\"Year: 2013; Average unemployment rate (% labour force): 11.5500001907; Country: Barbados\" role=\"graphics-symbol\" aria-roledescription=\"point\" transform=\"translate(100,126.74999713897648)\" d=\"M2.7386127875258306,0A2.7386127875258306,2.7386127875258306,0,1,1,-2.7386127875258306,0A2.7386127875258306,2.7386127875258306,0,1,1,2.7386127875258306,0\" fill=\"#54a24b\" stroke-width=\"2\" opacity=\"1\"></path><path aria-label=\"Year: 2013; Average unemployment rate (% labour force): 7.53999996185; Country: Venezuela (Bolivarian Republic of)\" role=\"graphics-symbol\" aria-roledescription=\"point\" transform=\"translate(100,186.90000057220456)\" d=\"M2.7386127875258306,0A2.7386127875258306,2.7386127875258306,0,1,1,-2.7386127875258306,0A2.7386127875258306,2.7386127875258306,0,1,1,2.7386127875258306,0\" fill=\"#bab0ac\" stroke-width=\"2\" opacity=\"1\"></path><path aria-label=\"Year: 2013; Average unemployment rate (% labour force): 17.920999527; Country: Botswana\" role=\"graphics-symbol\" aria-roledescription=\"point\" transform=\"translate(100,31.185007095337514)\" d=\"M2.7386127875258306,0A2.7386127875258306,2.7386127875258306,0,1,1,-2.7386127875258306,0A2.7386127875258306,2.7386127875258306,0,1,1,2.7386127875258306,0\" fill=\"#eeca3b\" stroke-width=\"2\" opacity=\"1\"></path><path aria-label=\"Year: 2013; Average unemployment rate (% labour force): 5.28000020981; Country: Nicaragua\" role=\"graphics-symbol\" aria-roledescription=\"point\" transform=\"translate(100,220.79999685287476)\" d=\"M2.7386127875258306,0A2.7386127875258306,2.7386127875258306,0,1,1,-2.7386127875258306,0A2.7386127875258306,2.7386127875258306,0,1,1,2.7386127875258306,0\" fill=\"#9d755d\" stroke-width=\"2\" opacity=\"1\"></path><path aria-label=\"Year: 2013; Average unemployment rate (% labour force): 15.8660001755; Country: Albania\" role=\"graphics-symbol\" aria-roledescription=\"point\" transform=\"translate(100,62.009997367858496)\" d=\"M2.7386127875258306,0A2.7386127875258306,2.7386127875258306,0,1,1,-2.7386127875258306,0A2.7386127875258306,2.7386127875258306,0,1,1,2.7386127875258306,0\" fill=\"#4c78a8\" stroke-width=\"2\" opacity=\"1\"></path><path aria-label=\"Year: 2013; Average unemployment rate (% labour force): 4.96999979019; Country: Azerbaijan\" role=\"graphics-symbol\" aria-roledescription=\"point\" transform=\"translate(100,225.45000314712524)\" d=\"M2.7386127875258306,0A2.7386127875258306,2.7386127875258306,0,1,1,-2.7386127875258306,0A2.7386127875258306,2.7386127875258306,0,1,1,2.7386127875258306,0\" fill=\"#e45756\" stroke-width=\"2\" opacity=\"1\"></path><path aria-label=\"Year: 2014; Average unemployment rate (% labour force): 13.8000001907; Country: Bahamas\" role=\"graphics-symbol\" aria-roledescription=\"point\" transform=\"translate(140,92.9999971389765)\" d=\"M2.7386127875258306,0A2.7386127875258306,2.7386127875258306,0,1,1,-2.7386127875258306,0A2.7386127875258306,2.7386127875258306,0,1,1,2.7386127875258306,0\" fill=\"#72b7b2\" stroke-width=\"2\" opacity=\"1\"></path><path aria-label=\"Year: 2014; Average unemployment rate (% labour force): 9.05900001526; Country: Costa Rica\" role=\"graphics-symbol\" aria-roledescription=\"point\" transform=\"translate(140,164.11499977111814)\" d=\"M2.7386127875258306,0A2.7386127875258306,2.7386127875258306,0,1,1,-2.7386127875258306,0A2.7386127875258306,2.7386127875258306,0,1,1,2.7386127875258306,0\" fill=\"#ff9da6\" stroke-width=\"2\" opacity=\"1\"></path><path aria-label=\"Year: 2014; Average unemployment rate (% labour force): 7.26800012589; Country: Argentina\" role=\"graphics-symbol\" aria-roledescription=\"point\" transform=\"translate(140,190.97999811172485)\" d=\"M2.7386127875258306,0A2.7386127875258306,2.7386127875258306,0,1,1,-2.7386127875258306,0A2.7386127875258306,2.7386127875258306,0,1,1,2.7386127875258306,0\" fill=\"#f58518\" stroke-width=\"2\" opacity=\"1\"></path><path aria-label=\"Year: 2014; Average unemployment rate (% labour force): 3.29999995232; Country: China HongKong\" role=\"graphics-symbol\" aria-roledescription=\"point\" transform=\"translate(140,250.50000071525577)\" d=\"M2.7386127875258306,0A2.7386127875258306,2.7386127875258306,0,1,1,-2.7386127875258306,0A2.7386127875258306,2.7386127875258306,0,1,1,2.7386127875258306,0\" fill=\"#b279a2\" stroke-width=\"2\" opacity=\"1\"></path><path aria-label=\"Year: 2014; Average unemployment rate (% labour force): 12.1700000763; Country: Barbados\" role=\"graphics-symbol\" aria-roledescription=\"point\" transform=\"translate(140,117.44999885559152)\" d=\"M2.7386127875258306,0A2.7386127875258306,2.7386127875258306,0,1,1,-2.7386127875258306,0A2.7386127875258306,2.7386127875258306,0,1,1,2.7386127875258306,0\" fill=\"#54a24b\" stroke-width=\"2\" opacity=\"1\"></path><path aria-label=\"Year: 2014; Average unemployment rate (% labour force): 7.48099994659; Country: Venezuela (Bolivarian Republic of)\" role=\"graphics-symbol\" aria-roledescription=\"point\" transform=\"translate(140,187.7850008010864)\" d=\"M2.7386127875258306,0A2.7386127875258306,2.7386127875258306,0,1,1,-2.7386127875258306,0A2.7386127875258306,2.7386127875258306,0,1,1,2.7386127875258306,0\" fill=\"#bab0ac\" stroke-width=\"2\" opacity=\"1\"></path><path aria-label=\"Year: 2014; Average unemployment rate (% labour force): 17.8190002441; Country: Botswana\" role=\"graphics-symbol\" aria-roledescription=\"point\" transform=\"translate(140,32.71499633789101)\" d=\"M2.7386127875258306,0A2.7386127875258306,2.7386127875258306,0,1,1,-2.7386127875258306,0A2.7386127875258306,2.7386127875258306,0,1,1,2.7386127875258306,0\" fill=\"#eeca3b\" stroke-width=\"2\" opacity=\"1\"></path><path aria-label=\"Year: 2014; Average unemployment rate (% labour force): 4.51900005341; Country: Nicaragua\" role=\"graphics-symbol\" aria-roledescription=\"point\" transform=\"translate(140,232.2149991989136)\" d=\"M2.7386127875258306,0A2.7386127875258306,2.7386127875258306,0,1,1,-2.7386127875258306,0A2.7386127875258306,2.7386127875258306,0,1,1,2.7386127875258306,0\" fill=\"#9d755d\" stroke-width=\"2\" opacity=\"1\"></path><path aria-label=\"Year: 2014; Average unemployment rate (% labour force): 17.4899997711; Country: Albania\" role=\"graphics-symbol\" aria-roledescription=\"point\" transform=\"translate(140,37.65000343322702)\" d=\"M2.7386127875258306,0A2.7386127875258306,2.7386127875258306,0,1,1,-2.7386127875258306,0A2.7386127875258306,2.7386127875258306,0,1,1,2.7386127875258306,0\" fill=\"#4c78a8\" stroke-width=\"2\" opacity=\"1\"></path><path aria-label=\"Year: 2014; Average unemployment rate (% labour force): 4.90999984741; Country: Azerbaijan\" role=\"graphics-symbol\" aria-roledescription=\"point\" transform=\"translate(140,226.35000228881836)\" d=\"M2.7386127875258306,0A2.7386127875258306,2.7386127875258306,0,1,1,-2.7386127875258306,0A2.7386127875258306,2.7386127875258306,0,1,1,2.7386127875258306,0\" fill=\"#e45756\" stroke-width=\"2\" opacity=\"1\"></path><path aria-label=\"Year: 2015; Average unemployment rate (% labour force): 12; Country: Bahamas\" role=\"graphics-symbol\" aria-roledescription=\"point\" transform=\"translate(180,120)\" d=\"M2.7386127875258306,0A2.7386127875258306,2.7386127875258306,0,1,1,-2.7386127875258306,0A2.7386127875258306,2.7386127875258306,0,1,1,2.7386127875258306,0\" fill=\"#72b7b2\" stroke-width=\"2\" opacity=\"1\"></path><path aria-label=\"Year: 2015; Average unemployment rate (% labour force): 8.99899959564; Country: Costa Rica\" role=\"graphics-symbol\" aria-roledescription=\"point\" transform=\"translate(180,165.01500606536865)\" d=\"M2.7386127875258306,0A2.7386127875258306,2.7386127875258306,0,1,1,-2.7386127875258306,0A2.7386127875258306,2.7386127875258306,0,1,1,2.7386127875258306,0\" fill=\"#ff9da6\" stroke-width=\"2\" opacity=\"1\"></path><path aria-label=\"Year: 2015; Average unemployment rate (% labour force): 7.75; Country: Argentina\" role=\"graphics-symbol\" aria-roledescription=\"point\" transform=\"translate(180,183.75)\" d=\"M2.7386127875258306,0A2.7386127875258306,2.7386127875258306,0,1,1,-2.7386127875258306,0A2.7386127875258306,2.7386127875258306,0,1,1,2.7386127875258306,0\" fill=\"#f58518\" stroke-width=\"2\" opacity=\"1\"></path><path aria-label=\"Year: 2015; Average unemployment rate (% labour force): 3.31999993324; Country: China HongKong\" role=\"graphics-symbol\" aria-roledescription=\"point\" transform=\"translate(180,250.20000100135803)\" d=\"M2.7386127875258306,0A2.7386127875258306,2.7386127875258306,0,1,1,-2.7386127875258306,0A2.7386127875258306,2.7386127875258306,0,1,1,2.7386127875258306,0\" fill=\"#b279a2\" stroke-width=\"2\" opacity=\"1\"></path><path aria-label=\"Year: 2015; Average unemployment rate (% labour force): 11.3500003815; Country: Barbados\" role=\"graphics-symbol\" aria-roledescription=\"point\" transform=\"translate(180,129.7499942779545)\" d=\"M2.7386127875258306,0A2.7386127875258306,2.7386127875258306,0,1,1,-2.7386127875258306,0A2.7386127875258306,2.7386127875258306,0,1,1,2.7386127875258306,0\" fill=\"#54a24b\" stroke-width=\"2\" opacity=\"1\"></path><path aria-label=\"Year: 2015; Average unemployment rate (% labour force): 7.44000005722; Country: Venezuela (Bolivarian Republic of)\" role=\"graphics-symbol\" aria-roledescription=\"point\" transform=\"translate(180,188.39999914169312)\" d=\"M2.7386127875258306,0A2.7386127875258306,2.7386127875258306,0,1,1,-2.7386127875258306,0A2.7386127875258306,2.7386127875258306,0,1,1,2.7386127875258306,0\" fill=\"#bab0ac\" stroke-width=\"2\" opacity=\"1\"></path><path aria-label=\"Year: 2015; Average unemployment rate (% labour force): 17.7469997406; Country: Botswana\" role=\"graphics-symbol\" aria-roledescription=\"point\" transform=\"translate(180,33.795003890991005)\" d=\"M2.7386127875258306,0A2.7386127875258306,2.7386127875258306,0,1,1,-2.7386127875258306,0A2.7386127875258306,2.7386127875258306,0,1,1,2.7386127875258306,0\" fill=\"#eeca3b\" stroke-width=\"2\" opacity=\"1\"></path><path aria-label=\"Year: 2015; Average unemployment rate (% labour force): 4.69999980927; Country: Nicaragua\" role=\"graphics-symbol\" aria-roledescription=\"point\" transform=\"translate(180,229.5000028610229)\" d=\"M2.7386127875258306,0A2.7386127875258306,2.7386127875258306,0,1,1,-2.7386127875258306,0A2.7386127875258306,2.7386127875258306,0,1,1,2.7386127875258306,0\" fill=\"#9d755d\" stroke-width=\"2\" opacity=\"1\"></path><path aria-label=\"Year: 2015; Average unemployment rate (% labour force): 17.0799999237; Country: Albania\" role=\"graphics-symbol\" aria-roledescription=\"point\" transform=\"translate(180,43.800001144408476)\" d=\"M2.7386127875258306,0A2.7386127875258306,2.7386127875258306,0,1,1,-2.7386127875258306,0A2.7386127875258306,2.7386127875258306,0,1,1,2.7386127875258306,0\" fill=\"#4c78a8\" stroke-width=\"2\" opacity=\"1\"></path><path aria-label=\"Year: 2015; Average unemployment rate (% labour force): 4.96000003815; Country: Azerbaijan\" role=\"graphics-symbol\" aria-roledescription=\"point\" transform=\"translate(180,225.59999942779544)\" d=\"M2.7386127875258306,0A2.7386127875258306,2.7386127875258306,0,1,1,-2.7386127875258306,0A2.7386127875258306,2.7386127875258306,0,1,1,2.7386127875258306,0\" fill=\"#e45756\" stroke-width=\"2\" opacity=\"1\"></path><path aria-label=\"Year: 2016; Average unemployment rate (% labour force): 12.6999998093; Country: Bahamas\" role=\"graphics-symbol\" aria-roledescription=\"point\" transform=\"translate(220,109.50000286102352)\" d=\"M2.7386127875258306,0A2.7386127875258306,2.7386127875258306,0,1,1,-2.7386127875258306,0A2.7386127875258306,2.7386127875258306,0,1,1,2.7386127875258306,0\" fill=\"#72b7b2\" stroke-width=\"2\" opacity=\"1\"></path><path aria-label=\"Year: 2016; Average unemployment rate (% labour force): 8.59799957275; Country: Costa Rica\" role=\"graphics-symbol\" aria-roledescription=\"point\" transform=\"translate(220,171.03000640869135)\" d=\"M2.7386127875258306,0A2.7386127875258306,2.7386127875258306,0,1,1,-2.7386127875258306,0A2.7386127875258306,2.7386127875258306,0,1,1,2.7386127875258306,0\" fill=\"#ff9da6\" stroke-width=\"2\" opacity=\"1\"></path><path aria-label=\"Year: 2016; Average unemployment rate (% labour force): 7.97700023651; Country: Argentina\" role=\"graphics-symbol\" aria-roledescription=\"point\" transform=\"translate(220,180.34499645233157)\" d=\"M2.7386127875258306,0A2.7386127875258306,2.7386127875258306,0,1,1,-2.7386127875258306,0A2.7386127875258306,2.7386127875258306,0,1,1,2.7386127875258306,0\" fill=\"#f58518\" stroke-width=\"2\" opacity=\"1\"></path><path aria-label=\"Year: 2016; Average unemployment rate (% labour force): 3.3900001049; Country: China HongKong\" role=\"graphics-symbol\" aria-roledescription=\"point\" transform=\"translate(220,249.14999842643746)\" d=\"M2.7386127875258306,0A2.7386127875258306,2.7386127875258306,0,1,1,-2.7386127875258306,0A2.7386127875258306,2.7386127875258306,0,1,1,2.7386127875258306,0\" fill=\"#b279a2\" stroke-width=\"2\" opacity=\"1\"></path><path aria-label=\"Year: 2016; Average unemployment rate (% labour force): 9.72000026703; Country: Barbados\" role=\"graphics-symbol\" aria-roledescription=\"point\" transform=\"translate(220,154.19999599456784)\" d=\"M2.7386127875258306,0A2.7386127875258306,2.7386127875258306,0,1,1,-2.7386127875258306,0A2.7386127875258306,2.7386127875258306,0,1,1,2.7386127875258306,0\" fill=\"#54a24b\" stroke-width=\"2\" opacity=\"1\"></path><path aria-label=\"Year: 2016; Average unemployment rate (% labour force): 7.38999986649; Country: Venezuela (Bolivarian Republic of)\" role=\"graphics-symbol\" aria-roledescription=\"point\" transform=\"translate(220,189.150002002716)\" d=\"M2.7386127875258306,0A2.7386127875258306,2.7386127875258306,0,1,1,-2.7386127875258306,0A2.7386127875258306,2.7386127875258306,0,1,1,2.7386127875258306,0\" fill=\"#bab0ac\" stroke-width=\"2\" opacity=\"1\"></path><path aria-label=\"Year: 2016; Average unemployment rate (% labour force): 17.6590003967; Country: Botswana\" role=\"graphics-symbol\" aria-roledescription=\"point\" transform=\"translate(220,35.11499404907248)\" d=\"M2.7386127875258306,0A2.7386127875258306,2.7386127875258306,0,1,1,-2.7386127875258306,0A2.7386127875258306,2.7386127875258306,0,1,1,2.7386127875258306,0\" fill=\"#eeca3b\" stroke-width=\"2\" opacity=\"1\"></path><path aria-label=\"Year: 2016; Average unemployment rate (% labour force): 3.90000009537; Country: Nicaragua\" role=\"graphics-symbol\" aria-roledescription=\"point\" transform=\"translate(220,241.49999856948853)\" d=\"M2.7386127875258306,0A2.7386127875258306,2.7386127875258306,0,1,1,-2.7386127875258306,0A2.7386127875258306,2.7386127875258306,0,1,1,2.7386127875258306,0\" fill=\"#9d755d\" stroke-width=\"2\" opacity=\"1\"></path><path aria-label=\"Year: 2016; Average unemployment rate (% labour force): 15.220000267; Country: Albania\" role=\"graphics-symbol\" aria-roledescription=\"point\" transform=\"translate(220,71.69999599456801)\" d=\"M2.7386127875258306,0A2.7386127875258306,2.7386127875258306,0,1,1,-2.7386127875258306,0A2.7386127875258306,2.7386127875258306,0,1,1,2.7386127875258306,0\" fill=\"#4c78a8\" stroke-width=\"2\" opacity=\"1\"></path><path aria-label=\"Year: 2016; Average unemployment rate (% labour force): 5; Country: Azerbaijan\" role=\"graphics-symbol\" aria-roledescription=\"point\" transform=\"translate(220,225)\" d=\"M2.7386127875258306,0A2.7386127875258306,2.7386127875258306,0,1,1,-2.7386127875258306,0A2.7386127875258306,2.7386127875258306,0,1,1,2.7386127875258306,0\" fill=\"#e45756\" stroke-width=\"2\" opacity=\"1\"></path><path aria-label=\"Year: 2017; Average unemployment rate (% labour force): 9.80000019073; Country: Bahamas\" role=\"graphics-symbol\" aria-roledescription=\"point\" transform=\"translate(260,152.9999971389771)\" d=\"M2.7386127875258306,0A2.7386127875258306,2.7386127875258306,0,1,1,-2.7386127875258306,0A2.7386127875258306,2.7386127875258306,0,1,1,2.7386127875258306,0\" fill=\"#72b7b2\" stroke-width=\"2\" opacity=\"1\"></path><path aria-label=\"Year: 2017; Average unemployment rate (% labour force): 8.14200019836; Country: Costa Rica\" role=\"graphics-symbol\" aria-roledescription=\"point\" transform=\"translate(260,177.86999702453613)\" d=\"M2.7386127875258306,0A2.7386127875258306,2.7386127875258306,0,1,1,-2.7386127875258306,0A2.7386127875258306,2.7386127875258306,0,1,1,2.7386127875258306,0\" fill=\"#ff9da6\" stroke-width=\"2\" opacity=\"1\"></path><path aria-label=\"Year: 2017; Average unemployment rate (% labour force): 8.34700012207; Country: Argentina\" role=\"graphics-symbol\" aria-roledescription=\"point\" transform=\"translate(260,174.7949981689453)\" d=\"M2.7386127875258306,0A2.7386127875258306,2.7386127875258306,0,1,1,-2.7386127875258306,0A2.7386127875258306,2.7386127875258306,0,1,1,2.7386127875258306,0\" fill=\"#f58518\" stroke-width=\"2\" opacity=\"1\"></path><path aria-label=\"Year: 2017; Average unemployment rate (% labour force): 3.08999991417; Country: China HongKong\" role=\"graphics-symbol\" aria-roledescription=\"point\" transform=\"translate(260,253.65000128746036)\" d=\"M2.7386127875258306,0A2.7386127875258306,2.7386127875258306,0,1,1,-2.7386127875258306,0A2.7386127875258306,2.7386127875258306,0,1,1,2.7386127875258306,0\" fill=\"#b279a2\" stroke-width=\"2\" opacity=\"1\"></path><path aria-label=\"Year: 2017; Average unemployment rate (% labour force): 9.76099967957; Country: Barbados\" role=\"graphics-symbol\" aria-roledescription=\"point\" transform=\"translate(260,153.58500480651855)\" d=\"M2.7386127875258306,0A2.7386127875258306,2.7386127875258306,0,1,1,-2.7386127875258306,0A2.7386127875258306,2.7386127875258306,0,1,1,2.7386127875258306,0\" fill=\"#54a24b\" stroke-width=\"2\" opacity=\"1\"></path><path aria-label=\"Year: 2017; Average unemployment rate (% labour force): 7.30200004578; Country: Venezuela (Bolivarian Republic of)\" role=\"graphics-symbol\" aria-roledescription=\"point\" transform=\"translate(260,190.46999931335446)\" d=\"M2.7386127875258306,0A2.7386127875258306,2.7386127875258306,0,1,1,-2.7386127875258306,0A2.7386127875258306,2.7386127875258306,0,1,1,2.7386127875258306,0\" fill=\"#bab0ac\" stroke-width=\"2\" opacity=\"1\"></path><path aria-label=\"Year: 2017; Average unemployment rate (% labour force): 17.5049991608; Country: Botswana\" role=\"graphics-symbol\" aria-roledescription=\"point\" transform=\"translate(260,37.425012588500984)\" d=\"M2.7386127875258306,0A2.7386127875258306,2.7386127875258306,0,1,1,-2.7386127875258306,0A2.7386127875258306,2.7386127875258306,0,1,1,2.7386127875258306,0\" fill=\"#eeca3b\" stroke-width=\"2\" opacity=\"1\"></path><path aria-label=\"Year: 2017; Average unemployment rate (% labour force): 3.29999995232; Country: Nicaragua\" role=\"graphics-symbol\" aria-roledescription=\"point\" transform=\"translate(260,250.50000071525577)\" d=\"M2.7386127875258306,0A2.7386127875258306,2.7386127875258306,0,1,1,-2.7386127875258306,0A2.7386127875258306,2.7386127875258306,0,1,1,2.7386127875258306,0\" fill=\"#9d755d\" stroke-width=\"2\" opacity=\"1\"></path><path aria-label=\"Year: 2017; Average unemployment rate (% labour force): 13.75; Country: Albania\" role=\"graphics-symbol\" aria-roledescription=\"point\" transform=\"translate(260,93.75)\" d=\"M2.7386127875258306,0A2.7386127875258306,2.7386127875258306,0,1,1,-2.7386127875258306,0A2.7386127875258306,2.7386127875258306,0,1,1,2.7386127875258306,0\" fill=\"#4c78a8\" stroke-width=\"2\" opacity=\"1\"></path><path aria-label=\"Year: 2017; Average unemployment rate (% labour force): 5; Country: Azerbaijan\" role=\"graphics-symbol\" aria-roledescription=\"point\" transform=\"translate(260,225)\" d=\"M2.7386127875258306,0A2.7386127875258306,2.7386127875258306,0,1,1,-2.7386127875258306,0A2.7386127875258306,2.7386127875258306,0,1,1,2.7386127875258306,0\" fill=\"#e45756\" stroke-width=\"2\" opacity=\"1\"></path><path aria-label=\"Year: 2018; Average unemployment rate (% labour force): 10; Country: Bahamas\" role=\"graphics-symbol\" aria-roledescription=\"point\" transform=\"translate(300,150)\" d=\"M2.7386127875258306,0A2.7386127875258306,2.7386127875258306,0,1,1,-2.7386127875258306,0A2.7386127875258306,2.7386127875258306,0,1,1,2.7386127875258306,0\" fill=\"#72b7b2\" stroke-width=\"2\" opacity=\"1\"></path><path aria-label=\"Year: 2018; Average unemployment rate (% labour force): 9.63199996948; Country: Costa Rica\" role=\"graphics-symbol\" aria-roledescription=\"point\" transform=\"translate(300,155.52000045776367)\" d=\"M2.7386127875258306,0A2.7386127875258306,2.7386127875258306,0,1,1,-2.7386127875258306,0A2.7386127875258306,2.7386127875258306,0,1,1,2.7386127875258306,0\" fill=\"#ff9da6\" stroke-width=\"2\" opacity=\"1\"></path><path aria-label=\"Year: 2018; Average unemployment rate (% labour force): 9.22000026703; Country: Argentina\" role=\"graphics-symbol\" aria-roledescription=\"point\" transform=\"translate(300,161.69999599456787)\" d=\"M2.7386127875258306,0A2.7386127875258306,2.7386127875258306,0,1,1,-2.7386127875258306,0A2.7386127875258306,2.7386127875258306,0,1,1,2.7386127875258306,0\" fill=\"#f58518\" stroke-width=\"2\" opacity=\"1\"></path><path aria-label=\"Year: 2018; Average unemployment rate (% labour force): 2.90300011635; Country: China HongKong\" role=\"graphics-symbol\" aria-roledescription=\"point\" transform=\"translate(300,256.45499825477594)\" d=\"M2.7386127875258306,0A2.7386127875258306,2.7386127875258306,0,1,1,-2.7386127875258306,0A2.7386127875258306,2.7386127875258306,0,1,1,2.7386127875258306,0\" fill=\"#b279a2\" stroke-width=\"2\" opacity=\"1\"></path><path aria-label=\"Year: 2018; Average unemployment rate (% labour force): 9.38500022888; Country: Barbados\" role=\"graphics-symbol\" aria-roledescription=\"point\" transform=\"translate(300,159.2249965667724)\" d=\"M2.7386127875258306,0A2.7386127875258306,2.7386127875258306,0,1,1,-2.7386127875258306,0A2.7386127875258306,2.7386127875258306,0,1,1,2.7386127875258306,0\" fill=\"#54a24b\" stroke-width=\"2\" opacity=\"1\"></path><path aria-label=\"Year: 2018; Average unemployment rate (% labour force): 7.21700000763; Country: Venezuela (Bolivarian Republic of)\" role=\"graphics-symbol\" aria-roledescription=\"point\" transform=\"translate(300,191.74499988555914)\" d=\"M2.7386127875258306,0A2.7386127875258306,2.7386127875258306,0,1,1,-2.7386127875258306,0A2.7386127875258306,2.7386127875258306,0,1,1,2.7386127875258306,0\" fill=\"#bab0ac\" stroke-width=\"2\" opacity=\"1\"></path><path aria-label=\"Year: 2018; Average unemployment rate (% labour force): 17.3530006409; Country: Botswana\" role=\"graphics-symbol\" aria-roledescription=\"point\" transform=\"translate(300,39.70499038696349)\" d=\"M2.7386127875258306,0A2.7386127875258306,2.7386127875258306,0,1,1,-2.7386127875258306,0A2.7386127875258306,2.7386127875258306,0,1,1,2.7386127875258306,0\" fill=\"#eeca3b\" stroke-width=\"2\" opacity=\"1\"></path><path aria-label=\"Year: 2018; Average unemployment rate (% labour force): 5.19999980927; Country: Nicaragua\" role=\"graphics-symbol\" aria-roledescription=\"point\" transform=\"translate(300,222.0000028610229)\" d=\"M2.7386127875258306,0A2.7386127875258306,2.7386127875258306,0,1,1,-2.7386127875258306,0A2.7386127875258306,2.7386127875258306,0,1,1,2.7386127875258306,0\" fill=\"#9d755d\" stroke-width=\"2\" opacity=\"1\"></path><path aria-label=\"Year: 2018; Average unemployment rate (% labour force): 12.3400001526; Country: Albania\" role=\"graphics-symbol\" aria-roledescription=\"point\" transform=\"translate(300,114.8999977111815)\" d=\"M2.7386127875258306,0A2.7386127875258306,2.7386127875258306,0,1,1,-2.7386127875258306,0A2.7386127875258306,2.7386127875258306,0,1,1,2.7386127875258306,0\" fill=\"#4c78a8\" stroke-width=\"2\" opacity=\"1\"></path><path aria-label=\"Year: 2018; Average unemployment rate (% labour force): 4.90000009537; Country: Azerbaijan\" role=\"graphics-symbol\" aria-roledescription=\"point\" transform=\"translate(300,226.49999856948855)\" d=\"M2.7386127875258306,0A2.7386127875258306,2.7386127875258306,0,1,1,-2.7386127875258306,0A2.7386127875258306,2.7386127875258306,0,1,1,2.7386127875258306,0\" fill=\"#e45756\" stroke-width=\"2\" opacity=\"1\"></path><path aria-label=\"Year: 2019; Average unemployment rate (% labour force): 10.3599996567; Country: Bahamas\" role=\"graphics-symbol\" aria-roledescription=\"point\" transform=\"translate(340,144.60000514984202)\" d=\"M2.7386127875258306,0A2.7386127875258306,2.7386127875258306,0,1,1,-2.7386127875258306,0A2.7386127875258306,2.7386127875258306,0,1,1,2.7386127875258306,0\" fill=\"#72b7b2\" stroke-width=\"2\" opacity=\"1\"></path><path aria-label=\"Year: 2019; Average unemployment rate (% labour force): 11.8540000916; Country: Costa Rica\" role=\"graphics-symbol\" aria-roledescription=\"point\" transform=\"translate(340,122.18999862670948)\" d=\"M2.7386127875258306,0A2.7386127875258306,2.7386127875258306,0,1,1,-2.7386127875258306,0A2.7386127875258306,2.7386127875258306,0,1,1,2.7386127875258306,0\" fill=\"#ff9da6\" stroke-width=\"2\" opacity=\"1\"></path><path aria-label=\"Year: 2019; Average unemployment rate (% labour force): 9.7889995575; Country: Argentina\" role=\"graphics-symbol\" aria-roledescription=\"point\" transform=\"translate(340,153.16500663757319)\" d=\"M2.7386127875258306,0A2.7386127875258306,2.7386127875258306,0,1,1,-2.7386127875258306,0A2.7386127875258306,2.7386127875258306,0,1,1,2.7386127875258306,0\" fill=\"#f58518\" stroke-width=\"2\" opacity=\"1\"></path><path aria-label=\"Year: 2019; Average unemployment rate (% labour force): 3.6289999485; Country: China HongKong\" role=\"graphics-symbol\" aria-roledescription=\"point\" transform=\"translate(340,245.56500077247614)\" d=\"M2.7386127875258306,0A2.7386127875258306,2.7386127875258306,0,1,1,-2.7386127875258306,0A2.7386127875258306,2.7386127875258306,0,1,1,2.7386127875258306,0\" fill=\"#b279a2\" stroke-width=\"2\" opacity=\"1\"></path><path aria-label=\"Year: 2019; Average unemployment rate (% labour force): 10.3310003281; Country: Barbados\" role=\"graphics-symbol\" aria-roledescription=\"point\" transform=\"translate(340,145.03499507904002)\" d=\"M2.7386127875258306,0A2.7386127875258306,2.7386127875258306,0,1,1,-2.7386127875258306,0A2.7386127875258306,2.7386127875258306,0,1,1,2.7386127875258306,0\" fill=\"#54a24b\" stroke-width=\"2\" opacity=\"1\"></path><path aria-label=\"Year: 2019; Average unemployment rate (% labour force): 8.80099964142; Country: Venezuela (Bolivarian Republic of)\" role=\"graphics-symbol\" aria-roledescription=\"point\" transform=\"translate(340,167.9850053787231)\" d=\"M2.7386127875258306,0A2.7386127875258306,2.7386127875258306,0,1,1,-2.7386127875258306,0A2.7386127875258306,2.7386127875258306,0,1,1,2.7386127875258306,0\" fill=\"#bab0ac\" stroke-width=\"2\" opacity=\"1\"></path><path aria-label=\"Year: 2019; Average unemployment rate (% labour force): 18.1930007935; Country: Botswana\" role=\"graphics-symbol\" aria-roledescription=\"point\" transform=\"translate(340,27.10498809814501)\" d=\"M2.7386127875258306,0A2.7386127875258306,2.7386127875258306,0,1,1,-2.7386127875258306,0A2.7386127875258306,2.7386127875258306,0,1,1,2.7386127875258306,0\" fill=\"#eeca3b\" stroke-width=\"2\" opacity=\"1\"></path><path aria-label=\"Year: 2019; Average unemployment rate (% labour force): 6.83699989319; Country: Nicaragua\" role=\"graphics-symbol\" aria-roledescription=\"point\" transform=\"translate(340,197.4450016021728)\" d=\"M2.7386127875258306,0A2.7386127875258306,2.7386127875258306,0,1,1,-2.7386127875258306,0A2.7386127875258306,2.7386127875258306,0,1,1,2.7386127875258306,0\" fill=\"#9d755d\" stroke-width=\"2\" opacity=\"1\"></path><path aria-label=\"Year: 2019; Average unemployment rate (% labour force): 12.3310003281; Country: Albania\" role=\"graphics-symbol\" aria-roledescription=\"point\" transform=\"translate(340,115.03499507903999)\" d=\"M2.7386127875258306,0A2.7386127875258306,2.7386127875258306,0,1,1,-2.7386127875258306,0A2.7386127875258306,2.7386127875258306,0,1,1,2.7386127875258306,0\" fill=\"#4c78a8\" stroke-width=\"2\" opacity=\"1\"></path><path aria-label=\"Year: 2019; Average unemployment rate (% labour force): 5.50899982452; Country: Azerbaijan\" role=\"graphics-symbol\" aria-roledescription=\"point\" transform=\"translate(340,217.36500263214106)\" d=\"M2.7386127875258306,0A2.7386127875258306,2.7386127875258306,0,1,1,-2.7386127875258306,0A2.7386127875258306,2.7386127875258306,0,1,1,2.7386127875258306,0\" fill=\"#e45756\" stroke-width=\"2\" opacity=\"1\"></path><path aria-label=\"Year: 2020; Average unemployment rate (% labour force): 11.2700004578; Country: Bahamas\" role=\"graphics-symbol\" aria-roledescription=\"point\" transform=\"translate(380,130.9499931335445)\" d=\"M2.7386127875258306,0A2.7386127875258306,2.7386127875258306,0,1,1,-2.7386127875258306,0A2.7386127875258306,2.7386127875258306,0,1,1,2.7386127875258306,0\" fill=\"#72b7b2\" stroke-width=\"2\" opacity=\"1\"></path><path aria-label=\"Year: 2020; Average unemployment rate (% labour force): 12.734000206; Country: Costa Rica\" role=\"graphics-symbol\" aria-roledescription=\"point\" transform=\"translate(380,108.98999691009449)\" d=\"M2.7386127875258306,0A2.7386127875258306,2.7386127875258306,0,1,1,-2.7386127875258306,0A2.7386127875258306,2.7386127875258306,0,1,1,2.7386127875258306,0\" fill=\"#ff9da6\" stroke-width=\"2\" opacity=\"1\"></path><path aria-label=\"Year: 2020; Average unemployment rate (% labour force): 10.4359998703; Country: Argentina\" role=\"graphics-symbol\" aria-roledescription=\"point\" transform=\"translate(380,143.4600019454955)\" d=\"M2.7386127875258306,0A2.7386127875258306,2.7386127875258306,0,1,1,-2.7386127875258306,0A2.7386127875258306,2.7386127875258306,0,1,1,2.7386127875258306,0\" fill=\"#f58518\" stroke-width=\"2\" opacity=\"1\"></path><path aria-label=\"Year: 2020; Average unemployment rate (% labour force): 4.26499986649; Country: China HongKong\" role=\"graphics-symbol\" aria-roledescription=\"point\" transform=\"translate(380,236.025002002716)\" d=\"M2.7386127875258306,0A2.7386127875258306,2.7386127875258306,0,1,1,-2.7386127875258306,0A2.7386127875258306,2.7386127875258306,0,1,1,2.7386127875258306,0\" fill=\"#b279a2\" stroke-width=\"2\" opacity=\"1\"></path><path aria-label=\"Year: 2020; Average unemployment rate (% labour force): 10.9379997253; Country: Barbados\" role=\"graphics-symbol\" aria-roledescription=\"point\" transform=\"translate(380,135.930004119873)\" d=\"M2.7386127875258306,0A2.7386127875258306,2.7386127875258306,0,1,1,-2.7386127875258306,0A2.7386127875258306,2.7386127875258306,0,1,1,2.7386127875258306,0\" fill=\"#54a24b\" stroke-width=\"2\" opacity=\"1\"></path><path aria-label=\"Year: 2020; Average unemployment rate (% labour force): 9.38099956512; Country: Venezuela (Bolivarian Republic of)\" role=\"graphics-symbol\" aria-roledescription=\"point\" transform=\"translate(380,159.28500652313235)\" d=\"M2.7386127875258306,0A2.7386127875258306,2.7386127875258306,0,1,1,-2.7386127875258306,0A2.7386127875258306,2.7386127875258306,0,1,1,2.7386127875258306,0\" fill=\"#bab0ac\" stroke-width=\"2\" opacity=\"1\"></path><path aria-label=\"Year: 2020; Average unemployment rate (% labour force): 18.7210006714; Country: Botswana\" role=\"graphics-symbol\" aria-roledescription=\"point\" transform=\"translate(380,19.184989929199492)\" d=\"M2.7386127875258306,0A2.7386127875258306,2.7386127875258306,0,1,1,-2.7386127875258306,0A2.7386127875258306,2.7386127875258306,0,1,1,2.7386127875258306,0\" fill=\"#eeca3b\" stroke-width=\"2\" opacity=\"1\"></path><path aria-label=\"Year: 2020; Average unemployment rate (% labour force): 7.35500001907; Country: Nicaragua\" role=\"graphics-symbol\" aria-roledescription=\"point\" transform=\"translate(380,189.67499971389765)\" d=\"M2.7386127875258306,0A2.7386127875258306,2.7386127875258306,0,1,1,-2.7386127875258306,0A2.7386127875258306,2.7386127875258306,0,1,1,2.7386127875258306,0\" fill=\"#9d755d\" stroke-width=\"2\" opacity=\"1\"></path><path aria-label=\"Year: 2020; Average unemployment rate (% labour force): 12.8129997253; Country: Albania\" role=\"graphics-symbol\" aria-roledescription=\"point\" transform=\"translate(380,107.80500411987299)\" d=\"M2.7386127875258306,0A2.7386127875258306,2.7386127875258306,0,1,1,-2.7386127875258306,0A2.7386127875258306,2.7386127875258306,0,1,1,2.7386127875258306,0\" fill=\"#4c78a8\" stroke-width=\"2\" opacity=\"1\"></path><path aria-label=\"Year: 2020; Average unemployment rate (% labour force): 5.96000003815; Country: Azerbaijan\" role=\"graphics-symbol\" aria-roledescription=\"point\" transform=\"translate(380,210.59999942779544)\" d=\"M2.7386127875258306,0A2.7386127875258306,2.7386127875258306,0,1,1,-2.7386127875258306,0A2.7386127875258306,2.7386127875258306,0,1,1,2.7386127875258306,0\" fill=\"#e45756\" stroke-width=\"2\" opacity=\"1\"></path></g><g class=\"mark-group role-legend\" role=\"graphics-symbol\" aria-roledescription=\"legend\" aria-label=\"Symbol legend titled 'Country' for fill color and stroke color with 10 values: Albania, Argentina, Azerbaijan, Bahamas, Barbados, ending with Venezuela (Bolivarian Republic of)\"><g transform=\"translate(418,0)\"><path class=\"background\" aria-hidden=\"true\" d=\"M0,0h173v173h-173Z\" pointer-events=\"none\"></path><g><g class=\"mark-group role-legend-entry\"><g transform=\"translate(0,16)\"><path class=\"background\" aria-hidden=\"true\" d=\"M0,0h0v0h0Z\" pointer-events=\"none\"></path><g><g class=\"mark-group role-scope\" role=\"graphics-object\" aria-roledescription=\"group mark container\"><g transform=\"translate(0,0)\"><path class=\"background\" aria-hidden=\"true\" d=\"M0,0h173v12.5h-173Z\" pointer-events=\"none\" opacity=\"1\"></path><g><g class=\"mark-symbol role-legend-symbol\" pointer-events=\"none\"><path transform=\"translate(6,6)\" d=\"M5,0A5,5,0,1,1,-5,0A5,5,0,1,1,5,0\" fill=\"#4c78a8\" stroke=\"#4c78a8\" stroke-width=\"1.5\" opacity=\"1\"></path></g><g class=\"mark-text role-legend-label\" pointer-events=\"none\"><text text-anchor=\"start\" transform=\"translate(16,9)\" font-family=\"sans-serif\" font-size=\"10px\" fill=\"#000\" opacity=\"1\">Albania</text></g></g><path class=\"foreground\" aria-hidden=\"true\" d=\"\" pointer-events=\"none\" display=\"none\"></path></g><g transform=\"translate(0,16)\"><path class=\"background\" aria-hidden=\"true\" d=\"M0,0h173v12.5h-173Z\" pointer-events=\"none\" opacity=\"1\"></path><g><g class=\"mark-symbol role-legend-symbol\" pointer-events=\"none\"><path transform=\"translate(6,6)\" d=\"M5,0A5,5,0,1,1,-5,0A5,5,0,1,1,5,0\" fill=\"#f58518\" stroke=\"#f58518\" stroke-width=\"1.5\" opacity=\"1\"></path></g><g class=\"mark-text role-legend-label\" pointer-events=\"none\"><text text-anchor=\"start\" transform=\"translate(16,9)\" font-family=\"sans-serif\" font-size=\"10px\" fill=\"#000\" opacity=\"1\">Argentina</text></g></g><path class=\"foreground\" aria-hidden=\"true\" d=\"\" pointer-events=\"none\" display=\"none\"></path></g><g transform=\"translate(0,32)\"><path class=\"background\" aria-hidden=\"true\" d=\"M0,0h173v12.5h-173Z\" pointer-events=\"none\" opacity=\"1\"></path><g><g class=\"mark-symbol role-legend-symbol\" pointer-events=\"none\"><path transform=\"translate(6,6)\" d=\"M5,0A5,5,0,1,1,-5,0A5,5,0,1,1,5,0\" fill=\"#e45756\" stroke=\"#e45756\" stroke-width=\"1.5\" opacity=\"1\"></path></g><g class=\"mark-text role-legend-label\" pointer-events=\"none\"><text text-anchor=\"start\" transform=\"translate(16,9)\" font-family=\"sans-serif\" font-size=\"10px\" fill=\"#000\" opacity=\"1\">Azerbaijan</text></g></g><path class=\"foreground\" aria-hidden=\"true\" d=\"\" pointer-events=\"none\" display=\"none\"></path></g><g transform=\"translate(0,48)\"><path class=\"background\" aria-hidden=\"true\" d=\"M0,0h173v12.5h-173Z\" pointer-events=\"none\" opacity=\"1\"></path><g><g class=\"mark-symbol role-legend-symbol\" pointer-events=\"none\"><path transform=\"translate(6,6)\" d=\"M5,0A5,5,0,1,1,-5,0A5,5,0,1,1,5,0\" fill=\"#72b7b2\" stroke=\"#72b7b2\" stroke-width=\"1.5\" opacity=\"1\"></path></g><g class=\"mark-text role-legend-label\" pointer-events=\"none\"><text text-anchor=\"start\" transform=\"translate(16,9)\" font-family=\"sans-serif\" font-size=\"10px\" fill=\"#000\" opacity=\"1\">Bahamas</text></g></g><path class=\"foreground\" aria-hidden=\"true\" d=\"\" pointer-events=\"none\" display=\"none\"></path></g><g transform=\"translate(0,64)\"><path class=\"background\" aria-hidden=\"true\" d=\"M0,0h173v12.5h-173Z\" pointer-events=\"none\" opacity=\"1\"></path><g><g class=\"mark-symbol role-legend-symbol\" pointer-events=\"none\"><path transform=\"translate(6,6)\" d=\"M5,0A5,5,0,1,1,-5,0A5,5,0,1,1,5,0\" fill=\"#54a24b\" stroke=\"#54a24b\" stroke-width=\"1.5\" opacity=\"1\"></path></g><g class=\"mark-text role-legend-label\" pointer-events=\"none\"><text text-anchor=\"start\" transform=\"translate(16,9)\" font-family=\"sans-serif\" font-size=\"10px\" fill=\"#000\" opacity=\"1\">Barbados</text></g></g><path class=\"foreground\" aria-hidden=\"true\" d=\"\" pointer-events=\"none\" display=\"none\"></path></g><g transform=\"translate(0,80)\"><path class=\"background\" aria-hidden=\"true\" d=\"M0,0h173v12.5h-173Z\" pointer-events=\"none\" opacity=\"1\"></path><g><g class=\"mark-symbol role-legend-symbol\" pointer-events=\"none\"><path transform=\"translate(6,6)\" d=\"M5,0A5,5,0,1,1,-5,0A5,5,0,1,1,5,0\" fill=\"#eeca3b\" stroke=\"#eeca3b\" stroke-width=\"1.5\" opacity=\"1\"></path></g><g class=\"mark-text role-legend-label\" pointer-events=\"none\"><text text-anchor=\"start\" transform=\"translate(16,9)\" font-family=\"sans-serif\" font-size=\"10px\" fill=\"#000\" opacity=\"1\">Botswana</text></g></g><path class=\"foreground\" aria-hidden=\"true\" d=\"\" pointer-events=\"none\" display=\"none\"></path></g><g transform=\"translate(0,96)\"><path class=\"background\" aria-hidden=\"true\" d=\"M0,0h173v12.5h-173Z\" pointer-events=\"none\" opacity=\"1\"></path><g><g class=\"mark-symbol role-legend-symbol\" pointer-events=\"none\"><path transform=\"translate(6,6)\" d=\"M5,0A5,5,0,1,1,-5,0A5,5,0,1,1,5,0\" fill=\"#b279a2\" stroke=\"#b279a2\" stroke-width=\"1.5\" opacity=\"1\"></path></g><g class=\"mark-text role-legend-label\" pointer-events=\"none\"><text text-anchor=\"start\" transform=\"translate(16,9)\" font-family=\"sans-serif\" font-size=\"10px\" fill=\"#000\" opacity=\"1\">China HongKong</text></g></g><path class=\"foreground\" aria-hidden=\"true\" d=\"\" pointer-events=\"none\" display=\"none\"></path></g><g transform=\"translate(0,112)\"><path class=\"background\" aria-hidden=\"true\" d=\"M0,0h173v12.5h-173Z\" pointer-events=\"none\" opacity=\"1\"></path><g><g class=\"mark-symbol role-legend-symbol\" pointer-events=\"none\"><path transform=\"translate(6,6)\" d=\"M5,0A5,5,0,1,1,-5,0A5,5,0,1,1,5,0\" fill=\"#ff9da6\" stroke=\"#ff9da6\" stroke-width=\"1.5\" opacity=\"1\"></path></g><g class=\"mark-text role-legend-label\" pointer-events=\"none\"><text text-anchor=\"start\" transform=\"translate(16,9)\" font-family=\"sans-serif\" font-size=\"10px\" fill=\"#000\" opacity=\"1\">Costa Rica</text></g></g><path class=\"foreground\" aria-hidden=\"true\" d=\"\" pointer-events=\"none\" display=\"none\"></path></g><g transform=\"translate(0,128)\"><path class=\"background\" aria-hidden=\"true\" d=\"M0,0h173v12.5h-173Z\" pointer-events=\"none\" opacity=\"1\"></path><g><g class=\"mark-symbol role-legend-symbol\" pointer-events=\"none\"><path transform=\"translate(6,6)\" d=\"M5,0A5,5,0,1,1,-5,0A5,5,0,1,1,5,0\" fill=\"#9d755d\" stroke=\"#9d755d\" stroke-width=\"1.5\" opacity=\"1\"></path></g><g class=\"mark-text role-legend-label\" pointer-events=\"none\"><text text-anchor=\"start\" transform=\"translate(16,9)\" font-family=\"sans-serif\" font-size=\"10px\" fill=\"#000\" opacity=\"1\">Nicaragua</text></g></g><path class=\"foreground\" aria-hidden=\"true\" d=\"\" pointer-events=\"none\" display=\"none\"></path></g><g transform=\"translate(0,144)\"><path class=\"background\" aria-hidden=\"true\" d=\"M0,0h173v12.5h-173Z\" pointer-events=\"none\" opacity=\"1\"></path><g><g class=\"mark-symbol role-legend-symbol\" pointer-events=\"none\"><path transform=\"translate(6,6)\" d=\"M5,0A5,5,0,1,1,-5,0A5,5,0,1,1,5,0\" fill=\"#bab0ac\" stroke=\"#bab0ac\" stroke-width=\"1.5\" opacity=\"1\"></path></g><g class=\"mark-text role-legend-label\" pointer-events=\"none\"><text text-anchor=\"start\" transform=\"translate(16,9)\" font-family=\"sans-serif\" font-size=\"10px\" fill=\"#000\" opacity=\"1\">Venezuela (Bolivarian Republic of)</text></g></g><path class=\"foreground\" aria-hidden=\"true\" d=\"\" pointer-events=\"none\" display=\"none\"></path></g></g></g><path class=\"foreground\" aria-hidden=\"true\" d=\"\" pointer-events=\"none\" display=\"none\"></path></g></g><g class=\"mark-text role-legend-title\" pointer-events=\"none\"><text text-anchor=\"start\" transform=\"translate(0,9)\" font-family=\"sans-serif\" font-size=\"11px\" font-weight=\"bold\" fill=\"#000\" opacity=\"1\">Country</text></g></g><path class=\"foreground\" aria-hidden=\"true\" d=\"\" pointer-events=\"none\" display=\"none\"></path></g></g><g class=\"mark-group role-title\"><g transform=\"translate(200,-22)\"><path class=\"background\" aria-hidden=\"true\" d=\"M0,0h0v0h0Z\" pointer-events=\"none\"></path><g><g class=\"mark-text role-title-text\" role=\"graphics-symbol\" aria-roledescription=\"title\" aria-label=\"Title text 'Unemployment Rate in Top 10 Increased since 2019 Countries over Years'\" pointer-events=\"none\"><text text-anchor=\"middle\" transform=\"translate(0,10)\" font-family=\"sans-serif\" font-size=\"13px\" font-weight=\"bold\" fill=\"#000\" opacity=\"1\">Unemployment Rate in Top 10 Increased since 2019 Countries over Years</text></g></g><path class=\"foreground\" aria-hidden=\"true\" d=\"\" pointer-events=\"none\" display=\"none\"></path></g></g></g><path class=\"foreground\" aria-hidden=\"true\" d=\"\" display=\"none\"></path></g></g></g></svg>\n"
      ],
      "text/plain": [
       "@vlplot(\n",
       "    transform=[\n",
       "        {\n",
       "            aggregate=[\n",
       "                {\n",
       "                    op=\"mean\",\n",
       "                    field=\"value\",\n",
       "                    as=\"mean_value\"\n",
       "                }\n",
       "            ],\n",
       "            groupby=[\n",
       "                \"Country\",\n",
       "                \"Date\"\n",
       "            ]\n",
       "        }\n",
       "    ],\n",
       "    mark={\n",
       "        point=true,\n",
       "        type=\"line\"\n",
       "    },\n",
       "    title=\"Unemployment Rate in Top 10 Increased since 2019 Countries over Years\",\n",
       "    width=400,\n",
       "    height=300,\n",
       "    encoding={\n",
       "        x={\n",
       "            axis={\n",
       "                title=\"Year\"\n",
       "            },\n",
       "            field=\"Date\",\n",
       "            type=\"ordinal\"\n",
       "        },\n",
       "        y={\n",
       "            axis={\n",
       "                title=\"Average unemployment rate (% labour force)\"\n",
       "            },\n",
       "            field=\"mean_value\",\n",
       "            type=\"quantitative\"\n",
       "        },\n",
       "        color={\n",
       "            field=\"Country\"\n",
       "        }\n",
       "    },\n",
       "    data={\n",
       "        values=...\n",
       "    }\n",
       ")"
      ]
     },
     "execution_count": 42,
     "metadata": {},
     "output_type": "execute_result"
    }
   ],
   "source": [
    "# Plot the top 10 increased unemployment rate from year 2019 to 2020 over years\n",
    "unemployment_topTen_long |>\n",
    "    @vlplot(transform=[{aggregate=[{op=:mean, field=:value, as=:mean_value}], groupby=[:Country, :Date]}],\n",
    "            mark={:line, point=true},\n",
    "            x={\"Date:o\", axis={title=\"Year\"}},\n",
    "            y={\"mean_value:q\", axis={title=\"Average unemployment rate (% labour force)\"}},\n",
    "            title=\"Unemployment Rate in Top 10 Increased since 2019 Countries over Years\",\n",
    "            color=:Country,            \n",
    "            width=400,\n",
    "            height=300\n",
    "            )"
   ]
  },
  {
   "cell_type": "markdown",
   "metadata": {},
   "source": [
    "Even Bahamas has a highest increasing unemployment rate from year 2019, Botswana has a comparatively constant higheat unemployment rate over the whole period, to almost 19% of total population. Most of the countries' unemployment rates started increase since either 2017 or 2018, but Argintina started increase sin 2013."
   ]
  },
  {
   "cell_type": "code",
   "execution_count": null,
   "metadata": {},
   "outputs": [],
   "source": []
  }
 ],
 "metadata": {
  "kernelspec": {
   "display_name": "Julia 1.5.0-rc1",
   "language": "julia",
   "name": "julia-1.5"
  },
  "language_info": {
   "file_extension": ".jl",
   "mimetype": "application/julia",
   "name": "julia",
   "version": "1.5.0"
  }
 },
 "nbformat": 4,
 "nbformat_minor": 2
}
